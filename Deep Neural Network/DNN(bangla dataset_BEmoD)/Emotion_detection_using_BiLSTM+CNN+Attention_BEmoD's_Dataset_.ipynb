{
  "nbformat": 4,
  "nbformat_minor": 0,
  "metadata": {
    "colab": {
      "name": "Emotion detection using BiLSTM+CNN+Attention BEmoD's Dataset .ipynb",
      "provenance": []
    },
    "kernelspec": {
      "name": "python3",
      "display_name": "Python 3"
    },
    "language_info": {
      "name": "python"
    },
    "accelerator": "GPU"
  },
  "cells": [
    {
      "cell_type": "code",
      "execution_count": 2,
      "metadata": {
        "colab": {
          "base_uri": "https://localhost:8080/"
        },
        "id": "yjDKUtvGKmAA",
        "outputId": "9d97077e-1a54-4896-8908-50c3fcc6b0e3"
      },
      "outputs": [
        {
          "output_type": "stream",
          "name": "stdout",
          "text": [
            "Mounted at /content/drive\n",
            "['cc.bn.300.vec', 'glove.840B.300d.txt', 'crawl-300d-2M.vec', 'class recordings', 'test.xlsx', 'CSE499A Papers', 'trainv1.xlsx', 'cuet_dataset.xlsx', 'cuet_dataset.csv', 'train.csv', 'test.csv']\n"
          ]
        }
      ],
      "source": [
        "import numpy as np\n",
        "import pandas as pd\n",
        "import os\n",
        "myData = '/content/drive/MyDrive/NSU_Courses/CSE/CSE499A';\n",
        "from google.colab import drive\n",
        "drive.mount('/content/drive')\n",
        "print(os.listdir(myData))"
      ]
    },
    {
      "cell_type": "code",
      "source": [
        "import numpy as np\n",
        "import pandas as pd\n",
        "import matplotlib.pyplot as plt\n",
        "import seaborn as sns\n",
        "%matplotlib inline\n",
        "from nltk.tokenize import TweetTokenizer\n",
        "import datetime\n",
        "import lightgbm as lgb\n",
        "from scipy import stats\n",
        "from scipy.sparse import hstack, csr_matrix\n",
        "from sklearn.model_selection import train_test_split, cross_val_score\n",
        "from wordcloud import WordCloud\n",
        "from collections import Counter\n",
        "from nltk.corpus import stopwords\n",
        "from nltk.util import ngrams\n",
        "from sklearn.feature_extraction.text import TfidfVectorizer\n",
        "from sklearn.preprocessing import StandardScaler\n",
        "from sklearn.linear_model import LogisticRegression\n",
        "from sklearn.svm import LinearSVC\n",
        "from sklearn.multiclass import OneVsRestClassifier\n",
        "pd.set_option('max_colwidth',400)"
      ],
      "metadata": {
        "id": "wQqleMqESHUM"
      },
      "execution_count": 3,
      "outputs": []
    },
    {
      "cell_type": "code",
      "source": [
        "train = pd.read_csv(myData+'/train.csv')\n",
        "test = pd.read_csv(myData+'/test.csv')\n",
        "train.head()"
      ],
      "metadata": {
        "colab": {
          "base_uri": "https://localhost:8080/",
          "height": 206
        },
        "id": "bPBDpJrbSHW6",
        "outputId": "7ebb77a7-4e77-46e5-e210-c2f18d233de9"
      },
      "execution_count": 4,
      "outputs": [
        {
          "output_type": "execute_result",
          "data": {
            "text/html": [
              "\n",
              "  <div id=\"df-87539d7c-1227-44c3-93df-3404d2f2c2ea\">\n",
              "    <div class=\"colab-df-container\">\n",
              "      <div>\n",
              "<style scoped>\n",
              "    .dataframe tbody tr th:only-of-type {\n",
              "        vertical-align: middle;\n",
              "    }\n",
              "\n",
              "    .dataframe tbody tr th {\n",
              "        vertical-align: top;\n",
              "    }\n",
              "\n",
              "    .dataframe thead th {\n",
              "        text-align: right;\n",
              "    }\n",
              "</style>\n",
              "<table border=\"1\" class=\"dataframe\">\n",
              "  <thead>\n",
              "    <tr style=\"text-align: right;\">\n",
              "      <th></th>\n",
              "      <th>Unnamed: 0</th>\n",
              "      <th>cleaned</th>\n",
              "      <th>classes</th>\n",
              "      <th>labels</th>\n",
              "    </tr>\n",
              "  </thead>\n",
              "  <tbody>\n",
              "    <tr>\n",
              "      <th>0</th>\n",
              "      <td>0</td>\n",
              "      <td>মেডিকেলে এসে ঠিক ফ্যামিলির ফটো ফ্রেম এর মতো মনে হতো নিজেকেখাপছাড়া লাগতোদম বন্ধ হয়ে আসতোঅন্যদের সামনে অপমানিত হতে হতো পদে পদে</td>\n",
              "      <td>sadness</td>\n",
              "      <td>1</td>\n",
              "    </tr>\n",
              "    <tr>\n",
              "      <th>1</th>\n",
              "      <td>1</td>\n",
              "      <td>অনেক দিন পর অন্য রকম অনুভূতি হচ্ছে  কেননা আমার সদ্য পাশ করা শিক্ষার্থীর মত এখন আমিও বেকার বেকার পরিচয় দিয়ে আম্মার কাছ থেকে আজ পঞ্চাশ টাকা ডাকাতি করলাম</td>\n",
              "      <td>sadness</td>\n",
              "      <td>1</td>\n",
              "    </tr>\n",
              "    <tr>\n",
              "      <th>2</th>\n",
              "      <td>2</td>\n",
              "      <td>আগে যতোটা বেশি পছন্দ করতাম দুশ্চরিত্রা মিথিলা মুখার্জি কে এখন তেমনি সবচেয়ে বেশি ঘৃণা করি ওই পতিতা সদ্য হিন্দু হওয়া মিথিলা মুখার্জি কে</td>\n",
              "      <td>disgust</td>\n",
              "      <td>3</td>\n",
              "    </tr>\n",
              "    <tr>\n",
              "      <th>3</th>\n",
              "      <td>3</td>\n",
              "      <td>মাঝে মাঝে মনে হয় তোমাকে চাওয়াটা অনেক ভুল হয়ত ভুল তবে এই ভুলের মাশুল এইভাবেই কি দিতে হতো জানি না তবে যা জানি তা মানি না</td>\n",
              "      <td>sadness</td>\n",
              "      <td>1</td>\n",
              "    </tr>\n",
              "    <tr>\n",
              "      <th>4</th>\n",
              "      <td>4</td>\n",
              "      <td>এখানে কাওকে কবর দিয়ো না তাহলে তোমাদের পরিবারের আর কেউ বেঁচে থাকবে না ও তোমাদের কাউকে বাঁচতে দিবে না  চলে যাও এখান থেকে নিজে থেকে অভিশাপকে আহ্বান করো না</td>\n",
              "      <td>fear</td>\n",
              "      <td>5</td>\n",
              "    </tr>\n",
              "  </tbody>\n",
              "</table>\n",
              "</div>\n",
              "      <button class=\"colab-df-convert\" onclick=\"convertToInteractive('df-87539d7c-1227-44c3-93df-3404d2f2c2ea')\"\n",
              "              title=\"Convert this dataframe to an interactive table.\"\n",
              "              style=\"display:none;\">\n",
              "        \n",
              "  <svg xmlns=\"http://www.w3.org/2000/svg\" height=\"24px\"viewBox=\"0 0 24 24\"\n",
              "       width=\"24px\">\n",
              "    <path d=\"M0 0h24v24H0V0z\" fill=\"none\"/>\n",
              "    <path d=\"M18.56 5.44l.94 2.06.94-2.06 2.06-.94-2.06-.94-.94-2.06-.94 2.06-2.06.94zm-11 1L8.5 8.5l.94-2.06 2.06-.94-2.06-.94L8.5 2.5l-.94 2.06-2.06.94zm10 10l.94 2.06.94-2.06 2.06-.94-2.06-.94-.94-2.06-.94 2.06-2.06.94z\"/><path d=\"M17.41 7.96l-1.37-1.37c-.4-.4-.92-.59-1.43-.59-.52 0-1.04.2-1.43.59L10.3 9.45l-7.72 7.72c-.78.78-.78 2.05 0 2.83L4 21.41c.39.39.9.59 1.41.59.51 0 1.02-.2 1.41-.59l7.78-7.78 2.81-2.81c.8-.78.8-2.07 0-2.86zM5.41 20L4 18.59l7.72-7.72 1.47 1.35L5.41 20z\"/>\n",
              "  </svg>\n",
              "      </button>\n",
              "      \n",
              "  <style>\n",
              "    .colab-df-container {\n",
              "      display:flex;\n",
              "      flex-wrap:wrap;\n",
              "      gap: 12px;\n",
              "    }\n",
              "\n",
              "    .colab-df-convert {\n",
              "      background-color: #E8F0FE;\n",
              "      border: none;\n",
              "      border-radius: 50%;\n",
              "      cursor: pointer;\n",
              "      display: none;\n",
              "      fill: #1967D2;\n",
              "      height: 32px;\n",
              "      padding: 0 0 0 0;\n",
              "      width: 32px;\n",
              "    }\n",
              "\n",
              "    .colab-df-convert:hover {\n",
              "      background-color: #E2EBFA;\n",
              "      box-shadow: 0px 1px 2px rgba(60, 64, 67, 0.3), 0px 1px 3px 1px rgba(60, 64, 67, 0.15);\n",
              "      fill: #174EA6;\n",
              "    }\n",
              "\n",
              "    [theme=dark] .colab-df-convert {\n",
              "      background-color: #3B4455;\n",
              "      fill: #D2E3FC;\n",
              "    }\n",
              "\n",
              "    [theme=dark] .colab-df-convert:hover {\n",
              "      background-color: #434B5C;\n",
              "      box-shadow: 0px 1px 3px 1px rgba(0, 0, 0, 0.15);\n",
              "      filter: drop-shadow(0px 1px 2px rgba(0, 0, 0, 0.3));\n",
              "      fill: #FFFFFF;\n",
              "    }\n",
              "  </style>\n",
              "\n",
              "      <script>\n",
              "        const buttonEl =\n",
              "          document.querySelector('#df-87539d7c-1227-44c3-93df-3404d2f2c2ea button.colab-df-convert');\n",
              "        buttonEl.style.display =\n",
              "          google.colab.kernel.accessAllowed ? 'block' : 'none';\n",
              "\n",
              "        async function convertToInteractive(key) {\n",
              "          const element = document.querySelector('#df-87539d7c-1227-44c3-93df-3404d2f2c2ea');\n",
              "          const dataTable =\n",
              "            await google.colab.kernel.invokeFunction('convertToInteractive',\n",
              "                                                     [key], {});\n",
              "          if (!dataTable) return;\n",
              "\n",
              "          const docLinkHtml = 'Like what you see? Visit the ' +\n",
              "            '<a target=\"_blank\" href=https://colab.research.google.com/notebooks/data_table.ipynb>data table notebook</a>'\n",
              "            + ' to learn more about interactive tables.';\n",
              "          element.innerHTML = '';\n",
              "          dataTable['output_type'] = 'display_data';\n",
              "          await google.colab.output.renderOutput(dataTable, element);\n",
              "          const docLink = document.createElement('div');\n",
              "          docLink.innerHTML = docLinkHtml;\n",
              "          element.appendChild(docLink);\n",
              "        }\n",
              "      </script>\n",
              "    </div>\n",
              "  </div>\n",
              "  "
            ],
            "text/plain": [
              "   Unnamed: 0  ... labels\n",
              "0           0  ...      1\n",
              "1           1  ...      1\n",
              "2           2  ...      3\n",
              "3           3  ...      1\n",
              "4           4  ...      5\n",
              "\n",
              "[5 rows x 4 columns]"
            ]
          },
          "metadata": {},
          "execution_count": 4
        }
      ]
    },
    {
      "cell_type": "code",
      "source": [
        "test.head()"
      ],
      "metadata": {
        "colab": {
          "base_uri": "https://localhost:8080/",
          "height": 302
        },
        "id": "-evmIn35SHZb",
        "outputId": "82b167a3-1445-407c-96be-776496aae7bc"
      },
      "execution_count": 5,
      "outputs": [
        {
          "output_type": "execute_result",
          "data": {
            "text/html": [
              "\n",
              "  <div id=\"df-09ec718f-aec8-4b05-ba25-a5e0cd91c25e\">\n",
              "    <div class=\"colab-df-container\">\n",
              "      <div>\n",
              "<style scoped>\n",
              "    .dataframe tbody tr th:only-of-type {\n",
              "        vertical-align: middle;\n",
              "    }\n",
              "\n",
              "    .dataframe tbody tr th {\n",
              "        vertical-align: top;\n",
              "    }\n",
              "\n",
              "    .dataframe thead th {\n",
              "        text-align: right;\n",
              "    }\n",
              "</style>\n",
              "<table border=\"1\" class=\"dataframe\">\n",
              "  <thead>\n",
              "    <tr style=\"text-align: right;\">\n",
              "      <th></th>\n",
              "      <th>Unnamed: 0</th>\n",
              "      <th>cleaned</th>\n",
              "      <th>classes</th>\n",
              "      <th>labels</th>\n",
              "    </tr>\n",
              "  </thead>\n",
              "  <tbody>\n",
              "    <tr>\n",
              "      <th>0</th>\n",
              "      <td>0</td>\n",
              "      <td>দুই বছরের ব্যবধানে বগুড়া থেকে বিদেশে পণ্য রপ্তানি সাত গুণ বেড়েছে গত বছর বগুড়া থেকে ভারত ও নেপালে পণ্য রপ্তানি করে আয় হয়েছে ৭ কোটি ২৩ লাখ ৩০ হাজার ৬৩২ মার্কিন ডলার বাংলাদেশি মুদ্রায় রপ্তানি আয়ের পরিমাণ ৬০৭ কোটি ৫৭ লাখ ৭৩ হাজার ৮৮ টাকা</td>\n",
              "      <td>joy</td>\n",
              "      <td>0</td>\n",
              "    </tr>\n",
              "    <tr>\n",
              "      <th>1</th>\n",
              "      <td>1</td>\n",
              "      <td>আওয়ামী লীগ সরকার বাংলাদেশকে অন্ধকার কুয়া থেকে টেনে আলোর পথে এনেছে বলে মন্তব্য করেছেন পরিকল্পনামন্ত্রী এম এ মান্নান তিনি বলেছেন মাথা নুয়ে থাকার দিন শেষ শেখ হাসিনার নেতৃত্বে বাংলাদেশ এখন বিশ্বে মর্যাদার আসনে রয়েছে</td>\n",
              "      <td>joy</td>\n",
              "      <td>0</td>\n",
              "    </tr>\n",
              "    <tr>\n",
              "      <th>2</th>\n",
              "      <td>2</td>\n",
              "      <td>চোখ কচলাতে কচলাতে বেশ রাগান্বীত কন্ঠ বলল ধুরো মরা ঘুমাইয়াও শান্তি নাই এত রাইতে মরতে কই যাইবেন</td>\n",
              "      <td>disgust</td>\n",
              "      <td>3</td>\n",
              "    </tr>\n",
              "    <tr>\n",
              "      <th>3</th>\n",
              "      <td>3</td>\n",
              "      <td>মেয়েটা অতিরিক্ত আত্মপরিচয় সংকটে ভুগে সাবিলা স্যাবলাই রয়ে গেলো বিউটি উইথআউট ব্রেইন</td>\n",
              "      <td>disgust</td>\n",
              "      <td>3</td>\n",
              "    </tr>\n",
              "    <tr>\n",
              "      <th>4</th>\n",
              "      <td>4</td>\n",
              "      <td>এবার উন্নয়ন মুলক কাজের কিছু দৃশ্যমান পরিদশন করবেন বাংলাদেশ স্কাউটের ছেলে মেয়েরা বঙ্গবন্ধু শেখ মুজিবুর রহমান শিল্প নগর মিরসরাই চটগ্রামআয়োজনে বেজা অথরিটি মাচ মাসে এটা নিজের চোখে না দেখলে কখনো বিস্বাস করা যাবে না বর্তমান সরকার কি করতে চলেছে এককথায় অসাধারন একটি পরিকল্পনা ধন্যবাদ</td>\n",
              "      <td>joy</td>\n",
              "      <td>0</td>\n",
              "    </tr>\n",
              "  </tbody>\n",
              "</table>\n",
              "</div>\n",
              "      <button class=\"colab-df-convert\" onclick=\"convertToInteractive('df-09ec718f-aec8-4b05-ba25-a5e0cd91c25e')\"\n",
              "              title=\"Convert this dataframe to an interactive table.\"\n",
              "              style=\"display:none;\">\n",
              "        \n",
              "  <svg xmlns=\"http://www.w3.org/2000/svg\" height=\"24px\"viewBox=\"0 0 24 24\"\n",
              "       width=\"24px\">\n",
              "    <path d=\"M0 0h24v24H0V0z\" fill=\"none\"/>\n",
              "    <path d=\"M18.56 5.44l.94 2.06.94-2.06 2.06-.94-2.06-.94-.94-2.06-.94 2.06-2.06.94zm-11 1L8.5 8.5l.94-2.06 2.06-.94-2.06-.94L8.5 2.5l-.94 2.06-2.06.94zm10 10l.94 2.06.94-2.06 2.06-.94-2.06-.94-.94-2.06-.94 2.06-2.06.94z\"/><path d=\"M17.41 7.96l-1.37-1.37c-.4-.4-.92-.59-1.43-.59-.52 0-1.04.2-1.43.59L10.3 9.45l-7.72 7.72c-.78.78-.78 2.05 0 2.83L4 21.41c.39.39.9.59 1.41.59.51 0 1.02-.2 1.41-.59l7.78-7.78 2.81-2.81c.8-.78.8-2.07 0-2.86zM5.41 20L4 18.59l7.72-7.72 1.47 1.35L5.41 20z\"/>\n",
              "  </svg>\n",
              "      </button>\n",
              "      \n",
              "  <style>\n",
              "    .colab-df-container {\n",
              "      display:flex;\n",
              "      flex-wrap:wrap;\n",
              "      gap: 12px;\n",
              "    }\n",
              "\n",
              "    .colab-df-convert {\n",
              "      background-color: #E8F0FE;\n",
              "      border: none;\n",
              "      border-radius: 50%;\n",
              "      cursor: pointer;\n",
              "      display: none;\n",
              "      fill: #1967D2;\n",
              "      height: 32px;\n",
              "      padding: 0 0 0 0;\n",
              "      width: 32px;\n",
              "    }\n",
              "\n",
              "    .colab-df-convert:hover {\n",
              "      background-color: #E2EBFA;\n",
              "      box-shadow: 0px 1px 2px rgba(60, 64, 67, 0.3), 0px 1px 3px 1px rgba(60, 64, 67, 0.15);\n",
              "      fill: #174EA6;\n",
              "    }\n",
              "\n",
              "    [theme=dark] .colab-df-convert {\n",
              "      background-color: #3B4455;\n",
              "      fill: #D2E3FC;\n",
              "    }\n",
              "\n",
              "    [theme=dark] .colab-df-convert:hover {\n",
              "      background-color: #434B5C;\n",
              "      box-shadow: 0px 1px 3px 1px rgba(0, 0, 0, 0.15);\n",
              "      filter: drop-shadow(0px 1px 2px rgba(0, 0, 0, 0.3));\n",
              "      fill: #FFFFFF;\n",
              "    }\n",
              "  </style>\n",
              "\n",
              "      <script>\n",
              "        const buttonEl =\n",
              "          document.querySelector('#df-09ec718f-aec8-4b05-ba25-a5e0cd91c25e button.colab-df-convert');\n",
              "        buttonEl.style.display =\n",
              "          google.colab.kernel.accessAllowed ? 'block' : 'none';\n",
              "\n",
              "        async function convertToInteractive(key) {\n",
              "          const element = document.querySelector('#df-09ec718f-aec8-4b05-ba25-a5e0cd91c25e');\n",
              "          const dataTable =\n",
              "            await google.colab.kernel.invokeFunction('convertToInteractive',\n",
              "                                                     [key], {});\n",
              "          if (!dataTable) return;\n",
              "\n",
              "          const docLinkHtml = 'Like what you see? Visit the ' +\n",
              "            '<a target=\"_blank\" href=https://colab.research.google.com/notebooks/data_table.ipynb>data table notebook</a>'\n",
              "            + ' to learn more about interactive tables.';\n",
              "          element.innerHTML = '';\n",
              "          dataTable['output_type'] = 'display_data';\n",
              "          await google.colab.output.renderOutput(dataTable, element);\n",
              "          const docLink = document.createElement('div');\n",
              "          docLink.innerHTML = docLinkHtml;\n",
              "          element.appendChild(docLink);\n",
              "        }\n",
              "      </script>\n",
              "    </div>\n",
              "  </div>\n",
              "  "
            ],
            "text/plain": [
              "   Unnamed: 0  ... labels\n",
              "0           0  ...      0\n",
              "1           1  ...      0\n",
              "2           2  ...      3\n",
              "3           3  ...      3\n",
              "4           4  ...      0\n",
              "\n",
              "[5 rows x 4 columns]"
            ]
          },
          "metadata": {},
          "execution_count": 5
        }
      ]
    },
    {
      "cell_type": "code",
      "source": [
        "print('Number of sentences in train: {}.'.format(train.shape[0]))\n",
        "print('Number of sentences in test: {}.'.format(test.shape[0]))"
      ],
      "metadata": {
        "colab": {
          "base_uri": "https://localhost:8080/"
        },
        "id": "1l-n4Lp8SHaa",
        "outputId": "d31be2c9-dd63-4d09-9c2b-064900c56755"
      },
      "execution_count": 6,
      "outputs": [
        {
          "output_type": "stream",
          "name": "stdout",
          "text": [
            "Number of sentences in train: 5618.\n",
            "Number of sentences in test: 625.\n"
          ]
        }
      ]
    },
    {
      "cell_type": "code",
      "source": [
        "train[\"classes\"].value_counts()"
      ],
      "metadata": {
        "colab": {
          "base_uri": "https://localhost:8080/"
        },
        "id": "5dA5hG4qSHl6",
        "outputId": "099c8a55-3936-4b6a-de84-9f2b8b23ce86"
      },
      "execution_count": 7,
      "outputs": [
        {
          "output_type": "execute_result",
          "data": {
            "text/plain": [
              "disgust     1388\n",
              "sadness     1071\n",
              "joy         1028\n",
              "fear         789\n",
              "anger        688\n",
              "surprise     654\n",
              "Name: classes, dtype: int64"
            ]
          },
          "metadata": {},
          "execution_count": 7
        }
      ]
    },
    {
      "cell_type": "code",
      "source": [
        "test[\"classes\"].value_counts()"
      ],
      "metadata": {
        "colab": {
          "base_uri": "https://localhost:8080/"
        },
        "id": "tcSGdhCtSHqC",
        "outputId": "a101ad59-c62b-4a42-bdaf-9bc4d9a16a62"
      },
      "execution_count": 8,
      "outputs": [
        {
          "output_type": "execute_result",
          "data": {
            "text/plain": [
              "disgust     165\n",
              "sadness     119\n",
              "joy         114\n",
              "fear         83\n",
              "surprise     73\n",
              "anger        71\n",
              "Name: classes, dtype: int64"
            ]
          },
          "metadata": {},
          "execution_count": 8
        }
      ]
    },
    {
      "cell_type": "code",
      "source": [
        "#checking for null values\n",
        "train.info()\n",
        "print()\n",
        "test.info()\n",
        "print()"
      ],
      "metadata": {
        "colab": {
          "base_uri": "https://localhost:8080/"
        },
        "id": "9aPnmG9GSHtS",
        "outputId": "5c8eeb7d-33dc-468b-c19e-1ca9b31984f8"
      },
      "execution_count": 9,
      "outputs": [
        {
          "output_type": "stream",
          "name": "stdout",
          "text": [
            "<class 'pandas.core.frame.DataFrame'>\n",
            "RangeIndex: 5618 entries, 0 to 5617\n",
            "Data columns (total 4 columns):\n",
            " #   Column      Non-Null Count  Dtype \n",
            "---  ------      --------------  ----- \n",
            " 0   Unnamed: 0  5618 non-null   int64 \n",
            " 1   cleaned     5618 non-null   object\n",
            " 2   classes     5618 non-null   object\n",
            " 3   labels      5618 non-null   int64 \n",
            "dtypes: int64(2), object(2)\n",
            "memory usage: 175.7+ KB\n",
            "\n",
            "<class 'pandas.core.frame.DataFrame'>\n",
            "RangeIndex: 625 entries, 0 to 624\n",
            "Data columns (total 4 columns):\n",
            " #   Column      Non-Null Count  Dtype \n",
            "---  ------      --------------  ----- \n",
            " 0   Unnamed: 0  625 non-null    int64 \n",
            " 1   cleaned     625 non-null    object\n",
            " 2   classes     625 non-null    object\n",
            " 3   labels      625 non-null    int64 \n",
            "dtypes: int64(2), object(2)\n",
            "memory usage: 19.7+ KB\n",
            "\n"
          ]
        }
      ]
    },
    {
      "cell_type": "code",
      "source": [
        "tokenizer = TweetTokenizer()"
      ],
      "metadata": {
        "id": "ZjJMP0T6XA7t"
      },
      "execution_count": 10,
      "outputs": []
    },
    {
      "cell_type": "code",
      "source": [
        "vectorizer = TfidfVectorizer(ngram_range=(1, 2), tokenizer=tokenizer.tokenize)\n",
        "full_text = list(train['cleaned'].values) + list(test['cleaned'].values)\n",
        "vectorizer.fit(full_text)\n",
        "train_vectorized = vectorizer.transform(train['cleaned'])\n",
        "test_vectorized = vectorizer.transform(test['cleaned'])"
      ],
      "metadata": {
        "colab": {
          "base_uri": "https://localhost:8080/"
        },
        "id": "CywAfXbyXA-n",
        "outputId": "80f2d111-4c30-4712-c8c0-7205b0cf69cc"
      },
      "execution_count": 11,
      "outputs": [
        {
          "output_type": "stream",
          "name": "stderr",
          "text": [
            "/usr/local/lib/python3.7/dist-packages/sklearn/feature_extraction/text.py:517: UserWarning: The parameter 'token_pattern' will not be used since 'tokenizer' is not None'\n",
            "  \"The parameter 'token_pattern' will not be used\"\n"
          ]
        }
      ]
    },
    {
      "cell_type": "code",
      "source": [
        "y = train['labels']"
      ],
      "metadata": {
        "id": "da6KqacLXBAx"
      },
      "execution_count": 12,
      "outputs": []
    },
    {
      "cell_type": "code",
      "source": [
        "logreg = LogisticRegression()\n",
        "ovr = OneVsRestClassifier(logreg)"
      ],
      "metadata": {
        "id": "dUove8gNXBCy"
      },
      "execution_count": 13,
      "outputs": []
    },
    {
      "cell_type": "code",
      "source": [
        "%%time\n",
        "ovr.fit(train_vectorized, y)"
      ],
      "metadata": {
        "colab": {
          "base_uri": "https://localhost:8080/"
        },
        "id": "GB3k9m7wXBFc",
        "outputId": "00cf9742-3d37-4fb5-e9f2-e1f0b7ccc110"
      },
      "execution_count": 14,
      "outputs": [
        {
          "output_type": "stream",
          "name": "stdout",
          "text": [
            "CPU times: user 4.18 s, sys: 5.08 s, total: 9.26 s\n",
            "Wall time: 7.09 s\n"
          ]
        },
        {
          "output_type": "execute_result",
          "data": {
            "text/plain": [
              "OneVsRestClassifier(estimator=LogisticRegression())"
            ]
          },
          "metadata": {},
          "execution_count": 14
        }
      ]
    },
    {
      "cell_type": "code",
      "source": [
        "scores = cross_val_score(ovr, train_vectorized, y, scoring='accuracy', n_jobs=-1, cv=3)\n",
        "print('Cross-validation mean accuracy {0:.2f}%, std {1:.2f}.'.format(np.mean(scores) * 100, np.std(scores) * 100))"
      ],
      "metadata": {
        "colab": {
          "base_uri": "https://localhost:8080/"
        },
        "id": "vdSzvExsXBGk",
        "outputId": "8924804e-9a95-4068-97d0-fb59a87cce57"
      },
      "execution_count": 15,
      "outputs": [
        {
          "output_type": "stream",
          "name": "stdout",
          "text": [
            "Cross-validation mean accuracy 55.91%, std 0.51.\n"
          ]
        }
      ]
    },
    {
      "cell_type": "code",
      "source": [
        "%%time\n",
        "svc = LinearSVC(dual=False)\n",
        "scores = cross_val_score(svc, train_vectorized, y, scoring='accuracy', n_jobs=-1, cv=3)\n",
        "print('Cross-validation mean accuracy {0:.2f}%, std {1:.2f}.'.format(np.mean(scores) * 100, np.std(scores) * 100))"
      ],
      "metadata": {
        "colab": {
          "base_uri": "https://localhost:8080/"
        },
        "id": "1_32Tzt4XBIU",
        "outputId": "b5e0ed93-e3a7-442b-9a22-9ad49fc47222"
      },
      "execution_count": 16,
      "outputs": [
        {
          "output_type": "stream",
          "name": "stdout",
          "text": [
            "Cross-validation mean accuracy 59.52%, std 0.97.\n",
            "CPU times: user 34.8 ms, sys: 6.98 ms, total: 41.8 ms\n",
            "Wall time: 1.81 s\n"
          ]
        }
      ]
    },
    {
      "cell_type": "code",
      "source": [
        "ovr.fit(train_vectorized, y)\n",
        "svc.fit(train_vectorized, y)"
      ],
      "metadata": {
        "colab": {
          "base_uri": "https://localhost:8080/"
        },
        "id": "utkTJRuZXBJ9",
        "outputId": "e63c21a1-77ff-4dd9-8668-beaf4a7b1556"
      },
      "execution_count": 17,
      "outputs": [
        {
          "output_type": "execute_result",
          "data": {
            "text/plain": [
              "LinearSVC(dual=False)"
            ]
          },
          "metadata": {},
          "execution_count": 17
        }
      ]
    },
    {
      "cell_type": "code",
      "source": [
        "from keras.preprocessing.text import Tokenizer\n",
        "from keras.preprocessing.sequence import pad_sequences\n",
        "from keras.layers import Dense, Input, LSTM, Embedding, Dropout, Activation, Conv1D, GRU \n",
        "from keras.layers import CuDNNGRU, CuDNNLSTM, BatchNormalization\n",
        "from keras.layers import Bidirectional, GlobalMaxPool1D, MaxPooling1D, Add, Flatten\n",
        "from keras.layers import GlobalAveragePooling1D, GlobalMaxPooling1D, concatenate, SpatialDropout1D\n",
        "from keras.models import Model, load_model\n",
        "from keras import initializers, regularizers, constraints, optimizers, layers, callbacks\n",
        "from keras import backend as K\n",
        "from keras.layers import InputSpec, Layer\n",
        "from tensorflow.keras.optimizers import Adam\n",
        "from keras.callbacks import ModelCheckpoint, TensorBoard, Callback, EarlyStopping"
      ],
      "metadata": {
        "id": "To8kD0neXBMR"
      },
      "execution_count": 45,
      "outputs": []
    },
    {
      "cell_type": "code",
      "source": [
        "tk = Tokenizer(lower = True, filters = '')\n",
        "tk.fit_on_texts(full_text)"
      ],
      "metadata": {
        "id": "78bjPZ3vXBN2"
      },
      "execution_count": 19,
      "outputs": []
    },
    {
      "cell_type": "code",
      "source": [
        "train_tokenized = tk.texts_to_sequences(train['cleaned'])\n",
        "test_tokenized = tk.texts_to_sequences(test['cleaned'])"
      ],
      "metadata": {
        "id": "nvB-5hn3XBPk"
      },
      "execution_count": 20,
      "outputs": []
    },
    {
      "cell_type": "code",
      "source": [
        "#calculating max length of the vector\n",
        "lens_train = [len(i) for i in train_tokenized]\n",
        "lens_test = [len(i) for i in test_tokenized]\n",
        "lens = lens_train + lens_test\n",
        "\n",
        "max_len = np.max(lens)\n",
        "\n",
        "print('Max len:', max_len)"
      ],
      "metadata": {
        "colab": {
          "base_uri": "https://localhost:8080/"
        },
        "id": "qC4CJgLuXBRy",
        "outputId": "58f522e9-12a1-41e5-c6b7-bf31b8964a8a"
      },
      "execution_count": 21,
      "outputs": [
        {
          "output_type": "stream",
          "name": "stdout",
          "text": [
            "Max len: 215\n"
          ]
        }
      ]
    },
    {
      "cell_type": "code",
      "source": [
        "#Zero padding\n",
        "X_train = pad_sequences(train_tokenized, maxlen = max_len)\n",
        "X_test = pad_sequences(test_tokenized, maxlen = max_len)\n",
        "X_test = pad_sequences(test_tokenized, maxlen = max_len)"
      ],
      "metadata": {
        "id": "LimslxhcXBVD"
      },
      "execution_count": 22,
      "outputs": []
    },
    {
      "cell_type": "code",
      "source": [
        "embedding_path = myData+\"/crawl-300d-2M.vec\""
      ],
      "metadata": {
        "id": "H9m30CWsXBWJ"
      },
      "execution_count": 23,
      "outputs": []
    },
    {
      "cell_type": "code",
      "source": [
        "embed_size = 300\n",
        "max_features = 30000"
      ],
      "metadata": {
        "id": "Sqqp9lJ-XBYL"
      },
      "execution_count": 24,
      "outputs": []
    },
    {
      "cell_type": "code",
      "source": [
        "def get_coefs(word, *arr): return word, np.asarray(arr, dtype='float32')\n",
        "embedding_index = dict(get_coefs(*o.strip().split(\" \")) for o in open(embedding_path))\n",
        "\n",
        "word_index = tk.word_index\n",
        "nb_words = min(max_features, len(word_index))\n",
        "embedding_matrix = np.zeros((nb_words + 1, embed_size))\n",
        "for word, i in word_index.items():\n",
        "    if i >= max_features: continue\n",
        "    embedding_vector = embedding_index.get(word)\n",
        "    if embedding_vector is not None: embedding_matrix[i] = embedding_vector"
      ],
      "metadata": {
        "id": "RnAWimOqeX9z"
      },
      "execution_count": 25,
      "outputs": []
    },
    {
      "cell_type": "code",
      "source": [
        "from sklearn.preprocessing import OneHotEncoder\n",
        "ohe = OneHotEncoder(sparse=False)\n",
        "y_ohe = ohe.fit_transform(y.values.reshape(-1, 1))"
      ],
      "metadata": {
        "id": "3Z6xp0zseYBv"
      },
      "execution_count": 26,
      "outputs": []
    },
    {
      "cell_type": "code",
      "source": [
        "#Model 1\n",
        "def build_model1(lr=0.0, lr_d=0.0, units=0, spatial_dr=0.0, kernel_size1=3, kernel_size2=2, \n",
        "                 dense_units=128, dr=0.0,conv_size=32):\n",
        "    file_path = \"model_1.hdf5\"\n",
        "    check_point = ModelCheckpoint(file_path, monitor = \"val_loss\", verbose = 1,\n",
        "                                  save_best_only = True, mode = \"min\")\n",
        "    early_stop = EarlyStopping(monitor = \"val_loss\", mode = \"min\", patience = 3)\n",
        "    \n",
        "    inp = Input(shape = (max_len,))\n",
        "    x = Embedding(26277, embed_size, weights = [embedding_matrix], trainable = False)(inp)\n",
        "    x1 = SpatialDropout1D(spatial_dr)(x)\n",
        "\n",
        "    x_gru = Bidirectional(CuDNNGRU(units, return_sequences = True))(x1)\n",
        "    x1 = Conv1D(conv_size, kernel_size=kernel_size1, padding='valid', kernel_initializer='he_uniform')(x_gru)\n",
        "    avg_pool1_gru = GlobalAveragePooling1D()(x1)\n",
        "    max_pool1_gru = GlobalMaxPooling1D()(x1)\n",
        "    \n",
        "    x3 = Conv1D(conv_size, kernel_size=kernel_size2, padding='valid', kernel_initializer='he_uniform')(x_gru)\n",
        "    avg_pool3_gru = GlobalAveragePooling1D()(x3)\n",
        "    max_pool3_gru = GlobalMaxPooling1D()(x3)\n",
        "    \n",
        "    x_lstm = Bidirectional(CuDNNLSTM(units, return_sequences = True))(x1)\n",
        "    x1 = Conv1D(conv_size, kernel_size=kernel_size1, padding='valid', kernel_initializer='he_uniform')(x_lstm)\n",
        "    avg_pool1_lstm = GlobalAveragePooling1D()(x1)\n",
        "    max_pool1_lstm = GlobalMaxPooling1D()(x1)\n",
        "    \n",
        "    x3 = Conv1D(conv_size, kernel_size=kernel_size2, padding='valid', kernel_initializer='he_uniform')(x_lstm)\n",
        "    avg_pool3_lstm = GlobalAveragePooling1D()(x3)\n",
        "    max_pool3_lstm = GlobalMaxPooling1D()(x3)\n",
        "    \n",
        "    \n",
        "    x = concatenate([avg_pool1_gru, max_pool1_gru, avg_pool3_gru, max_pool3_gru,\n",
        "                    avg_pool1_lstm, max_pool1_lstm, avg_pool3_lstm, max_pool3_lstm])\n",
        "    x = BatchNormalization()(x)\n",
        "    x = Dropout(dr)(Dense(dense_units, activation='relu') (x))\n",
        "    x = BatchNormalization()(x)\n",
        "    x = Dropout(dr)(Dense(int(dense_units / 2), activation='relu') (x))\n",
        "    x = Dense(6, activation = \"sigmoid\")(x)\n",
        "    model = Model(inputs = inp, outputs = x)\n",
        "    model.compile(loss = \"binary_crossentropy\", optimizer = Adam(lr = lr, decay = lr_d), metrics = [\"accuracy\"])\n",
        "    history = model.fit(X_train, y_ohe, batch_size = 128, epochs = 20, validation_split=0.1, \n",
        "                        verbose = 1, callbacks = [check_point, early_stop])\n",
        "    model = load_model(file_path)\n",
        "    return model"
      ],
      "metadata": {
        "id": "YME_1UyveYEY"
      },
      "execution_count": 27,
      "outputs": []
    },
    {
      "cell_type": "code",
      "source": [
        "model1 = build_model1(lr = 1e-3, lr_d = 1e-10, units = 64, spatial_dr = 0.3, kernel_size1=3, \n",
        "                      kernel_size2=2, dense_units=32, dr=0.1, conv_size=32)"
      ],
      "metadata": {
        "colab": {
          "base_uri": "https://localhost:8080/"
        },
        "id": "aOU3atVVeYGJ",
        "outputId": "1a79a6bf-bbc8-4d0e-a276-14502d7a8fd8"
      },
      "execution_count": 28,
      "outputs": [
        {
          "output_type": "stream",
          "name": "stderr",
          "text": [
            "/usr/local/lib/python3.7/dist-packages/keras/optimizer_v2/adam.py:105: UserWarning: The `lr` argument is deprecated, use `learning_rate` instead.\n",
            "  super(Adam, self).__init__(name, **kwargs)\n"
          ]
        },
        {
          "output_type": "stream",
          "name": "stdout",
          "text": [
            "Epoch 1/20\n",
            "40/40 [==============================] - ETA: 0s - loss: 0.7494 - accuracy: 0.1968\n",
            "Epoch 00001: val_loss improved from inf to 0.64374, saving model to model_1.hdf5\n",
            "40/40 [==============================] - 23s 214ms/step - loss: 0.7494 - accuracy: 0.1968 - val_loss: 0.6437 - val_accuracy: 0.2616\n",
            "Epoch 2/20\n",
            "40/40 [==============================] - ETA: 0s - loss: 0.6078 - accuracy: 0.2253\n",
            "Epoch 00002: val_loss improved from 0.64374 to 0.53983, saving model to model_1.hdf5\n",
            "40/40 [==============================] - 7s 177ms/step - loss: 0.6078 - accuracy: 0.2253 - val_loss: 0.5398 - val_accuracy: 0.2633\n",
            "Epoch 3/20\n",
            "40/40 [==============================] - ETA: 0s - loss: 0.5377 - accuracy: 0.2271\n",
            "Epoch 00003: val_loss improved from 0.53983 to 0.47211, saving model to model_1.hdf5\n",
            "40/40 [==============================] - 7s 176ms/step - loss: 0.5377 - accuracy: 0.2271 - val_loss: 0.4721 - val_accuracy: 0.2669\n",
            "Epoch 4/20\n",
            "40/40 [==============================] - ETA: 0s - loss: 0.4916 - accuracy: 0.2320\n",
            "Epoch 00004: val_loss improved from 0.47211 to 0.47130, saving model to model_1.hdf5\n",
            "40/40 [==============================] - 7s 178ms/step - loss: 0.4916 - accuracy: 0.2320 - val_loss: 0.4713 - val_accuracy: 0.2651\n",
            "Epoch 5/20\n",
            "40/40 [==============================] - ETA: 0s - loss: 0.4724 - accuracy: 0.2397\n",
            "Epoch 00005: val_loss improved from 0.47130 to 0.46760, saving model to model_1.hdf5\n",
            "40/40 [==============================] - 7s 177ms/step - loss: 0.4724 - accuracy: 0.2397 - val_loss: 0.4676 - val_accuracy: 0.2598\n",
            "Epoch 6/20\n",
            "40/40 [==============================] - ETA: 0s - loss: 0.4605 - accuracy: 0.2508\n",
            "Epoch 00006: val_loss improved from 0.46760 to 0.44815, saving model to model_1.hdf5\n",
            "40/40 [==============================] - 7s 177ms/step - loss: 0.4605 - accuracy: 0.2508 - val_loss: 0.4482 - val_accuracy: 0.2722\n",
            "Epoch 7/20\n",
            "40/40 [==============================] - ETA: 0s - loss: 0.4570 - accuracy: 0.2557\n",
            "Epoch 00007: val_loss improved from 0.44815 to 0.43952, saving model to model_1.hdf5\n",
            "40/40 [==============================] - 7s 175ms/step - loss: 0.4570 - accuracy: 0.2557 - val_loss: 0.4395 - val_accuracy: 0.2883\n",
            "Epoch 8/20\n",
            "40/40 [==============================] - ETA: 0s - loss: 0.4494 - accuracy: 0.2723\n",
            "Epoch 00008: val_loss did not improve from 0.43952\n",
            "40/40 [==============================] - 7s 172ms/step - loss: 0.4494 - accuracy: 0.2723 - val_loss: 0.4427 - val_accuracy: 0.2687\n",
            "Epoch 9/20\n",
            "40/40 [==============================] - ETA: 0s - loss: 0.4466 - accuracy: 0.2809\n",
            "Epoch 00009: val_loss did not improve from 0.43952\n",
            "40/40 [==============================] - 7s 171ms/step - loss: 0.4466 - accuracy: 0.2809 - val_loss: 0.4470 - val_accuracy: 0.2740\n",
            "Epoch 10/20\n",
            "40/40 [==============================] - ETA: 0s - loss: 0.4447 - accuracy: 0.2747\n",
            "Epoch 00010: val_loss improved from 0.43952 to 0.43790, saving model to model_1.hdf5\n",
            "40/40 [==============================] - 7s 177ms/step - loss: 0.4447 - accuracy: 0.2747 - val_loss: 0.4379 - val_accuracy: 0.2829\n",
            "Epoch 11/20\n",
            "40/40 [==============================] - ETA: 0s - loss: 0.4405 - accuracy: 0.2959\n",
            "Epoch 00011: val_loss did not improve from 0.43790\n",
            "40/40 [==============================] - 7s 171ms/step - loss: 0.4405 - accuracy: 0.2959 - val_loss: 0.4465 - val_accuracy: 0.2598\n",
            "Epoch 12/20\n",
            "40/40 [==============================] - ETA: 0s - loss: 0.4373 - accuracy: 0.2994\n",
            "Epoch 00012: val_loss did not improve from 0.43790\n",
            "40/40 [==============================] - 7s 172ms/step - loss: 0.4373 - accuracy: 0.2994 - val_loss: 0.4515 - val_accuracy: 0.2331\n",
            "Epoch 13/20\n",
            "40/40 [==============================] - ETA: 0s - loss: 0.4366 - accuracy: 0.2965\n",
            "Epoch 00013: val_loss improved from 0.43790 to 0.43474, saving model to model_1.hdf5\n",
            "40/40 [==============================] - 7s 177ms/step - loss: 0.4366 - accuracy: 0.2965 - val_loss: 0.4347 - val_accuracy: 0.2811\n",
            "Epoch 14/20\n",
            "40/40 [==============================] - ETA: 0s - loss: 0.4348 - accuracy: 0.3018\n",
            "Epoch 00014: val_loss did not improve from 0.43474\n",
            "40/40 [==============================] - 7s 172ms/step - loss: 0.4348 - accuracy: 0.3018 - val_loss: 0.4683 - val_accuracy: 0.2135\n",
            "Epoch 15/20\n",
            "40/40 [==============================] - ETA: 0s - loss: 0.4322 - accuracy: 0.3135\n",
            "Epoch 00015: val_loss did not improve from 0.43474\n",
            "40/40 [==============================] - 7s 173ms/step - loss: 0.4322 - accuracy: 0.3135 - val_loss: 0.4490 - val_accuracy: 0.2402\n",
            "Epoch 16/20\n",
            "40/40 [==============================] - ETA: 0s - loss: 0.4316 - accuracy: 0.3026\n",
            "Epoch 00016: val_loss did not improve from 0.43474\n",
            "40/40 [==============================] - 7s 171ms/step - loss: 0.4316 - accuracy: 0.3026 - val_loss: 0.4450 - val_accuracy: 0.3078\n"
          ]
        }
      ]
    },
    {
      "cell_type": "code",
      "source": [
        "model2 = build_model1(lr = 1e-3, lr_d = 1e-10, units = 128, \n",
        "                      spatial_dr = 0.5, kernel_size1=3, kernel_size2=3, dense_units=64, dr=0.2, conv_size=32)"
      ],
      "metadata": {
        "colab": {
          "base_uri": "https://localhost:8080/"
        },
        "id": "atb6GZpTeYII",
        "outputId": "65338548-226e-48b8-bc4e-a9414be74b5c"
      },
      "execution_count": 29,
      "outputs": [
        {
          "output_type": "stream",
          "name": "stderr",
          "text": [
            "/usr/local/lib/python3.7/dist-packages/keras/optimizer_v2/adam.py:105: UserWarning: The `lr` argument is deprecated, use `learning_rate` instead.\n",
            "  super(Adam, self).__init__(name, **kwargs)\n"
          ]
        },
        {
          "output_type": "stream",
          "name": "stdout",
          "text": [
            "Epoch 1/20\n",
            "40/40 [==============================] - ETA: 0s - loss: 0.6857 - accuracy: 0.1865\n",
            "Epoch 00001: val_loss improved from inf to 0.51495, saving model to model_1.hdf5\n",
            "40/40 [==============================] - 18s 276ms/step - loss: 0.6857 - accuracy: 0.1865 - val_loss: 0.5150 - val_accuracy: 0.2242\n",
            "Epoch 2/20\n",
            "40/40 [==============================] - ETA: 0s - loss: 0.5273 - accuracy: 0.2027\n",
            "Epoch 00002: val_loss improved from 0.51495 to 0.46021, saving model to model_1.hdf5\n",
            "40/40 [==============================] - 10s 247ms/step - loss: 0.5273 - accuracy: 0.2027 - val_loss: 0.4602 - val_accuracy: 0.2633\n",
            "Epoch 3/20\n",
            "40/40 [==============================] - ETA: 0s - loss: 0.4881 - accuracy: 0.2098\n",
            "Epoch 00003: val_loss improved from 0.46021 to 0.45521, saving model to model_1.hdf5\n",
            "40/40 [==============================] - 10s 254ms/step - loss: 0.4881 - accuracy: 0.2098 - val_loss: 0.4552 - val_accuracy: 0.2598\n",
            "Epoch 4/20\n",
            "40/40 [==============================] - ETA: 0s - loss: 0.4765 - accuracy: 0.2148\n",
            "Epoch 00004: val_loss improved from 0.45521 to 0.44479, saving model to model_1.hdf5\n",
            "40/40 [==============================] - 10s 247ms/step - loss: 0.4765 - accuracy: 0.2148 - val_loss: 0.4448 - val_accuracy: 0.2687\n",
            "Epoch 5/20\n",
            "40/40 [==============================] - ETA: 0s - loss: 0.4702 - accuracy: 0.2271\n",
            "Epoch 00005: val_loss did not improve from 0.44479\n",
            "40/40 [==============================] - 10s 241ms/step - loss: 0.4702 - accuracy: 0.2271 - val_loss: 0.4512 - val_accuracy: 0.2527\n",
            "Epoch 6/20\n",
            "40/40 [==============================] - ETA: 0s - loss: 0.4642 - accuracy: 0.2385\n",
            "Epoch 00006: val_loss improved from 0.44479 to 0.43941, saving model to model_1.hdf5\n",
            "40/40 [==============================] - 10s 246ms/step - loss: 0.4642 - accuracy: 0.2385 - val_loss: 0.4394 - val_accuracy: 0.2562\n",
            "Epoch 7/20\n",
            "40/40 [==============================] - ETA: 0s - loss: 0.4580 - accuracy: 0.2545\n",
            "Epoch 00007: val_loss did not improve from 0.43941\n",
            "40/40 [==============================] - 10s 242ms/step - loss: 0.4580 - accuracy: 0.2545 - val_loss: 0.4443 - val_accuracy: 0.2740\n",
            "Epoch 8/20\n",
            "40/40 [==============================] - ETA: 0s - loss: 0.4557 - accuracy: 0.2498\n",
            "Epoch 00008: val_loss did not improve from 0.43941\n",
            "40/40 [==============================] - 10s 247ms/step - loss: 0.4557 - accuracy: 0.2498 - val_loss: 0.4440 - val_accuracy: 0.2722\n",
            "Epoch 9/20\n",
            "40/40 [==============================] - ETA: 0s - loss: 0.4542 - accuracy: 0.2544\n",
            "Epoch 00009: val_loss did not improve from 0.43941\n",
            "40/40 [==============================] - 10s 243ms/step - loss: 0.4542 - accuracy: 0.2544 - val_loss: 0.4427 - val_accuracy: 0.2722\n"
          ]
        }
      ]
    },
    {
      "cell_type": "code",
      "source": [
        "def build_model2(lr=0.0, lr_d=0.0, units=0, spatial_dr=0.0, kernel_size1=3, kernel_size2=2, dense_units=128, dr=0.1, conv_size=32):\n",
        "    file_path = \"best_model.hdf5\"\n",
        "    check_point = ModelCheckpoint(file_path, monitor = \"val_loss\", verbose = 1,\n",
        "                                  save_best_only = True, mode = \"min\")\n",
        "    early_stop = EarlyStopping(monitor = \"val_loss\", mode = \"min\", patience = 3)\n",
        "\n",
        "    inp = Input(shape = (max_len,))\n",
        "    x = Embedding(26277, embed_size, weights = [embedding_matrix], trainable = False)(inp)\n",
        "    x1 = SpatialDropout1D(spatial_dr)(x)\n",
        "\n",
        "    x_gru = Bidirectional(CuDNNGRU(units, return_sequences = True))(x1)\n",
        "    x_lstm = Bidirectional(CuDNNLSTM(units, return_sequences = True))(x1)\n",
        "    \n",
        "    x_conv1 = Conv1D(conv_size, kernel_size=kernel_size1, padding='valid', kernel_initializer='he_uniform')(x_gru)\n",
        "    avg_pool1_gru = GlobalAveragePooling1D()(x_conv1)\n",
        "    max_pool1_gru = GlobalMaxPooling1D()(x_conv1)\n",
        "    \n",
        "    x_conv2 = Conv1D(conv_size, kernel_size=kernel_size2, padding='valid', kernel_initializer='he_uniform')(x_gru)\n",
        "    avg_pool2_gru = GlobalAveragePooling1D()(x_conv2)\n",
        "    max_pool2_gru = GlobalMaxPooling1D()(x_conv2)\n",
        "    \n",
        "    \n",
        "    x_conv3 = Conv1D(conv_size, kernel_size=kernel_size1, padding='valid', kernel_initializer='he_uniform')(x_lstm)\n",
        "    avg_pool1_lstm = GlobalAveragePooling1D()(x_conv3)\n",
        "    max_pool1_lstm = GlobalMaxPooling1D()(x_conv3)\n",
        "    \n",
        "    x_conv4 = Conv1D(conv_size, kernel_size=kernel_size2, padding='valid', kernel_initializer='he_uniform')(x_lstm)\n",
        "    avg_pool2_lstm = GlobalAveragePooling1D()(x_conv4)\n",
        "    max_pool2_lstm = GlobalMaxPooling1D()(x_conv4)\n",
        "    \n",
        "    \n",
        "    x = concatenate([avg_pool1_gru, max_pool1_gru, avg_pool2_gru, max_pool2_gru,\n",
        "                    avg_pool1_lstm, max_pool1_lstm, avg_pool2_lstm, max_pool2_lstm])\n",
        "    x = BatchNormalization()(x)\n",
        "    x = Dropout(dr)(Dense(dense_units, activation='relu') (x))\n",
        "    x = BatchNormalization()(x)\n",
        "    x = Dropout(dr)(Dense(int(dense_units / 2), activation='relu') (x))\n",
        "    x = Dense(6, activation = \"sigmoid\")(x)\n",
        "    model = Model(inputs = inp, outputs = x)\n",
        "    model.compile(loss = \"binary_crossentropy\", optimizer = Adam(lr = lr, decay = lr_d), metrics = [\"accuracy\"])\n",
        "    history = model.fit(X_train, y_ohe, batch_size = 128, epochs = 20, validation_split=0.1, \n",
        "                        verbose = 1, callbacks = [check_point, early_stop])\n",
        "    model = load_model(file_path)\n",
        "    return model"
      ],
      "metadata": {
        "id": "O4pItiy_eYLI"
      },
      "execution_count": 32,
      "outputs": []
    },
    {
      "cell_type": "code",
      "source": [
        "model3 = build_model2(lr = 1e-4, lr_d = 0, units = 64, spatial_dr = 0.5, kernel_size1=4, \n",
        "                      kernel_size2=3, dense_units=32, dr=0.1, conv_size=32)"
      ],
      "metadata": {
        "colab": {
          "base_uri": "https://localhost:8080/"
        },
        "id": "AuNPLduweYrm",
        "outputId": "d5be003e-6d4a-4036-f3dd-2ddb3cb82b37"
      },
      "execution_count": 33,
      "outputs": [
        {
          "output_type": "stream",
          "name": "stderr",
          "text": [
            "/usr/local/lib/python3.7/dist-packages/keras/optimizer_v2/adam.py:105: UserWarning: The `lr` argument is deprecated, use `learning_rate` instead.\n",
            "  super(Adam, self).__init__(name, **kwargs)\n"
          ]
        },
        {
          "output_type": "stream",
          "name": "stdout",
          "text": [
            "Epoch 1/20\n",
            "40/40 [==============================] - ETA: 0s - loss: 0.7230 - accuracy: 0.1873\n",
            "Epoch 00001: val_loss improved from inf to 0.68029, saving model to best_model.hdf5\n",
            "40/40 [==============================] - 14s 212ms/step - loss: 0.7230 - accuracy: 0.1873 - val_loss: 0.6803 - val_accuracy: 0.1744\n",
            "Epoch 2/20\n",
            "40/40 [==============================] - ETA: 0s - loss: 0.6831 - accuracy: 0.1812\n",
            "Epoch 00002: val_loss improved from 0.68029 to 0.66347, saving model to best_model.hdf5\n",
            "40/40 [==============================] - 7s 187ms/step - loss: 0.6831 - accuracy: 0.1812 - val_loss: 0.6635 - val_accuracy: 0.1477\n",
            "Epoch 3/20\n",
            "40/40 [==============================] - ETA: 0s - loss: 0.6516 - accuracy: 0.1818\n",
            "Epoch 00003: val_loss improved from 0.66347 to 0.64404, saving model to best_model.hdf5\n",
            "40/40 [==============================] - 7s 187ms/step - loss: 0.6516 - accuracy: 0.1818 - val_loss: 0.6440 - val_accuracy: 0.1459\n",
            "Epoch 4/20\n",
            "40/40 [==============================] - ETA: 0s - loss: 0.6273 - accuracy: 0.1905\n",
            "Epoch 00004: val_loss improved from 0.64404 to 0.62498, saving model to best_model.hdf5\n",
            "40/40 [==============================] - 8s 188ms/step - loss: 0.6273 - accuracy: 0.1905 - val_loss: 0.6250 - val_accuracy: 0.1495\n",
            "Epoch 5/20\n",
            "40/40 [==============================] - ETA: 0s - loss: 0.6078 - accuracy: 0.1889\n",
            "Epoch 00005: val_loss improved from 0.62498 to 0.60418, saving model to best_model.hdf5\n",
            "40/40 [==============================] - 7s 187ms/step - loss: 0.6078 - accuracy: 0.1889 - val_loss: 0.6042 - val_accuracy: 0.1495\n",
            "Epoch 6/20\n",
            "40/40 [==============================] - ETA: 0s - loss: 0.5917 - accuracy: 0.1869\n",
            "Epoch 00006: val_loss improved from 0.60418 to 0.58616, saving model to best_model.hdf5\n",
            "40/40 [==============================] - 7s 187ms/step - loss: 0.5917 - accuracy: 0.1869 - val_loss: 0.5862 - val_accuracy: 0.1655\n",
            "Epoch 7/20\n",
            "40/40 [==============================] - ETA: 0s - loss: 0.5785 - accuracy: 0.1875\n",
            "Epoch 00007: val_loss improved from 0.58616 to 0.56805, saving model to best_model.hdf5\n",
            "40/40 [==============================] - 8s 194ms/step - loss: 0.5785 - accuracy: 0.1875 - val_loss: 0.5681 - val_accuracy: 0.1886\n",
            "Epoch 8/20\n",
            "40/40 [==============================] - ETA: 0s - loss: 0.5632 - accuracy: 0.1867\n",
            "Epoch 00008: val_loss improved from 0.56805 to 0.55501, saving model to best_model.hdf5\n",
            "40/40 [==============================] - 8s 189ms/step - loss: 0.5632 - accuracy: 0.1867 - val_loss: 0.5550 - val_accuracy: 0.1957\n",
            "Epoch 9/20\n",
            "40/40 [==============================] - ETA: 0s - loss: 0.5524 - accuracy: 0.1992\n",
            "Epoch 00009: val_loss improved from 0.55501 to 0.53970, saving model to best_model.hdf5\n",
            "40/40 [==============================] - 7s 186ms/step - loss: 0.5524 - accuracy: 0.1992 - val_loss: 0.5397 - val_accuracy: 0.1993\n",
            "Epoch 10/20\n",
            "40/40 [==============================] - ETA: 0s - loss: 0.5483 - accuracy: 0.1865\n",
            "Epoch 00010: val_loss improved from 0.53970 to 0.52461, saving model to best_model.hdf5\n",
            "40/40 [==============================] - 7s 188ms/step - loss: 0.5483 - accuracy: 0.1865 - val_loss: 0.5246 - val_accuracy: 0.2011\n",
            "Epoch 11/20\n",
            "40/40 [==============================] - ETA: 0s - loss: 0.5386 - accuracy: 0.1867\n",
            "Epoch 00011: val_loss improved from 0.52461 to 0.51161, saving model to best_model.hdf5\n",
            "40/40 [==============================] - 8s 188ms/step - loss: 0.5386 - accuracy: 0.1867 - val_loss: 0.5116 - val_accuracy: 0.1975\n",
            "Epoch 12/20\n",
            "40/40 [==============================] - ETA: 0s - loss: 0.5281 - accuracy: 0.1940\n",
            "Epoch 00012: val_loss improved from 0.51161 to 0.50219, saving model to best_model.hdf5\n",
            "40/40 [==============================] - 8s 188ms/step - loss: 0.5281 - accuracy: 0.1940 - val_loss: 0.5022 - val_accuracy: 0.2011\n",
            "Epoch 13/20\n",
            "40/40 [==============================] - ETA: 0s - loss: 0.5202 - accuracy: 0.2006\n",
            "Epoch 00013: val_loss improved from 0.50219 to 0.49218, saving model to best_model.hdf5\n",
            "40/40 [==============================] - 7s 188ms/step - loss: 0.5202 - accuracy: 0.2006 - val_loss: 0.4922 - val_accuracy: 0.2028\n",
            "Epoch 14/20\n",
            "40/40 [==============================] - ETA: 0s - loss: 0.5179 - accuracy: 0.1990\n",
            "Epoch 00014: val_loss improved from 0.49218 to 0.48881, saving model to best_model.hdf5\n",
            "40/40 [==============================] - 7s 187ms/step - loss: 0.5179 - accuracy: 0.1990 - val_loss: 0.4888 - val_accuracy: 0.1993\n",
            "Epoch 15/20\n",
            "40/40 [==============================] - ETA: 0s - loss: 0.5108 - accuracy: 0.2023\n",
            "Epoch 00015: val_loss improved from 0.48881 to 0.48166, saving model to best_model.hdf5\n",
            "40/40 [==============================] - 7s 187ms/step - loss: 0.5108 - accuracy: 0.2023 - val_loss: 0.4817 - val_accuracy: 0.2153\n",
            "Epoch 16/20\n",
            "40/40 [==============================] - ETA: 0s - loss: 0.5034 - accuracy: 0.2083\n",
            "Epoch 00016: val_loss improved from 0.48166 to 0.47647, saving model to best_model.hdf5\n",
            "40/40 [==============================] - 7s 186ms/step - loss: 0.5034 - accuracy: 0.2083 - val_loss: 0.4765 - val_accuracy: 0.2367\n",
            "Epoch 17/20\n",
            "40/40 [==============================] - ETA: 0s - loss: 0.5026 - accuracy: 0.2008\n",
            "Epoch 00017: val_loss improved from 0.47647 to 0.46717, saving model to best_model.hdf5\n",
            "40/40 [==============================] - 8s 188ms/step - loss: 0.5026 - accuracy: 0.2008 - val_loss: 0.4672 - val_accuracy: 0.2509\n",
            "Epoch 18/20\n",
            "40/40 [==============================] - ETA: 0s - loss: 0.4994 - accuracy: 0.2067\n",
            "Epoch 00018: val_loss improved from 0.46717 to 0.46611, saving model to best_model.hdf5\n",
            "40/40 [==============================] - 7s 186ms/step - loss: 0.4994 - accuracy: 0.2067 - val_loss: 0.4661 - val_accuracy: 0.2456\n",
            "Epoch 19/20\n",
            "40/40 [==============================] - ETA: 0s - loss: 0.4922 - accuracy: 0.2114\n",
            "Epoch 00019: val_loss improved from 0.46611 to 0.46204, saving model to best_model.hdf5\n",
            "40/40 [==============================] - 7s 188ms/step - loss: 0.4922 - accuracy: 0.2114 - val_loss: 0.4620 - val_accuracy: 0.2509\n",
            "Epoch 20/20\n",
            "40/40 [==============================] - ETA: 0s - loss: 0.4870 - accuracy: 0.2176\n",
            "Epoch 00020: val_loss improved from 0.46204 to 0.45986, saving model to best_model.hdf5\n",
            "40/40 [==============================] - 7s 187ms/step - loss: 0.4870 - accuracy: 0.2176 - val_loss: 0.4599 - val_accuracy: 0.2651\n"
          ]
        }
      ]
    },
    {
      "cell_type": "code",
      "source": [
        "model4 = build_model2(lr = 1e-3, lr_d = 0, units = 64, spatial_dr = 0.5, \n",
        "                      kernel_size1=3, kernel_size2=3, dense_units=64, dr=0.3, conv_size=32)"
      ],
      "metadata": {
        "colab": {
          "base_uri": "https://localhost:8080/"
        },
        "id": "iy8EVzkHeYtl",
        "outputId": "6b145ace-498c-4c4c-b2ae-50d13ef63613"
      },
      "execution_count": 34,
      "outputs": [
        {
          "output_type": "stream",
          "name": "stderr",
          "text": [
            "/usr/local/lib/python3.7/dist-packages/keras/optimizer_v2/adam.py:105: UserWarning: The `lr` argument is deprecated, use `learning_rate` instead.\n",
            "  super(Adam, self).__init__(name, **kwargs)\n"
          ]
        },
        {
          "output_type": "stream",
          "name": "stdout",
          "text": [
            "Epoch 1/20\n",
            "40/40 [==============================] - ETA: 0s - loss: 0.6376 - accuracy: 0.1861\n",
            "Epoch 00001: val_loss improved from inf to 0.55840, saving model to best_model.hdf5\n",
            "40/40 [==============================] - 13s 205ms/step - loss: 0.6376 - accuracy: 0.1861 - val_loss: 0.5584 - val_accuracy: 0.2456\n",
            "Epoch 2/20\n",
            "40/40 [==============================] - ETA: 0s - loss: 0.5221 - accuracy: 0.1956\n",
            "Epoch 00002: val_loss improved from 0.55840 to 0.48765, saving model to best_model.hdf5\n",
            "40/40 [==============================] - 7s 185ms/step - loss: 0.5221 - accuracy: 0.1956 - val_loss: 0.4876 - val_accuracy: 0.2562\n",
            "Epoch 3/20\n",
            "40/40 [==============================] - ETA: 0s - loss: 0.4949 - accuracy: 0.2189\n",
            "Epoch 00003: val_loss improved from 0.48765 to 0.45839, saving model to best_model.hdf5\n",
            "40/40 [==============================] - 7s 185ms/step - loss: 0.4949 - accuracy: 0.2189 - val_loss: 0.4584 - val_accuracy: 0.2722\n",
            "Epoch 4/20\n",
            "40/40 [==============================] - ETA: 0s - loss: 0.4835 - accuracy: 0.2300\n",
            "Epoch 00004: val_loss improved from 0.45839 to 0.44635, saving model to best_model.hdf5\n",
            "40/40 [==============================] - 7s 184ms/step - loss: 0.4835 - accuracy: 0.2300 - val_loss: 0.4464 - val_accuracy: 0.2616\n",
            "Epoch 5/20\n",
            "40/40 [==============================] - ETA: 0s - loss: 0.4756 - accuracy: 0.2253\n",
            "Epoch 00005: val_loss improved from 0.44635 to 0.44407, saving model to best_model.hdf5\n",
            "40/40 [==============================] - 7s 185ms/step - loss: 0.4756 - accuracy: 0.2253 - val_loss: 0.4441 - val_accuracy: 0.2616\n",
            "Epoch 6/20\n",
            "40/40 [==============================] - ETA: 0s - loss: 0.4696 - accuracy: 0.2411\n",
            "Epoch 00006: val_loss improved from 0.44407 to 0.44200, saving model to best_model.hdf5\n",
            "40/40 [==============================] - 7s 186ms/step - loss: 0.4696 - accuracy: 0.2411 - val_loss: 0.4420 - val_accuracy: 0.2633\n",
            "Epoch 7/20\n",
            "40/40 [==============================] - ETA: 0s - loss: 0.4669 - accuracy: 0.2371\n",
            "Epoch 00007: val_loss improved from 0.44200 to 0.44074, saving model to best_model.hdf5\n",
            "40/40 [==============================] - 7s 185ms/step - loss: 0.4669 - accuracy: 0.2371 - val_loss: 0.4407 - val_accuracy: 0.2740\n",
            "Epoch 8/20\n",
            "40/40 [==============================] - ETA: 0s - loss: 0.4603 - accuracy: 0.2544\n",
            "Epoch 00008: val_loss improved from 0.44074 to 0.43863, saving model to best_model.hdf5\n",
            "40/40 [==============================] - 7s 184ms/step - loss: 0.4603 - accuracy: 0.2544 - val_loss: 0.4386 - val_accuracy: 0.2740\n",
            "Epoch 9/20\n",
            "40/40 [==============================] - ETA: 0s - loss: 0.4587 - accuracy: 0.2532\n",
            "Epoch 00009: val_loss improved from 0.43863 to 0.43459, saving model to best_model.hdf5\n",
            "40/40 [==============================] - 7s 185ms/step - loss: 0.4587 - accuracy: 0.2532 - val_loss: 0.4346 - val_accuracy: 0.2918\n",
            "Epoch 10/20\n",
            "40/40 [==============================] - ETA: 0s - loss: 0.4554 - accuracy: 0.2591\n",
            "Epoch 00010: val_loss improved from 0.43459 to 0.43425, saving model to best_model.hdf5\n",
            "40/40 [==============================] - 7s 184ms/step - loss: 0.4554 - accuracy: 0.2591 - val_loss: 0.4342 - val_accuracy: 0.2722\n",
            "Epoch 11/20\n",
            "40/40 [==============================] - ETA: 0s - loss: 0.4508 - accuracy: 0.2698\n",
            "Epoch 00011: val_loss improved from 0.43425 to 0.43328, saving model to best_model.hdf5\n",
            "40/40 [==============================] - 7s 184ms/step - loss: 0.4508 - accuracy: 0.2698 - val_loss: 0.4333 - val_accuracy: 0.2936\n",
            "Epoch 12/20\n",
            "40/40 [==============================] - ETA: 0s - loss: 0.4508 - accuracy: 0.2585\n",
            "Epoch 00012: val_loss improved from 0.43328 to 0.43282, saving model to best_model.hdf5\n",
            "40/40 [==============================] - 7s 185ms/step - loss: 0.4508 - accuracy: 0.2585 - val_loss: 0.4328 - val_accuracy: 0.2829\n",
            "Epoch 13/20\n",
            "40/40 [==============================] - ETA: 0s - loss: 0.4471 - accuracy: 0.2801\n",
            "Epoch 00013: val_loss did not improve from 0.43282\n",
            "40/40 [==============================] - 7s 180ms/step - loss: 0.4471 - accuracy: 0.2801 - val_loss: 0.4344 - val_accuracy: 0.2865\n",
            "Epoch 14/20\n",
            "40/40 [==============================] - ETA: 0s - loss: 0.4454 - accuracy: 0.2743\n",
            "Epoch 00014: val_loss did not improve from 0.43282\n",
            "40/40 [==============================] - 7s 180ms/step - loss: 0.4454 - accuracy: 0.2743 - val_loss: 0.4361 - val_accuracy: 0.2633\n",
            "Epoch 15/20\n",
            "40/40 [==============================] - ETA: 0s - loss: 0.4441 - accuracy: 0.2729\n",
            "Epoch 00015: val_loss did not improve from 0.43282\n",
            "40/40 [==============================] - 7s 181ms/step - loss: 0.4441 - accuracy: 0.2729 - val_loss: 0.4334 - val_accuracy: 0.2918\n"
          ]
        }
      ]
    },
    {
      "cell_type": "code",
      "source": [
        "model5 = build_model2(lr = 1e-3, lr_d = 1e-7, units = 64, spatial_dr = 0.3, \n",
        "                      kernel_size1=3, kernel_size2=3, dense_units=64, dr=0.4, conv_size=64)"
      ],
      "metadata": {
        "colab": {
          "base_uri": "https://localhost:8080/"
        },
        "id": "Qazg_-jfeYv0",
        "outputId": "a8216000-fec9-4a54-ebd4-e491935a9f1d"
      },
      "execution_count": 35,
      "outputs": [
        {
          "output_type": "stream",
          "name": "stderr",
          "text": [
            "/usr/local/lib/python3.7/dist-packages/keras/optimizer_v2/adam.py:105: UserWarning: The `lr` argument is deprecated, use `learning_rate` instead.\n",
            "  super(Adam, self).__init__(name, **kwargs)\n"
          ]
        },
        {
          "output_type": "stream",
          "name": "stdout",
          "text": [
            "Epoch 1/20\n",
            "40/40 [==============================] - ETA: 0s - loss: 0.7412 - accuracy: 0.1729\n",
            "Epoch 00001: val_loss improved from inf to 0.55417, saving model to best_model.hdf5\n",
            "40/40 [==============================] - 14s 217ms/step - loss: 0.7412 - accuracy: 0.1729 - val_loss: 0.5542 - val_accuracy: 0.2349\n",
            "Epoch 2/20\n",
            "40/40 [==============================] - ETA: 0s - loss: 0.5832 - accuracy: 0.1905\n",
            "Epoch 00002: val_loss improved from 0.55417 to 0.51879, saving model to best_model.hdf5\n",
            "40/40 [==============================] - 8s 192ms/step - loss: 0.5832 - accuracy: 0.1905 - val_loss: 0.5188 - val_accuracy: 0.1904\n",
            "Epoch 3/20\n",
            "40/40 [==============================] - ETA: 0s - loss: 0.5256 - accuracy: 0.2019\n",
            "Epoch 00003: val_loss improved from 0.51879 to 0.47230, saving model to best_model.hdf5\n",
            "40/40 [==============================] - 8s 191ms/step - loss: 0.5256 - accuracy: 0.2019 - val_loss: 0.4723 - val_accuracy: 0.2242\n",
            "Epoch 4/20\n",
            "40/40 [==============================] - ETA: 0s - loss: 0.4997 - accuracy: 0.2158\n",
            "Epoch 00004: val_loss improved from 0.47230 to 0.45401, saving model to best_model.hdf5\n",
            "40/40 [==============================] - 8s 192ms/step - loss: 0.4997 - accuracy: 0.2158 - val_loss: 0.4540 - val_accuracy: 0.2491\n",
            "Epoch 5/20\n",
            "40/40 [==============================] - ETA: 0s - loss: 0.4878 - accuracy: 0.2379\n",
            "Epoch 00005: val_loss improved from 0.45401 to 0.44669, saving model to best_model.hdf5\n",
            "40/40 [==============================] - 8s 193ms/step - loss: 0.4878 - accuracy: 0.2379 - val_loss: 0.4467 - val_accuracy: 0.2722\n",
            "Epoch 6/20\n",
            "40/40 [==============================] - ETA: 0s - loss: 0.4777 - accuracy: 0.2411\n",
            "Epoch 00006: val_loss improved from 0.44669 to 0.44446, saving model to best_model.hdf5\n",
            "40/40 [==============================] - 8s 193ms/step - loss: 0.4777 - accuracy: 0.2411 - val_loss: 0.4445 - val_accuracy: 0.2633\n",
            "Epoch 7/20\n",
            "40/40 [==============================] - ETA: 0s - loss: 0.4735 - accuracy: 0.2506\n",
            "Epoch 00007: val_loss improved from 0.44446 to 0.44025, saving model to best_model.hdf5\n",
            "40/40 [==============================] - 8s 199ms/step - loss: 0.4735 - accuracy: 0.2506 - val_loss: 0.4403 - val_accuracy: 0.2687\n",
            "Epoch 8/20\n",
            "40/40 [==============================] - ETA: 0s - loss: 0.4648 - accuracy: 0.2555\n",
            "Epoch 00008: val_loss did not improve from 0.44025\n",
            "40/40 [==============================] - 7s 186ms/step - loss: 0.4648 - accuracy: 0.2555 - val_loss: 0.4410 - val_accuracy: 0.2651\n",
            "Epoch 9/20\n",
            "40/40 [==============================] - ETA: 0s - loss: 0.4616 - accuracy: 0.2698\n",
            "Epoch 00009: val_loss improved from 0.44025 to 0.43848, saving model to best_model.hdf5\n",
            "40/40 [==============================] - 8s 193ms/step - loss: 0.4616 - accuracy: 0.2698 - val_loss: 0.4385 - val_accuracy: 0.2847\n",
            "Epoch 10/20\n",
            "40/40 [==============================] - ETA: 0s - loss: 0.4583 - accuracy: 0.2708\n",
            "Epoch 00010: val_loss did not improve from 0.43848\n",
            "40/40 [==============================] - 7s 187ms/step - loss: 0.4583 - accuracy: 0.2708 - val_loss: 0.4450 - val_accuracy: 0.2776\n",
            "Epoch 11/20\n",
            "40/40 [==============================] - ETA: 0s - loss: 0.4547 - accuracy: 0.2757\n",
            "Epoch 00011: val_loss improved from 0.43848 to 0.43664, saving model to best_model.hdf5\n",
            "40/40 [==============================] - 8s 192ms/step - loss: 0.4547 - accuracy: 0.2757 - val_loss: 0.4366 - val_accuracy: 0.2865\n",
            "Epoch 12/20\n",
            "40/40 [==============================] - ETA: 0s - loss: 0.4527 - accuracy: 0.2799\n",
            "Epoch 00012: val_loss did not improve from 0.43664\n",
            "40/40 [==============================] - 7s 187ms/step - loss: 0.4527 - accuracy: 0.2799 - val_loss: 0.4372 - val_accuracy: 0.2776\n",
            "Epoch 13/20\n",
            "40/40 [==============================] - ETA: 0s - loss: 0.4493 - accuracy: 0.2793\n",
            "Epoch 00013: val_loss improved from 0.43664 to 0.43105, saving model to best_model.hdf5\n",
            "40/40 [==============================] - 8s 193ms/step - loss: 0.4493 - accuracy: 0.2793 - val_loss: 0.4311 - val_accuracy: 0.3007\n",
            "Epoch 14/20\n",
            "40/40 [==============================] - ETA: 0s - loss: 0.4464 - accuracy: 0.2858\n",
            "Epoch 00014: val_loss did not improve from 0.43105\n",
            "40/40 [==============================] - 8s 188ms/step - loss: 0.4464 - accuracy: 0.2858 - val_loss: 0.4319 - val_accuracy: 0.3007\n",
            "Epoch 15/20\n",
            "40/40 [==============================] - ETA: 0s - loss: 0.4447 - accuracy: 0.2937\n",
            "Epoch 00015: val_loss did not improve from 0.43105\n",
            "40/40 [==============================] - 7s 188ms/step - loss: 0.4447 - accuracy: 0.2937 - val_loss: 0.4384 - val_accuracy: 0.2829\n",
            "Epoch 16/20\n",
            "40/40 [==============================] - ETA: 0s - loss: 0.4443 - accuracy: 0.2838\n",
            "Epoch 00016: val_loss did not improve from 0.43105\n",
            "40/40 [==============================] - 8s 188ms/step - loss: 0.4443 - accuracy: 0.2838 - val_loss: 0.4377 - val_accuracy: 0.2883\n"
          ]
        }
      ]
    },
    {
      "cell_type": "code",
      "source": [
        "pred1 = model1.predict(X_test, batch_size = 1024, verbose = 1)\n",
        "pred = pred1\n",
        "pred2 = model2.predict(X_test, batch_size = 1024, verbose = 1)\n",
        "pred += pred2\n",
        "pred3 = model3.predict(X_test, batch_size = 1024, verbose = 1)\n",
        "pred += pred3\n",
        "pred4 = model4.predict(X_test, batch_size = 1024, verbose = 1)\n",
        "pred += pred4\n",
        "pred5 = model5.predict(X_test, batch_size = 1024, verbose = 1)\n",
        "pred += pred5"
      ],
      "metadata": {
        "colab": {
          "base_uri": "https://localhost:8080/"
        },
        "id": "MBpFBOxjo8Aa",
        "outputId": "95f3cc3e-c254-496c-b409-f3a811e4eec6"
      },
      "execution_count": 36,
      "outputs": [
        {
          "output_type": "stream",
          "name": "stdout",
          "text": [
            "1/1 [==============================] - 2s 2s/step\n",
            "1/1 [==============================] - 2s 2s/step\n",
            "1/1 [==============================] - 1s 1s/step\n",
            "1/1 [==============================] - 1s 644ms/step\n",
            "WARNING:tensorflow:5 out of the last 5 calls to <function Model.make_predict_function.<locals>.predict_function at 0x7ff016642950> triggered tf.function retracing. Tracing is expensive and the excessive number of tracings could be due to (1) creating @tf.function repeatedly in a loop, (2) passing tensors with different shapes, (3) passing Python objects instead of tensors. For (1), please define your @tf.function outside of the loop. For (2), @tf.function has experimental_relax_shapes=True option that relaxes argument shapes that can avoid unnecessary retracing. For (3), please refer to https://www.tensorflow.org/guide/function#controlling_retracing and https://www.tensorflow.org/api_docs/python/tf/function for  more details.\n",
            "1/1 [==============================] - 1s 882ms/step\n"
          ]
        }
      ]
    },
    {
      "cell_type": "code",
      "source": [
        "class Attention(Layer):\n",
        "    \"\"\"\n",
        "    Keras Layer that implements an Attention mechanism for temporal data.\n",
        "    Supports Masking.\n",
        "    Follows the work of Raffel et al. [https://arxiv.org/abs/1512.08756]\n",
        "    # Input shape\n",
        "        3D tensor with shape: `(samples, steps, features)`.\n",
        "    # Output shape\n",
        "        2D tensor with shape: `(samples, features)`.\n",
        "    :param kwargs:\n",
        "    Just put it on top of an RNN Layer (GRU/LSTM/SimpleRNN) with return_sequences=True.\n",
        "    The dimensions are inferred based on the output shape of the RNN.\n",
        "    Example:\n",
        "        model.add(LSTM(64, return_sequences=True))\n",
        "        model.add(Attention())\n",
        "    \"\"\"\n",
        "    def __init__(self, step_dim,\n",
        "                 W_regularizer=None, b_regularizer=None,\n",
        "                 W_constraint=None, b_constraint=None,\n",
        "                 bias=True, **kwargs):\n",
        "        self.supports_masking = True\n",
        "        self.init = initializers.get('glorot_uniform')\n",
        "\n",
        "        self.W_regularizer = regularizers.get(W_regularizer)\n",
        "        self.b_regularizer = regularizers.get(b_regularizer)\n",
        "\n",
        "        self.W_constraint = constraints.get(W_constraint)\n",
        "        self.b_constraint = constraints.get(b_constraint)\n",
        "\n",
        "        self.bias = bias\n",
        "        self.step_dim = step_dim\n",
        "        self.features_dim = 0\n",
        "        super(Attention, self).__init__(**kwargs)\n",
        "\n",
        "    def build(self, input_shape):\n",
        "        assert len(input_shape) == 3\n",
        "\n",
        "        self.W = self.add_weight(shape=(input_shape[-1],),\n",
        "                                 initializer=self.init,\n",
        "                                 name='{}_W'.format(self.name),\n",
        "                                 regularizer=self.W_regularizer,\n",
        "                                 constraint=self.W_constraint)\n",
        "        self.features_dim = input_shape[-1]\n",
        "\n",
        "        if self.bias:\n",
        "            self.b = self.add_weight(shape=(input_shape[1],),\n",
        "                                     initializer='zero',\n",
        "                                     name='{}_b'.format(self.name),\n",
        "                                     regularizer=self.b_regularizer,\n",
        "                                     constraint=self.b_constraint)\n",
        "        else:\n",
        "            self.b = None\n",
        "        self.built = True\n",
        "\n",
        "    def compute_mask(self, input, input_mask=None):\n",
        "        return None\n",
        "\n",
        "    def call(self, x, mask=None):\n",
        "        features_dim = self.features_dim\n",
        "        step_dim = self.step_dim\n",
        "        eij = K.reshape(K.dot(K.reshape(x, (-1, features_dim)),\n",
        "                        K.reshape(self.W, (features_dim, 1))), (-1, step_dim))\n",
        "        if self.bias:\n",
        "            eij += self.b\n",
        "        eij = K.tanh(eij)\n",
        "        a = K.exp(eij)\n",
        "        if mask is not None:\n",
        "            a *= K.cast(mask, K.floatx())\n",
        "        a /= K.cast(K.sum(a, axis=1, keepdims=True) + K.epsilon(), K.floatx())\n",
        "        a = K.expand_dims(a)\n",
        "        weighted_input = x * a\n",
        "        return K.sum(weighted_input, axis=1)\n",
        "\n",
        "    def compute_output_shape(self, input_shape):\n",
        "        return input_shape[0],  self.features_dim"
      ],
      "metadata": {
        "id": "KRV-r0gfo8Do"
      },
      "execution_count": 46,
      "outputs": []
    },
    {
      "cell_type": "code",
      "source": [
        "def build_model(maxlen, max_features, embed_size, embedding_matrix):\n",
        "    input_words = Input((max_len, ))\n",
        "    x_words = Embedding(26277,\n",
        "                        embed_size,\n",
        "                        weights=[embedding_matrix],\n",
        "                        mask_zero=True,\n",
        "                        trainable=False)(input_words)\n",
        "    x_words = SpatialDropout1D(0.2)(x_words)\n",
        "    x_words = Bidirectional(LSTM(128, return_sequences=True))(x_words)\n",
        "    x_words = Bidirectional(LSTM(128, return_sequences=True))(x_words)\n",
        "    \n",
        "    x = Attention(maxlen)(x_words)\n",
        "    #x = GlobalMaxPooling1D()(x)\n",
        "    #x = GlobalAveragePooling1D()(x)\n",
        "    x = Dropout(0.2)(x)\n",
        "    x = Dense(64, activation='relu')(x)\n",
        "    x = Dropout(0.2)(x)\n",
        "    pred = Dense(6, activation='softmax')(x)\n",
        "\n",
        "    model = Model(inputs=input_words, outputs=pred)\n",
        "    return model\n",
        "\n",
        "model = build_model(max_len, max_features, embed_size, embedding_matrix)\n",
        "model.compile(optimizer='adam', loss='binary_crossentropy', metrics=['accuracy'])\n",
        "model.summary()"
      ],
      "metadata": {
        "colab": {
          "base_uri": "https://localhost:8080/"
        },
        "id": "TlnELRw5o8Eq",
        "outputId": "4467fa0b-52b2-43bc-bb56-5aba2e23953a"
      },
      "execution_count": 47,
      "outputs": [
        {
          "output_type": "stream",
          "name": "stdout",
          "text": [
            "Model: \"model_5\"\n",
            "_________________________________________________________________\n",
            " Layer (type)                Output Shape              Param #   \n",
            "=================================================================\n",
            " input_11 (InputLayer)       [(None, 215)]             0         \n",
            "                                                                 \n",
            " embedding_10 (Embedding)    (None, 215, 300)          7883100   \n",
            "                                                                 \n",
            " spatial_dropout1d_8 (Spatia  (None, 215, 300)         0         \n",
            " lDropout1D)                                                     \n",
            "                                                                 \n",
            " bidirectional_16 (Bidirecti  (None, 215, 256)         439296    \n",
            " onal)                                                           \n",
            "                                                                 \n",
            " bidirectional_17 (Bidirecti  (None, 215, 256)         394240    \n",
            " onal)                                                           \n",
            "                                                                 \n",
            " attention_3 (Attention)     (None, 256)               471       \n",
            "                                                                 \n",
            " dropout_10 (Dropout)        (None, 256)               0         \n",
            "                                                                 \n",
            " dense_15 (Dense)            (None, 64)                16448     \n",
            "                                                                 \n",
            " dropout_11 (Dropout)        (None, 64)                0         \n",
            "                                                                 \n",
            " dense_16 (Dense)            (None, 6)                 390       \n",
            "                                                                 \n",
            "=================================================================\n",
            "Total params: 8,733,945\n",
            "Trainable params: 850,845\n",
            "Non-trainable params: 7,883,100\n",
            "_________________________________________________________________\n"
          ]
        }
      ]
    },
    {
      "cell_type": "code",
      "source": [
        "def build_model(maxlen, max_features, embed_size, embedding_matrix):\n",
        "    input_words = Input((max_len, ))\n",
        "    x_words = Embedding(26277,\n",
        "                        embed_size,\n",
        "                        weights=[embedding_matrix],\n",
        "                        mask_zero=True,\n",
        "                        trainable=False)(input_words)\n",
        "    x_words = SpatialDropout1D(0.2)(x_words)\n",
        "    x_words = Bidirectional(LSTM(128, return_sequences=True))(x_words)\n",
        "    x_words = Bidirectional(LSTM(128, return_sequences=True))(x_words)\n",
        "    \n",
        "    x = Attention(maxlen)(x_words)\n",
        "    #x = GlobalMaxPooling1D()(x)\n",
        "    #x = GlobalAveragePooling1D()(x)\n",
        "    x = Dropout(0.2)(x)\n",
        "    x = Dense(64, activation='relu')(x)\n",
        "    x = Dropout(0.2)(x)\n",
        "    pred = Dense(6, activation='softmax')(x)\n",
        "\n",
        "    model = Model(inputs=input_words, outputs=pred)\n",
        "    return model\n",
        "\n",
        "model = build_model(max_len, max_features, embed_size, embedding_matrix)\n",
        "model.compile(optimizer='adam', loss='binary_crossentropy', metrics=['accuracy'])\n",
        "model.summary()"
      ],
      "metadata": {
        "colab": {
          "base_uri": "https://localhost:8080/"
        },
        "id": "plEH5DUWo8JZ",
        "outputId": "9f798dd3-f32f-44ad-e2f8-d1152f67a587"
      },
      "execution_count": 48,
      "outputs": [
        {
          "output_type": "stream",
          "name": "stdout",
          "text": [
            "Model: \"model_6\"\n",
            "_________________________________________________________________\n",
            " Layer (type)                Output Shape              Param #   \n",
            "=================================================================\n",
            " input_12 (InputLayer)       [(None, 215)]             0         \n",
            "                                                                 \n",
            " embedding_11 (Embedding)    (None, 215, 300)          7883100   \n",
            "                                                                 \n",
            " spatial_dropout1d_9 (Spatia  (None, 215, 300)         0         \n",
            " lDropout1D)                                                     \n",
            "                                                                 \n",
            " bidirectional_18 (Bidirecti  (None, 215, 256)         439296    \n",
            " onal)                                                           \n",
            "                                                                 \n",
            " bidirectional_19 (Bidirecti  (None, 215, 256)         394240    \n",
            " onal)                                                           \n",
            "                                                                 \n",
            " attention_4 (Attention)     (None, 256)               471       \n",
            "                                                                 \n",
            " dropout_12 (Dropout)        (None, 256)               0         \n",
            "                                                                 \n",
            " dense_17 (Dense)            (None, 64)                16448     \n",
            "                                                                 \n",
            " dropout_13 (Dropout)        (None, 64)                0         \n",
            "                                                                 \n",
            " dense_18 (Dense)            (None, 6)                 390       \n",
            "                                                                 \n",
            "=================================================================\n",
            "Total params: 8,733,945\n",
            "Trainable params: 850,845\n",
            "Non-trainable params: 7,883,100\n",
            "_________________________________________________________________\n"
          ]
        }
      ]
    },
    {
      "cell_type": "code",
      "source": [
        "save_file = 'model_CNN_BiLSTM_Attention_BEmoD.h5'\n",
        "#history = model.fit(X_train, y_ohe, batch_size = 128, epochs = 20, validation_split=0.2, \n",
        "                        #verbose = 1, callbacks = [check_point, early_stop])\n",
        "history = model.fit(X_train, y_ohe,\n",
        "                    epochs=20, verbose=1,\n",
        "                    batch_size=512, shuffle=True)"
      ],
      "metadata": {
        "colab": {
          "base_uri": "https://localhost:8080/"
        },
        "id": "lztTPFxEo8OA",
        "outputId": "14b372d4-9ff7-4570-a9eb-10fe79c95dbb"
      },
      "execution_count": 49,
      "outputs": [
        {
          "output_type": "stream",
          "name": "stdout",
          "text": [
            "Epoch 1/20\n",
            "11/11 [==============================] - 59s 3s/step - loss: 0.5433 - accuracy: 0.1938\n",
            "Epoch 2/20\n",
            "11/11 [==============================] - 40s 4s/step - loss: 0.4682 - accuracy: 0.2141\n",
            "Epoch 3/20\n",
            "11/11 [==============================] - 38s 3s/step - loss: 0.4576 - accuracy: 0.2232\n",
            "Epoch 4/20\n",
            "11/11 [==============================] - 38s 3s/step - loss: 0.4541 - accuracy: 0.2273\n",
            "Epoch 5/20\n",
            "11/11 [==============================] - 37s 3s/step - loss: 0.4510 - accuracy: 0.2348\n",
            "Epoch 6/20\n",
            "11/11 [==============================] - 38s 3s/step - loss: 0.4509 - accuracy: 0.2326\n",
            "Epoch 7/20\n",
            "11/11 [==============================] - 37s 3s/step - loss: 0.4488 - accuracy: 0.2417\n",
            "Epoch 8/20\n",
            "11/11 [==============================] - 36s 3s/step - loss: 0.4466 - accuracy: 0.2471\n",
            "Epoch 9/20\n",
            "11/11 [==============================] - 36s 3s/step - loss: 0.4445 - accuracy: 0.2634\n",
            "Epoch 10/20\n",
            "11/11 [==============================] - 36s 3s/step - loss: 0.4420 - accuracy: 0.2706\n",
            "Epoch 11/20\n",
            "11/11 [==============================] - 37s 3s/step - loss: 0.4404 - accuracy: 0.2736\n",
            "Epoch 12/20\n",
            "11/11 [==============================] - 37s 3s/step - loss: 0.4416 - accuracy: 0.2649\n",
            "Epoch 13/20\n",
            "11/11 [==============================] - 37s 3s/step - loss: 0.4381 - accuracy: 0.2812\n",
            "Epoch 14/20\n",
            "11/11 [==============================] - 37s 3s/step - loss: 0.4388 - accuracy: 0.2793\n",
            "Epoch 15/20\n",
            "11/11 [==============================] - 36s 3s/step - loss: 0.4370 - accuracy: 0.2796\n",
            "Epoch 16/20\n",
            "11/11 [==============================] - 37s 3s/step - loss: 0.4344 - accuracy: 0.2907\n",
            "Epoch 17/20\n",
            "11/11 [==============================] - 36s 3s/step - loss: 0.4339 - accuracy: 0.2946\n",
            "Epoch 18/20\n",
            "11/11 [==============================] - 37s 3s/step - loss: 0.4305 - accuracy: 0.3006\n",
            "Epoch 19/20\n",
            "11/11 [==============================] - 36s 3s/step - loss: 0.4300 - accuracy: 0.3054\n",
            "Epoch 20/20\n",
            "11/11 [==============================] - 38s 3s/step - loss: 0.4282 - accuracy: 0.3168\n"
          ]
        }
      ]
    },
    {
      "cell_type": "code",
      "source": [
        "pred = model.predict(X_test, batch_size = 1024, verbose = 1)"
      ],
      "metadata": {
        "colab": {
          "base_uri": "https://localhost:8080/"
        },
        "id": "3C7nOhD0xD5X",
        "outputId": "cb87a8e0-691c-43fd-fd1d-b2d38c9ae969"
      },
      "execution_count": 50,
      "outputs": [
        {
          "output_type": "stream",
          "name": "stdout",
          "text": [
            "WARNING:tensorflow:6 out of the last 6 calls to <function Model.make_predict_function.<locals>.predict_function at 0x7fef9000be60> triggered tf.function retracing. Tracing is expensive and the excessive number of tracings could be due to (1) creating @tf.function repeatedly in a loop, (2) passing tensors with different shapes, (3) passing Python objects instead of tensors. For (1), please define your @tf.function outside of the loop. For (2), @tf.function has experimental_relax_shapes=True option that relaxes argument shapes that can avoid unnecessary retracing. For (3), please refer to https://www.tensorflow.org/guide/function#controlling_retracing and https://www.tensorflow.org/api_docs/python/tf/function for  more details.\n",
            "1/1 [==============================] - 9s 9s/step\n"
          ]
        }
      ]
    },
    {
      "cell_type": "code",
      "source": [
        "def PlotGraph(history):\n",
        "    acc = history.history['accuracy']\n",
        "    #val_acc = history.history['val_accuracy']\n",
        "    loss = history.history['loss']\n",
        "    #val_loss = history.history['val_loss']\n",
        "    x = range(1, len(acc) + 1)\n",
        "\n",
        "    plt.figure(figsize=(12, 5))\n",
        "    plt.subplot(1, 2, 1)\n",
        "    plt.plot(x, acc, 'g', label='Training acc')\n",
        "   # plt.plot(x, val_acc, 'b', label='Validation acc')\n",
        "   # plt.title('Training and validation accuracy')\n",
        "    plt.legend()\n",
        "    plt.subplot(1, 2, 2)\n",
        "    plt.plot(x, loss, 'g', label='Training loss')\n",
        "   # plt.plot(x, val_loss, 'b', label='Validation loss')\n",
        "    plt.title('Training and validation loss')\n",
        "    plt.legend()"
      ],
      "metadata": {
        "id": "S160Cd8zxD7o"
      },
      "execution_count": 53,
      "outputs": []
    },
    {
      "cell_type": "code",
      "source": [
        "PlotGraph(history)"
      ],
      "metadata": {
        "colab": {
          "base_uri": "https://localhost:8080/",
          "height": 336
        },
        "id": "S3RR18WoxD9c",
        "outputId": "15a6e5b3-7eed-4fd5-9b20-53a34971cad6"
      },
      "execution_count": 54,
      "outputs": [
        {
          "output_type": "display_data",
          "data": {
            "image/png": "[encoded data removed]",
            "text/plain": [
              "<Figure size 864x360 with 2 Axes>"
            ]
          },
          "metadata": {
            "needs_background": "light"
          }
        }
      ]
    },
    {
      "cell_type": "code",
      "source": [
        "print(f\"Best Accuracy Achieved by Model: {max(history.history['accuracy'])}\")"
      ],
      "metadata": {
        "colab": {
          "base_uri": "https://localhost:8080/"
        },
        "id": "DDcD1oIOxD_g",
        "outputId": "e3c52d83-2ec7-4d91-fc94-050e9d834610"
      },
      "execution_count": 55,
      "outputs": [
        {
          "output_type": "stream",
          "name": "stdout",
          "text": [
            "Best Accuracy Achieved by Model: 0.31683874130249023\n"
          ]
        }
      ]
    },
    {
      "cell_type": "code",
      "source": [
        "pred_probabilities = model.predict(X_test)"
      ],
      "metadata": {
        "id": "3DGefVfUymDA"
      },
      "execution_count": 68,
      "outputs": []
    },
    {
      "cell_type": "code",
      "source": [
        "pred_probabilities"
      ],
      "metadata": {
        "colab": {
          "base_uri": "https://localhost:8080/"
        },
        "id": "MnEDJkqMymFQ",
        "outputId": "6ce82c88-29ba-47e9-d8b2-d3956031c869"
      },
      "execution_count": 69,
      "outputs": [
        {
          "output_type": "execute_result",
          "data": {
            "text/plain": [
              "array([[0.24348253, 0.28289288, 0.1974156 , 0.07767271, 0.09359638,\n",
              "        0.10493986],\n",
              "       [0.42548427, 0.19832939, 0.17534554, 0.06687133, 0.0673522 ,\n",
              "        0.06661738],\n",
              "       [0.19253345, 0.18087788, 0.11479597, 0.22133149, 0.10125295,\n",
              "        0.18920822],\n",
              "       ...,\n",
              "       [0.20789012, 0.16484736, 0.10860516, 0.22253948, 0.08948753,\n",
              "        0.20663036],\n",
              "       [0.15155563, 0.2964909 , 0.15513547, 0.11650542, 0.10126229,\n",
              "        0.17905031],\n",
              "       [0.06949627, 0.45593363, 0.10828914, 0.13908653, 0.09650256,\n",
              "        0.13069192]], dtype=float32)"
            ]
          },
          "metadata": {},
          "execution_count": 69
        }
      ]
    },
    {
      "cell_type": "code",
      "source": [
        "from sklearn.metrics import classification_report,confusion_matrix"
      ],
      "metadata": {
        "id": "PEwHj50aymKc"
      },
      "execution_count": 71,
      "outputs": []
    },
    {
      "cell_type": "code",
      "source": [
        "from sklearn.metrics import classification_report\n",
        "\n",
        "print(classification_report(X_test[\"labels\"], pred_probabilities, target_names =[\"anger\", \"fear\", \"joy\", \"disgust\", \"sadness\", \"surprise\"]))"
      ],
      "metadata": {
        "colab": {
          "base_uri": "https://localhost:8080/",
          "height": 200
        },
        "id": "xCtVb1YCymMr",
        "outputId": "bb0ad2ae-652c-4b39-933c-f0723d2cb211"
      },
      "execution_count": 75,
      "outputs": [
        {
          "output_type": "error",
          "ename": "IndexError",
          "evalue": "ignored",
          "traceback": [
            "\u001b[0;31m---------------------------------------------------------------------------\u001b[0m",
            "\u001b[0;31mIndexError\u001b[0m                                Traceback (most recent call last)",
            "\u001b[0;32m<ipython-input-75-6eb2548a9c0d>\u001b[0m in \u001b[0;36m<module>\u001b[0;34m()\u001b[0m\n\u001b[1;32m      1\u001b[0m \u001b[0;32mfrom\u001b[0m \u001b[0msklearn\u001b[0m\u001b[0;34m.\u001b[0m\u001b[0mmetrics\u001b[0m \u001b[0;32mimport\u001b[0m \u001b[0mclassification_report\u001b[0m\u001b[0;34m\u001b[0m\u001b[0;34m\u001b[0m\u001b[0m\n\u001b[1;32m      2\u001b[0m \u001b[0;34m\u001b[0m\u001b[0m\n\u001b[0;32m----> 3\u001b[0;31m \u001b[0mprint\u001b[0m\u001b[0;34m(\u001b[0m\u001b[0mclassification_report\u001b[0m\u001b[0;34m(\u001b[0m\u001b[0mX_test\u001b[0m\u001b[0;34m[\u001b[0m\u001b[0;34m\"labels\"\u001b[0m\u001b[0;34m]\u001b[0m\u001b[0;34m,\u001b[0m \u001b[0mpred_probabilities\u001b[0m\u001b[0;34m,\u001b[0m \u001b[0mtarget_names\u001b[0m \u001b[0;34m=\u001b[0m\u001b[0;34m[\u001b[0m\u001b[0;34m\"anger\"\u001b[0m\u001b[0;34m,\u001b[0m \u001b[0;34m\"fear\"\u001b[0m\u001b[0;34m,\u001b[0m \u001b[0;34m\"joy\"\u001b[0m\u001b[0;34m,\u001b[0m \u001b[0;34m\"disgust\"\u001b[0m\u001b[0;34m,\u001b[0m \u001b[0;34m\"sadness\"\u001b[0m\u001b[0;34m,\u001b[0m \u001b[0;34m\"surprise\"\u001b[0m\u001b[0;34m]\u001b[0m\u001b[0;34m)\u001b[0m\u001b[0;34m)\u001b[0m\u001b[0;34m\u001b[0m\u001b[0;34m\u001b[0m\u001b[0m\n\u001b[0m",
            "\u001b[0;31mIndexError\u001b[0m: only integers, slices (`:`), ellipsis (`...`), numpy.newaxis (`None`) and integer or boolean arrays are valid indices"
          ]
        }
      ]
    },
    {
      "cell_type": "code",
      "source": [
        ""
      ],
      "metadata": {
        "id": "ZExkzUz5ymOQ"
      },
      "execution_count": null,
      "outputs": []
    },
    {
      "cell_type": "code",
      "source": [
        ""
      ],
      "metadata": {
        "id": "TkdhAM2kymRr"
      },
      "execution_count": null,
      "outputs": []
    }
  ]
}