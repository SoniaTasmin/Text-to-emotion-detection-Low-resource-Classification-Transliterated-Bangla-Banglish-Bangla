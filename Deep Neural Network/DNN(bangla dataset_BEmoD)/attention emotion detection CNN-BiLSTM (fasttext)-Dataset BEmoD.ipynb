{
 "cells": [
  {
   "cell_type": "code",
   "execution_count": 77,
   "id": "0d5f9be8",
   "metadata": {},
   "outputs": [],
   "source": [
    "import re\n",
    "import tqdm\n",
    "import numpy as np\n",
    "import pandas as pd\n",
    "import seaborn as sns\n",
    "import matplotlib.pyplot as plt"
   ]
  },
  {
   "cell_type": "code",
   "execution_count": 78,
   "id": "c6366948",
   "metadata": {},
   "outputs": [],
   "source": [
    "#reading dataset\n",
    "train_df = pd.read_excel('trainv1.xlsx') \n",
    "#val_df = pd.read_excel('val.xlsx')\n",
    "test_df = pd.read_excel('test.xlsx')"
   ]
  },
  {
   "cell_type": "code",
   "execution_count": 79,
   "id": "b71de20d",
   "metadata": {},
   "outputs": [
    {
     "data": {
      "text/html": [
       "<div>\n",
       "<style scoped>\n",
       "    .dataframe tbody tr th:only-of-type {\n",
       "        vertical-align: middle;\n",
       "    }\n",
       "\n",
       "    .dataframe tbody tr th {\n",
       "        vertical-align: top;\n",
       "    }\n",
       "\n",
       "    .dataframe thead th {\n",
       "        text-align: right;\n",
       "    }\n",
       "</style>\n",
       "<table border=\"1\" class=\"dataframe\">\n",
       "  <thead>\n",
       "    <tr style=\"text-align: right;\">\n",
       "      <th></th>\n",
       "      <th>Unnamed: 0</th>\n",
       "      <th>cleaned</th>\n",
       "      <th>classes</th>\n",
       "      <th>labels</th>\n",
       "    </tr>\n",
       "  </thead>\n",
       "  <tbody>\n",
       "    <tr>\n",
       "      <th>0</th>\n",
       "      <td>0</td>\n",
       "      <td>মেডিকেলে এসে ঠিক ফ্যামিলির ফটো ফ্রেম এর মতো মন...</td>\n",
       "      <td>sadness</td>\n",
       "      <td>1</td>\n",
       "    </tr>\n",
       "    <tr>\n",
       "      <th>1</th>\n",
       "      <td>1</td>\n",
       "      <td>অনেক দিন পর অন্য রকম অনুভূতি হচ্ছে  কেননা আমার...</td>\n",
       "      <td>sadness</td>\n",
       "      <td>1</td>\n",
       "    </tr>\n",
       "    <tr>\n",
       "      <th>2</th>\n",
       "      <td>2</td>\n",
       "      <td>আগে যতোটা বেশি পছন্দ করতাম দুশ্চরিত্রা মিথিলা ...</td>\n",
       "      <td>disgust</td>\n",
       "      <td>3</td>\n",
       "    </tr>\n",
       "    <tr>\n",
       "      <th>3</th>\n",
       "      <td>3</td>\n",
       "      <td>মাঝে মাঝে মনে হয় তোমাকে চাওয়াটা অনেক ভুল হয়ত ভ...</td>\n",
       "      <td>sadness</td>\n",
       "      <td>1</td>\n",
       "    </tr>\n",
       "    <tr>\n",
       "      <th>4</th>\n",
       "      <td>4</td>\n",
       "      <td>এখানে কাওকে কবর দিয়ো না তাহলে তোমাদের পরিবারের...</td>\n",
       "      <td>fear</td>\n",
       "      <td>5</td>\n",
       "    </tr>\n",
       "  </tbody>\n",
       "</table>\n",
       "</div>"
      ],
      "text/plain": [
       "   Unnamed: 0                                            cleaned  classes  \\\n",
       "0           0  মেডিকেলে এসে ঠিক ফ্যামিলির ফটো ফ্রেম এর মতো মন...  sadness   \n",
       "1           1  অনেক দিন পর অন্য রকম অনুভূতি হচ্ছে  কেননা আমার...  sadness   \n",
       "2           2  আগে যতোটা বেশি পছন্দ করতাম দুশ্চরিত্রা মিথিলা ...  disgust   \n",
       "3           3  মাঝে মাঝে মনে হয় তোমাকে চাওয়াটা অনেক ভুল হয়ত ভ...  sadness   \n",
       "4           4  এখানে কাওকে কবর দিয়ো না তাহলে তোমাদের পরিবারের...     fear   \n",
       "\n",
       "   labels  \n",
       "0       1  \n",
       "1       1  \n",
       "2       3  \n",
       "3       1  \n",
       "4       5  "
      ]
     },
     "execution_count": 79,
     "metadata": {},
     "output_type": "execute_result"
    }
   ],
   "source": [
    "train_df.head()"
   ]
  },
  {
   "cell_type": "code",
   "execution_count": 80,
   "id": "5f70cdf8",
   "metadata": {},
   "outputs": [
    {
     "name": "stdout",
     "output_type": "stream",
     "text": [
      "<class 'pandas.core.frame.DataFrame'>\n",
      "RangeIndex: 5618 entries, 0 to 5617\n",
      "Data columns (total 4 columns):\n",
      " #   Column      Non-Null Count  Dtype \n",
      "---  ------      --------------  ----- \n",
      " 0   Unnamed: 0  5618 non-null   int64 \n",
      " 1   cleaned     5618 non-null   object\n",
      " 2   classes     5618 non-null   object\n",
      " 3   labels      5618 non-null   int64 \n",
      "dtypes: int64(2), object(2)\n",
      "memory usage: 175.7+ KB\n",
      "\n",
      "<class 'pandas.core.frame.DataFrame'>\n",
      "RangeIndex: 625 entries, 0 to 624\n",
      "Data columns (total 4 columns):\n",
      " #   Column      Non-Null Count  Dtype \n",
      "---  ------      --------------  ----- \n",
      " 0   Unnamed: 0  625 non-null    int64 \n",
      " 1   cleaned     625 non-null    object\n",
      " 2   classes     625 non-null    object\n",
      " 3   labels      625 non-null    int64 \n",
      "dtypes: int64(2), object(2)\n",
      "memory usage: 19.7+ KB\n",
      "\n"
     ]
    }
   ],
   "source": [
    "#checking for ull values\n",
    "train_df.info()\n",
    "print()\n",
    "test_df.info()\n",
    "print()\n",
    "#val_df.info()\n",
    "#print()"
   ]
  },
  {
   "cell_type": "code",
   "execution_count": 81,
   "id": "f7dc5157",
   "metadata": {},
   "outputs": [
    {
     "data": {
      "text/plain": [
       "disgust     1388\n",
       "sadness     1071\n",
       "joy         1028\n",
       "fear         789\n",
       "anger        688\n",
       "surprise     654\n",
       "Name: classes, dtype: int64"
      ]
     },
     "execution_count": 81,
     "metadata": {},
     "output_type": "execute_result"
    }
   ],
   "source": [
    "train_df[\"classes\"].value_counts()"
   ]
  },
  {
   "cell_type": "code",
   "execution_count": 82,
   "id": "7d5d210e",
   "metadata": {},
   "outputs": [
    {
     "data": {
      "text/plain": [
       "disgust     165\n",
       "sadness     119\n",
       "joy         114\n",
       "fear         83\n",
       "surprise     73\n",
       "anger        71\n",
       "Name: classes, dtype: int64"
      ]
     },
     "execution_count": 82,
     "metadata": {},
     "output_type": "execute_result"
    }
   ],
   "source": [
    "test_df[\"classes\"].value_counts()"
   ]
  },
  {
   "cell_type": "code",
   "execution_count": 83,
   "id": "3f417088",
   "metadata": {},
   "outputs": [],
   "source": [
    "#val_df[\"classes\"].value_counts()"
   ]
  },
  {
   "cell_type": "code",
   "execution_count": 84,
   "id": "053b4540",
   "metadata": {},
   "outputs": [
    {
     "name": "stdout",
     "output_type": "stream",
     "text": [
      "অনেক দিন পর অন্য রকম অনুভূতি হচ্ছে  কেননা আমার সদ্য পাশ করা শিক্ষার্থীর মত এখন আমিও বেকার বেকার পরিচয় দিয়ে আম্মার কাছ থেকে আজ পঞ্চাশ টাকা ডাকাতি করলাম \n"
     ]
    }
   ],
   "source": [
    "#sample text from dataset\n",
    "sample = train_df[\"cleaned\"][1]\n",
    "print(sample)"
   ]
  },
  {
   "cell_type": "code",
   "execution_count": 85,
   "id": "46623438",
   "metadata": {},
   "outputs": [],
   "source": [
    "x_train, x_test, y_train, y_test = train_df[\"cleaned\"], test_df[\"cleaned\"], train_df[\"labels\"], test_df[\"labels\"]"
   ]
  },
  {
   "cell_type": "code",
   "execution_count": 86,
   "id": "cb81d142",
   "metadata": {},
   "outputs": [],
   "source": [
    "from keras.utils import np_utils\n",
    "from keras.preprocessing.text import Tokenizer\n",
    "from keras.preprocessing.sequence import pad_sequences\n",
    "\n",
    "import tensorflow as tf\n",
    "from keras import layers\n",
    "from keras.models import Sequential\n",
    "\n",
    "EPOCHS= 35\n",
    "act= \"swish\"\n",
    "opt= tf.keras.optimizers.Adam(learning_rate=0.001)"
   ]
  },
  {
   "cell_type": "code",
   "execution_count": 87,
   "id": "5b775aeb",
   "metadata": {},
   "outputs": [],
   "source": [
    "#converting text to vectors via tokenization\n",
    "tokenizer = Tokenizer()\n",
    "tokenizer.fit_on_texts(x_train)\n",
    "\n",
    "X_train = tokenizer.texts_to_sequences(x_train)\n",
    "X_test = tokenizer.texts_to_sequences(x_test)\n",
    "TEST = tokenizer.texts_to_sequences(test_df[\"cleaned\"]) \n",
    "\n",
    "vocab_size = len(tokenizer.word_index) + 1 "
   ]
  },
  {
   "cell_type": "code",
   "execution_count": 88,
   "id": "79603d3f",
   "metadata": {},
   "outputs": [
    {
     "name": "stdout",
     "output_type": "stream",
     "text": [
      "Max len: 215\n"
     ]
    }
   ],
   "source": [
    "#calculating max length of the vector\n",
    "lens_train = [len(i) for i in X_train]\n",
    "lens_test = [len(i) for i in X_test]\n",
    "lens = lens_train + lens_test\n",
    "\n",
    "maxlen = np.max(lens)\n",
    "\n",
    "print('Max len:', maxlen)"
   ]
  },
  {
   "cell_type": "code",
   "execution_count": 89,
   "id": "bb495e40",
   "metadata": {},
   "outputs": [],
   "source": [
    "#Zero padding every vector so that they are the same size\n",
    "X_train = pad_sequences(X_train, padding='post', maxlen=maxlen)\n",
    "X_test = pad_sequences(X_test, padding='post', maxlen=maxlen)\n",
    "TEST = pad_sequences(TEST, padding='post', maxlen=maxlen)"
   ]
  },
  {
   "cell_type": "code",
   "execution_count": 90,
   "id": "bbfc3acc",
   "metadata": {},
   "outputs": [],
   "source": [
    "#One Hot Encoding integer labels\n",
    "dummy_y_test = np_utils.to_categorical(y_test)\n",
    "dummy_y_train = np_utils.to_categorical(y_train)"
   ]
  },
  {
   "cell_type": "code",
   "execution_count": 91,
   "id": "a914d44d",
   "metadata": {},
   "outputs": [],
   "source": [
    "#reading fasttext\n",
    "def get_embedding_vectors(tokenizer, dim=300):\n",
    "    embedding_index = {}\n",
    "    with open('cc.bn.300.vec','r', encoding=\"cp437\", errors='ignore') as f:\n",
    "        for line in tqdm.tqdm(f, \"Reading fasttext\"):\n",
    "            values = line.split()\n",
    "            word = ''.join(values[:-300])\n",
    "            vectors = np.asarray(values[-300:], dtype='float32')\n",
    "            embedding_index[word] = vectors\n",
    "\n",
    "    word_index = tokenizer.word_index\n",
    "    embedding_matrix = np.zeros((len(word_index)+1, dim))\n",
    "    for word, i in word_index.items():\n",
    "        embedding_vector = embedding_index.get(word)\n",
    "        if embedding_vector is not None:\n",
    "            # words not found will be 0s\n",
    "            embedding_matrix[i] = embedding_vector\n",
    "          \n",
    "    return embedding_matrix"
   ]
  },
  {
   "cell_type": "code",
   "execution_count": 92,
   "id": "c7afb8fc",
   "metadata": {},
   "outputs": [
    {
     "name": "stderr",
     "output_type": "stream",
     "text": [
      "Reading fasttext: 1468579it [01:19, 18371.29it/s]\n"
     ]
    }
   ],
   "source": [
    "embedding_matrix = get_embedding_vectors(tokenizer)"
   ]
  },
  {
   "cell_type": "code",
   "execution_count": 93,
   "id": "56f13206",
   "metadata": {},
   "outputs": [],
   "source": [
    "def model_cnn(embedding_matrix):\n",
    "    embedding_dim = 300\n",
    "    kernel_size = 3\n",
    "    filters = 64\n",
    "\n",
    "    x = Embedding(vocab_size, embedding_dim, weights=[embedding_matrix], input_length=maxlen)\n",
    "    x = Reshape((maxlen, embedding_dim, 1))(x)\n",
    "\n",
    "    maxpool_pool = []\n",
    "    for i in range(len(kernel_size)):\n",
    "        conv = Conv1D(filters, kernel_size=(kernel_size[i], embedding_dim),\n",
    "                                     kernel_initializer='he_normal', activation='relu')(x)\n",
    "        maxpool_pool.append(MaxPool1D(pool_size=3)(conv))\n",
    "\n",
    "    z = Concatenate(axis=1)(maxpool_pool)   \n",
    "    z = Flatten()(z)\n",
    "    z = Dropout(0.3)(z)\n",
    "\n",
    "    outp = Dense(6, activation=\"softmax\")(z)\n",
    "\n",
    "    model = Model(inputs=inp, outputs=outp)\n",
    "    model.compile(loss='categorical_crossentropy', optimizer='adam', metrics=['accuracy'])\n",
    "\n",
    "    return model"
   ]
  },
  {
   "cell_type": "code",
   "execution_count": 94,
   "id": "23d770a2",
   "metadata": {},
   "outputs": [],
   "source": [
    "def dot_product(x, kernel):\n",
    "    \"\"\"\n",
    "    Wrapper for dot product operation, in order to be compatible with both\n",
    "    Theano and Tensorflow\n",
    "    Args:\n",
    "        x (): input\n",
    "        kernel (): weights\n",
    "    Returns:\n",
    "    \"\"\"\n",
    "    if K.backend() == 'tensorflow':\n",
    "        return K.squeeze(K.dot(x, K.expand_dims(kernel)), axis=-1)\n",
    "    else:\n",
    "        return K.dot(x, kernel)\n",
    "\n",
    "\n",
    "class AttentionWithContext(Layer):\n",
    "    \"\"\"\n",
    "    Attention operation, with a context/query vector, for temporal data.\n",
    "    Supports Masking.\n",
    "    Follows the work of Yang et al. [https://www.cs.cmu.edu/~diyiy/docs/naacl16.pdf]\n",
    "    \"Hierarchical Attention Networks for Document Classification\"\n",
    "    by using a context vector to assist the attention\n",
    "    # Input shape\n",
    "        3D tensor with shape: `(samples, steps, features)`.\n",
    "    # Output shape\n",
    "        2D tensor with shape: `(samples, features)`.\n",
    "    How to use:\n",
    "    Just put it on top of an RNN Layer (GRU/LSTM/SimpleRNN) with return_sequences=True.\n",
    "    The dimensions are inferred based on the output shape of the RNN.\n",
    "    Note: The layer has been tested with Keras 2.0.6\n",
    "    Example:\n",
    "        model.add(LSTM(64, return_sequences=True))\n",
    "        model.add(AttentionWithContext())\n",
    "        # next add a Dense layer (for classification/regression) or whatever...\n",
    "    \"\"\"\n",
    "\n",
    "    def __init__(self,\n",
    "                 W_regularizer=None, u_regularizer=None, b_regularizer=None,\n",
    "                 W_constraint=None, u_constraint=None, b_constraint=None,\n",
    "                 bias=True, **kwargs):\n",
    "\n",
    "        self.supports_masking = True\n",
    "        self.init = initializers.get('glorot_uniform')\n",
    "\n",
    "        self.W_regularizer = regularizers.get(W_regularizer)\n",
    "        self.u_regularizer = regularizers.get(u_regularizer)\n",
    "        self.b_regularizer = regularizers.get(b_regularizer)\n",
    "\n",
    "        self.W_constraint = constraints.get(W_constraint)\n",
    "        self.u_constraint = constraints.get(u_constraint)\n",
    "        self.b_constraint = constraints.get(b_constraint)\n",
    "\n",
    "        self.bias = bias\n",
    "        super(AttentionWithContext, self).__init__(**kwargs)\n",
    "\n",
    "    def build(self, input_shape):\n",
    "        assert len(input_shape) == 3\n",
    "\n",
    "        self.W = self.add_weight((input_shape[-1], input_shape[-1],),\n",
    "                                 initializer=self.init,\n",
    "                                 name='{}_W'.format(self.name),\n",
    "                                 regularizer=self.W_regularizer,\n",
    "                                 constraint=self.W_constraint)\n",
    "        if self.bias:\n",
    "            self.b = self.add_weight((input_shape[-1],),\n",
    "                                     initializer='zero',\n",
    "                                     name='{}_b'.format(self.name),\n",
    "                                     regularizer=self.b_regularizer,\n",
    "                                     constraint=self.b_constraint)\n",
    "\n",
    "        self.u = self.add_weight((input_shape[-1],),\n",
    "                                 initializer=self.init,\n",
    "                                 name='{}_u'.format(self.name),\n",
    "                                 regularizer=self.u_regularizer,\n",
    "                                 constraint=self.u_constraint)\n",
    "\n",
    "        super(AttentionWithContext, self).build(input_shape)\n",
    "\n",
    "    def compute_mask(self, input, input_mask=None):\n",
    "        # do not pass the mask to the next layers\n",
    "        return None\n",
    "\n",
    "    def call(self, x, mask=None):\n",
    "        uit = dot_product(x, self.W)\n",
    "\n",
    "        if self.bias:\n",
    "            uit += self.b\n",
    "\n",
    "        uit = K.tanh(uit)\n",
    "        ait = dot_product(uit, self.u)\n",
    "\n",
    "        a = K.exp(ait)\n",
    "\n",
    "        # apply mask after the exp. will be re-normalized next\n",
    "        if mask is not None:\n",
    "            # Cast the mask to floatX to avoid float64 upcasting in theano\n",
    "            a *= K.cast(mask, K.floatx())\n",
    "\n",
    "        # in some cases especially in the early stages of training the sum may be almost zero\n",
    "        # and this results in NaN's. A workaround is to add a very small positive number ε to the sum.\n",
    "        # a /= K.cast(K.sum(a, axis=1, keepdims=True), K.floatx())\n",
    "        a /= K.cast(K.sum(a, axis=1, keepdims=True) + K.epsilon(), K.floatx())\n",
    "\n",
    "        a = K.expand_dims(a)\n",
    "        weighted_input = x * a\n",
    "        return K.sum(weighted_input, axis=1)\n",
    "\n",
    "    def compute_output_shape(self, input_shape):\n",
    "        return input_shape[0], input_shape[-1]\n",
    "\n",
    "\n",
    "def model_cnn(embedding_matrix):\n",
    "    #inp = Input(shape=(maxlen,))\n",
    "    x = Embedding(vocab_size, embedding_dim, weights=[embedding_matrix], input_length=maxlen)\n",
    "    x = AttentionWithContext()(x)\n",
    "    x = Dense(256, activation=\"relu\")(x)\n",
    "    x = Dense(6, activation=\"softmax\")(x)\n",
    "    model = Model(inputs=inp, outputs=x)\n",
    "    model.compile(loss='categorical_crossentropy', optimizer='adam', metrics=['accuracy'])\n",
    "    return model"
   ]
  },
  {
   "cell_type": "code",
   "execution_count": 95,
   "id": "9a10d6e8",
   "metadata": {},
   "outputs": [
    {
     "name": "stdout",
     "output_type": "stream",
     "text": [
      "Model: \"sequential_9\"\n",
      "_________________________________________________________________\n",
      " Layer (type)                Output Shape              Param #   \n",
      "=================================================================\n",
      " embedding_8 (Embedding)     (None, 215, 300)          7426200   \n",
      "                                                                 \n",
      " dropout_10 (Dropout)        (None, 215, 300)          0         \n",
      "                                                                 \n",
      " conv1d_4 (Conv1D)           (None, 213, 64)           57664     \n",
      "                                                                 \n",
      " max_pooling1d_4 (MaxPooling  (None, 71, 64)           0         \n",
      " 1D)                                                             \n",
      "                                                                 \n",
      " dropout_11 (Dropout)        (None, 71, 64)            0         \n",
      "                                                                 \n",
      " conv1d_5 (Conv1D)           (None, 69, 64)            12352     \n",
      "                                                                 \n",
      " max_pooling1d_5 (MaxPooling  (None, 23, 64)           0         \n",
      " 1D)                                                             \n",
      "                                                                 \n",
      " dropout_12 (Dropout)        (None, 23, 64)            0         \n",
      "                                                                 \n",
      " bidirectional_2 (Bidirectio  (None, 512)              657408    \n",
      " nal)                                                            \n",
      "                                                                 \n",
      " dropout_13 (Dropout)        (None, 512)               0         \n",
      "                                                                 \n",
      " dense_4 (Dense)             (None, 256)               131328    \n",
      "                                                                 \n",
      " dropout_14 (Dropout)        (None, 256)               0         \n",
      "                                                                 \n",
      " dense_5 (Dense)             (None, 6)                 1542      \n",
      "                                                                 \n",
      "=================================================================\n",
      "Total params: 8,286,494\n",
      "Trainable params: 8,286,494\n",
      "Non-trainable params: 0\n",
      "_________________________________________________________________\n"
     ]
    }
   ],
   "source": [
    "#defining CNN-BiLSTM model\n",
    "embedding_dim = 300\n",
    "\n",
    "model = Sequential()\n",
    "model.add(layers.Embedding(input_dim=vocab_size, output_dim=embedding_dim, weights = [embedding_matrix], input_length=maxlen))\n",
    "model.add(layers.Dropout(0.3)) \n",
    "model.add(layers.Conv1D(filters=64, kernel_size=3, activation=act)) \n",
    "model.add(layers.MaxPool1D(pool_size=3)) \n",
    "model.add(layers.Dropout(0.3))\n",
    "model.add(layers.Conv1D(filters=64, kernel_size=3, activation=act)) \n",
    "model.add(layers.MaxPool1D(pool_size=3)) \n",
    "model.add(layers.Dropout(0.3))\n",
    "model.add(layers.Bidirectional(layers.LSTM(256, recurrent_dropout=0.3)))\n",
    "model.add(layers.Dropout(0.3))\n",
    "model.add(layers.Dense(256,activation=act)) \n",
    "model.add(layers.Dropout(0.3)) \n",
    "model.add(layers.Dense(6, activation=\"softmax\"))\n",
    "model.compile(optimizer=opt, loss=\"categorical_crossentropy\",metrics=[\"accuracy\"])\n",
    "model.summary()"
   ]
  },
  {
   "cell_type": "code",
   "execution_count": 96,
   "id": "079b4cb1",
   "metadata": {},
   "outputs": [],
   "source": [
    "checkpoint_filepath = './Checkpoint/a'\n",
    "model_checkpoint_callback = tf.keras.callbacks.ModelCheckpoint(\n",
    "    filepath=checkpoint_filepath,\n",
    "    save_weights_only=True,\n",
    "    monitor='test_accuracy',\n",
    "    mode='max',\n",
    "    save_best_only=True)"
   ]
  },
  {
   "cell_type": "code",
   "execution_count": 97,
   "id": "0fbfa69e",
   "metadata": {},
   "outputs": [
    {
     "name": "stdout",
     "output_type": "stream",
     "text": [
      "Epoch 1/35\n",
      "703/703 [==============================] - ETA: 0s - loss: 1.6111 - accuracy: 0.3245WARNING:tensorflow:Can save best model only with test_accuracy available, skipping.\n",
      "703/703 [==============================] - 92s 128ms/step - loss: 1.6111 - accuracy: 0.3245 - val_loss: 1.4096 - val_accuracy: 0.4448\n",
      "Epoch 2/35\n",
      "703/703 [==============================] - ETA: 0s - loss: 1.1036 - accuracy: 0.5616WARNING:tensorflow:Can save best model only with test_accuracy available, skipping.\n",
      "703/703 [==============================] - 90s 128ms/step - loss: 1.1036 - accuracy: 0.5616 - val_loss: 1.2922 - val_accuracy: 0.5184\n",
      "Epoch 3/35\n",
      "703/703 [==============================] - ETA: 0s - loss: 0.5980 - accuracy: 0.7679WARNING:tensorflow:Can save best model only with test_accuracy available, skipping.\n",
      "703/703 [==============================] - 90s 128ms/step - loss: 0.5980 - accuracy: 0.7679 - val_loss: 1.4509 - val_accuracy: 0.5392\n",
      "Epoch 4/35\n",
      "703/703 [==============================] - ETA: 0s - loss: 0.3110 - accuracy: 0.8930WARNING:tensorflow:Can save best model only with test_accuracy available, skipping.\n",
      "703/703 [==============================] - 90s 128ms/step - loss: 0.3110 - accuracy: 0.8930 - val_loss: 1.7136 - val_accuracy: 0.5568\n",
      "Epoch 5/35\n",
      "703/703 [==============================] - ETA: 0s - loss: 0.1581 - accuracy: 0.9516WARNING:tensorflow:Can save best model only with test_accuracy available, skipping.\n",
      "703/703 [==============================] - 91s 129ms/step - loss: 0.1581 - accuracy: 0.9516 - val_loss: 1.9372 - val_accuracy: 0.5728\n",
      "Epoch 6/35\n",
      "703/703 [==============================] - ETA: 0s - loss: 0.0932 - accuracy: 0.9760WARNING:tensorflow:Can save best model only with test_accuracy available, skipping.\n",
      "703/703 [==============================] - 92s 131ms/step - loss: 0.0932 - accuracy: 0.9760 - val_loss: 2.1007 - val_accuracy: 0.5664\n",
      "Epoch 7/35\n",
      "703/703 [==============================] - ETA: 0s - loss: 0.0740 - accuracy: 0.9797WARNING:tensorflow:Can save best model only with test_accuracy available, skipping.\n",
      "703/703 [==============================] - 92s 131ms/step - loss: 0.0740 - accuracy: 0.9797 - val_loss: 2.4234 - val_accuracy: 0.5648\n",
      "Epoch 8/35\n",
      "703/703 [==============================] - ETA: 0s - loss: 0.0711 - accuracy: 0.9802WARNING:tensorflow:Can save best model only with test_accuracy available, skipping.\n",
      "703/703 [==============================] - 92s 131ms/step - loss: 0.0711 - accuracy: 0.9802 - val_loss: 2.3289 - val_accuracy: 0.5648\n",
      "Epoch 9/35\n",
      "703/703 [==============================] - ETA: 0s - loss: 0.0561 - accuracy: 0.9843WARNING:tensorflow:Can save best model only with test_accuracy available, skipping.\n",
      "703/703 [==============================] - 92s 131ms/step - loss: 0.0561 - accuracy: 0.9843 - val_loss: 2.2852 - val_accuracy: 0.5520\n",
      "Epoch 10/35\n",
      "703/703 [==============================] - ETA: 0s - loss: 0.0503 - accuracy: 0.9881WARNING:tensorflow:Can save best model only with test_accuracy available, skipping.\n",
      "703/703 [==============================] - 92s 131ms/step - loss: 0.0503 - accuracy: 0.9881 - val_loss: 2.7301 - val_accuracy: 0.5584\n",
      "Epoch 11/35\n",
      "703/703 [==============================] - ETA: 0s - loss: 0.0368 - accuracy: 0.9899WARNING:tensorflow:Can save best model only with test_accuracy available, skipping.\n",
      "703/703 [==============================] - 92s 131ms/step - loss: 0.0368 - accuracy: 0.9899 - val_loss: 2.4682 - val_accuracy: 0.5648\n",
      "Epoch 12/35\n",
      "703/703 [==============================] - ETA: 0s - loss: 0.0352 - accuracy: 0.9906WARNING:tensorflow:Can save best model only with test_accuracy available, skipping.\n",
      "703/703 [==============================] - 92s 131ms/step - loss: 0.0352 - accuracy: 0.9906 - val_loss: 2.9054 - val_accuracy: 0.5440\n",
      "Epoch 13/35\n",
      "703/703 [==============================] - ETA: 0s - loss: 0.0341 - accuracy: 0.9902WARNING:tensorflow:Can save best model only with test_accuracy available, skipping.\n",
      "703/703 [==============================] - 92s 132ms/step - loss: 0.0341 - accuracy: 0.9902 - val_loss: 2.7621 - val_accuracy: 0.5456\n",
      "Epoch 14/35\n",
      "703/703 [==============================] - ETA: 0s - loss: 0.0321 - accuracy: 0.9915WARNING:tensorflow:Can save best model only with test_accuracy available, skipping.\n",
      "703/703 [==============================] - 92s 131ms/step - loss: 0.0321 - accuracy: 0.9915 - val_loss: 2.5962 - val_accuracy: 0.5760\n",
      "Epoch 15/35\n",
      "703/703 [==============================] - ETA: 0s - loss: 0.0312 - accuracy: 0.9906WARNING:tensorflow:Can save best model only with test_accuracy available, skipping.\n",
      "703/703 [==============================] - 93s 132ms/step - loss: 0.0312 - accuracy: 0.9906 - val_loss: 2.5210 - val_accuracy: 0.5648\n",
      "Epoch 16/35\n",
      "703/703 [==============================] - ETA: 0s - loss: 0.0251 - accuracy: 0.9913WARNING:tensorflow:Can save best model only with test_accuracy available, skipping.\n",
      "703/703 [==============================] - 92s 131ms/step - loss: 0.0251 - accuracy: 0.9913 - val_loss: 2.9576 - val_accuracy: 0.5584\n",
      "Epoch 17/35\n",
      "703/703 [==============================] - ETA: 0s - loss: 0.0265 - accuracy: 0.9911WARNING:tensorflow:Can save best model only with test_accuracy available, skipping.\n",
      "703/703 [==============================] - 93s 132ms/step - loss: 0.0265 - accuracy: 0.9911 - val_loss: 2.8672 - val_accuracy: 0.5680\n",
      "Epoch 18/35\n",
      "703/703 [==============================] - ETA: 0s - loss: 0.0222 - accuracy: 0.9923WARNING:tensorflow:Can save best model only with test_accuracy available, skipping.\n",
      "703/703 [==============================] - 92s 131ms/step - loss: 0.0222 - accuracy: 0.9923 - val_loss: 2.9924 - val_accuracy: 0.5824\n",
      "Epoch 19/35\n",
      "703/703 [==============================] - ETA: 0s - loss: 0.0283 - accuracy: 0.9920WARNING:tensorflow:Can save best model only with test_accuracy available, skipping.\n",
      "703/703 [==============================] - 92s 131ms/step - loss: 0.0283 - accuracy: 0.9920 - val_loss: 2.8179 - val_accuracy: 0.5840\n",
      "Epoch 20/35\n",
      "703/703 [==============================] - ETA: 0s - loss: 0.0240 - accuracy: 0.9913WARNING:tensorflow:Can save best model only with test_accuracy available, skipping.\n",
      "703/703 [==============================] - 92s 131ms/step - loss: 0.0240 - accuracy: 0.9913 - val_loss: 3.1130 - val_accuracy: 0.5856\n",
      "Epoch 21/35\n",
      "703/703 [==============================] - ETA: 0s - loss: 0.0181 - accuracy: 0.9925WARNING:tensorflow:Can save best model only with test_accuracy available, skipping.\n",
      "703/703 [==============================] - 92s 131ms/step - loss: 0.0181 - accuracy: 0.9925 - val_loss: 3.6728 - val_accuracy: 0.5632\n",
      "Epoch 22/35\n",
      "703/703 [==============================] - ETA: 0s - loss: 0.0223 - accuracy: 0.9932WARNING:tensorflow:Can save best model only with test_accuracy available, skipping.\n",
      "703/703 [==============================] - 93s 132ms/step - loss: 0.0223 - accuracy: 0.9932 - val_loss: 3.6510 - val_accuracy: 0.5408\n",
      "Epoch 23/35\n",
      "703/703 [==============================] - ETA: 0s - loss: 0.0213 - accuracy: 0.9939WARNING:tensorflow:Can save best model only with test_accuracy available, skipping.\n",
      "703/703 [==============================] - 92s 131ms/step - loss: 0.0213 - accuracy: 0.9939 - val_loss: 2.5378 - val_accuracy: 0.5520\n",
      "Epoch 24/35\n",
      "703/703 [==============================] - ETA: 0s - loss: 0.0312 - accuracy: 0.9904WARNING:tensorflow:Can save best model only with test_accuracy available, skipping.\n",
      "703/703 [==============================] - 92s 131ms/step - loss: 0.0312 - accuracy: 0.9904 - val_loss: 3.1948 - val_accuracy: 0.5408\n",
      "Epoch 25/35\n",
      "703/703 [==============================] - ETA: 0s - loss: 0.0194 - accuracy: 0.9929WARNING:tensorflow:Can save best model only with test_accuracy available, skipping.\n",
      "703/703 [==============================] - 92s 131ms/step - loss: 0.0194 - accuracy: 0.9929 - val_loss: 3.2867 - val_accuracy: 0.5536\n",
      "Epoch 26/35\n",
      "703/703 [==============================] - ETA: 0s - loss: 0.0267 - accuracy: 0.9916WARNING:tensorflow:Can save best model only with test_accuracy available, skipping.\n",
      "703/703 [==============================] - 92s 131ms/step - loss: 0.0267 - accuracy: 0.9916 - val_loss: 2.9524 - val_accuracy: 0.5664\n",
      "Epoch 27/35\n",
      "703/703 [==============================] - ETA: 0s - loss: 0.0169 - accuracy: 0.9941WARNING:tensorflow:Can save best model only with test_accuracy available, skipping.\n",
      "703/703 [==============================] - 92s 131ms/step - loss: 0.0169 - accuracy: 0.9941 - val_loss: 3.5616 - val_accuracy: 0.5568\n",
      "Epoch 28/35\n",
      "703/703 [==============================] - ETA: 0s - loss: 0.0180 - accuracy: 0.9938WARNING:tensorflow:Can save best model only with test_accuracy available, skipping.\n",
      "703/703 [==============================] - 92s 131ms/step - loss: 0.0180 - accuracy: 0.9938 - val_loss: 3.3922 - val_accuracy: 0.5632\n",
      "Epoch 29/35\n",
      "703/703 [==============================] - ETA: 0s - loss: 0.0153 - accuracy: 0.9947WARNING:tensorflow:Can save best model only with test_accuracy available, skipping.\n",
      "703/703 [==============================] - 92s 131ms/step - loss: 0.0153 - accuracy: 0.9947 - val_loss: 3.7111 - val_accuracy: 0.5552\n",
      "Epoch 30/35\n",
      "703/703 [==============================] - ETA: 0s - loss: 0.0223 - accuracy: 0.9932WARNING:tensorflow:Can save best model only with test_accuracy available, skipping.\n",
      "703/703 [==============================] - 92s 131ms/step - loss: 0.0223 - accuracy: 0.9932 - val_loss: 3.1679 - val_accuracy: 0.5584\n",
      "Epoch 31/35\n",
      "703/703 [==============================] - ETA: 0s - loss: 0.0224 - accuracy: 0.9945WARNING:tensorflow:Can save best model only with test_accuracy available, skipping.\n",
      "703/703 [==============================] - 92s 131ms/step - loss: 0.0224 - accuracy: 0.9945 - val_loss: 3.6575 - val_accuracy: 0.5456\n",
      "Epoch 32/35\n",
      "703/703 [==============================] - ETA: 0s - loss: 0.0244 - accuracy: 0.9932WARNING:tensorflow:Can save best model only with test_accuracy available, skipping.\n",
      "703/703 [==============================] - 92s 131ms/step - loss: 0.0244 - accuracy: 0.9932 - val_loss: 3.4002 - val_accuracy: 0.5456\n",
      "Epoch 33/35\n",
      "703/703 [==============================] - ETA: 0s - loss: 0.0227 - accuracy: 0.9943WARNING:tensorflow:Can save best model only with test_accuracy available, skipping.\n",
      "703/703 [==============================] - 92s 131ms/step - loss: 0.0227 - accuracy: 0.9943 - val_loss: 3.6363 - val_accuracy: 0.5584\n",
      "Epoch 34/35\n",
      "703/703 [==============================] - ETA: 0s - loss: 0.0116 - accuracy: 0.9961WARNING:tensorflow:Can save best model only with test_accuracy available, skipping.\n",
      "703/703 [==============================] - 92s 131ms/step - loss: 0.0116 - accuracy: 0.9961 - val_loss: 3.8474 - val_accuracy: 0.5680\n",
      "Epoch 35/35\n",
      "703/703 [==============================] - ETA: 0s - loss: 0.0157 - accuracy: 0.9945WARNING:tensorflow:Can save best model only with test_accuracy available, skipping.\n",
      "703/703 [==============================] - 92s 131ms/step - loss: 0.0157 - accuracy: 0.9945 - val_loss: 4.0938 - val_accuracy: 0.5456\n",
      "Training Accuracy: 0.9959\n",
      "Testing Accuracy:  0.5456\n"
     ]
    }
   ],
   "source": [
    "history = model.fit(X_train, dummy_y_train, epochs=EPOCHS, verbose=1, validation_data=(X_test, dummy_y_test), batch_size=8, callbacks=[model_checkpoint_callback]) \n",
    "loss, accuracy = model.evaluate(X_train, dummy_y_train, verbose=0)\n",
    "print(\"Training Accuracy: {:.4f}\".format(accuracy))\n",
    "loss, accuracy = model.evaluate(X_test, dummy_y_test, verbose=0)\n",
    "print(\"Testing Accuracy:  {:.4f}\".format(accuracy))"
   ]
  },
  {
   "cell_type": "code",
   "execution_count": 98,
   "id": "cb6cbf4b",
   "metadata": {},
   "outputs": [],
   "source": [
    "def PlotGraph(history):\n",
    "    acc = history.history['accuracy']\n",
    "    val_acc = history.history['val_accuracy']\n",
    "    loss = history.history['loss']\n",
    "    val_loss = history.history['val_loss']\n",
    "    x = range(1, len(acc) + 1)\n",
    "\n",
    "    plt.figure(figsize=(12, 5))\n",
    "    plt.subplot(1, 2, 1)\n",
    "    plt.plot(x, acc, 'g', label='Training acc')\n",
    "    plt.plot(x, val_acc, 'b', label='Validation acc')\n",
    "    plt.title('Training and validation accuracy')\n",
    "    plt.legend()\n",
    "    plt.subplot(1, 2, 2)\n",
    "    plt.plot(x, loss, 'g', label='Training loss')\n",
    "    plt.plot(x, val_loss, 'b', label='Validation loss')\n",
    "    plt.title('Training and validation loss')\n",
    "    plt.legend()"
   ]
  },
  {
   "cell_type": "code",
   "execution_count": 99,
   "id": "a3a1d6c9",
   "metadata": {},
   "outputs": [
    {
     "data": {
      "image/png": "[encoded data removed]",
      "text/plain": [
       "<Figure size 864x360 with 2 Axes>"
      ]
     },
     "metadata": {
      "needs_background": "light"
     },
     "output_type": "display_data"
    }
   ],
   "source": [
    "PlotGraph(history)"
   ]
  },
  {
   "cell_type": "code",
   "execution_count": 100,
   "id": "b2244f33",
   "metadata": {},
   "outputs": [
    {
     "name": "stdout",
     "output_type": "stream",
     "text": [
      "Best Accuracy Achieved by Model: 0.5856000185012817\n"
     ]
    }
   ],
   "source": [
    "print(f\"Best Accuracy Achieved by Model: {max(history.history['val_accuracy'])}\")"
   ]
  },
  {
   "cell_type": "code",
   "execution_count": 101,
   "id": "4eea3c67",
   "metadata": {},
   "outputs": [],
   "source": [
    "#model.load_weights(checkpoint_filepath)"
   ]
  },
  {
   "cell_type": "code",
   "execution_count": 102,
   "id": "1f4cc737",
   "metadata": {},
   "outputs": [
    {
     "data": {
      "text/plain": [
       "array([0, 4, 3, 3, 3, 3, 4, 1, 4, 4, 3, 1, 0, 3, 3, 1, 3, 3, 4, 1, 3, 4,\n",
       "       3, 4, 2, 1, 3, 4, 0, 0, 5, 5, 1, 0, 4, 0, 2, 3, 0, 0, 3, 1, 3, 4,\n",
       "       3, 1, 1, 5, 0, 0, 3, 0, 3, 3, 5, 5, 3, 0, 4, 3, 1, 2, 2, 0, 3, 0,\n",
       "       4, 2, 2, 4, 5, 5, 3, 0, 3, 5, 1, 2, 1, 3, 4, 3, 5, 5, 0, 0, 5, 4,\n",
       "       0, 3, 5, 2, 4, 3, 4, 2, 2, 2, 3, 0, 2, 0, 4, 1, 1, 0, 2, 1, 3, 5,\n",
       "       3, 1, 4, 0, 1, 4, 2, 5, 0, 2, 5, 0, 2, 4, 0, 1, 3, 3, 0, 4, 1, 3,\n",
       "       3, 3, 5, 5, 0, 5, 3, 3, 1, 1, 2, 3, 2, 0, 5, 5, 1, 4, 1, 3, 0, 1,\n",
       "       0, 2, 2, 3, 2, 2, 4, 3, 3, 3, 1, 0, 5, 0, 0, 3, 2, 4, 1, 5, 4, 4,\n",
       "       0, 1, 5, 1, 1, 1, 3, 1, 3, 3, 4, 4, 2, 2, 1, 3, 5, 2, 0, 3, 1, 5,\n",
       "       3, 1, 1, 0, 3, 4, 4, 2, 3, 3, 0, 5, 3, 2, 1, 3, 2, 1, 2, 0, 1, 3,\n",
       "       0, 3, 1, 4, 5, 2, 1, 3, 1, 1, 3, 3, 1, 1, 3, 3, 3, 2, 3, 2, 1, 2,\n",
       "       3, 3, 5, 2, 3, 0, 1, 0, 1, 4, 3, 0, 1, 4, 4, 0, 1, 1, 1, 2, 4, 4,\n",
       "       1, 0, 3, 3, 1, 3, 5, 4, 4, 0, 1, 3, 2, 3, 4, 3, 2, 5, 2, 4, 4, 5,\n",
       "       3, 1, 3, 0, 3, 5, 0, 0, 1, 0, 3, 0, 5, 0, 3, 3, 2, 1, 4, 5, 3, 3,\n",
       "       2, 1, 4, 0, 0, 1, 3, 4, 3, 0, 0, 3, 4, 4, 2, 5, 2, 2, 4, 0, 3, 3,\n",
       "       0, 1, 3, 0, 0, 0, 2, 2, 5, 2, 3, 1, 4, 1, 2, 1, 3, 0, 0, 3, 1, 5,\n",
       "       0, 4, 5, 2, 3, 1, 4, 1, 5, 2, 2, 1, 0, 3, 0, 2, 2, 1, 3, 3, 4, 1,\n",
       "       0, 5, 2, 3, 3, 1, 4, 3, 2, 2, 3, 2, 2, 3, 0, 5, 0, 1, 3, 1, 0, 0,\n",
       "       2, 5, 3, 3, 0, 3, 3, 4, 0, 3, 0, 2, 1, 4, 4, 4, 3, 5, 2, 5, 2, 2,\n",
       "       0, 1, 2, 2, 1, 1, 0, 0, 1, 3, 3, 5, 3, 4, 1, 3, 3, 5, 3, 2, 2, 0,\n",
       "       3, 1, 4, 2, 3, 4, 4, 3, 2, 3, 3, 3, 3, 1, 1, 1, 2, 5, 3, 0, 5, 4,\n",
       "       2, 3, 0, 2, 0, 0, 3, 2, 2, 1, 0, 5, 3, 3, 3, 3, 1, 3, 1, 0, 0, 5,\n",
       "       4, 1, 4, 3, 2, 2, 4, 1, 1, 3, 2, 4, 1, 3, 5, 3, 0, 4, 4, 2, 5, 1,\n",
       "       5, 0, 3, 2, 3, 3, 0, 1, 5, 2, 3, 0, 4, 3, 4, 0, 3, 3, 3, 3, 3, 1,\n",
       "       2, 3, 3, 2, 3, 1, 1, 5, 3, 0, 3, 4, 1, 3, 3, 3, 0, 1, 0, 5, 1, 3,\n",
       "       1, 0, 1, 0, 3, 1, 3, 0, 2, 5, 1, 0, 2, 5, 0, 4, 1, 2, 4, 0, 0, 3,\n",
       "       4, 3, 3, 3, 1, 5, 3, 1, 0, 0, 1, 3, 5, 2, 1, 1, 1, 3, 4, 1, 0, 1,\n",
       "       3, 3, 1, 0, 1, 4, 2, 0, 1, 3, 3, 4, 3, 5, 3, 1, 3, 1, 3, 4, 3, 3,\n",
       "       5, 3, 3, 2, 2, 0, 5, 1, 1], dtype=int64)"
      ]
     },
     "execution_count": 102,
     "metadata": {},
     "output_type": "execute_result"
    }
   ],
   "source": [
    "predict = model.predict(TEST)\n",
    "predict_class = np.argmax(predict, axis=1)\n",
    "predict_class = np.array(predict_class)\n",
    "predict_class"
   ]
  },
  {
   "cell_type": "code",
   "execution_count": 103,
   "id": "07fbb8f2",
   "metadata": {},
   "outputs": [
    {
     "data": {
      "text/plain": [
       "array([[ 65,  12,  19,  12,   5,   1],\n",
       "       [ 13,  58,   8,  16,  19,   5],\n",
       "       [  6,  15,  36,   2,   7,   7],\n",
       "       [  8,  15,   6, 116,  19,   1],\n",
       "       [  8,   7,   7,  24,  21,   4],\n",
       "       [  5,  10,  13,   3,   7,  45]], dtype=int64)"
      ]
     },
     "execution_count": 103,
     "metadata": {},
     "output_type": "execute_result"
    }
   ],
   "source": [
    "from sklearn.metrics import confusion_matrix\n",
    "\n",
    "cm = confusion_matrix(test_df[\"labels\"], predict_class)\n",
    "cm"
   ]
  },
  {
   "cell_type": "code",
   "execution_count": 104,
   "id": "d6d34c1e",
   "metadata": {},
   "outputs": [
    {
     "data": {
      "text/plain": [
       "<AxesSubplot:>"
      ]
     },
     "execution_count": 104,
     "metadata": {},
     "output_type": "execute_result"
    },
    {
     "data": {
      "image/png": "[encoded data removed]",
      "text/plain": [
       "<Figure size 720x504 with 2 Axes>"
      ]
     },
     "metadata": {
      "needs_background": "light"
     },
     "output_type": "display_data"
    }
   ],
   "source": [
    "df_cm = pd.DataFrame(cm, index=[\"anger\", \"fear\", \"joy\", \"disgust\", \"sadness\", \"surprise\"], columns=[\"anger\", \"fear\", \"joy\", \"disgust\", \"sadness\", \"surprise\"])\n",
    "plt.figure(figsize = (10,7))\n",
    "sns.heatmap(df_cm,annot=True, fmt =\"d\")"
   ]
  },
  {
   "cell_type": "code",
   "execution_count": 105,
   "id": "cc35fbc5",
   "metadata": {},
   "outputs": [
    {
     "name": "stdout",
     "output_type": "stream",
     "text": [
      "              precision    recall  f1-score   support\n",
      "\n",
      "       anger       0.62      0.57      0.59       114\n",
      "        fear       0.50      0.49      0.49       119\n",
      "         joy       0.40      0.49      0.44        73\n",
      "     disgust       0.67      0.70      0.69       165\n",
      "     sadness       0.27      0.30      0.28        71\n",
      "    surprise       0.71      0.54      0.62        83\n",
      "\n",
      "    accuracy                           0.55       625\n",
      "   macro avg       0.53      0.52      0.52       625\n",
      "weighted avg       0.56      0.55      0.55       625\n",
      "\n"
     ]
    }
   ],
   "source": [
    "from sklearn.metrics import classification_report\n",
    "\n",
    "print(classification_report(test_df[\"labels\"], predict_class, target_names =[\"anger\", \"fear\", \"joy\", \"disgust\", \"sadness\", \"surprise\"]))"
   ]
  },
  {
   "cell_type": "code",
   "execution_count": null,
   "id": "137d40d8",
   "metadata": {},
   "outputs": [],
   "source": []
  }
 ],
 "metadata": {
  "kernelspec": {
   "display_name": "Python 3 (ipykernel)",
   "language": "python",
   "name": "python3"
  },
  "language_info": {
   "codemirror_mode": {
    "name": "ipython",
    "version": 3
   },
   "file_extension": ".py",
   "mimetype": "text/x-python",
   "name": "python",
   "nbconvert_exporter": "python",
   "pygments_lexer": "ipython3",
   "version": "3.9.7"
  }
 },
 "nbformat": 4,
 "nbformat_minor": 5
}
