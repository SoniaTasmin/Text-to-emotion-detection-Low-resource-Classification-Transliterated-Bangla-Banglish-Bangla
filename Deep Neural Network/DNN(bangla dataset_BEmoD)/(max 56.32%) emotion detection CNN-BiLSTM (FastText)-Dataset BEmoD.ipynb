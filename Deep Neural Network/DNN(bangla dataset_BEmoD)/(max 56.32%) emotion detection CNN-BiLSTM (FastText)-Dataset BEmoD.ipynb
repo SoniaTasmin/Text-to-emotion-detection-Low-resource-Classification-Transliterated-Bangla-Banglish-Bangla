{
 "cells": [
  {
   "cell_type": "code",
   "execution_count": 60,
   "id": "0d5f9be8",
   "metadata": {},
   "outputs": [],
   "source": [
    "import re\n",
    "import tqdm\n",
    "import numpy as np\n",
    "import pandas as pd\n",
    "import seaborn as sns\n",
    "import matplotlib.pyplot as plt"
   ]
  },
  {
   "cell_type": "code",
   "execution_count": 61,
   "id": "c6366948",
   "metadata": {},
   "outputs": [],
   "source": [
    "#reading dataset\n",
    "train_df = pd.read_excel('trainv1.xlsx') \n",
    "#val_df = pd.read_excel('val.xlsx')\n",
    "test_df = pd.read_excel('test.xlsx')"
   ]
  },
  {
   "cell_type": "code",
   "execution_count": 62,
   "id": "b71de20d",
   "metadata": {},
   "outputs": [
    {
     "data": {
      "text/html": [
       "<div>\n",
       "<style scoped>\n",
       "    .dataframe tbody tr th:only-of-type {\n",
       "        vertical-align: middle;\n",
       "    }\n",
       "\n",
       "    .dataframe tbody tr th {\n",
       "        vertical-align: top;\n",
       "    }\n",
       "\n",
       "    .dataframe thead th {\n",
       "        text-align: right;\n",
       "    }\n",
       "</style>\n",
       "<table border=\"1\" class=\"dataframe\">\n",
       "  <thead>\n",
       "    <tr style=\"text-align: right;\">\n",
       "      <th></th>\n",
       "      <th>Unnamed: 0</th>\n",
       "      <th>cleaned</th>\n",
       "      <th>classes</th>\n",
       "      <th>labels</th>\n",
       "    </tr>\n",
       "  </thead>\n",
       "  <tbody>\n",
       "    <tr>\n",
       "      <th>0</th>\n",
       "      <td>0</td>\n",
       "      <td>মেডিকেলে এসে ঠিক ফ্যামিলির ফটো ফ্রেম এর মতো মন...</td>\n",
       "      <td>sadness</td>\n",
       "      <td>1</td>\n",
       "    </tr>\n",
       "    <tr>\n",
       "      <th>1</th>\n",
       "      <td>1</td>\n",
       "      <td>অনেক দিন পর অন্য রকম অনুভূতি হচ্ছে  কেননা আমার...</td>\n",
       "      <td>sadness</td>\n",
       "      <td>1</td>\n",
       "    </tr>\n",
       "    <tr>\n",
       "      <th>2</th>\n",
       "      <td>2</td>\n",
       "      <td>আগে যতোটা বেশি পছন্দ করতাম দুশ্চরিত্রা মিথিলা ...</td>\n",
       "      <td>disgust</td>\n",
       "      <td>3</td>\n",
       "    </tr>\n",
       "    <tr>\n",
       "      <th>3</th>\n",
       "      <td>3</td>\n",
       "      <td>মাঝে মাঝে মনে হয় তোমাকে চাওয়াটা অনেক ভুল হয়ত ভ...</td>\n",
       "      <td>sadness</td>\n",
       "      <td>1</td>\n",
       "    </tr>\n",
       "    <tr>\n",
       "      <th>4</th>\n",
       "      <td>4</td>\n",
       "      <td>এখানে কাওকে কবর দিয়ো না তাহলে তোমাদের পরিবারের...</td>\n",
       "      <td>fear</td>\n",
       "      <td>5</td>\n",
       "    </tr>\n",
       "  </tbody>\n",
       "</table>\n",
       "</div>"
      ],
      "text/plain": [
       "   Unnamed: 0                                            cleaned  classes  \\\n",
       "0           0  মেডিকেলে এসে ঠিক ফ্যামিলির ফটো ফ্রেম এর মতো মন...  sadness   \n",
       "1           1  অনেক দিন পর অন্য রকম অনুভূতি হচ্ছে  কেননা আমার...  sadness   \n",
       "2           2  আগে যতোটা বেশি পছন্দ করতাম দুশ্চরিত্রা মিথিলা ...  disgust   \n",
       "3           3  মাঝে মাঝে মনে হয় তোমাকে চাওয়াটা অনেক ভুল হয়ত ভ...  sadness   \n",
       "4           4  এখানে কাওকে কবর দিয়ো না তাহলে তোমাদের পরিবারের...     fear   \n",
       "\n",
       "   labels  \n",
       "0       1  \n",
       "1       1  \n",
       "2       3  \n",
       "3       1  \n",
       "4       5  "
      ]
     },
     "execution_count": 62,
     "metadata": {},
     "output_type": "execute_result"
    }
   ],
   "source": [
    "train_df.head()"
   ]
  },
  {
   "cell_type": "code",
   "execution_count": 63,
   "id": "5f70cdf8",
   "metadata": {},
   "outputs": [
    {
     "name": "stdout",
     "output_type": "stream",
     "text": [
      "<class 'pandas.core.frame.DataFrame'>\n",
      "RangeIndex: 5618 entries, 0 to 5617\n",
      "Data columns (total 4 columns):\n",
      " #   Column      Non-Null Count  Dtype \n",
      "---  ------      --------------  ----- \n",
      " 0   Unnamed: 0  5618 non-null   int64 \n",
      " 1   cleaned     5618 non-null   object\n",
      " 2   classes     5618 non-null   object\n",
      " 3   labels      5618 non-null   int64 \n",
      "dtypes: int64(2), object(2)\n",
      "memory usage: 175.7+ KB\n",
      "\n",
      "<class 'pandas.core.frame.DataFrame'>\n",
      "RangeIndex: 625 entries, 0 to 624\n",
      "Data columns (total 4 columns):\n",
      " #   Column      Non-Null Count  Dtype \n",
      "---  ------      --------------  ----- \n",
      " 0   Unnamed: 0  625 non-null    int64 \n",
      " 1   cleaned     625 non-null    object\n",
      " 2   classes     625 non-null    object\n",
      " 3   labels      625 non-null    int64 \n",
      "dtypes: int64(2), object(2)\n",
      "memory usage: 19.7+ KB\n",
      "\n"
     ]
    }
   ],
   "source": [
    "#checking for ull values\n",
    "train_df.info()\n",
    "print()\n",
    "test_df.info()\n",
    "print()\n",
    "#val_df.info()\n",
    "#print()"
   ]
  },
  {
   "cell_type": "code",
   "execution_count": 64,
   "id": "f7dc5157",
   "metadata": {},
   "outputs": [
    {
     "data": {
      "text/plain": [
       "disgust     1388\n",
       "sadness     1071\n",
       "joy         1028\n",
       "fear         789\n",
       "anger        688\n",
       "surprise     654\n",
       "Name: classes, dtype: int64"
      ]
     },
     "execution_count": 64,
     "metadata": {},
     "output_type": "execute_result"
    }
   ],
   "source": [
    "train_df[\"classes\"].value_counts()"
   ]
  },
  {
   "cell_type": "code",
   "execution_count": 65,
   "id": "7d5d210e",
   "metadata": {},
   "outputs": [
    {
     "data": {
      "text/plain": [
       "disgust     165\n",
       "sadness     119\n",
       "joy         114\n",
       "fear         83\n",
       "surprise     73\n",
       "anger        71\n",
       "Name: classes, dtype: int64"
      ]
     },
     "execution_count": 65,
     "metadata": {},
     "output_type": "execute_result"
    }
   ],
   "source": [
    "test_df[\"classes\"].value_counts()"
   ]
  },
  {
   "cell_type": "code",
   "execution_count": 66,
   "id": "3f417088",
   "metadata": {},
   "outputs": [],
   "source": [
    "#val_df[\"classes\"].value_counts()"
   ]
  },
  {
   "cell_type": "code",
   "execution_count": 67,
   "id": "053b4540",
   "metadata": {},
   "outputs": [
    {
     "name": "stdout",
     "output_type": "stream",
     "text": [
      "অনেক দিন পর অন্য রকম অনুভূতি হচ্ছে  কেননা আমার সদ্য পাশ করা শিক্ষার্থীর মত এখন আমিও বেকার বেকার পরিচয় দিয়ে আম্মার কাছ থেকে আজ পঞ্চাশ টাকা ডাকাতি করলাম \n"
     ]
    }
   ],
   "source": [
    "#sample text from dataset\n",
    "sample = train_df[\"cleaned\"][1]\n",
    "print(sample)"
   ]
  },
  {
   "cell_type": "code",
   "execution_count": 68,
   "id": "46623438",
   "metadata": {},
   "outputs": [],
   "source": [
    "x_train, x_test, y_train, y_test = train_df[\"cleaned\"], test_df[\"cleaned\"], train_df[\"labels\"], test_df[\"labels\"]"
   ]
  },
  {
   "cell_type": "code",
   "execution_count": 69,
   "id": "cb81d142",
   "metadata": {},
   "outputs": [],
   "source": [
    "from keras.utils import np_utils\n",
    "from keras.preprocessing.text import Tokenizer\n",
    "from keras.preprocessing.sequence import pad_sequences\n",
    "\n",
    "import tensorflow as tf\n",
    "from keras import layers\n",
    "from keras.models import Sequential\n",
    "\n",
    "EPOCHS= 35\n",
    "act= \"swish\"\n",
    "opt= tf.keras.optimizers.Adam(learning_rate=0.001)"
   ]
  },
  {
   "cell_type": "code",
   "execution_count": 70,
   "id": "5b775aeb",
   "metadata": {},
   "outputs": [],
   "source": [
    "#converting text to vectors via tokenization\n",
    "tokenizer = Tokenizer()\n",
    "tokenizer.fit_on_texts(x_train)\n",
    "\n",
    "X_train = tokenizer.texts_to_sequences(x_train)\n",
    "X_test = tokenizer.texts_to_sequences(x_test)\n",
    "TEST = tokenizer.texts_to_sequences(test_df[\"cleaned\"]) \n",
    "\n",
    "vocab_size = len(tokenizer.word_index) + 1 "
   ]
  },
  {
   "cell_type": "code",
   "execution_count": 71,
   "id": "79603d3f",
   "metadata": {},
   "outputs": [
    {
     "name": "stdout",
     "output_type": "stream",
     "text": [
      "Max len: 215\n"
     ]
    }
   ],
   "source": [
    "#calculating max length of the vector\n",
    "lens_train = [len(i) for i in X_train]\n",
    "lens_test = [len(i) for i in X_test]\n",
    "lens = lens_train + lens_test\n",
    "\n",
    "maxlen = np.max(lens)\n",
    "\n",
    "print('Max len:', maxlen)"
   ]
  },
  {
   "cell_type": "code",
   "execution_count": 72,
   "id": "bb495e40",
   "metadata": {},
   "outputs": [],
   "source": [
    "#Zero padding every vector so that they are the same size\n",
    "X_train = pad_sequences(X_train, padding='post', maxlen=maxlen)\n",
    "X_test = pad_sequences(X_test, padding='post', maxlen=maxlen)\n",
    "TEST = pad_sequences(TEST, padding='post', maxlen=maxlen)"
   ]
  },
  {
   "cell_type": "code",
   "execution_count": 73,
   "id": "bbfc3acc",
   "metadata": {},
   "outputs": [],
   "source": [
    "#One Hot Encoding integer labels\n",
    "dummy_y_test = np_utils.to_categorical(y_test)\n",
    "dummy_y_train = np_utils.to_categorical(y_train)"
   ]
  },
  {
   "cell_type": "code",
   "execution_count": 74,
   "id": "a914d44d",
   "metadata": {},
   "outputs": [],
   "source": [
    "#reading fasttext\n",
    "def get_embedding_vectors(tokenizer, dim=300):\n",
    "    embedding_index = {}\n",
    "    with open('cc.bn.300.vec','r', encoding=\"cp437\", errors='ignore') as f:\n",
    "        for line in tqdm.tqdm(f, \"Reading fasttext\"):\n",
    "            values = line.split()\n",
    "            word = ''.join(values[:-300])\n",
    "            vectors = np.asarray(values[-300:], dtype='float32')\n",
    "            embedding_index[word] = vectors\n",
    "\n",
    "    word_index = tokenizer.word_index\n",
    "    embedding_matrix = np.zeros((len(word_index)+1, dim))\n",
    "    for word, i in word_index.items():\n",
    "        embedding_vector = embedding_index.get(word)\n",
    "        if embedding_vector is not None:\n",
    "            # words not found will be 0s\n",
    "            embedding_matrix[i] = embedding_vector\n",
    "          \n",
    "    return embedding_matrix"
   ]
  },
  {
   "cell_type": "code",
   "execution_count": 75,
   "id": "c7afb8fc",
   "metadata": {},
   "outputs": [
    {
     "name": "stderr",
     "output_type": "stream",
     "text": [
      "Reading fasttext: 1468579it [02:31, 9664.50it/s] \n"
     ]
    }
   ],
   "source": [
    "embedding_matrix = get_embedding_vectors(tokenizer)"
   ]
  },
  {
   "cell_type": "code",
   "execution_count": 76,
   "id": "9a10d6e8",
   "metadata": {},
   "outputs": [
    {
     "name": "stdout",
     "output_type": "stream",
     "text": [
      "Model: \"sequential_2\"\n",
      "_________________________________________________________________\n",
      " Layer (type)                Output Shape              Param #   \n",
      "=================================================================\n",
      " embedding_2 (Embedding)     (None, 215, 300)          7426200   \n",
      "                                                                 \n",
      " dropout_10 (Dropout)        (None, 215, 300)          0         \n",
      "                                                                 \n",
      " conv1d_4 (Conv1D)           (None, 213, 64)           57664     \n",
      "                                                                 \n",
      " max_pooling1d_4 (MaxPooling  (None, 71, 64)           0         \n",
      " 1D)                                                             \n",
      "                                                                 \n",
      " dropout_11 (Dropout)        (None, 71, 64)            0         \n",
      "                                                                 \n",
      " conv1d_5 (Conv1D)           (None, 69, 64)            12352     \n",
      "                                                                 \n",
      " max_pooling1d_5 (MaxPooling  (None, 23, 64)           0         \n",
      " 1D)                                                             \n",
      "                                                                 \n",
      " dropout_12 (Dropout)        (None, 23, 64)            0         \n",
      "                                                                 \n",
      " bidirectional_2 (Bidirectio  (None, 512)              657408    \n",
      " nal)                                                            \n",
      "                                                                 \n",
      " dropout_13 (Dropout)        (None, 512)               0         \n",
      "                                                                 \n",
      " dense_4 (Dense)             (None, 256)               131328    \n",
      "                                                                 \n",
      " dropout_14 (Dropout)        (None, 256)               0         \n",
      "                                                                 \n",
      " dense_5 (Dense)             (None, 6)                 1542      \n",
      "                                                                 \n",
      "=================================================================\n",
      "Total params: 8,286,494\n",
      "Trainable params: 8,286,494\n",
      "Non-trainable params: 0\n",
      "_________________________________________________________________\n"
     ]
    }
   ],
   "source": [
    "#defining CNN-BiLSTM model\n",
    "embedding_dim = 300\n",
    "\n",
    "model = Sequential()\n",
    "model.add(layers.Embedding(input_dim=vocab_size, output_dim=embedding_dim, weights = [embedding_matrix], input_length=maxlen))\n",
    "model.add(layers.Dropout(0.3)) \n",
    "model.add(layers.Conv1D(filters=64, kernel_size=3, activation=act)) \n",
    "model.add(layers.MaxPool1D(pool_size=3)) \n",
    "model.add(layers.Dropout(0.3))\n",
    "model.add(layers.Conv1D(filters=64, kernel_size=3, activation=act)) \n",
    "model.add(layers.MaxPool1D(pool_size=3)) \n",
    "model.add(layers.Dropout(0.3))\n",
    "model.add(layers.Bidirectional(layers.LSTM(256, recurrent_dropout=0.3)))\n",
    "model.add(layers.Dropout(0.3))\n",
    "model.add(layers.Dense(256,activation=act)) \n",
    "model.add(layers.Dropout(0.3)) \n",
    "model.add(layers.Dense(6, activation=\"softmax\"))\n",
    "model.compile(optimizer=opt, loss=\"categorical_crossentropy\",metrics=[\"accuracy\"])\n",
    "model.summary()"
   ]
  },
  {
   "cell_type": "code",
   "execution_count": 77,
   "id": "079b4cb1",
   "metadata": {},
   "outputs": [],
   "source": [
    "checkpoint_filepath = './Checkpoint/checkpoint'\n",
    "model_checkpoint_callback = tf.keras.callbacks.ModelCheckpoint(\n",
    "    filepath=checkpoint_filepath,\n",
    "    save_weights_only=True,\n",
    "    monitor='test_accuracy',\n",
    "    mode='max',\n",
    "    save_best_only=True)"
   ]
  },
  {
   "cell_type": "code",
   "execution_count": 78,
   "id": "0fbfa69e",
   "metadata": {},
   "outputs": [
    {
     "name": "stdout",
     "output_type": "stream",
     "text": [
      "Epoch 1/35\n",
      "703/703 [==============================] - ETA: 0s - loss: 1.6436 - accuracy: 0.3044WARNING:tensorflow:Can save best model only with test_accuracy available, skipping.\n",
      "703/703 [==============================] - 136s 183ms/step - loss: 1.6436 - accuracy: 0.3044 - val_loss: 1.4561 - val_accuracy: 0.4560\n",
      "Epoch 2/35\n",
      "703/703 [==============================] - ETA: 0s - loss: 1.1290 - accuracy: 0.5577WARNING:tensorflow:Can save best model only with test_accuracy available, skipping.\n",
      "703/703 [==============================] - 130s 185ms/step - loss: 1.1290 - accuracy: 0.5577 - val_loss: 1.2235 - val_accuracy: 0.5424\n",
      "Epoch 3/35\n",
      "703/703 [==============================] - ETA: 0s - loss: 0.4924 - accuracy: 0.8247WARNING:tensorflow:Can save best model only with test_accuracy available, skipping.\n",
      "703/703 [==============================] - 126s 180ms/step - loss: 0.4924 - accuracy: 0.8247 - val_loss: 1.4062 - val_accuracy: 0.5552\n",
      "Epoch 4/35\n",
      "703/703 [==============================] - ETA: 0s - loss: 0.2040 - accuracy: 0.9356WARNING:tensorflow:Can save best model only with test_accuracy available, skipping.\n",
      "703/703 [==============================] - 131s 186ms/step - loss: 0.2040 - accuracy: 0.9356 - val_loss: 1.6382 - val_accuracy: 0.5856\n",
      "Epoch 5/35\n",
      "703/703 [==============================] - ETA: 0s - loss: 0.1096 - accuracy: 0.9705WARNING:tensorflow:Can save best model only with test_accuracy available, skipping.\n",
      "703/703 [==============================] - 131s 186ms/step - loss: 0.1096 - accuracy: 0.9705 - val_loss: 1.9356 - val_accuracy: 0.5664\n",
      "Epoch 6/35\n",
      "703/703 [==============================] - ETA: 0s - loss: 0.0730 - accuracy: 0.9820WARNING:tensorflow:Can save best model only with test_accuracy available, skipping.\n",
      "703/703 [==============================] - 129s 183ms/step - loss: 0.0730 - accuracy: 0.9820 - val_loss: 2.0681 - val_accuracy: 0.5760\n",
      "Epoch 7/35\n",
      "703/703 [==============================] - ETA: 0s - loss: 0.0555 - accuracy: 0.9852WARNING:tensorflow:Can save best model only with test_accuracy available, skipping.\n",
      "703/703 [==============================] - 126s 180ms/step - loss: 0.0555 - accuracy: 0.9852 - val_loss: 2.3759 - val_accuracy: 0.5568\n",
      "Epoch 8/35\n",
      "703/703 [==============================] - ETA: 0s - loss: 0.0604 - accuracy: 0.9834WARNING:tensorflow:Can save best model only with test_accuracy available, skipping.\n",
      "703/703 [==============================] - 128s 182ms/step - loss: 0.0604 - accuracy: 0.9834 - val_loss: 2.2759 - val_accuracy: 0.5712\n",
      "Epoch 9/35\n",
      "703/703 [==============================] - ETA: 0s - loss: 0.0437 - accuracy: 0.9883 ETA: 1s - loss: 0.0440 - WARNING:tensorflow:Can save best model only with test_accuracy available, skipping.\n",
      "703/703 [==============================] - 128s 182ms/step - loss: 0.0437 - accuracy: 0.9883 - val_loss: 2.4526 - val_accuracy: 0.5744\n",
      "Epoch 10/35\n",
      "703/703 [==============================] - ETA: 0s - loss: 0.0439 - accuracy: 0.9875WARNING:tensorflow:Can save best model only with test_accuracy available, skipping.\n",
      "703/703 [==============================] - 168s 239ms/step - loss: 0.0439 - accuracy: 0.9875 - val_loss: 2.8367 - val_accuracy: 0.5680\n",
      "Epoch 11/35\n",
      "703/703 [==============================] - ETA: 0s - loss: 0.0384 - accuracy: 0.9886WARNING:tensorflow:Can save best model only with test_accuracy available, skipping.\n",
      "703/703 [==============================] - 202s 287ms/step - loss: 0.0384 - accuracy: 0.9886 - val_loss: 2.5973 - val_accuracy: 0.5744\n",
      "Epoch 12/35\n",
      "703/703 [==============================] - ETA: 0s - loss: 0.0300 - accuracy: 0.9920WARNING:tensorflow:Can save best model only with test_accuracy available, skipping.\n",
      "703/703 [==============================] - 150s 213ms/step - loss: 0.0300 - accuracy: 0.9920 - val_loss: 2.6474 - val_accuracy: 0.5776\n",
      "Epoch 13/35\n",
      "703/703 [==============================] - ETA: 0s - loss: 0.0376 - accuracy: 0.9879WARNING:tensorflow:Can save best model only with test_accuracy available, skipping.\n",
      "703/703 [==============================] - 140s 198ms/step - loss: 0.0376 - accuracy: 0.9879 - val_loss: 2.6682 - val_accuracy: 0.5632\n",
      "Epoch 14/35\n",
      "703/703 [==============================] - ETA: 0s - loss: 0.0363 - accuracy: 0.9893WARNING:tensorflow:Can save best model only with test_accuracy available, skipping.\n",
      "703/703 [==============================] - 130s 185ms/step - loss: 0.0363 - accuracy: 0.9893 - val_loss: 2.6480 - val_accuracy: 0.5504\n",
      "Epoch 15/35\n",
      "703/703 [==============================] - ETA: 0s - loss: 0.0268 - accuracy: 0.9925WARNING:tensorflow:Can save best model only with test_accuracy available, skipping.\n",
      "703/703 [==============================] - 189s 269ms/step - loss: 0.0268 - accuracy: 0.9925 - val_loss: 2.9711 - val_accuracy: 0.5568\n",
      "Epoch 16/35\n",
      "703/703 [==============================] - ETA: 0s - loss: 0.0264 - accuracy: 0.9911WARNING:tensorflow:Can save best model only with test_accuracy available, skipping.\n",
      "703/703 [==============================] - 189s 270ms/step - loss: 0.0264 - accuracy: 0.9911 - val_loss: 2.8882 - val_accuracy: 0.5488\n",
      "Epoch 17/35\n",
      "703/703 [==============================] - ETA: 0s - loss: 0.0230 - accuracy: 0.9932WARNING:tensorflow:Can save best model only with test_accuracy available, skipping.\n",
      "703/703 [==============================] - 190s 270ms/step - loss: 0.0230 - accuracy: 0.9932 - val_loss: 3.1137 - val_accuracy: 0.5488\n",
      "Epoch 18/35\n",
      "703/703 [==============================] - ETA: 0s - loss: 0.0221 - accuracy: 0.9929WARNING:tensorflow:Can save best model only with test_accuracy available, skipping.\n",
      "703/703 [==============================] - 193s 274ms/step - loss: 0.0221 - accuracy: 0.9929 - val_loss: 3.2547 - val_accuracy: 0.5616\n",
      "Epoch 19/35\n",
      "703/703 [==============================] - ETA: 0s - loss: 0.0267 - accuracy: 0.9922WARNING:tensorflow:Can save best model only with test_accuracy available, skipping.\n",
      "703/703 [==============================] - 197s 281ms/step - loss: 0.0267 - accuracy: 0.9922 - val_loss: 3.3183 - val_accuracy: 0.5456\n",
      "Epoch 20/35\n",
      "703/703 [==============================] - ETA: 0s - loss: 0.0223 - accuracy: 0.9932WARNING:tensorflow:Can save best model only with test_accuracy available, skipping.\n",
      "703/703 [==============================] - 201s 286ms/step - loss: 0.0223 - accuracy: 0.9932 - val_loss: 3.5027 - val_accuracy: 0.5440\n",
      "Epoch 21/35\n",
      "703/703 [==============================] - ETA: 0s - loss: 0.0276 - accuracy: 0.9920WARNING:tensorflow:Can save best model only with test_accuracy available, skipping.\n",
      "703/703 [==============================] - 214s 304ms/step - loss: 0.0276 - accuracy: 0.9920 - val_loss: 3.2576 - val_accuracy: 0.5488\n",
      "Epoch 22/35\n",
      "703/703 [==============================] - ETA: 0s - loss: 0.0216 - accuracy: 0.9927WARNING:tensorflow:Can save best model only with test_accuracy available, skipping.\n",
      "703/703 [==============================] - 214s 304ms/step - loss: 0.0216 - accuracy: 0.9927 - val_loss: 3.5266 - val_accuracy: 0.5488\n",
      "Epoch 23/35\n",
      "703/703 [==============================] - ETA: 0s - loss: 0.0186 - accuracy: 0.9938WARNING:tensorflow:Can save best model only with test_accuracy available, skipping.\n",
      "703/703 [==============================] - 202s 288ms/step - loss: 0.0186 - accuracy: 0.9938 - val_loss: 3.7390 - val_accuracy: 0.5360\n",
      "Epoch 24/35\n",
      "703/703 [==============================] - ETA: 0s - loss: 0.0200 - accuracy: 0.9932WARNING:tensorflow:Can save best model only with test_accuracy available, skipping.\n",
      "703/703 [==============================] - 205s 292ms/step - loss: 0.0200 - accuracy: 0.9932 - val_loss: 3.5473 - val_accuracy: 0.5712\n",
      "Epoch 25/35\n",
      "703/703 [==============================] - ETA: 0s - loss: 0.0208 - accuracy: 0.9938WARNING:tensorflow:Can save best model only with test_accuracy available, skipping.\n",
      "703/703 [==============================] - 202s 287ms/step - loss: 0.0208 - accuracy: 0.9938 - val_loss: 3.0572 - val_accuracy: 0.5728\n",
      "Epoch 26/35\n",
      "703/703 [==============================] - ETA: 0s - loss: 0.0214 - accuracy: 0.9932WARNING:tensorflow:Can save best model only with test_accuracy available, skipping.\n",
      "703/703 [==============================] - 205s 292ms/step - loss: 0.0214 - accuracy: 0.9932 - val_loss: 2.9554 - val_accuracy: 0.5472\n",
      "Epoch 27/35\n",
      "703/703 [==============================] - ETA: 0s - loss: 0.0179 - accuracy: 0.9941WARNING:tensorflow:Can save best model only with test_accuracy available, skipping.\n",
      "703/703 [==============================] - 205s 291ms/step - loss: 0.0179 - accuracy: 0.9941 - val_loss: 3.5880 - val_accuracy: 0.5680\n",
      "Epoch 28/35\n",
      "703/703 [==============================] - ETA: 0s - loss: 0.0178 - accuracy: 0.9948WARNING:tensorflow:Can save best model only with test_accuracy available, skipping.\n",
      "703/703 [==============================] - 205s 292ms/step - loss: 0.0178 - accuracy: 0.9948 - val_loss: 4.0585 - val_accuracy: 0.5488\n",
      "Epoch 29/35\n",
      "703/703 [==============================] - ETA: 0s - loss: 0.0148 - accuracy: 0.9954WARNING:tensorflow:Can save best model only with test_accuracy available, skipping.\n",
      "703/703 [==============================] - 190s 270ms/step - loss: 0.0148 - accuracy: 0.9954 - val_loss: 3.1421 - val_accuracy: 0.5488\n",
      "Epoch 30/35\n",
      "703/703 [==============================] - ETA: 0s - loss: 0.0214 - accuracy: 0.9936WARNING:tensorflow:Can save best model only with test_accuracy available, skipping.\n",
      "703/703 [==============================] - 191s 271ms/step - loss: 0.0214 - accuracy: 0.9936 - val_loss: 3.4610 - val_accuracy: 0.5248\n",
      "Epoch 31/35\n",
      "703/703 [==============================] - ETA: 0s - loss: 0.0179 - accuracy: 0.9943WARNING:tensorflow:Can save best model only with test_accuracy available, skipping.\n",
      "703/703 [==============================] - 190s 270ms/step - loss: 0.0179 - accuracy: 0.9943 - val_loss: 3.5854 - val_accuracy: 0.5552\n",
      "Epoch 32/35\n",
      "703/703 [==============================] - ETA: 0s - loss: 0.0148 - accuracy: 0.9943WARNING:tensorflow:Can save best model only with test_accuracy available, skipping.\n",
      "703/703 [==============================] - 190s 271ms/step - loss: 0.0148 - accuracy: 0.9943 - val_loss: 4.4296 - val_accuracy: 0.5360\n",
      "Epoch 33/35\n",
      "703/703 [==============================] - ETA: 0s - loss: 0.0168 - accuracy: 0.9936WARNING:tensorflow:Can save best model only with test_accuracy available, skipping.\n",
      "703/703 [==============================] - 189s 268ms/step - loss: 0.0168 - accuracy: 0.9936 - val_loss: 4.0662 - val_accuracy: 0.5712\n",
      "Epoch 34/35\n",
      "703/703 [==============================] - ETA: 0s - loss: 0.0200 - accuracy: 0.9927WARNING:tensorflow:Can save best model only with test_accuracy available, skipping.\n",
      "703/703 [==============================] - 190s 271ms/step - loss: 0.0200 - accuracy: 0.9927 - val_loss: 3.9131 - val_accuracy: 0.5488\n",
      "Epoch 35/35\n",
      "703/703 [==============================] - ETA: 0s - loss: 0.0134 - accuracy: 0.9948WARNING:tensorflow:Can save best model only with test_accuracy available, skipping.\n",
      "703/703 [==============================] - 191s 272ms/step - loss: 0.0134 - accuracy: 0.9948 - val_loss: 3.9937 - val_accuracy: 0.5632\n",
      "Training Accuracy: 0.9970\n",
      "Testing Accuracy:  0.5632\n"
     ]
    }
   ],
   "source": [
    "history = model.fit(X_train, dummy_y_train, epochs=EPOCHS, verbose=1, validation_data=(X_test, dummy_y_test), batch_size=8, callbacks=[model_checkpoint_callback]) \n",
    "loss, accuracy = model.evaluate(X_train, dummy_y_train, verbose=0)\n",
    "print(\"Training Accuracy: {:.4f}\".format(accuracy))\n",
    "loss, accuracy = model.evaluate(X_test, dummy_y_test, verbose=0)\n",
    "print(\"Testing Accuracy:  {:.4f}\".format(accuracy))"
   ]
  },
  {
   "cell_type": "code",
   "execution_count": 82,
   "id": "cb6cbf4b",
   "metadata": {},
   "outputs": [],
   "source": [
    "def PlotGraph(history):\n",
    "    acc = history.history['accuracy']\n",
    "    val_acc = history.history['val_accuracy']\n",
    "    loss = history.history['loss']\n",
    "    val_loss = history.history['val_loss']\n",
    "    x = range(1, len(acc) + 1)\n",
    "\n",
    "    plt.figure(figsize=(12, 5))\n",
    "    plt.subplot(1, 2, 1)\n",
    "    plt.plot(x, acc, 'g', label='Training acc')\n",
    "    plt.plot(x, val_acc, 'b', label='Validation acc')\n",
    "    plt.title('Training and validation accuracy')\n",
    "    plt.legend()\n",
    "    plt.subplot(1, 2, 2)\n",
    "    plt.plot(x, loss, 'g', label='Training loss')\n",
    "    plt.plot(x, val_loss, 'b', label='Validation loss')\n",
    "    plt.title('Training and validation loss')\n",
    "    plt.legend()"
   ]
  },
  {
   "cell_type": "code",
   "execution_count": 83,
   "id": "a3a1d6c9",
   "metadata": {},
   "outputs": [
    {
     "data": {
      "image/png": "[encoded data removed]",
      "text/plain": [
       "<Figure size 864x360 with 2 Axes>"
      ]
     },
     "metadata": {
      "needs_background": "light"
     },
     "output_type": "display_data"
    }
   ],
   "source": [
    "PlotGraph(history)"
   ]
  },
  {
   "cell_type": "code",
   "execution_count": 84,
   "id": "b2244f33",
   "metadata": {},
   "outputs": [
    {
     "name": "stdout",
     "output_type": "stream",
     "text": [
      "Best Accuracy Achieved by Model: 0.5856000185012817\n"
     ]
    }
   ],
   "source": [
    "print(f\"Best Accuracy Achieved by Model: {max(history.history['val_accuracy'])}\")"
   ]
  },
  {
   "cell_type": "code",
   "execution_count": 85,
   "id": "4eea3c67",
   "metadata": {},
   "outputs": [
    {
     "ename": "NotFoundError",
     "evalue": "Unsuccessful TensorSliceReader constructor: Failed to find any matching files for ./Checkpoint/checkpoint",
     "output_type": "error",
     "traceback": [
      "\u001b[1;31m---------------------------------------------------------------------------\u001b[0m",
      "\u001b[1;31mNotFoundError\u001b[0m                             Traceback (most recent call last)",
      "\u001b[1;32m~\\AppData\\Local\\Temp/ipykernel_3132/1061730941.py\u001b[0m in \u001b[0;36m<module>\u001b[1;34m\u001b[0m\n\u001b[1;32m----> 1\u001b[1;33m \u001b[0mmodel\u001b[0m\u001b[1;33m.\u001b[0m\u001b[0mload_weights\u001b[0m\u001b[1;33m(\u001b[0m\u001b[0mcheckpoint_filepath\u001b[0m\u001b[1;33m)\u001b[0m\u001b[1;33m\u001b[0m\u001b[1;33m\u001b[0m\u001b[0m\n\u001b[0m",
      "\u001b[1;32m~\\anaconda3\\lib\\site-packages\\keras\\utils\\traceback_utils.py\u001b[0m in \u001b[0;36merror_handler\u001b[1;34m(*args, **kwargs)\u001b[0m\n\u001b[0;32m     65\u001b[0m     \u001b[1;32mexcept\u001b[0m \u001b[0mException\u001b[0m \u001b[1;32mas\u001b[0m \u001b[0me\u001b[0m\u001b[1;33m:\u001b[0m  \u001b[1;31m# pylint: disable=broad-except\u001b[0m\u001b[1;33m\u001b[0m\u001b[1;33m\u001b[0m\u001b[0m\n\u001b[0;32m     66\u001b[0m       \u001b[0mfiltered_tb\u001b[0m \u001b[1;33m=\u001b[0m \u001b[0m_process_traceback_frames\u001b[0m\u001b[1;33m(\u001b[0m\u001b[0me\u001b[0m\u001b[1;33m.\u001b[0m\u001b[0m__traceback__\u001b[0m\u001b[1;33m)\u001b[0m\u001b[1;33m\u001b[0m\u001b[1;33m\u001b[0m\u001b[0m\n\u001b[1;32m---> 67\u001b[1;33m       \u001b[1;32mraise\u001b[0m \u001b[0me\u001b[0m\u001b[1;33m.\u001b[0m\u001b[0mwith_traceback\u001b[0m\u001b[1;33m(\u001b[0m\u001b[0mfiltered_tb\u001b[0m\u001b[1;33m)\u001b[0m \u001b[1;32mfrom\u001b[0m \u001b[1;32mNone\u001b[0m\u001b[1;33m\u001b[0m\u001b[1;33m\u001b[0m\u001b[0m\n\u001b[0m\u001b[0;32m     68\u001b[0m     \u001b[1;32mfinally\u001b[0m\u001b[1;33m:\u001b[0m\u001b[1;33m\u001b[0m\u001b[1;33m\u001b[0m\u001b[0m\n\u001b[0;32m     69\u001b[0m       \u001b[1;32mdel\u001b[0m \u001b[0mfiltered_tb\u001b[0m\u001b[1;33m\u001b[0m\u001b[1;33m\u001b[0m\u001b[0m\n",
      "\u001b[1;32m~\\anaconda3\\lib\\site-packages\\tensorflow\\python\\training\\py_checkpoint_reader.py\u001b[0m in \u001b[0;36merror_translator\u001b[1;34m(e)\u001b[0m\n\u001b[0;32m     33\u001b[0m       \u001b[1;34m'Failed to find any '\u001b[0m\u001b[1;33m\u001b[0m\u001b[1;33m\u001b[0m\u001b[0m\n\u001b[0;32m     34\u001b[0m       'matching files for') in error_message:\n\u001b[1;32m---> 35\u001b[1;33m     \u001b[1;32mraise\u001b[0m \u001b[0merrors_impl\u001b[0m\u001b[1;33m.\u001b[0m\u001b[0mNotFoundError\u001b[0m\u001b[1;33m(\u001b[0m\u001b[1;32mNone\u001b[0m\u001b[1;33m,\u001b[0m \u001b[1;32mNone\u001b[0m\u001b[1;33m,\u001b[0m \u001b[0merror_message\u001b[0m\u001b[1;33m)\u001b[0m\u001b[1;33m\u001b[0m\u001b[1;33m\u001b[0m\u001b[0m\n\u001b[0m\u001b[0;32m     36\u001b[0m   elif 'Sliced checkpoints are not supported' in error_message or (\n\u001b[0;32m     37\u001b[0m       \u001b[1;34m'Data type '\u001b[0m\u001b[1;33m\u001b[0m\u001b[1;33m\u001b[0m\u001b[0m\n",
      "\u001b[1;31mNotFoundError\u001b[0m: Unsuccessful TensorSliceReader constructor: Failed to find any matching files for ./Checkpoint/checkpoint"
     ]
    }
   ],
   "source": [
    "model.load_weights(checkpoint_filepath)"
   ]
  },
  {
   "cell_type": "code",
   "execution_count": 86,
   "id": "1f4cc737",
   "metadata": {},
   "outputs": [
    {
     "data": {
      "text/plain": [
       "array([0, 3, 3, 3, 3, 3, 2, 1, 2, 1, 3, 3, 3, 3, 3, 3, 1, 3, 4, 1, 3, 1,\n",
       "       3, 2, 2, 0, 4, 3, 0, 0, 5, 5, 1, 2, 4, 3, 2, 3, 0, 0, 3, 3, 3, 2,\n",
       "       3, 0, 1, 2, 0, 0, 3, 0, 3, 3, 5, 5, 3, 2, 4, 3, 3, 2, 0, 0, 3, 0,\n",
       "       3, 0, 0, 2, 5, 5, 1, 0, 3, 5, 1, 2, 0, 3, 4, 3, 2, 5, 1, 0, 2, 4,\n",
       "       0, 3, 5, 2, 3, 3, 4, 4, 2, 4, 1, 0, 1, 3, 4, 1, 0, 2, 2, 1, 3, 4,\n",
       "       3, 0, 0, 0, 1, 4, 0, 2, 1, 2, 5, 0, 2, 0, 0, 0, 3, 3, 0, 1, 5, 3,\n",
       "       4, 1, 5, 5, 0, 2, 3, 3, 1, 1, 0, 3, 0, 0, 5, 5, 5, 4, 1, 0, 0, 5,\n",
       "       0, 2, 2, 3, 0, 0, 4, 3, 3, 3, 2, 0, 5, 0, 0, 1, 1, 3, 1, 5, 1, 4,\n",
       "       1, 0, 0, 1, 1, 1, 3, 0, 3, 1, 2, 1, 1, 5, 2, 3, 5, 0, 4, 3, 3, 5,\n",
       "       3, 1, 1, 0, 3, 1, 1, 3, 3, 3, 0, 5, 3, 1, 1, 3, 3, 5, 0, 0, 0, 3,\n",
       "       0, 3, 3, 3, 5, 0, 1, 3, 1, 2, 3, 3, 1, 1, 0, 3, 3, 2, 3, 1, 1, 0,\n",
       "       3, 3, 5, 2, 3, 1, 1, 0, 1, 2, 3, 0, 1, 4, 4, 0, 1, 1, 1, 1, 5, 0,\n",
       "       0, 0, 3, 3, 1, 4, 5, 3, 4, 0, 1, 3, 0, 3, 4, 3, 0, 5, 0, 4, 3, 5,\n",
       "       3, 0, 3, 0, 3, 5, 3, 1, 5, 3, 3, 0, 5, 0, 3, 3, 2, 1, 0, 5, 4, 3,\n",
       "       1, 1, 3, 0, 0, 1, 3, 4, 3, 2, 0, 3, 3, 4, 1, 5, 4, 2, 2, 4, 3, 3,\n",
       "       0, 3, 3, 0, 1, 2, 2, 1, 5, 2, 3, 1, 0, 3, 2, 1, 3, 0, 0, 3, 1, 1,\n",
       "       0, 5, 5, 2, 3, 1, 1, 1, 5, 1, 5, 3, 0, 3, 0, 2, 2, 1, 4, 3, 1, 1,\n",
       "       0, 5, 2, 3, 1, 2, 1, 3, 2, 1, 0, 2, 2, 3, 0, 5, 3, 1, 3, 2, 0, 3,\n",
       "       2, 1, 1, 3, 0, 3, 3, 2, 0, 3, 0, 2, 1, 1, 4, 3, 3, 5, 1, 5, 2, 0,\n",
       "       0, 2, 3, 0, 5, 1, 0, 0, 2, 3, 3, 5, 4, 0, 1, 3, 3, 5, 3, 0, 2, 1,\n",
       "       3, 1, 1, 2, 1, 0, 2, 3, 2, 3, 1, 3, 3, 2, 1, 1, 2, 5, 3, 0, 1, 2,\n",
       "       1, 4, 0, 5, 4, 0, 3, 0, 2, 1, 0, 5, 3, 3, 3, 3, 0, 3, 1, 0, 0, 0,\n",
       "       3, 1, 4, 3, 0, 5, 4, 1, 2, 1, 1, 1, 1, 4, 1, 3, 0, 4, 3, 2, 4, 0,\n",
       "       5, 0, 3, 2, 0, 3, 3, 0, 5, 0, 3, 0, 4, 3, 0, 0, 3, 3, 4, 3, 3, 5,\n",
       "       2, 3, 3, 2, 3, 3, 0, 5, 3, 0, 3, 4, 1, 2, 3, 3, 0, 1, 0, 5, 0, 3,\n",
       "       3, 0, 1, 0, 3, 4, 3, 0, 2, 2, 1, 0, 0, 5, 0, 3, 0, 2, 5, 1, 1, 3,\n",
       "       4, 3, 3, 3, 3, 5, 3, 1, 0, 0, 1, 3, 5, 1, 1, 1, 1, 3, 3, 1, 0, 3,\n",
       "       3, 1, 0, 0, 1, 4, 0, 0, 1, 3, 3, 4, 4, 2, 4, 1, 3, 5, 3, 1, 3, 3,\n",
       "       5, 3, 3, 2, 0, 0, 5, 1, 1], dtype=int64)"
      ]
     },
     "execution_count": 86,
     "metadata": {},
     "output_type": "execute_result"
    }
   ],
   "source": [
    "predict = model.predict(TEST)\n",
    "predict_class = np.argmax(predict, axis=1)\n",
    "predict_class = np.array(predict_class)\n",
    "predict_class"
   ]
  },
  {
   "cell_type": "code",
   "execution_count": 87,
   "id": "07fbb8f2",
   "metadata": {},
   "outputs": [
    {
     "data": {
      "text/plain": [
       "array([[ 74,  16,   8,  15,   1,   0],\n",
       "       [ 28,  54,   6,  20,   6,   5],\n",
       "       [ 10,  16,  33,   7,   1,   6],\n",
       "       [  8,  13,   9, 120,  13,   2],\n",
       "       [  8,   7,  12,  21,  22,   1],\n",
       "       [  8,  16,   5,   1,   4,  49]], dtype=int64)"
      ]
     },
     "execution_count": 87,
     "metadata": {},
     "output_type": "execute_result"
    }
   ],
   "source": [
    "from sklearn.metrics import confusion_matrix\n",
    "\n",
    "cm = confusion_matrix(test_df[\"labels\"], predict_class)\n",
    "cm"
   ]
  },
  {
   "cell_type": "code",
   "execution_count": 88,
   "id": "d6d34c1e",
   "metadata": {},
   "outputs": [
    {
     "data": {
      "text/plain": [
       "<AxesSubplot:>"
      ]
     },
     "execution_count": 88,
     "metadata": {},
     "output_type": "execute_result"
    },
    {
     "data": {
      "image/png": "[encoded data removed]",
      "text/plain": [
       "<Figure size 720x504 with 2 Axes>"
      ]
     },
     "metadata": {
      "needs_background": "light"
     },
     "output_type": "display_data"
    }
   ],
   "source": [
    "df_cm = pd.DataFrame(cm, index=[\"anger\", \"fear\", \"joy\", \"disgust\", \"sadness\", \"surprise\"], columns=[\"anger\", \"fear\", \"joy\", \"disgust\", \"sadness\", \"surprise\"])\n",
    "plt.figure(figsize = (10,7))\n",
    "sns.heatmap(df_cm,annot=True, fmt =\"d\")"
   ]
  },
  {
   "cell_type": "code",
   "execution_count": 89,
   "id": "cc35fbc5",
   "metadata": {},
   "outputs": [
    {
     "name": "stdout",
     "output_type": "stream",
     "text": [
      "              precision    recall  f1-score   support\n",
      "\n",
      "       anger       0.54      0.65      0.59       114\n",
      "        fear       0.44      0.45      0.45       119\n",
      "         joy       0.45      0.45      0.45        73\n",
      "     disgust       0.65      0.73      0.69       165\n",
      "     sadness       0.47      0.31      0.37        71\n",
      "    surprise       0.78      0.59      0.67        83\n",
      "\n",
      "    accuracy                           0.56       625\n",
      "   macro avg       0.56      0.53      0.54       625\n",
      "weighted avg       0.56      0.56      0.56       625\n",
      "\n"
     ]
    }
   ],
   "source": [
    "from sklearn.metrics import classification_report\n",
    "\n",
    "print(classification_report(test_df[\"labels\"], predict_class, target_names =[\"anger\", \"fear\", \"joy\", \"disgust\", \"sadness\", \"surprise\"]))"
   ]
  },
  {
   "cell_type": "code",
   "execution_count": null,
   "id": "6ee1c297",
   "metadata": {},
   "outputs": [],
   "source": []
  },
  {
   "cell_type": "code",
   "execution_count": null,
   "id": "39a12f68",
   "metadata": {},
   "outputs": [],
   "source": []
  },
  {
   "cell_type": "code",
   "execution_count": null,
   "id": "5e7d5307",
   "metadata": {},
   "outputs": [],
   "source": []
  },
  {
   "cell_type": "code",
   "execution_count": null,
   "id": "b5a2a25e",
   "metadata": {},
   "outputs": [],
   "source": []
  }
 ],
 "metadata": {
  "kernelspec": {
   "display_name": "Python 3 (ipykernel)",
   "language": "python",
   "name": "python3"
  },
  "language_info": {
   "codemirror_mode": {
    "name": "ipython",
    "version": 3
   },
   "file_extension": ".py",
   "mimetype": "text/x-python",
   "name": "python",
   "nbconvert_exporter": "python",
   "pygments_lexer": "ipython3",
   "version": "3.9.7"
  }
 },
 "nbformat": 4,
 "nbformat_minor": 5
}
