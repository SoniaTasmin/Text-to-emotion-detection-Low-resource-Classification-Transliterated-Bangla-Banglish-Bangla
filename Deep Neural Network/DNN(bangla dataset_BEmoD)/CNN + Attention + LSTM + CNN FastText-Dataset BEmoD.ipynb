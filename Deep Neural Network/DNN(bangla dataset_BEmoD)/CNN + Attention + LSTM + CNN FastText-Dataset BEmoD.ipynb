{
 "cells": [
  {
   "cell_type": "code",
   "execution_count": 62,
   "id": "0d5f9be8",
   "metadata": {},
   "outputs": [],
   "source": [
    "import re\n",
    "import tqdm\n",
    "import numpy as np\n",
    "import pandas as pd\n",
    "import seaborn as sns\n",
    "import matplotlib.pyplot as plt"
   ]
  },
  {
   "cell_type": "code",
   "execution_count": 63,
   "id": "c6366948",
   "metadata": {},
   "outputs": [],
   "source": [
    "#reading dataset\n",
    "train_df = pd.read_excel('trainv1.xlsx') \n",
    "#val_df = pd.read_excel('val.xlsx')\n",
    "test_df = pd.read_excel('test.xlsx')"
   ]
  },
  {
   "cell_type": "code",
   "execution_count": 64,
   "id": "b71de20d",
   "metadata": {},
   "outputs": [
    {
     "data": {
      "text/html": [
       "<div>\n",
       "<style scoped>\n",
       "    .dataframe tbody tr th:only-of-type {\n",
       "        vertical-align: middle;\n",
       "    }\n",
       "\n",
       "    .dataframe tbody tr th {\n",
       "        vertical-align: top;\n",
       "    }\n",
       "\n",
       "    .dataframe thead th {\n",
       "        text-align: right;\n",
       "    }\n",
       "</style>\n",
       "<table border=\"1\" class=\"dataframe\">\n",
       "  <thead>\n",
       "    <tr style=\"text-align: right;\">\n",
       "      <th></th>\n",
       "      <th>Unnamed: 0</th>\n",
       "      <th>cleaned</th>\n",
       "      <th>classes</th>\n",
       "      <th>labels</th>\n",
       "    </tr>\n",
       "  </thead>\n",
       "  <tbody>\n",
       "    <tr>\n",
       "      <th>0</th>\n",
       "      <td>0</td>\n",
       "      <td>মেডিকেলে এসে ঠিক ফ্যামিলির ফটো ফ্রেম এর মতো মন...</td>\n",
       "      <td>sadness</td>\n",
       "      <td>1</td>\n",
       "    </tr>\n",
       "    <tr>\n",
       "      <th>1</th>\n",
       "      <td>1</td>\n",
       "      <td>অনেক দিন পর অন্য রকম অনুভূতি হচ্ছে  কেননা আমার...</td>\n",
       "      <td>sadness</td>\n",
       "      <td>1</td>\n",
       "    </tr>\n",
       "    <tr>\n",
       "      <th>2</th>\n",
       "      <td>2</td>\n",
       "      <td>আগে যতোটা বেশি পছন্দ করতাম দুশ্চরিত্রা মিথিলা ...</td>\n",
       "      <td>disgust</td>\n",
       "      <td>3</td>\n",
       "    </tr>\n",
       "    <tr>\n",
       "      <th>3</th>\n",
       "      <td>3</td>\n",
       "      <td>মাঝে মাঝে মনে হয় তোমাকে চাওয়াটা অনেক ভুল হয়ত ভ...</td>\n",
       "      <td>sadness</td>\n",
       "      <td>1</td>\n",
       "    </tr>\n",
       "    <tr>\n",
       "      <th>4</th>\n",
       "      <td>4</td>\n",
       "      <td>এখানে কাওকে কবর দিয়ো না তাহলে তোমাদের পরিবারের...</td>\n",
       "      <td>fear</td>\n",
       "      <td>5</td>\n",
       "    </tr>\n",
       "  </tbody>\n",
       "</table>\n",
       "</div>"
      ],
      "text/plain": [
       "   Unnamed: 0                                            cleaned  classes  \\\n",
       "0           0  মেডিকেলে এসে ঠিক ফ্যামিলির ফটো ফ্রেম এর মতো মন...  sadness   \n",
       "1           1  অনেক দিন পর অন্য রকম অনুভূতি হচ্ছে  কেননা আমার...  sadness   \n",
       "2           2  আগে যতোটা বেশি পছন্দ করতাম দুশ্চরিত্রা মিথিলা ...  disgust   \n",
       "3           3  মাঝে মাঝে মনে হয় তোমাকে চাওয়াটা অনেক ভুল হয়ত ভ...  sadness   \n",
       "4           4  এখানে কাওকে কবর দিয়ো না তাহলে তোমাদের পরিবারের...     fear   \n",
       "\n",
       "   labels  \n",
       "0       1  \n",
       "1       1  \n",
       "2       3  \n",
       "3       1  \n",
       "4       5  "
      ]
     },
     "execution_count": 64,
     "metadata": {},
     "output_type": "execute_result"
    }
   ],
   "source": [
    "train_df.head()"
   ]
  },
  {
   "cell_type": "code",
   "execution_count": 65,
   "id": "5f70cdf8",
   "metadata": {},
   "outputs": [
    {
     "name": "stdout",
     "output_type": "stream",
     "text": [
      "<class 'pandas.core.frame.DataFrame'>\n",
      "RangeIndex: 5618 entries, 0 to 5617\n",
      "Data columns (total 4 columns):\n",
      " #   Column      Non-Null Count  Dtype \n",
      "---  ------      --------------  ----- \n",
      " 0   Unnamed: 0  5618 non-null   int64 \n",
      " 1   cleaned     5618 non-null   object\n",
      " 2   classes     5618 non-null   object\n",
      " 3   labels      5618 non-null   int64 \n",
      "dtypes: int64(2), object(2)\n",
      "memory usage: 175.7+ KB\n",
      "\n",
      "<class 'pandas.core.frame.DataFrame'>\n",
      "RangeIndex: 625 entries, 0 to 624\n",
      "Data columns (total 4 columns):\n",
      " #   Column      Non-Null Count  Dtype \n",
      "---  ------      --------------  ----- \n",
      " 0   Unnamed: 0  625 non-null    int64 \n",
      " 1   cleaned     625 non-null    object\n",
      " 2   classes     625 non-null    object\n",
      " 3   labels      625 non-null    int64 \n",
      "dtypes: int64(2), object(2)\n",
      "memory usage: 19.7+ KB\n",
      "\n"
     ]
    }
   ],
   "source": [
    "#checking for ull values\n",
    "train_df.info()\n",
    "print()\n",
    "test_df.info()\n",
    "print()\n",
    "#val_df.info()\n",
    "#print()"
   ]
  },
  {
   "cell_type": "code",
   "execution_count": 66,
   "id": "f7dc5157",
   "metadata": {},
   "outputs": [
    {
     "data": {
      "text/plain": [
       "disgust     1388\n",
       "sadness     1071\n",
       "joy         1028\n",
       "fear         789\n",
       "anger        688\n",
       "surprise     654\n",
       "Name: classes, dtype: int64"
      ]
     },
     "execution_count": 66,
     "metadata": {},
     "output_type": "execute_result"
    }
   ],
   "source": [
    "train_df[\"classes\"].value_counts()"
   ]
  },
  {
   "cell_type": "code",
   "execution_count": 67,
   "id": "7d5d210e",
   "metadata": {},
   "outputs": [
    {
     "data": {
      "text/plain": [
       "disgust     165\n",
       "sadness     119\n",
       "joy         114\n",
       "fear         83\n",
       "surprise     73\n",
       "anger        71\n",
       "Name: classes, dtype: int64"
      ]
     },
     "execution_count": 67,
     "metadata": {},
     "output_type": "execute_result"
    }
   ],
   "source": [
    "test_df[\"classes\"].value_counts()"
   ]
  },
  {
   "cell_type": "code",
   "execution_count": 68,
   "id": "3f417088",
   "metadata": {},
   "outputs": [],
   "source": [
    "#val_df[\"classes\"].value_counts()"
   ]
  },
  {
   "cell_type": "code",
   "execution_count": 69,
   "id": "053b4540",
   "metadata": {},
   "outputs": [
    {
     "name": "stdout",
     "output_type": "stream",
     "text": [
      "অনেক দিন পর অন্য রকম অনুভূতি হচ্ছে  কেননা আমার সদ্য পাশ করা শিক্ষার্থীর মত এখন আমিও বেকার বেকার পরিচয় দিয়ে আম্মার কাছ থেকে আজ পঞ্চাশ টাকা ডাকাতি করলাম \n"
     ]
    }
   ],
   "source": [
    "#sample text from dataset\n",
    "sample = train_df[\"cleaned\"][1]\n",
    "print(sample)"
   ]
  },
  {
   "cell_type": "code",
   "execution_count": 70,
   "id": "46623438",
   "metadata": {},
   "outputs": [],
   "source": [
    "x_train, x_test, y_train, y_test = train_df[\"cleaned\"], test_df[\"cleaned\"], train_df[\"labels\"], test_df[\"labels\"]"
   ]
  },
  {
   "cell_type": "code",
   "execution_count": 71,
   "id": "cb81d142",
   "metadata": {},
   "outputs": [],
   "source": [
    "from keras.utils import np_utils\n",
    "from keras.preprocessing.text import Tokenizer\n",
    "from keras.preprocessing.sequence import pad_sequences\n",
    "\n",
    "import tensorflow as tf\n",
    "from keras import layers\n",
    "from keras.models import Sequential\n",
    "\n",
    "EPOCHS= 35\n",
    "act= \"swish\"\n",
    "opt= tf.keras.optimizers.Adam(learning_rate=0.001)"
   ]
  },
  {
   "cell_type": "code",
   "execution_count": 72,
   "id": "5b775aeb",
   "metadata": {},
   "outputs": [],
   "source": [
    "#converting text to vectors via tokenization\n",
    "tokenizer = Tokenizer()\n",
    "tokenizer.fit_on_texts(x_train)\n",
    "\n",
    "X_train = tokenizer.texts_to_sequences(x_train)\n",
    "X_test = tokenizer.texts_to_sequences(x_test)\n",
    "TEST = tokenizer.texts_to_sequences(test_df[\"cleaned\"]) \n",
    "\n",
    "vocab_size = len(tokenizer.word_index) + 1 "
   ]
  },
  {
   "cell_type": "code",
   "execution_count": 73,
   "id": "79603d3f",
   "metadata": {},
   "outputs": [
    {
     "name": "stdout",
     "output_type": "stream",
     "text": [
      "Max len: 215\n"
     ]
    }
   ],
   "source": [
    "#calculating max length of the vector\n",
    "lens_train = [len(i) for i in X_train]\n",
    "lens_test = [len(i) for i in X_test]\n",
    "lens = lens_train + lens_test\n",
    "\n",
    "maxlen = np.max(lens)\n",
    "\n",
    "print('Max len:', maxlen)"
   ]
  },
  {
   "cell_type": "code",
   "execution_count": 74,
   "id": "bb495e40",
   "metadata": {},
   "outputs": [],
   "source": [
    "#Zero padding every vector so that they are the same size\n",
    "X_train = pad_sequences(X_train, padding='post', maxlen=maxlen)\n",
    "X_test = pad_sequences(X_test, padding='post', maxlen=maxlen)\n",
    "TEST = pad_sequences(TEST, padding='post', maxlen=maxlen)"
   ]
  },
  {
   "cell_type": "code",
   "execution_count": 75,
   "id": "bbfc3acc",
   "metadata": {},
   "outputs": [],
   "source": [
    "#One Hot Encoding integer labels\n",
    "dummy_y_test = np_utils.to_categorical(y_test)\n",
    "dummy_y_train = np_utils.to_categorical(y_train)"
   ]
  },
  {
   "cell_type": "code",
   "execution_count": 76,
   "id": "a914d44d",
   "metadata": {},
   "outputs": [],
   "source": [
    "#reading fasttext\n",
    "def get_embedding_vectors(tokenizer, dim=300):\n",
    "    embedding_index = {}\n",
    "    with open('cc.bn.300.vec','r', encoding=\"cp437\", errors='ignore') as f:\n",
    "        for line in tqdm.tqdm(f, \"Reading fasttext\"):\n",
    "            values = line.split()\n",
    "            word = ''.join(values[:-300])\n",
    "            vectors = np.asarray(values[-300:], dtype='float32')\n",
    "            embedding_index[word] = vectors\n",
    "\n",
    "    word_index = tokenizer.word_index\n",
    "    embedding_matrix = np.zeros((len(word_index)+1, dim))\n",
    "    for word, i in word_index.items():\n",
    "        embedding_vector = embedding_index.get(word)\n",
    "        if embedding_vector is not None:\n",
    "            # words not found will be 0s\n",
    "            embedding_matrix[i] = embedding_vector\n",
    "          \n",
    "    return embedding_matrix"
   ]
  },
  {
   "cell_type": "code",
   "execution_count": 77,
   "id": "c7afb8fc",
   "metadata": {},
   "outputs": [
    {
     "name": "stderr",
     "output_type": "stream",
     "text": [
      "Reading fasttext: 1468579it [01:19, 18454.34it/s]\n"
     ]
    }
   ],
   "source": [
    "embedding_matrix = get_embedding_vectors(tokenizer)"
   ]
  },
  {
   "cell_type": "code",
   "execution_count": 78,
   "id": "96748bb2",
   "metadata": {},
   "outputs": [
    {
     "data": {
      "text/plain": [
       "<keras.layers.dense_attention.Attention at 0x243caa2b850>"
      ]
     },
     "execution_count": 78,
     "metadata": {},
     "output_type": "execute_result"
    }
   ],
   "source": [
    "tf.keras.layers.Attention(\n",
    "    use_scale=False,\n",
    ")"
   ]
  },
  {
   "cell_type": "code",
   "execution_count": 79,
   "id": "a72730a5",
   "metadata": {},
   "outputs": [
    {
     "name": "stdout",
     "output_type": "stream",
     "text": [
      "Model: \"sequential_3\"\n",
      "_________________________________________________________________\n",
      " Layer (type)                Output Shape              Param #   \n",
      "=================================================================\n",
      " embedding_5 (Embedding)     (None, 215, 300)          7426200   \n",
      "                                                                 \n",
      " dropout_3 (Dropout)         (None, 215, 300)          0         \n",
      "                                                                 \n",
      " conv1d_6 (Conv1D)           (None, 213, 64)           57664     \n",
      "                                                                 \n",
      " max_pooling1d_2 (MaxPooling  (None, 71, 64)           0         \n",
      " 1D)                                                             \n",
      "                                                                 \n",
      " dropout_4 (Dropout)         (None, 71, 64)            0         \n",
      "                                                                 \n",
      " conv1d_7 (Conv1D)           (None, 69, 64)            12352     \n",
      "                                                                 \n",
      " max_pooling1d_3 (MaxPooling  (None, 23, 64)           0         \n",
      " 1D)                                                             \n",
      "                                                                 \n",
      " dropout_5 (Dropout)         (None, 23, 64)            0         \n",
      "                                                                 \n",
      " flatten_1 (Flatten)         (None, 1472)              0         \n",
      "                                                                 \n",
      " dense_3 (Dense)             (None, 64)                94272     \n",
      "                                                                 \n",
      " dense_4 (Dense)             (None, 10)                650       \n",
      "                                                                 \n",
      " dense_5 (Dense)             (None, 6)                 66        \n",
      "                                                                 \n",
      "=================================================================\n",
      "Total params: 7,591,204\n",
      "Trainable params: 7,591,204\n",
      "Non-trainable params: 0\n",
      "_________________________________________________________________\n"
     ]
    }
   ],
   "source": [
    "# Variable-length int sequences.\n",
    "query_input = tf.keras.Input(shape=(None,), dtype='int32')\n",
    "value_input = tf.keras.Input(shape=(None,), dtype='int32')\n",
    "\n",
    "# Embedding lookup.\n",
    "token_embedding = tf.keras.layers.Embedding(input_dim=vocab_size, output_dim=300)\n",
    "# Query embeddings of shape [batch_size, Tq, dimension].\n",
    "query_embeddings = token_embedding(query_input)\n",
    "# Value embeddings of shape [batch_size, Tv, dimension].\n",
    "value_embeddings = token_embedding(value_input)\n",
    "\n",
    "# CNN layer.\n",
    "cnn_layer = tf.keras.layers.Conv1D(\n",
    "    filters=64,\n",
    "    kernel_size=3,\n",
    "    # Use 'same' padding so outputs have the same shape as inputs.\n",
    "    padding='same')\n",
    "# Query encoding of shape [batch_size, Tq, filters].\n",
    "query_seq_encoding = cnn_layer(query_embeddings)\n",
    "# Value encoding of shape [batch_size, Tv, filters].\n",
    "value_seq_encoding = cnn_layer(value_embeddings)\n",
    "\n",
    "# Query-value attention of shape [batch_size, Tq, filters].\n",
    "query_value_attention_seq = tf.keras.layers.Attention()(\n",
    "    [query_seq_encoding, value_seq_encoding])\n",
    "\n",
    "# Reduce over the sequence axis to produce encodings of shape\n",
    "# [batch_size, filters].\n",
    "query_encoding = tf.keras.layers.GlobalAveragePooling1D()(\n",
    "    query_seq_encoding)\n",
    "query_value_attention = tf.keras.layers.GlobalAveragePooling1D()(\n",
    "    query_value_attention_seq)\n",
    "\n",
    "# Concatenate query and document encodings to produce a DNN input layer.\n",
    "input_layer = tf.keras.layers.Concatenate()(\n",
    "    [query_encoding, query_value_attention])\n",
    "\n",
    "# Add DNN layers, and create Model.\n",
    "# ..\n",
    "embedding_dim = 300\n",
    "model = Sequential()\n",
    "model.add(layers.Embedding(input_dim=vocab_size, output_dim=embedding_dim, weights = [embedding_matrix], input_length=maxlen))\n",
    "model.add(layers.Dropout(0.3)) \n",
    "model.add(layers.Conv1D(filters=64, kernel_size=3, activation=act)) \n",
    "model.add(layers.MaxPool1D(pool_size=3)) \n",
    "model.add(layers.Dropout(0.3))\n",
    "model.add(layers.Conv1D(filters=64, kernel_size=3, activation=act)) \n",
    "model.add(layers.MaxPool1D(pool_size=3)) \n",
    "model.add(layers.Dropout(0.3))\n",
    "model.add(layers.Flatten())\n",
    "model.add(layers.Dense(64, activation='relu'))\n",
    "model.add(layers.Dense(10))\n",
    "model.add(layers.Dense(6, activation=\"softmax\"))\n",
    "model.compile(optimizer=opt, loss=\"categorical_crossentropy\",metrics=[\"accuracy\"])\n",
    "model.summary()"
   ]
  },
  {
   "cell_type": "code",
   "execution_count": 80,
   "id": "f6f475f3",
   "metadata": {},
   "outputs": [],
   "source": [
    "file_path = \"best_model1.hdf5\"\n",
    "\n",
    "def build_model(lr = 0.0, lr_d = 0.0, units = 0, dr = 0.0):\n",
    "    inp = Input(shape = (max_len,))\n",
    "    x = Embedding(19479, embed_size, weights = [embedding_matrix], trainable = False)(inp)\n",
    "    x1 = SpatialDropout1D(dr)(x)\n",
    "    \n",
    "    x3 = Conv1D(32, kernel_size=2, padding='valid', kernel_initializer='he_uniform')(x_lstm)\n",
    "    avg_pool3_lstm = GlobalAveragePooling1D()(x3)\n",
    "    max_pool3_lstm = GlobalMaxPooling1D()(x3)\n",
    "    \n",
    "    \n",
    "    x = concatenate([avg_pool1_gru, max_pool1_gru, avg_pool3_gru, max_pool3_gru,\n",
    "                    avg_pool1_lstm, max_pool1_lstm, avg_pool3_lstm, max_pool3_lstm])\n",
    "    x = BatchNormalization()(x)\n",
    "    x = Dropout(0.2)(Dense(128,activation='relu') (x))\n",
    "    x = BatchNormalization()(x)\n",
    "    x = Dropout(0.2)(Dense(100,activation='relu') (x))\n",
    "    x = Dense(6, activation = \"softmax\")(x)\n",
    "    model = Model(inputs = inp, outputs = x)\n",
    "    model.compile(loss = \"categorical_crossentropy\", optimizer = Adam(lr = lr, decay = lr_d), metrics = [\"accuracy\"])\n",
    "    history = model.fit(X_train, y_ohe, batch_size = 128, epochs = 15, validation_split=0.1, \n",
    "                        verbose = 1, callbacks = [check_point, early_stop])\n",
    "    model = load_model(file_path)\n",
    "    return model\n"
   ]
  },
  {
   "cell_type": "code",
   "execution_count": 81,
   "id": "079b4cb1",
   "metadata": {},
   "outputs": [],
   "source": [
    "checkpoint_filepath = './Checkpoint/a'\n",
    "model_checkpoint_callback = tf.keras.callbacks.ModelCheckpoint(\n",
    "    filepath=checkpoint_filepath,\n",
    "    save_weights_only=True,\n",
    "    monitor='test_accuracy',\n",
    "    mode='max',\n",
    "    save_best_only=True)"
   ]
  },
  {
   "cell_type": "code",
   "execution_count": 82,
   "id": "0fbfa69e",
   "metadata": {},
   "outputs": [
    {
     "name": "stdout",
     "output_type": "stream",
     "text": [
      "Epoch 1/35\n",
      "703/703 [==============================] - ETA: 0s - loss: 1.6232 - accuracy: 0.3234WARNING:tensorflow:Can save best model only with test_accuracy available, skipping.\n",
      "703/703 [==============================] - 43s 60ms/step - loss: 1.6232 - accuracy: 0.3234 - val_loss: 1.3929 - val_accuracy: 0.4672\n",
      "Epoch 2/35\n",
      "703/703 [==============================] - ETA: 0s - loss: 1.1070 - accuracy: 0.5548WARNING:tensorflow:Can save best model only with test_accuracy available, skipping.\n",
      "703/703 [==============================] - 42s 60ms/step - loss: 1.1070 - accuracy: 0.5548 - val_loss: 1.2928 - val_accuracy: 0.5152\n",
      "Epoch 3/35\n",
      "703/703 [==============================] - ETA: 0s - loss: 0.6455 - accuracy: 0.7528WARNING:tensorflow:Can save best model only with test_accuracy available, skipping.\n",
      "703/703 [==============================] - 42s 60ms/step - loss: 0.6455 - accuracy: 0.7528 - val_loss: 1.4929 - val_accuracy: 0.5696\n",
      "Epoch 4/35\n",
      "703/703 [==============================] - ETA: 0s - loss: 0.3137 - accuracy: 0.8861WARNING:tensorflow:Can save best model only with test_accuracy available, skipping.\n",
      "703/703 [==============================] - 42s 60ms/step - loss: 0.3137 - accuracy: 0.8861 - val_loss: 1.7363 - val_accuracy: 0.5344\n",
      "Epoch 5/35\n",
      "703/703 [==============================] - ETA: 0s - loss: 0.1413 - accuracy: 0.9555WARNING:tensorflow:Can save best model only with test_accuracy available, skipping.\n",
      "703/703 [==============================] - 42s 60ms/step - loss: 0.1413 - accuracy: 0.9555 - val_loss: 2.4200 - val_accuracy: 0.5280\n",
      "Epoch 6/35\n",
      "703/703 [==============================] - ETA: 0s - loss: 0.0831 - accuracy: 0.9781WARNING:tensorflow:Can save best model only with test_accuracy available, skipping.\n",
      "703/703 [==============================] - 42s 60ms/step - loss: 0.0831 - accuracy: 0.9781 - val_loss: 2.3688 - val_accuracy: 0.5664\n",
      "Epoch 7/35\n",
      "703/703 [==============================] - ETA: 0s - loss: 0.0616 - accuracy: 0.9845WARNING:tensorflow:Can save best model only with test_accuracy available, skipping.\n",
      "703/703 [==============================] - 42s 60ms/step - loss: 0.0616 - accuracy: 0.9845 - val_loss: 2.5235 - val_accuracy: 0.5648\n",
      "Epoch 8/35\n",
      "703/703 [==============================] - ETA: 0s - loss: 0.0462 - accuracy: 0.9895WARNING:tensorflow:Can save best model only with test_accuracy available, skipping.\n",
      "703/703 [==============================] - 42s 60ms/step - loss: 0.0462 - accuracy: 0.9895 - val_loss: 2.5907 - val_accuracy: 0.5504\n",
      "Epoch 9/35\n",
      "703/703 [==============================] - ETA: 0s - loss: 0.0408 - accuracy: 0.9890WARNING:tensorflow:Can save best model only with test_accuracy available, skipping.\n",
      "703/703 [==============================] - 42s 60ms/step - loss: 0.0408 - accuracy: 0.9890 - val_loss: 2.6677 - val_accuracy: 0.5536\n",
      "Epoch 10/35\n",
      "703/703 [==============================] - ETA: 0s - loss: 0.0552 - accuracy: 0.9868WARNING:tensorflow:Can save best model only with test_accuracy available, skipping.\n",
      "703/703 [==============================] - 42s 60ms/step - loss: 0.0552 - accuracy: 0.9868 - val_loss: 2.8845 - val_accuracy: 0.5440\n",
      "Epoch 11/35\n",
      "703/703 [==============================] - ETA: 0s - loss: 0.0494 - accuracy: 0.9850WARNING:tensorflow:Can save best model only with test_accuracy available, skipping.\n",
      "703/703 [==============================] - 42s 60ms/step - loss: 0.0494 - accuracy: 0.9850 - val_loss: 2.5129 - val_accuracy: 0.5632\n",
      "Epoch 12/35\n",
      "703/703 [==============================] - ETA: 0s - loss: 0.0386 - accuracy: 0.9909WARNING:tensorflow:Can save best model only with test_accuracy available, skipping.\n",
      "703/703 [==============================] - 42s 60ms/step - loss: 0.0386 - accuracy: 0.9909 - val_loss: 3.0205 - val_accuracy: 0.5568\n",
      "Epoch 13/35\n",
      "703/703 [==============================] - ETA: 0s - loss: 0.0355 - accuracy: 0.9900WARNING:tensorflow:Can save best model only with test_accuracy available, skipping.\n",
      "703/703 [==============================] - 42s 60ms/step - loss: 0.0355 - accuracy: 0.9900 - val_loss: 2.6694 - val_accuracy: 0.5776\n",
      "Epoch 14/35\n",
      "703/703 [==============================] - ETA: 0s - loss: 0.0320 - accuracy: 0.9923WARNING:tensorflow:Can save best model only with test_accuracy available, skipping.\n",
      "703/703 [==============================] - 42s 59ms/step - loss: 0.0320 - accuracy: 0.9923 - val_loss: 2.8204 - val_accuracy: 0.5632\n",
      "Epoch 15/35\n",
      "703/703 [==============================] - ETA: 0s - loss: 0.0329 - accuracy: 0.9900WARNING:tensorflow:Can save best model only with test_accuracy available, skipping.\n",
      "703/703 [==============================] - 42s 60ms/step - loss: 0.0329 - accuracy: 0.9900 - val_loss: 2.8988 - val_accuracy: 0.5664\n",
      "Epoch 16/35\n",
      "703/703 [==============================] - ETA: 0s - loss: 0.0285 - accuracy: 0.9932WARNING:tensorflow:Can save best model only with test_accuracy available, skipping.\n",
      "703/703 [==============================] - 42s 60ms/step - loss: 0.0285 - accuracy: 0.9932 - val_loss: 3.0261 - val_accuracy: 0.5600\n",
      "Epoch 17/35\n",
      "703/703 [==============================] - ETA: 0s - loss: 0.0236 - accuracy: 0.9936WARNING:tensorflow:Can save best model only with test_accuracy available, skipping.\n",
      "703/703 [==============================] - 42s 60ms/step - loss: 0.0236 - accuracy: 0.9936 - val_loss: 2.7756 - val_accuracy: 0.5776\n",
      "Epoch 18/35\n",
      "703/703 [==============================] - ETA: 0s - loss: 0.0344 - accuracy: 0.9900WARNING:tensorflow:Can save best model only with test_accuracy available, skipping.\n",
      "703/703 [==============================] - 42s 60ms/step - loss: 0.0344 - accuracy: 0.9900 - val_loss: 2.6722 - val_accuracy: 0.5808\n",
      "Epoch 19/35\n",
      "703/703 [==============================] - ETA: 0s - loss: 0.0219 - accuracy: 0.9913WARNING:tensorflow:Can save best model only with test_accuracy available, skipping.\n",
      "703/703 [==============================] - 42s 60ms/step - loss: 0.0219 - accuracy: 0.9913 - val_loss: 3.0952 - val_accuracy: 0.5664\n",
      "Epoch 20/35\n",
      "702/703 [============================>.] - ETA: 0s - loss: 0.0320 - accuracy: 0.9911WARNING:tensorflow:Can save best model only with test_accuracy available, skipping.\n",
      "703/703 [==============================] - 42s 60ms/step - loss: 0.0320 - accuracy: 0.9911 - val_loss: 2.6451 - val_accuracy: 0.5904\n",
      "Epoch 21/35\n",
      "703/703 [==============================] - ETA: 0s - loss: 0.0320 - accuracy: 0.9913WARNING:tensorflow:Can save best model only with test_accuracy available, skipping.\n",
      "703/703 [==============================] - 42s 60ms/step - loss: 0.0320 - accuracy: 0.9913 - val_loss: 2.7638 - val_accuracy: 0.5792\n",
      "Epoch 22/35\n",
      "703/703 [==============================] - ETA: 0s - loss: 0.0182 - accuracy: 0.9938WARNING:tensorflow:Can save best model only with test_accuracy available, skipping.\n",
      "703/703 [==============================] - 42s 60ms/step - loss: 0.0182 - accuracy: 0.9938 - val_loss: 2.9454 - val_accuracy: 0.5856\n",
      "Epoch 23/35\n",
      "703/703 [==============================] - ETA: 0s - loss: 0.0199 - accuracy: 0.9943WARNING:tensorflow:Can save best model only with test_accuracy available, skipping.\n",
      "703/703 [==============================] - 42s 60ms/step - loss: 0.0199 - accuracy: 0.9943 - val_loss: 2.6814 - val_accuracy: 0.5776\n",
      "Epoch 24/35\n",
      "703/703 [==============================] - ETA: 0s - loss: 0.0119 - accuracy: 0.9959WARNING:tensorflow:Can save best model only with test_accuracy available, skipping.\n",
      "703/703 [==============================] - 42s 60ms/step - loss: 0.0119 - accuracy: 0.9959 - val_loss: 2.8625 - val_accuracy: 0.5760\n",
      "Epoch 25/35\n",
      "703/703 [==============================] - ETA: 0s - loss: 0.0156 - accuracy: 0.9931WARNING:tensorflow:Can save best model only with test_accuracy available, skipping.\n",
      "703/703 [==============================] - 42s 60ms/step - loss: 0.0156 - accuracy: 0.9931 - val_loss: 4.1145 - val_accuracy: 0.5488\n",
      "Epoch 26/35\n",
      "703/703 [==============================] - ETA: 0s - loss: 0.0320 - accuracy: 0.9909WARNING:tensorflow:Can save best model only with test_accuracy available, skipping.\n",
      "703/703 [==============================] - 42s 60ms/step - loss: 0.0320 - accuracy: 0.9909 - val_loss: 3.5477 - val_accuracy: 0.5680\n",
      "Epoch 27/35\n",
      "703/703 [==============================] - ETA: 0s - loss: 0.0252 - accuracy: 0.9922WARNING:tensorflow:Can save best model only with test_accuracy available, skipping.\n",
      "703/703 [==============================] - 42s 60ms/step - loss: 0.0252 - accuracy: 0.9922 - val_loss: 3.2846 - val_accuracy: 0.5504\n",
      "Epoch 28/35\n",
      "702/703 [============================>.] - ETA: 0s - loss: 0.0263 - accuracy: 0.9936WARNING:tensorflow:Can save best model only with test_accuracy available, skipping.\n",
      "703/703 [==============================] - 42s 60ms/step - loss: 0.0263 - accuracy: 0.9936 - val_loss: 3.2109 - val_accuracy: 0.5728\n",
      "Epoch 29/35\n",
      "702/703 [============================>.] - ETA: 0s - loss: 0.0212 - accuracy: 0.9938WARNING:tensorflow:Can save best model only with test_accuracy available, skipping.\n",
      "703/703 [==============================] - 42s 60ms/step - loss: 0.0211 - accuracy: 0.9938 - val_loss: 3.6865 - val_accuracy: 0.5824\n",
      "Epoch 30/35\n",
      "703/703 [==============================] - ETA: 0s - loss: 0.0243 - accuracy: 0.9929WARNING:tensorflow:Can save best model only with test_accuracy available, skipping.\n",
      "703/703 [==============================] - 42s 60ms/step - loss: 0.0243 - accuracy: 0.9929 - val_loss: 3.0475 - val_accuracy: 0.5856\n",
      "Epoch 31/35\n",
      "703/703 [==============================] - ETA: 0s - loss: 0.0204 - accuracy: 0.9943WARNING:tensorflow:Can save best model only with test_accuracy available, skipping.\n",
      "703/703 [==============================] - 42s 60ms/step - loss: 0.0204 - accuracy: 0.9943 - val_loss: 2.9244 - val_accuracy: 0.5616\n",
      "Epoch 32/35\n",
      "703/703 [==============================] - ETA: 0s - loss: 0.0206 - accuracy: 0.9925WARNING:tensorflow:Can save best model only with test_accuracy available, skipping.\n",
      "703/703 [==============================] - 42s 60ms/step - loss: 0.0206 - accuracy: 0.9925 - val_loss: 3.5972 - val_accuracy: 0.5392\n",
      "Epoch 33/35\n",
      "703/703 [==============================] - ETA: 0s - loss: 0.0272 - accuracy: 0.9927WARNING:tensorflow:Can save best model only with test_accuracy available, skipping.\n",
      "703/703 [==============================] - 42s 60ms/step - loss: 0.0272 - accuracy: 0.9927 - val_loss: 3.9520 - val_accuracy: 0.5648\n",
      "Epoch 34/35\n",
      "703/703 [==============================] - ETA: 0s - loss: 0.0223 - accuracy: 0.9947WARNING:tensorflow:Can save best model only with test_accuracy available, skipping.\n",
      "703/703 [==============================] - 42s 60ms/step - loss: 0.0223 - accuracy: 0.9947 - val_loss: 3.1001 - val_accuracy: 0.5552\n",
      "Epoch 35/35\n",
      "703/703 [==============================] - ETA: 0s - loss: 0.0098 - accuracy: 0.9950WARNING:tensorflow:Can save best model only with test_accuracy available, skipping.\n",
      "703/703 [==============================] - 42s 60ms/step - loss: 0.0098 - accuracy: 0.9950 - val_loss: 3.5435 - val_accuracy: 0.5648\n",
      "Training Accuracy: 0.9970\n",
      "Testing Accuracy:  0.5648\n"
     ]
    }
   ],
   "source": [
    "history = model.fit(X_train, dummy_y_train, epochs=EPOCHS, verbose=1, validation_data=(X_test, dummy_y_test), batch_size=8, callbacks=[model_checkpoint_callback]) \n",
    "loss, accuracy = model.evaluate(X_train, dummy_y_train, verbose=0)\n",
    "print(\"Training Accuracy: {:.4f}\".format(accuracy))\n",
    "loss, accuracy = model.evaluate(X_test, dummy_y_test, verbose=0)\n",
    "print(\"Testing Accuracy:  {:.4f}\".format(accuracy))"
   ]
  },
  {
   "cell_type": "code",
   "execution_count": 83,
   "id": "cb6cbf4b",
   "metadata": {},
   "outputs": [],
   "source": [
    "def PlotGraph(history):\n",
    "    acc = history.history['accuracy']\n",
    "    val_acc = history.history['val_accuracy']\n",
    "    loss = history.history['loss']\n",
    "    val_loss = history.history['val_loss']\n",
    "    x = range(1, len(acc) + 1)\n",
    "\n",
    "    plt.figure(figsize=(12, 5))\n",
    "    plt.subplot(1, 2, 1)\n",
    "    plt.plot(x, acc, 'g', label='Training acc')\n",
    "    plt.plot(x, val_acc, 'b', label='Validation acc')\n",
    "    plt.title('Training and validation accuracy')\n",
    "    plt.legend()\n",
    "    plt.subplot(1, 2, 2)\n",
    "    plt.plot(x, loss, 'g', label='Training loss')\n",
    "    plt.plot(x, val_loss, 'b', label='Validation loss')\n",
    "    plt.title('Training and validation loss')\n",
    "    plt.legend()"
   ]
  },
  {
   "cell_type": "code",
   "execution_count": 84,
   "id": "a3a1d6c9",
   "metadata": {},
   "outputs": [
    {
     "data": {
      "image/png": "[encoded data removed]",
      "text/plain": [
       "<Figure size 864x360 with 2 Axes>"
      ]
     },
     "metadata": {
      "needs_background": "light"
     },
     "output_type": "display_data"
    }
   ],
   "source": [
    "PlotGraph(history)"
   ]
  },
  {
   "cell_type": "code",
   "execution_count": 85,
   "id": "b2244f33",
   "metadata": {},
   "outputs": [
    {
     "name": "stdout",
     "output_type": "stream",
     "text": [
      "Best Accuracy Achieved by Model: 0.590399980545044\n"
     ]
    }
   ],
   "source": [
    "print(f\"Best Accuracy Achieved by Model: {max(history.history['val_accuracy'])}\")"
   ]
  },
  {
   "cell_type": "code",
   "execution_count": 86,
   "id": "4eea3c67",
   "metadata": {},
   "outputs": [],
   "source": [
    "#model.load_weights(checkpoint_filepath)"
   ]
  },
  {
   "cell_type": "code",
   "execution_count": 87,
   "id": "1f4cc737",
   "metadata": {},
   "outputs": [
    {
     "data": {
      "text/plain": [
       "array([0, 1, 4, 3, 0, 4, 4, 1, 2, 1, 3, 3, 3, 3, 3, 1, 1, 3, 4, 1, 3, 1,\n",
       "       3, 4, 2, 5, 4, 4, 3, 3, 4, 5, 0, 1, 4, 1, 4, 3, 0, 3, 3, 4, 3, 4,\n",
       "       4, 1, 0, 5, 0, 0, 3, 0, 4, 3, 3, 5, 3, 2, 4, 3, 3, 4, 4, 0, 3, 4,\n",
       "       4, 0, 0, 2, 1, 5, 4, 0, 3, 5, 1, 2, 0, 3, 4, 3, 0, 5, 4, 0, 2, 4,\n",
       "       0, 3, 1, 4, 1, 3, 4, 4, 0, 0, 0, 0, 1, 0, 4, 4, 1, 0, 5, 1, 3, 4,\n",
       "       3, 0, 4, 0, 1, 4, 0, 4, 0, 2, 5, 0, 2, 2, 4, 1, 3, 3, 0, 5, 5, 3,\n",
       "       4, 3, 1, 5, 0, 4, 3, 4, 1, 1, 0, 3, 4, 4, 5, 1, 5, 4, 1, 4, 0, 5,\n",
       "       0, 2, 2, 3, 0, 0, 1, 3, 3, 3, 5, 3, 5, 1, 0, 4, 5, 4, 1, 5, 4, 4,\n",
       "       1, 1, 4, 1, 1, 1, 3, 1, 3, 4, 1, 3, 1, 2, 1, 3, 5, 0, 3, 3, 1, 5,\n",
       "       3, 1, 1, 0, 3, 1, 4, 4, 3, 3, 2, 5, 3, 1, 4, 3, 1, 5, 5, 0, 4, 3,\n",
       "       0, 3, 3, 4, 5, 0, 1, 3, 1, 4, 3, 3, 1, 1, 3, 3, 3, 2, 3, 1, 1, 0,\n",
       "       3, 3, 5, 2, 3, 0, 1, 0, 1, 4, 3, 0, 0, 4, 4, 0, 1, 1, 1, 3, 2, 4,\n",
       "       0, 0, 3, 3, 1, 4, 5, 1, 1, 0, 1, 3, 2, 3, 5, 3, 0, 5, 4, 4, 4, 5,\n",
       "       3, 3, 3, 0, 3, 2, 0, 0, 0, 4, 3, 1, 5, 0, 1, 3, 2, 1, 0, 5, 4, 3,\n",
       "       1, 1, 3, 0, 2, 1, 3, 1, 3, 0, 0, 3, 1, 4, 1, 5, 4, 2, 4, 4, 4, 4,\n",
       "       0, 4, 3, 0, 0, 0, 2, 4, 5, 2, 2, 1, 4, 1, 2, 4, 3, 0, 3, 3, 1, 1,\n",
       "       0, 4, 1, 2, 3, 1, 1, 5, 5, 4, 4, 1, 0, 3, 0, 2, 2, 1, 4, 3, 4, 1,\n",
       "       0, 5, 2, 3, 1, 4, 1, 3, 2, 5, 3, 4, 5, 3, 3, 5, 0, 5, 3, 1, 0, 3,\n",
       "       2, 5, 3, 4, 0, 3, 3, 1, 0, 3, 0, 1, 1, 5, 4, 4, 3, 5, 5, 5, 2, 3,\n",
       "       4, 5, 1, 1, 5, 1, 4, 0, 4, 4, 4, 5, 0, 4, 1, 3, 3, 5, 3, 0, 2, 0,\n",
       "       3, 1, 2, 2, 3, 1, 5, 3, 2, 3, 3, 0, 4, 4, 1, 1, 2, 5, 3, 0, 1, 3,\n",
       "       0, 4, 0, 5, 4, 0, 3, 0, 0, 1, 0, 5, 3, 3, 3, 3, 1, 3, 2, 0, 0, 5,\n",
       "       3, 1, 1, 3, 5, 2, 4, 1, 2, 3, 1, 1, 1, 3, 1, 3, 0, 4, 3, 2, 4, 0,\n",
       "       5, 0, 3, 2, 0, 3, 0, 0, 5, 1, 3, 0, 3, 3, 0, 0, 3, 3, 5, 3, 3, 1,\n",
       "       2, 0, 3, 2, 3, 1, 1, 5, 3, 0, 3, 4, 1, 4, 3, 3, 2, 1, 0, 5, 0, 4,\n",
       "       3, 1, 1, 0, 3, 1, 3, 2, 2, 5, 0, 0, 1, 5, 0, 1, 1, 1, 5, 2, 1, 3,\n",
       "       4, 3, 4, 3, 1, 5, 3, 0, 3, 0, 1, 3, 5, 1, 1, 1, 1, 3, 3, 1, 0, 4,\n",
       "       3, 1, 1, 0, 1, 1, 0, 3, 3, 3, 3, 5, 4, 5, 3, 5, 3, 1, 3, 4, 3, 3,\n",
       "       5, 1, 3, 2, 0, 0, 5, 1, 3], dtype=int64)"
      ]
     },
     "execution_count": 87,
     "metadata": {},
     "output_type": "execute_result"
    }
   ],
   "source": [
    "predict = model.predict(TEST)\n",
    "predict_class = np.argmax(predict, axis=1)\n",
    "predict_class = np.array(predict_class)\n",
    "predict_class"
   ]
  },
  {
   "cell_type": "code",
   "execution_count": 88,
   "id": "07fbb8f2",
   "metadata": {},
   "outputs": [
    {
     "data": {
      "text/plain": [
       "array([[ 70,  15,  10,  14,   4,   1],\n",
       "       [ 12,  65,   4,  12,  18,   8],\n",
       "       [ 11,  13,  25,   5,  10,   9],\n",
       "       [  9,  13,   4, 111,  26,   2],\n",
       "       [  5,  11,   3,  17,  33,   2],\n",
       "       [  4,  11,   3,   4,  12,  49]], dtype=int64)"
      ]
     },
     "execution_count": 88,
     "metadata": {},
     "output_type": "execute_result"
    }
   ],
   "source": [
    "from sklearn.metrics import confusion_matrix\n",
    "\n",
    "cm = confusion_matrix(test_df[\"labels\"], predict_class)\n",
    "cm"
   ]
  },
  {
   "cell_type": "code",
   "execution_count": 89,
   "id": "d6d34c1e",
   "metadata": {},
   "outputs": [
    {
     "data": {
      "text/plain": [
       "<AxesSubplot:>"
      ]
     },
     "execution_count": 89,
     "metadata": {},
     "output_type": "execute_result"
    },
    {
     "data": {
      "image/png": "[encoded data removed]",
      "text/plain": [
       "<Figure size 720x504 with 2 Axes>"
      ]
     },
     "metadata": {
      "needs_background": "light"
     },
     "output_type": "display_data"
    }
   ],
   "source": [
    "df_cm = pd.DataFrame(cm, index=[\"anger\", \"fear\", \"joy\", \"disgust\", \"sadness\", \"surprise\"], columns=[\"anger\", \"fear\", \"joy\", \"disgust\", \"sadness\", \"surprise\"])\n",
    "plt.figure(figsize = (10,7))\n",
    "sns.heatmap(df_cm,annot=True, fmt =\"d\")"
   ]
  },
  {
   "cell_type": "code",
   "execution_count": 90,
   "id": "cc35fbc5",
   "metadata": {},
   "outputs": [
    {
     "name": "stdout",
     "output_type": "stream",
     "text": [
      "              precision    recall  f1-score   support\n",
      "\n",
      "       anger       0.63      0.61      0.62       114\n",
      "        fear       0.51      0.55      0.53       119\n",
      "         joy       0.51      0.34      0.41        73\n",
      "     disgust       0.68      0.67      0.68       165\n",
      "     sadness       0.32      0.46      0.38        71\n",
      "    surprise       0.69      0.59      0.64        83\n",
      "\n",
      "    accuracy                           0.56       625\n",
      "   macro avg       0.56      0.54      0.54       625\n",
      "weighted avg       0.58      0.56      0.57       625\n",
      "\n"
     ]
    }
   ],
   "source": [
    "from sklearn.metrics import classification_report\n",
    "\n",
    "print(classification_report(test_df[\"labels\"], predict_class, target_names =[\"anger\", \"fear\", \"joy\", \"disgust\", \"sadness\", \"surprise\"]))"
   ]
  },
  {
   "cell_type": "code",
   "execution_count": null,
   "id": "137d40d8",
   "metadata": {},
   "outputs": [],
   "source": []
  }
 ],
 "metadata": {
  "kernelspec": {
   "display_name": "Python 3 (ipykernel)",
   "language": "python",
   "name": "python3"
  },
  "language_info": {
   "codemirror_mode": {
    "name": "ipython",
    "version": 3
   },
   "file_extension": ".py",
   "mimetype": "text/x-python",
   "name": "python",
   "nbconvert_exporter": "python",
   "pygments_lexer": "ipython3",
   "version": "3.9.7"
  }
 },
 "nbformat": 4,
 "nbformat_minor": 5
}
