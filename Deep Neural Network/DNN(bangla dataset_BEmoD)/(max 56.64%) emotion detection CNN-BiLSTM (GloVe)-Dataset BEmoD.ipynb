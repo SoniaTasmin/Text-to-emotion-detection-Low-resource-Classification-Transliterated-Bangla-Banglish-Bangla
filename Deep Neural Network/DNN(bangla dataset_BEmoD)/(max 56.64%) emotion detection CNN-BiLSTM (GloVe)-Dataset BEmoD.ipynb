{
 "cells": [
  {
   "cell_type": "code",
   "execution_count": 1,
   "id": "0d5f9be8",
   "metadata": {},
   "outputs": [],
   "source": [
    "import re\n",
    "import tqdm\n",
    "import numpy as np\n",
    "import pandas as pd\n",
    "import seaborn as sns\n",
    "import matplotlib.pyplot as plt"
   ]
  },
  {
   "cell_type": "code",
   "execution_count": 2,
   "id": "c6366948",
   "metadata": {},
   "outputs": [],
   "source": [
    "#reading dataset\n",
    "train_df = pd.read_excel('trainv1.xlsx') \n",
    "#val_df = pd.read_excel('val.xlsx')\n",
    "test_df = pd.read_excel('test.xlsx')"
   ]
  },
  {
   "cell_type": "code",
   "execution_count": 3,
   "id": "b71de20d",
   "metadata": {},
   "outputs": [
    {
     "data": {
      "text/html": [
       "<div>\n",
       "<style scoped>\n",
       "    .dataframe tbody tr th:only-of-type {\n",
       "        vertical-align: middle;\n",
       "    }\n",
       "\n",
       "    .dataframe tbody tr th {\n",
       "        vertical-align: top;\n",
       "    }\n",
       "\n",
       "    .dataframe thead th {\n",
       "        text-align: right;\n",
       "    }\n",
       "</style>\n",
       "<table border=\"1\" class=\"dataframe\">\n",
       "  <thead>\n",
       "    <tr style=\"text-align: right;\">\n",
       "      <th></th>\n",
       "      <th>Unnamed: 0</th>\n",
       "      <th>cleaned</th>\n",
       "      <th>classes</th>\n",
       "      <th>labels</th>\n",
       "    </tr>\n",
       "  </thead>\n",
       "  <tbody>\n",
       "    <tr>\n",
       "      <th>0</th>\n",
       "      <td>0</td>\n",
       "      <td>মেডিকেলে এসে ঠিক ফ্যামিলির ফটো ফ্রেম এর মতো মন...</td>\n",
       "      <td>sadness</td>\n",
       "      <td>1</td>\n",
       "    </tr>\n",
       "    <tr>\n",
       "      <th>1</th>\n",
       "      <td>1</td>\n",
       "      <td>অনেক দিন পর অন্য রকম অনুভূতি হচ্ছে  কেননা আমার...</td>\n",
       "      <td>sadness</td>\n",
       "      <td>1</td>\n",
       "    </tr>\n",
       "    <tr>\n",
       "      <th>2</th>\n",
       "      <td>2</td>\n",
       "      <td>আগে যতোটা বেশি পছন্দ করতাম দুশ্চরিত্রা মিথিলা ...</td>\n",
       "      <td>disgust</td>\n",
       "      <td>3</td>\n",
       "    </tr>\n",
       "    <tr>\n",
       "      <th>3</th>\n",
       "      <td>3</td>\n",
       "      <td>মাঝে মাঝে মনে হয় তোমাকে চাওয়াটা অনেক ভুল হয়ত ভ...</td>\n",
       "      <td>sadness</td>\n",
       "      <td>1</td>\n",
       "    </tr>\n",
       "    <tr>\n",
       "      <th>4</th>\n",
       "      <td>4</td>\n",
       "      <td>এখানে কাওকে কবর দিয়ো না তাহলে তোমাদের পরিবারের...</td>\n",
       "      <td>fear</td>\n",
       "      <td>5</td>\n",
       "    </tr>\n",
       "  </tbody>\n",
       "</table>\n",
       "</div>"
      ],
      "text/plain": [
       "   Unnamed: 0                                            cleaned  classes  \\\n",
       "0           0  মেডিকেলে এসে ঠিক ফ্যামিলির ফটো ফ্রেম এর মতো মন...  sadness   \n",
       "1           1  অনেক দিন পর অন্য রকম অনুভূতি হচ্ছে  কেননা আমার...  sadness   \n",
       "2           2  আগে যতোটা বেশি পছন্দ করতাম দুশ্চরিত্রা মিথিলা ...  disgust   \n",
       "3           3  মাঝে মাঝে মনে হয় তোমাকে চাওয়াটা অনেক ভুল হয়ত ভ...  sadness   \n",
       "4           4  এখানে কাওকে কবর দিয়ো না তাহলে তোমাদের পরিবারের...     fear   \n",
       "\n",
       "   labels  \n",
       "0       1  \n",
       "1       1  \n",
       "2       3  \n",
       "3       1  \n",
       "4       5  "
      ]
     },
     "execution_count": 3,
     "metadata": {},
     "output_type": "execute_result"
    }
   ],
   "source": [
    "train_df.head()"
   ]
  },
  {
   "cell_type": "code",
   "execution_count": 4,
   "id": "5f70cdf8",
   "metadata": {},
   "outputs": [
    {
     "name": "stdout",
     "output_type": "stream",
     "text": [
      "<class 'pandas.core.frame.DataFrame'>\n",
      "RangeIndex: 5618 entries, 0 to 5617\n",
      "Data columns (total 4 columns):\n",
      " #   Column      Non-Null Count  Dtype \n",
      "---  ------      --------------  ----- \n",
      " 0   Unnamed: 0  5618 non-null   int64 \n",
      " 1   cleaned     5618 non-null   object\n",
      " 2   classes     5618 non-null   object\n",
      " 3   labels      5618 non-null   int64 \n",
      "dtypes: int64(2), object(2)\n",
      "memory usage: 175.7+ KB\n",
      "\n",
      "<class 'pandas.core.frame.DataFrame'>\n",
      "RangeIndex: 625 entries, 0 to 624\n",
      "Data columns (total 4 columns):\n",
      " #   Column      Non-Null Count  Dtype \n",
      "---  ------      --------------  ----- \n",
      " 0   Unnamed: 0  625 non-null    int64 \n",
      " 1   cleaned     625 non-null    object\n",
      " 2   classes     625 non-null    object\n",
      " 3   labels      625 non-null    int64 \n",
      "dtypes: int64(2), object(2)\n",
      "memory usage: 19.7+ KB\n",
      "\n"
     ]
    }
   ],
   "source": [
    "#checking for ull values\n",
    "train_df.info()\n",
    "print()\n",
    "test_df.info()\n",
    "print()\n",
    "#val_df.info()\n",
    "#print()"
   ]
  },
  {
   "cell_type": "code",
   "execution_count": 5,
   "id": "f7dc5157",
   "metadata": {},
   "outputs": [
    {
     "data": {
      "text/plain": [
       "disgust     1388\n",
       "sadness     1071\n",
       "joy         1028\n",
       "fear         789\n",
       "anger        688\n",
       "surprise     654\n",
       "Name: classes, dtype: int64"
      ]
     },
     "execution_count": 5,
     "metadata": {},
     "output_type": "execute_result"
    }
   ],
   "source": [
    "train_df[\"classes\"].value_counts()"
   ]
  },
  {
   "cell_type": "code",
   "execution_count": 6,
   "id": "7d5d210e",
   "metadata": {},
   "outputs": [
    {
     "data": {
      "text/plain": [
       "disgust     165\n",
       "sadness     119\n",
       "joy         114\n",
       "fear         83\n",
       "surprise     73\n",
       "anger        71\n",
       "Name: classes, dtype: int64"
      ]
     },
     "execution_count": 6,
     "metadata": {},
     "output_type": "execute_result"
    }
   ],
   "source": [
    "test_df[\"classes\"].value_counts()"
   ]
  },
  {
   "cell_type": "code",
   "execution_count": 7,
   "id": "3f417088",
   "metadata": {},
   "outputs": [],
   "source": [
    "#val_df[\"classes\"].value_counts()"
   ]
  },
  {
   "cell_type": "code",
   "execution_count": 8,
   "id": "053b4540",
   "metadata": {},
   "outputs": [
    {
     "name": "stdout",
     "output_type": "stream",
     "text": [
      "অনেক দিন পর অন্য রকম অনুভূতি হচ্ছে  কেননা আমার সদ্য পাশ করা শিক্ষার্থীর মত এখন আমিও বেকার বেকার পরিচয় দিয়ে আম্মার কাছ থেকে আজ পঞ্চাশ টাকা ডাকাতি করলাম \n"
     ]
    }
   ],
   "source": [
    "#sample text from dataset\n",
    "sample = train_df[\"cleaned\"][1]\n",
    "print(sample)"
   ]
  },
  {
   "cell_type": "code",
   "execution_count": 9,
   "id": "46623438",
   "metadata": {},
   "outputs": [],
   "source": [
    "x_train, x_test, y_train, y_test = train_df[\"cleaned\"], test_df[\"cleaned\"], train_df[\"labels\"], test_df[\"labels\"]"
   ]
  },
  {
   "cell_type": "code",
   "execution_count": 10,
   "id": "cb81d142",
   "metadata": {},
   "outputs": [],
   "source": [
    "from keras.utils import np_utils\n",
    "from keras.preprocessing.text import Tokenizer\n",
    "from keras.preprocessing.sequence import pad_sequences\n",
    "\n",
    "import tensorflow as tf\n",
    "from keras import layers\n",
    "from keras.models import Sequential\n",
    "\n",
    "EPOCHS= 35\n",
    "act= \"swish\"\n",
    "opt= tf.keras.optimizers.Adam(learning_rate=0.001)"
   ]
  },
  {
   "cell_type": "code",
   "execution_count": 11,
   "id": "5b775aeb",
   "metadata": {},
   "outputs": [],
   "source": [
    "#converting text to vectors via tokenization\n",
    "tokenizer = Tokenizer()\n",
    "tokenizer.fit_on_texts(x_train)\n",
    "\n",
    "X_train = tokenizer.texts_to_sequences(x_train)\n",
    "X_test = tokenizer.texts_to_sequences(x_test)\n",
    "TEST = tokenizer.texts_to_sequences(test_df[\"cleaned\"]) \n",
    "\n",
    "vocab_size = len(tokenizer.word_index) + 1 "
   ]
  },
  {
   "cell_type": "code",
   "execution_count": 12,
   "id": "79603d3f",
   "metadata": {},
   "outputs": [
    {
     "name": "stdout",
     "output_type": "stream",
     "text": [
      "Max len: 215\n"
     ]
    }
   ],
   "source": [
    "#calculating max length of the vector\n",
    "lens_train = [len(i) for i in X_train]\n",
    "lens_test = [len(i) for i in X_test]\n",
    "lens = lens_train + lens_test\n",
    "\n",
    "maxlen = np.max(lens)\n",
    "\n",
    "print('Max len:', maxlen)"
   ]
  },
  {
   "cell_type": "code",
   "execution_count": 13,
   "id": "bb495e40",
   "metadata": {},
   "outputs": [],
   "source": [
    "#Zero padding every vector so that they are the same size\n",
    "X_train = pad_sequences(X_train, padding='post', maxlen=maxlen)\n",
    "X_test = pad_sequences(X_test, padding='post', maxlen=maxlen)\n",
    "TEST = pad_sequences(TEST, padding='post', maxlen=maxlen)"
   ]
  },
  {
   "cell_type": "code",
   "execution_count": 14,
   "id": "bbfc3acc",
   "metadata": {},
   "outputs": [],
   "source": [
    "#One Hot Encoding integer labels\n",
    "dummy_y_test = np_utils.to_categorical(y_test)\n",
    "dummy_y_train = np_utils.to_categorical(y_train)"
   ]
  },
  {
   "cell_type": "code",
   "execution_count": 15,
   "id": "a914d44d",
   "metadata": {},
   "outputs": [],
   "source": [
    "#reading fasttext\n",
    "def get_embedding_vectors(tokenizer, dim=300):\n",
    "    embedding_index = {}\n",
    "    with open('glove.840B.300d.txt','r', encoding=\"cp437\", errors='ignore') as f:\n",
    "        for line in tqdm.tqdm(f, \"Reading fasttext\"):\n",
    "            values = line.split()\n",
    "            word = ''.join(values[:-300])\n",
    "            vectors = np.asarray(values[-300:], dtype='float32')\n",
    "            embedding_index[word] = vectors\n",
    "\n",
    "    word_index = tokenizer.word_index\n",
    "    embedding_matrix = np.zeros((len(word_index)+1, dim))\n",
    "    for word, i in word_index.items():\n",
    "        embedding_vector = embedding_index.get(word)\n",
    "        if embedding_vector is not None:\n",
    "            # words not found will be 0s\n",
    "            embedding_matrix[i] = embedding_vector\n",
    "          \n",
    "    return embedding_matrix"
   ]
  },
  {
   "cell_type": "code",
   "execution_count": 16,
   "id": "c7afb8fc",
   "metadata": {},
   "outputs": [
    {
     "name": "stderr",
     "output_type": "stream",
     "text": [
      "Reading fasttext: 2196018it [05:01, 7275.90it/s] \n"
     ]
    }
   ],
   "source": [
    "embedding_matrix = get_embedding_vectors(tokenizer)"
   ]
  },
  {
   "cell_type": "code",
   "execution_count": 17,
   "id": "9a10d6e8",
   "metadata": {},
   "outputs": [
    {
     "name": "stdout",
     "output_type": "stream",
     "text": [
      "Model: \"sequential\"\n",
      "_________________________________________________________________\n",
      " Layer (type)                Output Shape              Param #   \n",
      "=================================================================\n",
      " embedding (Embedding)       (None, 215, 300)          7426200   \n",
      "                                                                 \n",
      " dropout (Dropout)           (None, 215, 300)          0         \n",
      "                                                                 \n",
      " conv1d (Conv1D)             (None, 213, 64)           57664     \n",
      "                                                                 \n",
      " max_pooling1d (MaxPooling1D  (None, 71, 64)           0         \n",
      " )                                                               \n",
      "                                                                 \n",
      " dropout_1 (Dropout)         (None, 71, 64)            0         \n",
      "                                                                 \n",
      " conv1d_1 (Conv1D)           (None, 69, 64)            12352     \n",
      "                                                                 \n",
      " max_pooling1d_1 (MaxPooling  (None, 23, 64)           0         \n",
      " 1D)                                                             \n",
      "                                                                 \n",
      " dropout_2 (Dropout)         (None, 23, 64)            0         \n",
      "                                                                 \n",
      " bidirectional (Bidirectiona  (None, 512)              657408    \n",
      " l)                                                              \n",
      "                                                                 \n",
      " dropout_3 (Dropout)         (None, 512)               0         \n",
      "                                                                 \n",
      " dense (Dense)               (None, 256)               131328    \n",
      "                                                                 \n",
      " dropout_4 (Dropout)         (None, 256)               0         \n",
      "                                                                 \n",
      " dense_1 (Dense)             (None, 6)                 1542      \n",
      "                                                                 \n",
      "=================================================================\n",
      "Total params: 8,286,494\n",
      "Trainable params: 8,286,494\n",
      "Non-trainable params: 0\n",
      "_________________________________________________________________\n"
     ]
    }
   ],
   "source": [
    "#defining CNN-BiLSTM model\n",
    "embedding_dim = 300\n",
    "\n",
    "model = Sequential()\n",
    "model.add(layers.Embedding(input_dim=vocab_size, output_dim=embedding_dim, weights = [embedding_matrix], input_length=maxlen))\n",
    "model.add(layers.Dropout(0.3)) \n",
    "model.add(layers.Conv1D(filters=64, kernel_size=3, activation=act)) \n",
    "model.add(layers.MaxPool1D(pool_size=3)) \n",
    "model.add(layers.Dropout(0.3))\n",
    "model.add(layers.Conv1D(filters=64, kernel_size=3, activation=act)) \n",
    "model.add(layers.MaxPool1D(pool_size=3)) \n",
    "model.add(layers.Dropout(0.3))\n",
    "model.add(layers.Bidirectional(layers.LSTM(256, recurrent_dropout=0.3)))\n",
    "model.add(layers.Dropout(0.3))\n",
    "model.add(layers.Dense(256,activation=act)) \n",
    "model.add(layers.Dropout(0.3)) \n",
    "model.add(layers.Dense(6, activation=\"softmax\"))\n",
    "model.compile(optimizer=opt, loss=\"categorical_crossentropy\",metrics=[\"accuracy\"])\n",
    "model.summary()"
   ]
  },
  {
   "cell_type": "code",
   "execution_count": 18,
   "id": "079b4cb1",
   "metadata": {},
   "outputs": [],
   "source": [
    "checkpoint_filepath = './Checkpoint/checkpoint'\n",
    "model_checkpoint_callback = tf.keras.callbacks.ModelCheckpoint(\n",
    "    filepath=checkpoint_filepath,\n",
    "    save_weights_only=True,\n",
    "    monitor='test_accuracy',\n",
    "    mode='max',\n",
    "    save_best_only=True)"
   ]
  },
  {
   "cell_type": "code",
   "execution_count": 43,
   "id": "0fbfa69e",
   "metadata": {},
   "outputs": [
    {
     "name": "stdout",
     "output_type": "stream",
     "text": [
      "Epoch 1/35\n",
      "703/703 [==============================] - ETA: 0s - loss: 0.0254 - accuracy: 0.9923WARNING:tensorflow:Can save best model only with test_accuracy available, skipping.\n",
      "703/703 [==============================] - 114s 162ms/step - loss: 0.0254 - accuracy: 0.9923 - val_loss: 3.4936 - val_accuracy: 0.5392\n",
      "Epoch 2/35\n",
      "703/703 [==============================] - ETA: 0s - loss: 0.0407 - accuracy: 0.9900WARNING:tensorflow:Can save best model only with test_accuracy available, skipping.\n",
      "703/703 [==============================] - 143s 204ms/step - loss: 0.0407 - accuracy: 0.9900 - val_loss: 3.8222 - val_accuracy: 0.5392\n",
      "Epoch 3/35\n",
      "703/703 [==============================] - ETA: 0s - loss: 0.0225 - accuracy: 0.9920WARNING:tensorflow:Can save best model only with test_accuracy available, skipping.\n",
      "703/703 [==============================] - 259s 368ms/step - loss: 0.0225 - accuracy: 0.9920 - val_loss: 3.6143 - val_accuracy: 0.5216\n",
      "Epoch 4/35\n",
      "703/703 [==============================] - ETA: 0s - loss: 0.0195 - accuracy: 0.9920WARNING:tensorflow:Can save best model only with test_accuracy available, skipping.\n",
      "703/703 [==============================] - 264s 376ms/step - loss: 0.0195 - accuracy: 0.9920 - val_loss: 3.7246 - val_accuracy: 0.5264\n",
      "Epoch 5/35\n",
      "703/703 [==============================] - ETA: 0s - loss: 0.0146 - accuracy: 0.9952WARNING:tensorflow:Can save best model only with test_accuracy available, skipping.\n",
      "703/703 [==============================] - 257s 366ms/step - loss: 0.0146 - accuracy: 0.9952 - val_loss: 4.1853 - val_accuracy: 0.5328\n",
      "Epoch 6/35\n",
      "703/703 [==============================] - ETA: 0s - loss: 0.0182 - accuracy: 0.9943WARNING:tensorflow:Can save best model only with test_accuracy available, skipping.\n",
      "703/703 [==============================] - 256s 364ms/step - loss: 0.0182 - accuracy: 0.9943 - val_loss: 4.2945 - val_accuracy: 0.5344\n",
      "Epoch 7/35\n",
      "703/703 [==============================] - ETA: 0s - loss: 0.0209 - accuracy: 0.9943WARNING:tensorflow:Can save best model only with test_accuracy available, skipping.\n",
      "703/703 [==============================] - 329s 468ms/step - loss: 0.0209 - accuracy: 0.9943 - val_loss: 3.2997 - val_accuracy: 0.5536\n",
      "Epoch 8/35\n",
      "703/703 [==============================] - ETA: 0s - loss: 0.0165 - accuracy: 0.9938WARNING:tensorflow:Can save best model only with test_accuracy available, skipping.\n",
      "703/703 [==============================] - 327s 464ms/step - loss: 0.0165 - accuracy: 0.9938 - val_loss: 3.8641 - val_accuracy: 0.5504\n",
      "Epoch 9/35\n",
      "703/703 [==============================] - ETA: 0s - loss: 0.0177 - accuracy: 0.9947WARNING:tensorflow:Can save best model only with test_accuracy available, skipping.\n",
      "703/703 [==============================] - 283s 403ms/step - loss: 0.0177 - accuracy: 0.9947 - val_loss: 3.9038 - val_accuracy: 0.5408\n",
      "Epoch 10/35\n",
      "703/703 [==============================] - ETA: 0s - loss: 0.0233 - accuracy: 0.9936WARNING:tensorflow:Can save best model only with test_accuracy available, skipping.\n",
      "703/703 [==============================] - 389s 554ms/step - loss: 0.0233 - accuracy: 0.9936 - val_loss: 4.3867 - val_accuracy: 0.5424\n",
      "Epoch 11/35\n",
      "703/703 [==============================] - ETA: 0s - loss: 0.0271 - accuracy: 0.9931WARNING:tensorflow:Can save best model only with test_accuracy available, skipping.\n",
      "703/703 [==============================] - 382s 543ms/step - loss: 0.0271 - accuracy: 0.9931 - val_loss: 3.4676 - val_accuracy: 0.5408\n",
      "Epoch 12/35\n",
      "703/703 [==============================] - ETA: 0s - loss: 0.0190 - accuracy: 0.9947WARNING:tensorflow:Can save best model only with test_accuracy available, skipping.\n",
      "703/703 [==============================] - 404s 575ms/step - loss: 0.0190 - accuracy: 0.9947 - val_loss: 3.9009 - val_accuracy: 0.5456\n",
      "Epoch 13/35\n",
      "703/703 [==============================] - ETA: 0s - loss: 0.0135 - accuracy: 0.9948WARNING:tensorflow:Can save best model only with test_accuracy available, skipping.\n",
      "703/703 [==============================] - 419s 596ms/step - loss: 0.0135 - accuracy: 0.9948 - val_loss: 4.1283 - val_accuracy: 0.5392\n",
      "Epoch 14/35\n",
      "703/703 [==============================] - ETA: 0s - loss: 0.0171 - accuracy: 0.9947WARNING:tensorflow:Can save best model only with test_accuracy available, skipping.\n",
      "703/703 [==============================] - 402s 571ms/step - loss: 0.0171 - accuracy: 0.9947 - val_loss: 4.1413 - val_accuracy: 0.5472\n",
      "Epoch 15/35\n",
      "703/703 [==============================] - ETA: 0s - loss: 0.0139 - accuracy: 0.9954WARNING:tensorflow:Can save best model only with test_accuracy available, skipping.\n",
      "703/703 [==============================] - 405s 577ms/step - loss: 0.0139 - accuracy: 0.9954 - val_loss: 3.9663 - val_accuracy: 0.5312\n",
      "Epoch 16/35\n",
      "703/703 [==============================] - ETA: 0s - loss: 0.0204 - accuracy: 0.9945WARNING:tensorflow:Can save best model only with test_accuracy available, skipping.\n",
      "703/703 [==============================] - 402s 572ms/step - loss: 0.0204 - accuracy: 0.9945 - val_loss: 3.2411 - val_accuracy: 0.5440\n",
      "Epoch 17/35\n",
      "703/703 [==============================] - ETA: 0s - loss: 0.0130 - accuracy: 0.9948WARNING:tensorflow:Can save best model only with test_accuracy available, skipping.\n",
      "703/703 [==============================] - 380s 541ms/step - loss: 0.0130 - accuracy: 0.9948 - val_loss: 3.7354 - val_accuracy: 0.5456\n",
      "Epoch 18/35\n",
      "703/703 [==============================] - ETA: 0s - loss: 0.0216 - accuracy: 0.9943WARNING:tensorflow:Can save best model only with test_accuracy available, skipping.\n",
      "703/703 [==============================] - 380s 540ms/step - loss: 0.0216 - accuracy: 0.9943 - val_loss: 3.6953 - val_accuracy: 0.5536\n",
      "Epoch 19/35\n",
      "703/703 [==============================] - ETA: 0s - loss: 0.0152 - accuracy: 0.9956WARNING:tensorflow:Can save best model only with test_accuracy available, skipping.\n",
      "703/703 [==============================] - 379s 539ms/step - loss: 0.0152 - accuracy: 0.9956 - val_loss: 4.1624 - val_accuracy: 0.5408\n",
      "Epoch 20/35\n",
      "703/703 [==============================] - ETA: 0s - loss: 0.0159 - accuracy: 0.9954WARNING:tensorflow:Can save best model only with test_accuracy available, skipping.\n",
      "703/703 [==============================] - 305s 434ms/step - loss: 0.0159 - accuracy: 0.9954 - val_loss: 3.7432 - val_accuracy: 0.5360\n",
      "Epoch 21/35\n",
      "703/703 [==============================] - ETA: 0s - loss: 0.0151 - accuracy: 0.9948WARNING:tensorflow:Can save best model only with test_accuracy available, skipping.\n",
      "703/703 [==============================] - 257s 366ms/step - loss: 0.0151 - accuracy: 0.9948 - val_loss: 4.2482 - val_accuracy: 0.5344\n",
      "Epoch 22/35\n",
      "703/703 [==============================] - ETA: 0s - loss: 0.0249 - accuracy: 0.9939WARNING:tensorflow:Can save best model only with test_accuracy available, skipping.\n",
      "703/703 [==============================] - 255s 362ms/step - loss: 0.0249 - accuracy: 0.9939 - val_loss: 3.1684 - val_accuracy: 0.5264\n",
      "Epoch 23/35\n",
      "703/703 [==============================] - ETA: 0s - loss: 0.0183 - accuracy: 0.9938WARNING:tensorflow:Can save best model only with test_accuracy available, skipping.\n",
      "703/703 [==============================] - 254s 362ms/step - loss: 0.0183 - accuracy: 0.9938 - val_loss: 4.0188 - val_accuracy: 0.5344\n",
      "Epoch 24/35\n",
      "703/703 [==============================] - ETA: 0s - loss: 0.0226 - accuracy: 0.9932WARNING:tensorflow:Can save best model only with test_accuracy available, skipping.\n",
      "703/703 [==============================] - 257s 365ms/step - loss: 0.0226 - accuracy: 0.9932 - val_loss: 3.9354 - val_accuracy: 0.5232\n",
      "Epoch 25/35\n",
      "703/703 [==============================] - ETA: 0s - loss: 0.0200 - accuracy: 0.9948WARNING:tensorflow:Can save best model only with test_accuracy available, skipping.\n",
      "703/703 [==============================] - 257s 366ms/step - loss: 0.0200 - accuracy: 0.9948 - val_loss: 4.7415 - val_accuracy: 0.5408\n",
      "Epoch 26/35\n",
      "703/703 [==============================] - ETA: 0s - loss: 0.0102 - accuracy: 0.9959WARNING:tensorflow:Can save best model only with test_accuracy available, skipping.\n",
      "703/703 [==============================] - 260s 370ms/step - loss: 0.0102 - accuracy: 0.9959 - val_loss: 4.9234 - val_accuracy: 0.5232\n",
      "Epoch 27/35\n",
      "703/703 [==============================] - ETA: 0s - loss: 0.0128 - accuracy: 0.9959WARNING:tensorflow:Can save best model only with test_accuracy available, skipping.\n",
      "703/703 [==============================] - 257s 366ms/step - loss: 0.0128 - accuracy: 0.9959 - val_loss: 4.6254 - val_accuracy: 0.5424\n",
      "Epoch 28/35\n",
      "703/703 [==============================] - ETA: 0s - loss: 0.0208 - accuracy: 0.9934WARNING:tensorflow:Can save best model only with test_accuracy available, skipping.\n",
      "703/703 [==============================] - 254s 362ms/step - loss: 0.0208 - accuracy: 0.9934 - val_loss: 4.7879 - val_accuracy: 0.5280\n",
      "Epoch 29/35\n",
      "703/703 [==============================] - ETA: 0s - loss: 0.0193 - accuracy: 0.9941WARNING:tensorflow:Can save best model only with test_accuracy available, skipping.\n",
      "703/703 [==============================] - 254s 362ms/step - loss: 0.0193 - accuracy: 0.9941 - val_loss: 4.1755 - val_accuracy: 0.5376\n",
      "Epoch 30/35\n",
      "703/703 [==============================] - ETA: 0s - loss: 0.0259 - accuracy: 0.9934WARNING:tensorflow:Can save best model only with test_accuracy available, skipping.\n",
      "703/703 [==============================] - 254s 362ms/step - loss: 0.0259 - accuracy: 0.9934 - val_loss: 3.6480 - val_accuracy: 0.5456\n",
      "Epoch 31/35\n",
      "703/703 [==============================] - ETA: 0s - loss: 0.0099 - accuracy: 0.9956WARNING:tensorflow:Can save best model only with test_accuracy available, skipping.\n",
      "703/703 [==============================] - 259s 368ms/step - loss: 0.0099 - accuracy: 0.9956 - val_loss: 4.2530 - val_accuracy: 0.5440\n",
      "Epoch 32/35\n",
      "703/703 [==============================] - ETA: 0s - loss: 0.0113 - accuracy: 0.9957WARNING:tensorflow:Can save best model only with test_accuracy available, skipping.\n",
      "703/703 [==============================] - 258s 367ms/step - loss: 0.0113 - accuracy: 0.9957 - val_loss: 4.3342 - val_accuracy: 0.5584\n",
      "Epoch 33/35\n",
      "703/703 [==============================] - ETA: 0s - loss: 0.0187 - accuracy: 0.9939WARNING:tensorflow:Can save best model only with test_accuracy available, skipping.\n",
      "703/703 [==============================] - 256s 365ms/step - loss: 0.0187 - accuracy: 0.9939 - val_loss: 4.1866 - val_accuracy: 0.5584\n",
      "Epoch 34/35\n",
      "703/703 [==============================] - ETA: 0s - loss: 0.0155 - accuracy: 0.9943WARNING:tensorflow:Can save best model only with test_accuracy available, skipping.\n",
      "703/703 [==============================] - 254s 361ms/step - loss: 0.0155 - accuracy: 0.9943 - val_loss: 4.7164 - val_accuracy: 0.5648\n",
      "Epoch 35/35\n",
      "703/703 [==============================] - ETA: 0s - loss: 0.0119 - accuracy: 0.9961WARNING:tensorflow:Can save best model only with test_accuracy available, skipping.\n",
      "703/703 [==============================] - 254s 361ms/step - loss: 0.0119 - accuracy: 0.9961 - val_loss: 4.5463 - val_accuracy: 0.5664\n",
      "Training Accuracy: 0.9970\n",
      "Testing Accuracy:  0.5664\n"
     ]
    }
   ],
   "source": [
    "history = model.fit(X_train, dummy_y_train, epochs=EPOCHS, verbose=1, validation_data=(X_test, dummy_y_test), batch_size=8, callbacks=[model_checkpoint_callback]) \n",
    "loss, accuracy = model.evaluate(X_train, dummy_y_train, verbose=0)\n",
    "print(\"Training Accuracy: {:.4f}\".format(accuracy))\n",
    "loss, accuracy = model.evaluate(X_test, dummy_y_test, verbose=0)\n",
    "print(\"Testing Accuracy:  {:.4f}\".format(accuracy))"
   ]
  },
  {
   "cell_type": "code",
   "execution_count": 45,
   "id": "cb6cbf4b",
   "metadata": {},
   "outputs": [],
   "source": [
    "def PlotGraph(history):\n",
    "    acc = history.history['accuracy']\n",
    "    val_acc = history.history['val_accuracy']\n",
    "    loss = history.history['loss']\n",
    "    val_loss = history.history['val_loss']\n",
    "    x = range(1, len(acc) + 1)\n",
    "\n",
    "    plt.figure(figsize=(12, 5))\n",
    "    plt.subplot(1, 2, 1)\n",
    "    plt.plot(x, acc, 'g', label='Training acc')\n",
    "    plt.plot(x, val_acc, 'b', label='Validation acc')\n",
    "    plt.title('Training and validation accuracy')\n",
    "    plt.legend()\n",
    "    plt.subplot(1, 2, 2)\n",
    "    plt.plot(x, loss, 'g', label='Training loss')\n",
    "    plt.plot(x, val_loss, 'b', label='Validation loss')\n",
    "    plt.title('Training and validation loss')\n",
    "    plt.legend()"
   ]
  },
  {
   "cell_type": "code",
   "execution_count": 46,
   "id": "a3a1d6c9",
   "metadata": {},
   "outputs": [
    {
     "data": {
      "image/png": "[encoded data removed]",
      "text/plain": [
       "<Figure size 864x360 with 2 Axes>"
      ]
     },
     "metadata": {
      "needs_background": "light"
     },
     "output_type": "display_data"
    }
   ],
   "source": [
    "PlotGraph(history)"
   ]
  },
  {
   "cell_type": "code",
   "execution_count": 47,
   "id": "b2244f33",
   "metadata": {},
   "outputs": [
    {
     "name": "stdout",
     "output_type": "stream",
     "text": [
      "Best Accuracy Achieved by Model: 0.5663999915122986\n"
     ]
    }
   ],
   "source": [
    "print(f\"Best Accuracy Achieved by Model: {max(history.history['val_accuracy'])}\")"
   ]
  },
  {
   "cell_type": "code",
   "execution_count": 48,
   "id": "4eea3c67",
   "metadata": {},
   "outputs": [
    {
     "ename": "NotFoundError",
     "evalue": "Unsuccessful TensorSliceReader constructor: Failed to find any matching files for ./Checkpoint/checkpoint",
     "output_type": "error",
     "traceback": [
      "\u001b[1;31m---------------------------------------------------------------------------\u001b[0m",
      "\u001b[1;31mNotFoundError\u001b[0m                             Traceback (most recent call last)",
      "\u001b[1;32m~\\AppData\\Local\\Temp/ipykernel_1308/1061730941.py\u001b[0m in \u001b[0;36m<module>\u001b[1;34m\u001b[0m\n\u001b[1;32m----> 1\u001b[1;33m \u001b[0mmodel\u001b[0m\u001b[1;33m.\u001b[0m\u001b[0mload_weights\u001b[0m\u001b[1;33m(\u001b[0m\u001b[0mcheckpoint_filepath\u001b[0m\u001b[1;33m)\u001b[0m\u001b[1;33m\u001b[0m\u001b[1;33m\u001b[0m\u001b[0m\n\u001b[0m",
      "\u001b[1;32m~\\anaconda3\\lib\\site-packages\\keras\\utils\\traceback_utils.py\u001b[0m in \u001b[0;36merror_handler\u001b[1;34m(*args, **kwargs)\u001b[0m\n\u001b[0;32m     65\u001b[0m     \u001b[1;32mexcept\u001b[0m \u001b[0mException\u001b[0m \u001b[1;32mas\u001b[0m \u001b[0me\u001b[0m\u001b[1;33m:\u001b[0m  \u001b[1;31m# pylint: disable=broad-except\u001b[0m\u001b[1;33m\u001b[0m\u001b[1;33m\u001b[0m\u001b[0m\n\u001b[0;32m     66\u001b[0m       \u001b[0mfiltered_tb\u001b[0m \u001b[1;33m=\u001b[0m \u001b[0m_process_traceback_frames\u001b[0m\u001b[1;33m(\u001b[0m\u001b[0me\u001b[0m\u001b[1;33m.\u001b[0m\u001b[0m__traceback__\u001b[0m\u001b[1;33m)\u001b[0m\u001b[1;33m\u001b[0m\u001b[1;33m\u001b[0m\u001b[0m\n\u001b[1;32m---> 67\u001b[1;33m       \u001b[1;32mraise\u001b[0m \u001b[0me\u001b[0m\u001b[1;33m.\u001b[0m\u001b[0mwith_traceback\u001b[0m\u001b[1;33m(\u001b[0m\u001b[0mfiltered_tb\u001b[0m\u001b[1;33m)\u001b[0m \u001b[1;32mfrom\u001b[0m \u001b[1;32mNone\u001b[0m\u001b[1;33m\u001b[0m\u001b[1;33m\u001b[0m\u001b[0m\n\u001b[0m\u001b[0;32m     68\u001b[0m     \u001b[1;32mfinally\u001b[0m\u001b[1;33m:\u001b[0m\u001b[1;33m\u001b[0m\u001b[1;33m\u001b[0m\u001b[0m\n\u001b[0;32m     69\u001b[0m       \u001b[1;32mdel\u001b[0m \u001b[0mfiltered_tb\u001b[0m\u001b[1;33m\u001b[0m\u001b[1;33m\u001b[0m\u001b[0m\n",
      "\u001b[1;32m~\\anaconda3\\lib\\site-packages\\tensorflow\\python\\training\\py_checkpoint_reader.py\u001b[0m in \u001b[0;36merror_translator\u001b[1;34m(e)\u001b[0m\n\u001b[0;32m     33\u001b[0m       \u001b[1;34m'Failed to find any '\u001b[0m\u001b[1;33m\u001b[0m\u001b[1;33m\u001b[0m\u001b[0m\n\u001b[0;32m     34\u001b[0m       'matching files for') in error_message:\n\u001b[1;32m---> 35\u001b[1;33m     \u001b[1;32mraise\u001b[0m \u001b[0merrors_impl\u001b[0m\u001b[1;33m.\u001b[0m\u001b[0mNotFoundError\u001b[0m\u001b[1;33m(\u001b[0m\u001b[1;32mNone\u001b[0m\u001b[1;33m,\u001b[0m \u001b[1;32mNone\u001b[0m\u001b[1;33m,\u001b[0m \u001b[0merror_message\u001b[0m\u001b[1;33m)\u001b[0m\u001b[1;33m\u001b[0m\u001b[1;33m\u001b[0m\u001b[0m\n\u001b[0m\u001b[0;32m     36\u001b[0m   elif 'Sliced checkpoints are not supported' in error_message or (\n\u001b[0;32m     37\u001b[0m       \u001b[1;34m'Data type '\u001b[0m\u001b[1;33m\u001b[0m\u001b[1;33m\u001b[0m\u001b[0m\n",
      "\u001b[1;31mNotFoundError\u001b[0m: Unsuccessful TensorSliceReader constructor: Failed to find any matching files for ./Checkpoint/checkpoint"
     ]
    }
   ],
   "source": [
    "model.load_weights(checkpoint_filepath)"
   ]
  },
  {
   "cell_type": "code",
   "execution_count": 49,
   "id": "1f4cc737",
   "metadata": {},
   "outputs": [
    {
     "data": {
      "text/plain": [
       "array([0, 4, 3, 3, 0, 3, 1, 1, 2, 5, 3, 5, 3, 3, 3, 4, 4, 3, 4, 1, 3, 1,\n",
       "       3, 4, 2, 5, 4, 4, 4, 0, 4, 5, 1, 4, 4, 0, 4, 3, 0, 0, 3, 1, 3, 4,\n",
       "       4, 1, 1, 5, 0, 0, 4, 0, 3, 3, 5, 2, 4, 0, 4, 3, 4, 0, 0, 0, 3, 1,\n",
       "       4, 2, 0, 2, 5, 5, 0, 0, 3, 1, 1, 2, 0, 3, 4, 3, 0, 5, 4, 0, 2, 4,\n",
       "       0, 3, 5, 2, 5, 3, 4, 0, 2, 0, 4, 0, 2, 0, 1, 1, 1, 3, 5, 5, 3, 5,\n",
       "       3, 1, 1, 0, 1, 0, 0, 5, 0, 5, 5, 0, 2, 5, 0, 1, 3, 3, 0, 4, 5, 3,\n",
       "       1, 3, 1, 1, 0, 5, 3, 3, 1, 1, 0, 3, 0, 4, 5, 5, 1, 4, 1, 1, 4, 5,\n",
       "       0, 2, 5, 3, 5, 0, 2, 3, 3, 3, 2, 3, 5, 1, 0, 4, 5, 3, 1, 5, 1, 2,\n",
       "       0, 0, 4, 1, 1, 1, 4, 1, 3, 1, 2, 1, 0, 2, 2, 3, 2, 0, 3, 3, 3, 5,\n",
       "       3, 1, 1, 0, 3, 1, 1, 0, 3, 3, 0, 5, 3, 1, 2, 3, 4, 5, 5, 0, 1, 3,\n",
       "       0, 3, 3, 4, 5, 2, 1, 3, 1, 0, 3, 3, 5, 1, 4, 3, 3, 2, 3, 1, 4, 4,\n",
       "       5, 3, 5, 2, 3, 0, 1, 0, 1, 4, 3, 0, 4, 4, 4, 0, 1, 1, 1, 0, 2, 1,\n",
       "       4, 0, 3, 3, 1, 3, 5, 3, 1, 0, 1, 3, 0, 3, 4, 3, 5, 5, 0, 4, 4, 5,\n",
       "       3, 4, 3, 0, 3, 2, 0, 0, 2, 4, 1, 0, 5, 1, 1, 3, 2, 1, 0, 5, 4, 3,\n",
       "       1, 1, 4, 0, 0, 0, 3, 4, 3, 0, 0, 4, 1, 4, 2, 5, 4, 2, 2, 4, 4, 4,\n",
       "       0, 1, 3, 0, 0, 0, 2, 1, 5, 2, 0, 1, 1, 1, 1, 4, 3, 0, 0, 3, 4, 5,\n",
       "       0, 1, 4, 2, 3, 1, 3, 2, 5, 0, 1, 4, 0, 3, 4, 0, 2, 1, 4, 3, 4, 1,\n",
       "       5, 5, 2, 3, 1, 1, 1, 3, 2, 1, 0, 2, 5, 3, 4, 5, 0, 5, 1, 1, 0, 0,\n",
       "       5, 1, 3, 3, 0, 3, 3, 1, 0, 3, 0, 2, 1, 1, 3, 4, 3, 5, 1, 5, 2, 0,\n",
       "       0, 5, 0, 4, 5, 4, 0, 0, 5, 4, 3, 5, 5, 4, 1, 3, 3, 5, 3, 1, 2, 2,\n",
       "       3, 1, 1, 2, 1, 1, 5, 4, 4, 4, 5, 0, 3, 5, 1, 1, 2, 5, 3, 0, 1, 4,\n",
       "       4, 3, 0, 5, 4, 0, 3, 4, 2, 4, 0, 5, 3, 3, 3, 3, 3, 3, 0, 0, 0, 5,\n",
       "       4, 1, 5, 3, 5, 2, 4, 1, 1, 1, 1, 1, 1, 4, 1, 3, 0, 4, 4, 5, 5, 5,\n",
       "       5, 0, 3, 2, 0, 3, 0, 0, 5, 0, 3, 0, 2, 3, 0, 0, 3, 3, 3, 3, 3, 1,\n",
       "       2, 3, 3, 5, 3, 2, 0, 5, 3, 0, 3, 4, 1, 4, 3, 3, 2, 1, 0, 5, 0, 4,\n",
       "       4, 1, 1, 0, 3, 4, 3, 0, 5, 5, 0, 1, 2, 5, 0, 1, 0, 2, 1, 2, 1, 3,\n",
       "       4, 3, 3, 3, 0, 5, 3, 1, 4, 0, 1, 3, 5, 0, 1, 1, 1, 3, 4, 1, 0, 1,\n",
       "       3, 1, 2, 0, 1, 4, 2, 0, 1, 3, 3, 1, 4, 5, 4, 1, 3, 1, 3, 4, 3, 3,\n",
       "       5, 0, 3, 5, 2, 0, 5, 4, 3], dtype=int64)"
      ]
     },
     "execution_count": 49,
     "metadata": {},
     "output_type": "execute_result"
    }
   ],
   "source": [
    "predict = model.predict(TEST)\n",
    "predict_class = np.argmax(predict, axis=1)\n",
    "predict_class = np.array(predict_class)\n",
    "predict_class"
   ]
  },
  {
   "cell_type": "code",
   "execution_count": 50,
   "id": "07fbb8f2",
   "metadata": {},
   "outputs": [
    {
     "data": {
      "text/plain": [
       "array([[ 72,  11,  11,   7,  11,   2],\n",
       "       [ 20,  61,   6,  10,  14,   8],\n",
       "       [ 12,  12,  27,   1,   8,  13],\n",
       "       [  9,  14,   5, 108,  22,   7],\n",
       "       [  6,   8,   3,  16,  34,   4],\n",
       "       [  4,  16,   5,   1,   5,  52]], dtype=int64)"
      ]
     },
     "execution_count": 50,
     "metadata": {},
     "output_type": "execute_result"
    }
   ],
   "source": [
    "from sklearn.metrics import confusion_matrix\n",
    "\n",
    "cm = confusion_matrix(test_df[\"labels\"], predict_class)\n",
    "cm"
   ]
  },
  {
   "cell_type": "code",
   "execution_count": 51,
   "id": "d6d34c1e",
   "metadata": {},
   "outputs": [
    {
     "data": {
      "text/plain": [
       "<AxesSubplot:>"
      ]
     },
     "execution_count": 51,
     "metadata": {},
     "output_type": "execute_result"
    },
    {
     "data": {
      "image/png": "[encoded data removed]",
      "text/plain": [
       "<Figure size 720x504 with 2 Axes>"
      ]
     },
     "metadata": {
      "needs_background": "light"
     },
     "output_type": "display_data"
    }
   ],
   "source": [
    "df_cm = pd.DataFrame(cm, index=[\"anger\", \"fear\", \"joy\", \"disgust\", \"sadness\", \"surprise\"], columns=[\"anger\", \"fear\", \"joy\", \"disgust\", \"sadness\", \"surprise\"])\n",
    "plt.figure(figsize = (10,7))\n",
    "sns.heatmap(df_cm,annot=True, fmt =\"d\")"
   ]
  },
  {
   "cell_type": "code",
   "execution_count": 52,
   "id": "cc35fbc5",
   "metadata": {},
   "outputs": [
    {
     "name": "stdout",
     "output_type": "stream",
     "text": [
      "              precision    recall  f1-score   support\n",
      "\n",
      "       anger       0.59      0.63      0.61       114\n",
      "        fear       0.50      0.51      0.51       119\n",
      "         joy       0.47      0.37      0.42        73\n",
      "     disgust       0.76      0.65      0.70       165\n",
      "     sadness       0.36      0.48      0.41        71\n",
      "    surprise       0.60      0.63      0.62        83\n",
      "\n",
      "    accuracy                           0.57       625\n",
      "   macro avg       0.55      0.55      0.54       625\n",
      "weighted avg       0.58      0.57      0.57       625\n",
      "\n"
     ]
    }
   ],
   "source": [
    "from sklearn.metrics import classification_report\n",
    "\n",
    "print(classification_report(test_df[\"labels\"], predict_class, target_names =[\"anger\", \"fear\", \"joy\", \"disgust\", \"sadness\", \"surprise\"]))"
   ]
  },
  {
   "cell_type": "code",
   "execution_count": null,
   "id": "6ee1c297",
   "metadata": {},
   "outputs": [],
   "source": []
  },
  {
   "cell_type": "code",
   "execution_count": null,
   "id": "01b22149",
   "metadata": {},
   "outputs": [],
   "source": []
  }
 ],
 "metadata": {
  "kernelspec": {
   "display_name": "Python 3 (ipykernel)",
   "language": "python",
   "name": "python3"
  },
  "language_info": {
   "codemirror_mode": {
    "name": "ipython",
    "version": 3
   },
   "file_extension": ".py",
   "mimetype": "text/x-python",
   "name": "python",
   "nbconvert_exporter": "python",
   "pygments_lexer": "ipython3",
   "version": "3.9.7"
  }
 },
 "nbformat": 4,
 "nbformat_minor": 5
}
