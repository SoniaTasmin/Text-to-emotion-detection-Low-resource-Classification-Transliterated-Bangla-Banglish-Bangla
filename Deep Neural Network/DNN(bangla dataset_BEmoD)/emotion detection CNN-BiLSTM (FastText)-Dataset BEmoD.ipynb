{
 "cells": [
  {
   "cell_type": "code",
   "execution_count": 3,
   "id": "0d5f9be8",
   "metadata": {},
   "outputs": [],
   "source": [
    "import re\n",
    "import tqdm\n",
    "import numpy as np\n",
    "import pandas as pd\n",
    "import seaborn as sns\n",
    "import matplotlib.pyplot as plt"
   ]
  },
  {
   "cell_type": "code",
   "execution_count": 4,
   "id": "c6366948",
   "metadata": {},
   "outputs": [],
   "source": [
    "#reading dataset\n",
    "train_df = pd.read_excel('train.xlsx') \n",
    "val_df = pd.read_excel('val.xlsx')\n",
    "test_df = pd.read_excel('test.xlsx')"
   ]
  },
  {
   "cell_type": "code",
   "execution_count": 5,
   "id": "b71de20d",
   "metadata": {},
   "outputs": [
    {
     "data": {
      "text/html": [
       "<div>\n",
       "<style scoped>\n",
       "    .dataframe tbody tr th:only-of-type {\n",
       "        vertical-align: middle;\n",
       "    }\n",
       "\n",
       "    .dataframe tbody tr th {\n",
       "        vertical-align: top;\n",
       "    }\n",
       "\n",
       "    .dataframe thead th {\n",
       "        text-align: right;\n",
       "    }\n",
       "</style>\n",
       "<table border=\"1\" class=\"dataframe\">\n",
       "  <thead>\n",
       "    <tr style=\"text-align: right;\">\n",
       "      <th></th>\n",
       "      <th>Unnamed: 0</th>\n",
       "      <th>cleaned</th>\n",
       "      <th>classes</th>\n",
       "      <th>labels</th>\n",
       "    </tr>\n",
       "  </thead>\n",
       "  <tbody>\n",
       "    <tr>\n",
       "      <th>0</th>\n",
       "      <td>0</td>\n",
       "      <td>মেডিকেলে এসে ঠিক ফ্যামিলির ফটো ফ্রেম এর মতো মন...</td>\n",
       "      <td>sadness</td>\n",
       "      <td>1</td>\n",
       "    </tr>\n",
       "    <tr>\n",
       "      <th>1</th>\n",
       "      <td>1</td>\n",
       "      <td>অনেক দিন পর অন্য রকম অনুভূতি হচ্ছে  কেননা আমার...</td>\n",
       "      <td>sadness</td>\n",
       "      <td>1</td>\n",
       "    </tr>\n",
       "    <tr>\n",
       "      <th>2</th>\n",
       "      <td>2</td>\n",
       "      <td>আগে যতোটা বেশি পছন্দ করতাম দুশ্চরিত্রা মিথিলা ...</td>\n",
       "      <td>disgust</td>\n",
       "      <td>3</td>\n",
       "    </tr>\n",
       "    <tr>\n",
       "      <th>3</th>\n",
       "      <td>3</td>\n",
       "      <td>মাঝে মাঝে মনে হয় তোমাকে চাওয়াটা অনেক ভুল হয়ত ভ...</td>\n",
       "      <td>sadness</td>\n",
       "      <td>1</td>\n",
       "    </tr>\n",
       "    <tr>\n",
       "      <th>4</th>\n",
       "      <td>4</td>\n",
       "      <td>এখানে কাওকে কবর দিয়ো না তাহলে তোমাদের পরিবারের...</td>\n",
       "      <td>fear</td>\n",
       "      <td>5</td>\n",
       "    </tr>\n",
       "  </tbody>\n",
       "</table>\n",
       "</div>"
      ],
      "text/plain": [
       "   Unnamed: 0                                            cleaned  classes  \\\n",
       "0           0  মেডিকেলে এসে ঠিক ফ্যামিলির ফটো ফ্রেম এর মতো মন...  sadness   \n",
       "1           1  অনেক দিন পর অন্য রকম অনুভূতি হচ্ছে  কেননা আমার...  sadness   \n",
       "2           2  আগে যতোটা বেশি পছন্দ করতাম দুশ্চরিত্রা মিথিলা ...  disgust   \n",
       "3           3  মাঝে মাঝে মনে হয় তোমাকে চাওয়াটা অনেক ভুল হয়ত ভ...  sadness   \n",
       "4           4  এখানে কাওকে কবর দিয়ো না তাহলে তোমাদের পরিবারের...     fear   \n",
       "\n",
       "   labels  \n",
       "0       1  \n",
       "1       1  \n",
       "2       3  \n",
       "3       1  \n",
       "4       5  "
      ]
     },
     "execution_count": 5,
     "metadata": {},
     "output_type": "execute_result"
    }
   ],
   "source": [
    "train_df.head()"
   ]
  },
  {
   "cell_type": "code",
   "execution_count": 6,
   "id": "5f70cdf8",
   "metadata": {},
   "outputs": [
    {
     "name": "stdout",
     "output_type": "stream",
     "text": [
      "<class 'pandas.core.frame.DataFrame'>\n",
      "RangeIndex: 4994 entries, 0 to 4993\n",
      "Data columns (total 4 columns):\n",
      " #   Column      Non-Null Count  Dtype \n",
      "---  ------      --------------  ----- \n",
      " 0   Unnamed: 0  4994 non-null   int64 \n",
      " 1   cleaned     4994 non-null   object\n",
      " 2   classes     4994 non-null   object\n",
      " 3   labels      4994 non-null   int64 \n",
      "dtypes: int64(2), object(2)\n",
      "memory usage: 156.2+ KB\n",
      "\n",
      "<class 'pandas.core.frame.DataFrame'>\n",
      "RangeIndex: 625 entries, 0 to 624\n",
      "Data columns (total 4 columns):\n",
      " #   Column      Non-Null Count  Dtype \n",
      "---  ------      --------------  ----- \n",
      " 0   Unnamed: 0  625 non-null    int64 \n",
      " 1   cleaned     625 non-null    object\n",
      " 2   classes     625 non-null    object\n",
      " 3   labels      625 non-null    int64 \n",
      "dtypes: int64(2), object(2)\n",
      "memory usage: 19.7+ KB\n",
      "\n",
      "<class 'pandas.core.frame.DataFrame'>\n",
      "RangeIndex: 624 entries, 0 to 623\n",
      "Data columns (total 4 columns):\n",
      " #   Column      Non-Null Count  Dtype \n",
      "---  ------      --------------  ----- \n",
      " 0   Unnamed: 0  624 non-null    int64 \n",
      " 1   cleaned     624 non-null    object\n",
      " 2   classes     624 non-null    object\n",
      " 3   labels      624 non-null    int64 \n",
      "dtypes: int64(2), object(2)\n",
      "memory usage: 19.6+ KB\n",
      "\n"
     ]
    }
   ],
   "source": [
    "#checking for ull values\n",
    "train_df.info()\n",
    "print()\n",
    "test_df.info()\n",
    "print()\n",
    "val_df.info()\n",
    "print()"
   ]
  },
  {
   "cell_type": "code",
   "execution_count": 7,
   "id": "f7dc5157",
   "metadata": {},
   "outputs": [
    {
     "data": {
      "text/plain": [
       "disgust     1233\n",
       "sadness      942\n",
       "joy          908\n",
       "fear         700\n",
       "anger        621\n",
       "surprise     590\n",
       "Name: classes, dtype: int64"
      ]
     },
     "execution_count": 7,
     "metadata": {},
     "output_type": "execute_result"
    }
   ],
   "source": [
    "train_df[\"classes\"].value_counts()"
   ]
  },
  {
   "cell_type": "code",
   "execution_count": 8,
   "id": "7d5d210e",
   "metadata": {},
   "outputs": [
    {
     "data": {
      "text/plain": [
       "disgust     165\n",
       "sadness     119\n",
       "joy         114\n",
       "fear         83\n",
       "surprise     73\n",
       "anger        71\n",
       "Name: classes, dtype: int64"
      ]
     },
     "execution_count": 8,
     "metadata": {},
     "output_type": "execute_result"
    }
   ],
   "source": [
    "test_df[\"classes\"].value_counts()"
   ]
  },
  {
   "cell_type": "code",
   "execution_count": 9,
   "id": "3f417088",
   "metadata": {},
   "outputs": [
    {
     "data": {
      "text/plain": [
       "disgust     155\n",
       "sadness     129\n",
       "joy         120\n",
       "fear         89\n",
       "anger        67\n",
       "surprise     64\n",
       "Name: classes, dtype: int64"
      ]
     },
     "execution_count": 9,
     "metadata": {},
     "output_type": "execute_result"
    }
   ],
   "source": [
    "val_df[\"classes\"].value_counts()"
   ]
  },
  {
   "cell_type": "code",
   "execution_count": 10,
   "id": "053b4540",
   "metadata": {},
   "outputs": [
    {
     "name": "stdout",
     "output_type": "stream",
     "text": [
      "অনেক দিন পর অন্য রকম অনুভূতি হচ্ছে  কেননা আমার সদ্য পাশ করা শিক্ষার্থীর মত এখন আমিও বেকার বেকার পরিচয় দিয়ে আম্মার কাছ থেকে আজ পঞ্চাশ টাকা ডাকাতি করলাম \n"
     ]
    }
   ],
   "source": [
    "#sample text from dataset\n",
    "sample = train_df[\"cleaned\"][1]\n",
    "print(sample)"
   ]
  },
  {
   "cell_type": "code",
   "execution_count": 11,
   "id": "46623438",
   "metadata": {},
   "outputs": [],
   "source": [
    "x_train, x_test, y_train, y_test = train_df[\"cleaned\"], val_df[\"cleaned\"], train_df[\"labels\"], val_df[\"labels\"]"
   ]
  },
  {
   "cell_type": "code",
   "execution_count": 12,
   "id": "cb81d142",
   "metadata": {},
   "outputs": [],
   "source": [
    "from keras.utils import np_utils\n",
    "from keras.preprocessing.text import Tokenizer\n",
    "from keras.preprocessing.sequence import pad_sequences\n",
    "\n",
    "import tensorflow as tf\n",
    "from keras import layers\n",
    "from keras.models import Sequential\n",
    "\n",
    "EPOCHS= 30\n",
    "act= \"swish\"\n",
    "opt= tf.keras.optimizers.Adam(learning_rate=0.001)"
   ]
  },
  {
   "cell_type": "code",
   "execution_count": 13,
   "id": "5b775aeb",
   "metadata": {},
   "outputs": [],
   "source": [
    "#converting text to vectors via tokenization\n",
    "tokenizer = Tokenizer()\n",
    "tokenizer.fit_on_texts(x_train)\n",
    "\n",
    "X_train = tokenizer.texts_to_sequences(x_train)\n",
    "X_test = tokenizer.texts_to_sequences(x_test)\n",
    "TEST = tokenizer.texts_to_sequences(test_df[\"cleaned\"]) \n",
    "\n",
    "vocab_size = len(tokenizer.word_index) + 1 "
   ]
  },
  {
   "cell_type": "code",
   "execution_count": 14,
   "id": "79603d3f",
   "metadata": {},
   "outputs": [
    {
     "name": "stdout",
     "output_type": "stream",
     "text": [
      "Max len: 215\n"
     ]
    }
   ],
   "source": [
    "#calculating max length of the vector\n",
    "lens_train = [len(i) for i in X_train]\n",
    "lens_test = [len(i) for i in X_test]\n",
    "lens = lens_train + lens_test\n",
    "\n",
    "maxlen = np.max(lens)\n",
    "\n",
    "print('Max len:', maxlen)"
   ]
  },
  {
   "cell_type": "code",
   "execution_count": 15,
   "id": "bb495e40",
   "metadata": {},
   "outputs": [],
   "source": [
    "#Zero padding every vector so that they are the same size\n",
    "X_train = pad_sequences(X_train, padding='post', maxlen=maxlen)\n",
    "X_test = pad_sequences(X_test, padding='post', maxlen=maxlen)\n",
    "TEST = pad_sequences(TEST, padding='post', maxlen=maxlen)"
   ]
  },
  {
   "cell_type": "code",
   "execution_count": 16,
   "id": "bbfc3acc",
   "metadata": {},
   "outputs": [],
   "source": [
    "#One Hot Encoding integer labels\n",
    "dummy_y_test = np_utils.to_categorical(y_test)\n",
    "dummy_y_train = np_utils.to_categorical(y_train)"
   ]
  },
  {
   "cell_type": "code",
   "execution_count": 17,
   "id": "a914d44d",
   "metadata": {},
   "outputs": [],
   "source": [
    "#reading fasttext\n",
    "def get_embedding_vectors(tokenizer, dim=300):\n",
    "    embedding_index = {}\n",
    "    with open('crawl-300d-2M.vec','r', encoding=\"cp437\", errors='ignore') as f:\n",
    "        for line in tqdm.tqdm(f, \"Reading GloVe\"):\n",
    "            values = line.split()\n",
    "            word = ''.join(values[:-300])\n",
    "            vectors = np.asarray(values[-300:], dtype='float32')\n",
    "            embedding_index[word] = vectors\n",
    "\n",
    "    word_index = tokenizer.word_index\n",
    "    embedding_matrix = np.zeros((len(word_index)+1, dim))\n",
    "    for word, i in word_index.items():\n",
    "        embedding_vector = embedding_index.get(word)\n",
    "        if embedding_vector is not None:\n",
    "            # words not found will be 0s\n",
    "            embedding_matrix[i] = embedding_vector\n",
    "          \n",
    "    return embedding_matrix"
   ]
  },
  {
   "cell_type": "code",
   "execution_count": 18,
   "id": "c7afb8fc",
   "metadata": {},
   "outputs": [
    {
     "name": "stderr",
     "output_type": "stream",
     "text": [
      "Reading GloVe: 2000001it [03:21, 9945.84it/s] \n"
     ]
    }
   ],
   "source": [
    "embedding_matrix = get_embedding_vectors(tokenizer)"
   ]
  },
  {
   "cell_type": "code",
   "execution_count": 19,
   "id": "9a10d6e8",
   "metadata": {},
   "outputs": [
    {
     "name": "stdout",
     "output_type": "stream",
     "text": [
      "Model: \"sequential\"\n",
      "_________________________________________________________________\n",
      " Layer (type)                Output Shape              Param #   \n",
      "=================================================================\n",
      " embedding (Embedding)       (None, 215, 300)          6926100   \n",
      "                                                                 \n",
      " dropout (Dropout)           (None, 215, 300)          0         \n",
      "                                                                 \n",
      " conv1d (Conv1D)             (None, 213, 3)            2703      \n",
      "                                                                 \n",
      " max_pooling1d (MaxPooling1D  (None, 71, 3)            0         \n",
      " )                                                               \n",
      "                                                                 \n",
      " dropout_1 (Dropout)         (None, 71, 3)             0         \n",
      "                                                                 \n",
      " conv1d_1 (Conv1D)           (None, 69, 3)             30        \n",
      "                                                                 \n",
      " max_pooling1d_1 (MaxPooling  (None, 23, 3)            0         \n",
      " 1D)                                                             \n",
      "                                                                 \n",
      " dropout_2 (Dropout)         (None, 23, 3)             0         \n",
      "                                                                 \n",
      " bidirectional (Bidirectiona  (None, 512)              532480    \n",
      " l)                                                              \n",
      "                                                                 \n",
      " dropout_3 (Dropout)         (None, 512)               0         \n",
      "                                                                 \n",
      " dense (Dense)               (None, 256)               131328    \n",
      "                                                                 \n",
      " dropout_4 (Dropout)         (None, 256)               0         \n",
      "                                                                 \n",
      " dense_1 (Dense)             (None, 6)                 1542      \n",
      "                                                                 \n",
      "=================================================================\n",
      "Total params: 7,594,183\n",
      "Trainable params: 7,594,183\n",
      "Non-trainable params: 0\n",
      "_________________________________________________________________\n"
     ]
    }
   ],
   "source": [
    "#defining CNN-BiLSTM model\n",
    "embedding_dim = 300\n",
    "\n",
    "model = Sequential()\n",
    "model.add(layers.Embedding(input_dim=vocab_size, output_dim=embedding_dim, weights = [embedding_matrix], input_length=maxlen))\n",
    "model.add(layers.Dropout(0.3)) \n",
    "model.add(layers.Conv1D(filters=3, kernel_size=3, activation=act)) \n",
    "model.add(layers.MaxPool1D(pool_size=3)) \n",
    "model.add(layers.Dropout(0.3))\n",
    "model.add(layers.Conv1D(filters=3, kernel_size=3, activation=act)) \n",
    "model.add(layers.MaxPool1D(pool_size=3)) \n",
    "model.add(layers.Dropout(0.3))\n",
    "model.add(layers.Bidirectional(layers.LSTM(256, recurrent_dropout=0.3)))\n",
    "model.add(layers.Dropout(0.3))\n",
    "model.add(layers.Dense(256,activation=act)) \n",
    "model.add(layers.Dropout(0.3)) \n",
    "model.add(layers.Dense(6, activation=\"softmax\"))\n",
    "model.compile(optimizer=opt, loss=\"categorical_crossentropy\",metrics=[\"accuracy\"])\n",
    "model.summary()"
   ]
  },
  {
   "cell_type": "code",
   "execution_count": 20,
   "id": "079b4cb1",
   "metadata": {},
   "outputs": [],
   "source": [
    "checkpoint_filepath = './Checkpoint/checkpoint'\n",
    "model_checkpoint_callback = tf.keras.callbacks.ModelCheckpoint(\n",
    "    filepath=checkpoint_filepath,\n",
    "    save_weights_only=True,\n",
    "    monitor='val_accuracy',\n",
    "    mode='max',\n",
    "    save_best_only=True)"
   ]
  },
  {
   "cell_type": "code",
   "execution_count": 21,
   "id": "0fbfa69e",
   "metadata": {},
   "outputs": [
    {
     "name": "stdout",
     "output_type": "stream",
     "text": [
      "Epoch 1/30\n",
      "313/313 [==============================] - 86s 262ms/step - loss: 1.7496 - accuracy: 0.2485 - val_loss: 1.6596 - val_accuracy: 0.3013\n",
      "Epoch 2/30\n",
      "313/313 [==============================] - 82s 262ms/step - loss: 1.5787 - accuracy: 0.3382 - val_loss: 1.5462 - val_accuracy: 0.3574\n",
      "Epoch 3/30\n",
      "313/313 [==============================] - 88s 282ms/step - loss: 1.3212 - accuracy: 0.4207 - val_loss: 1.5729 - val_accuracy: 0.4006\n",
      "Epoch 4/30\n",
      "313/313 [==============================] - 86s 276ms/step - loss: 1.1957 - accuracy: 0.4676 - val_loss: 1.5621 - val_accuracy: 0.3974\n",
      "Epoch 5/30\n",
      "313/313 [==============================] - 84s 268ms/step - loss: 1.1070 - accuracy: 0.5046 - val_loss: 1.6059 - val_accuracy: 0.4006\n",
      "Epoch 6/30\n",
      "313/313 [==============================] - 77s 247ms/step - loss: 1.0401 - accuracy: 0.5280 - val_loss: 1.6885 - val_accuracy: 0.4006\n",
      "Epoch 7/30\n",
      "313/313 [==============================] - 81s 259ms/step - loss: 0.9878 - accuracy: 0.5753 - val_loss: 1.7761 - val_accuracy: 0.3910\n",
      "Epoch 8/30\n",
      "313/313 [==============================] - 78s 249ms/step - loss: 0.9315 - accuracy: 0.5815 - val_loss: 1.7913 - val_accuracy: 0.4119\n",
      "Epoch 9/30\n",
      "313/313 [==============================] - 77s 246ms/step - loss: 0.9021 - accuracy: 0.6051 - val_loss: 1.9318 - val_accuracy: 0.4022\n",
      "Epoch 10/30\n",
      "313/313 [==============================] - 79s 254ms/step - loss: 0.8736 - accuracy: 0.6254 - val_loss: 1.9365 - val_accuracy: 0.4006\n",
      "Epoch 11/30\n",
      "313/313 [==============================] - 78s 250ms/step - loss: 0.8154 - accuracy: 0.6550 - val_loss: 2.0887 - val_accuracy: 0.3926\n",
      "Epoch 12/30\n",
      "313/313 [==============================] - 78s 250ms/step - loss: 0.7905 - accuracy: 0.6634 - val_loss: 2.0983 - val_accuracy: 0.3638\n",
      "Epoch 13/30\n",
      "313/313 [==============================] - 78s 250ms/step - loss: 0.7721 - accuracy: 0.6746 - val_loss: 2.1213 - val_accuracy: 0.3702\n",
      "Epoch 14/30\n",
      "313/313 [==============================] - 80s 255ms/step - loss: 0.7432 - accuracy: 0.6908 - val_loss: 2.1678 - val_accuracy: 0.3638\n",
      "Epoch 15/30\n",
      "313/313 [==============================] - 87s 278ms/step - loss: 0.6834 - accuracy: 0.7191 - val_loss: 2.4460 - val_accuracy: 0.3750\n",
      "Epoch 16/30\n",
      "313/313 [==============================] - 80s 257ms/step - loss: 0.6701 - accuracy: 0.7283 - val_loss: 2.2280 - val_accuracy: 0.3782\n",
      "Epoch 17/30\n",
      "313/313 [==============================] - 81s 259ms/step - loss: 0.6323 - accuracy: 0.7461 - val_loss: 2.4506 - val_accuracy: 0.3846\n",
      "Epoch 18/30\n",
      "313/313 [==============================] - 84s 268ms/step - loss: 0.6021 - accuracy: 0.7595 - val_loss: 2.4333 - val_accuracy: 0.3301\n",
      "Epoch 19/30\n",
      "313/313 [==============================] - 88s 280ms/step - loss: 0.5731 - accuracy: 0.7827 - val_loss: 2.4915 - val_accuracy: 0.3205\n",
      "Epoch 20/30\n",
      "313/313 [==============================] - 88s 280ms/step - loss: 0.5652 - accuracy: 0.7799 - val_loss: 2.5535 - val_accuracy: 0.3349\n",
      "Epoch 21/30\n",
      "313/313 [==============================] - 81s 258ms/step - loss: 0.5515 - accuracy: 0.7885 - val_loss: 2.4835 - val_accuracy: 0.3830\n",
      "Epoch 22/30\n",
      "313/313 [==============================] - 83s 265ms/step - loss: 0.5180 - accuracy: 0.7980 - val_loss: 2.6167 - val_accuracy: 0.3622\n",
      "Epoch 23/30\n",
      "313/313 [==============================] - 83s 265ms/step - loss: 0.5150 - accuracy: 0.7992 - val_loss: 2.5806 - val_accuracy: 0.3558\n",
      "Epoch 24/30\n",
      "313/313 [==============================] - 77s 247ms/step - loss: 0.4886 - accuracy: 0.8132 - val_loss: 2.7012 - val_accuracy: 0.3045\n",
      "Epoch 25/30\n",
      "313/313 [==============================] - 78s 249ms/step - loss: 0.4796 - accuracy: 0.8170 - val_loss: 2.6843 - val_accuracy: 0.3157\n",
      "Epoch 26/30\n",
      "313/313 [==============================] - 78s 249ms/step - loss: 0.4717 - accuracy: 0.8224 - val_loss: 2.7019 - val_accuracy: 0.3397\n",
      "Epoch 27/30\n",
      "313/313 [==============================] - 78s 250ms/step - loss: 0.4420 - accuracy: 0.8318 - val_loss: 2.7851 - val_accuracy: 0.3462\n",
      "Epoch 28/30\n",
      "313/313 [==============================] - 79s 251ms/step - loss: 0.4506 - accuracy: 0.8316 - val_loss: 2.8872 - val_accuracy: 0.3365\n",
      "Epoch 29/30\n",
      "313/313 [==============================] - 78s 249ms/step - loss: 0.4349 - accuracy: 0.8332 - val_loss: 2.8405 - val_accuracy: 0.3558\n",
      "Epoch 30/30\n",
      "313/313 [==============================] - 77s 247ms/step - loss: 0.4344 - accuracy: 0.8364 - val_loss: 2.8258 - val_accuracy: 0.3750\n",
      "Training Accuracy: 0.8186\n",
      "Testing Accuracy:  0.3750\n"
     ]
    }
   ],
   "source": [
    "history = model.fit(X_train, dummy_y_train, epochs=EPOCHS, verbose=1, validation_data=(X_test, dummy_y_test), batch_size=16, callbacks=[model_checkpoint_callback]) \n",
    "loss, accuracy = model.evaluate(X_train, dummy_y_train, verbose=0)\n",
    "print(\"Training Accuracy: {:.4f}\".format(accuracy))\n",
    "loss, accuracy = model.evaluate(X_test, dummy_y_test, verbose=0)\n",
    "print(\"Testing Accuracy:  {:.4f}\".format(accuracy))"
   ]
  },
  {
   "cell_type": "code",
   "execution_count": 22,
   "id": "cb6cbf4b",
   "metadata": {},
   "outputs": [],
   "source": [
    "def PlotGraph(history):\n",
    "    acc = history.history['accuracy']\n",
    "    val_acc = history.history['val_accuracy']\n",
    "    loss = history.history['loss']\n",
    "    val_loss = history.history['val_loss']\n",
    "    x = range(1, len(acc) + 1)\n",
    "\n",
    "    plt.figure(figsize=(12, 5))\n",
    "    plt.subplot(1, 2, 1)\n",
    "    plt.plot(x, acc, 'g', label='Training acc')\n",
    "    plt.plot(x, val_acc, 'b', label='Validation acc')\n",
    "    plt.title('Training and validation accuracy')\n",
    "    plt.legend()\n",
    "    plt.subplot(1, 2, 2)\n",
    "    plt.plot(x, loss, 'g', label='Training loss')\n",
    "    plt.plot(x, val_loss, 'b', label='Validation loss')\n",
    "    plt.title('Training and validation loss')\n",
    "    plt.legend()"
   ]
  },
  {
   "cell_type": "code",
   "execution_count": 23,
   "id": "a3a1d6c9",
   "metadata": {},
   "outputs": [
    {
     "data": {
      "image/png": "[encoded data removed]",
      "text/plain": [
       "<Figure size 864x360 with 2 Axes>"
      ]
     },
     "metadata": {
      "needs_background": "light"
     },
     "output_type": "display_data"
    }
   ],
   "source": [
    "PlotGraph(history)"
   ]
  },
  {
   "cell_type": "code",
   "execution_count": 24,
   "id": "b2244f33",
   "metadata": {},
   "outputs": [
    {
     "name": "stdout",
     "output_type": "stream",
     "text": [
      "Best Accuracy Achieved by Model: 0.4118589758872986\n"
     ]
    }
   ],
   "source": [
    "print(f\"Best Accuracy Achieved by Model: {max(history.history['val_accuracy'])}\")"
   ]
  },
  {
   "cell_type": "code",
   "execution_count": 25,
   "id": "4eea3c67",
   "metadata": {},
   "outputs": [
    {
     "data": {
      "text/plain": [
       "<tensorflow.python.training.tracking.util.CheckpointLoadStatus at 0x1e2dbd54dc0>"
      ]
     },
     "execution_count": 25,
     "metadata": {},
     "output_type": "execute_result"
    }
   ],
   "source": [
    "model.load_weights(checkpoint_filepath)"
   ]
  },
  {
   "cell_type": "code",
   "execution_count": 26,
   "id": "1f4cc737",
   "metadata": {},
   "outputs": [
    {
     "data": {
      "text/plain": [
       "array([1, 0, 1, 3, 1, 1, 0, 1, 1, 1, 3, 3, 1, 3, 3, 1, 1, 3, 3, 1, 3, 1,\n",
       "       3, 1, 5, 0, 1, 1, 4, 4, 0, 1, 0, 0, 1, 3, 1, 4, 0, 1, 3, 1, 1, 4,\n",
       "       1, 1, 0, 5, 1, 0, 1, 1, 3, 3, 0, 2, 1, 5, 3, 3, 3, 0, 1, 1, 3, 0,\n",
       "       4, 5, 0, 1, 2, 5, 1, 0, 3, 0, 1, 0, 0, 3, 3, 3, 0, 0, 3, 1, 0, 1,\n",
       "       0, 3, 1, 1, 1, 1, 3, 1, 1, 0, 1, 0, 5, 0, 0, 1, 0, 1, 5, 0, 3, 0,\n",
       "       3, 1, 0, 0, 1, 1, 0, 0, 1, 5, 0, 5, 0, 0, 1, 1, 3, 3, 0, 1, 0, 3,\n",
       "       1, 3, 0, 0, 1, 1, 3, 3, 1, 1, 0, 3, 1, 1, 0, 0, 5, 4, 0, 3, 0, 0,\n",
       "       0, 0, 0, 1, 0, 0, 1, 1, 3, 3, 0, 1, 0, 0, 0, 0, 5, 3, 0, 5, 0, 1,\n",
       "       1, 0, 1, 1, 1, 1, 4, 0, 3, 0, 3, 1, 1, 5, 5, 3, 5, 1, 1, 3, 3, 2,\n",
       "       1, 1, 0, 0, 1, 1, 1, 1, 1, 3, 5, 0, 3, 1, 0, 3, 1, 1, 0, 1, 1, 3,\n",
       "       1, 3, 3, 1, 0, 0, 1, 3, 4, 1, 3, 3, 1, 1, 3, 3, 3, 1, 3, 0, 4, 0,\n",
       "       3, 3, 5, 5, 3, 0, 0, 0, 1, 1, 3, 0, 1, 1, 1, 0, 0, 2, 0, 1, 1, 1,\n",
       "       1, 1, 1, 3, 0, 3, 2, 3, 4, 0, 1, 3, 2, 1, 0, 3, 0, 0, 5, 1, 3, 5,\n",
       "       3, 1, 3, 0, 3, 0, 4, 0, 0, 1, 1, 1, 5, 1, 0, 3, 0, 1, 3, 2, 0, 1,\n",
       "       1, 0, 1, 1, 0, 1, 3, 3, 3, 1, 0, 3, 1, 3, 5, 1, 1, 5, 0, 0, 1, 1,\n",
       "       0, 0, 3, 0, 1, 0, 0, 0, 0, 2, 1, 1, 0, 1, 1, 1, 1, 0, 3, 0, 0, 1,\n",
       "       1, 0, 1, 0, 1, 1, 5, 0, 0, 1, 1, 1, 0, 3, 0, 1, 5, 1, 1, 3, 3, 1,\n",
       "       1, 5, 5, 3, 1, 1, 1, 4, 0, 5, 1, 1, 5, 3, 1, 0, 1, 1, 1, 1, 0, 1,\n",
       "       0, 0, 1, 1, 0, 3, 3, 1, 0, 3, 0, 0, 0, 0, 1, 1, 3, 5, 5, 1, 0, 0,\n",
       "       0, 0, 1, 0, 5, 1, 0, 0, 0, 4, 1, 0, 1, 1, 0, 3, 3, 5, 3, 5, 5, 5,\n",
       "       1, 1, 1, 5, 1, 1, 1, 1, 0, 1, 3, 1, 3, 0, 1, 0, 5, 5, 1, 0, 2, 1,\n",
       "       0, 3, 0, 5, 1, 0, 3, 2, 0, 1, 0, 5, 3, 3, 3, 3, 0, 3, 0, 1, 0, 5,\n",
       "       1, 0, 1, 3, 0, 0, 1, 3, 1, 0, 0, 1, 0, 1, 1, 3, 1, 1, 1, 0, 1, 0,\n",
       "       0, 0, 3, 5, 4, 3, 1, 1, 5, 0, 3, 0, 0, 3, 0, 1, 3, 3, 4, 3, 1, 1,\n",
       "       0, 1, 3, 0, 1, 1, 1, 5, 1, 0, 3, 4, 1, 1, 3, 3, 0, 1, 0, 0, 1, 3,\n",
       "       1, 1, 1, 0, 3, 1, 3, 0, 5, 0, 0, 0, 0, 5, 0, 1, 0, 0, 0, 5, 1, 1,\n",
       "       1, 3, 1, 3, 1, 1, 3, 1, 1, 0, 0, 3, 1, 0, 3, 5, 5, 3, 1, 1, 1, 1,\n",
       "       3, 1, 0, 0, 1, 1, 5, 1, 1, 3, 3, 0, 0, 0, 1, 1, 1, 0, 3, 1, 3, 3,\n",
       "       2, 0, 3, 1, 0, 0, 5, 1, 1], dtype=int64)"
      ]
     },
     "execution_count": 26,
     "metadata": {},
     "output_type": "execute_result"
    }
   ],
   "source": [
    "predict = model.predict(TEST)\n",
    "predict_class = np.argmax(predict, axis=1)\n",
    "predict_class = np.array(predict_class)\n",
    "predict_class"
   ]
  },
  {
   "cell_type": "code",
   "execution_count": 27,
   "id": "07fbb8f2",
   "metadata": {},
   "outputs": [
    {
     "data": {
      "text/plain": [
       "array([[54, 41,  2,  5,  3,  9],\n",
       "       [42, 59,  1, 12,  3,  2],\n",
       "       [28, 20,  3,  4,  0, 18],\n",
       "       [11, 55,  0, 94,  5,  0],\n",
       "       [14, 38,  0, 12,  5,  2],\n",
       "       [36, 20,  5,  1,  0, 21]], dtype=int64)"
      ]
     },
     "execution_count": 27,
     "metadata": {},
     "output_type": "execute_result"
    }
   ],
   "source": [
    "from sklearn.metrics import confusion_matrix\n",
    "\n",
    "cm = confusion_matrix(test_df[\"labels\"], predict_class)\n",
    "cm"
   ]
  },
  {
   "cell_type": "code",
   "execution_count": 28,
   "id": "d6d34c1e",
   "metadata": {},
   "outputs": [
    {
     "data": {
      "text/plain": [
       "<AxesSubplot:>"
      ]
     },
     "execution_count": 28,
     "metadata": {},
     "output_type": "execute_result"
    },
    {
     "data": {
      "image/png": "[encoded data removed]",
      "text/plain": [
       "<Figure size 720x504 with 2 Axes>"
      ]
     },
     "metadata": {
      "needs_background": "light"
     },
     "output_type": "display_data"
    }
   ],
   "source": [
    "df_cm = pd.DataFrame(cm, index=[\"anger\", \"fear\", \"joy\", \"disgust\", \"sadness\", \"surprise\"], columns=[\"anger\", \"fear\", \"joy\", \"disgust\", \"sadness\", \"surprise\"])\n",
    "plt.figure(figsize = (10,7))\n",
    "sns.heatmap(df_cm,annot=True, fmt =\"d\")"
   ]
  },
  {
   "cell_type": "code",
   "execution_count": 29,
   "id": "cc35fbc5",
   "metadata": {},
   "outputs": [
    {
     "name": "stdout",
     "output_type": "stream",
     "text": [
      "              precision    recall  f1-score   support\n",
      "\n",
      "       anger       0.29      0.47      0.36       114\n",
      "        fear       0.25      0.50      0.34       119\n",
      "         joy       0.27      0.04      0.07        73\n",
      "     disgust       0.73      0.57      0.64       165\n",
      "     sadness       0.31      0.07      0.11        71\n",
      "    surprise       0.40      0.25      0.31        83\n",
      "\n",
      "    accuracy                           0.38       625\n",
      "   macro avg       0.38      0.32      0.31       625\n",
      "weighted avg       0.42      0.38      0.36       625\n",
      "\n"
     ]
    }
   ],
   "source": [
    "from sklearn.metrics import classification_report\n",
    "\n",
    "print(classification_report(test_df[\"labels\"], predict_class, target_names =[\"anger\", \"fear\", \"joy\", \"disgust\", \"sadness\", \"surprise\"]))"
   ]
  },
  {
   "cell_type": "code",
   "execution_count": null,
   "id": "6ee1c297",
   "metadata": {},
   "outputs": [],
   "source": []
  }
 ],
 "metadata": {
  "kernelspec": {
   "display_name": "Python 3",
   "language": "python",
   "name": "python3"
  },
  "language_info": {
   "codemirror_mode": {
    "name": "ipython",
    "version": 3
   },
   "file_extension": ".py",
   "mimetype": "text/x-python",
   "name": "python",
   "nbconvert_exporter": "python",
   "pygments_lexer": "ipython3",
   "version": "3.8.8"
  }
 },
 "nbformat": 4,
 "nbformat_minor": 5
}
