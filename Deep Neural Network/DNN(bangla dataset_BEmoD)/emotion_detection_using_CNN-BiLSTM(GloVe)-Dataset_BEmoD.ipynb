{
 "cells": [
  {
   "cell_type": "code",
   "execution_count": 5,
   "id": "0d5f9be8",
   "metadata": {},
   "outputs": [],
   "source": [
    "import re\n",
    "import tqdm\n",
    "import numpy as np\n",
    "import pandas as pd\n",
    "import seaborn as sns\n",
    "import matplotlib.pyplot as plt"
   ]
  },
  {
   "cell_type": "code",
   "execution_count": 6,
   "id": "c6366948",
   "metadata": {},
   "outputs": [],
   "source": [
    "#reading dataset\n",
    "train_df = pd.read_excel('train.xlsx') \n",
    "val_df = pd.read_excel('val.xlsx')\n",
    "test_df = pd.read_excel('test.xlsx')"
   ]
  },
  {
   "cell_type": "code",
   "execution_count": 7,
   "id": "b71de20d",
   "metadata": {},
   "outputs": [
    {
     "data": {
      "text/html": [
       "<div>\n",
       "<style scoped>\n",
       "    .dataframe tbody tr th:only-of-type {\n",
       "        vertical-align: middle;\n",
       "    }\n",
       "\n",
       "    .dataframe tbody tr th {\n",
       "        vertical-align: top;\n",
       "    }\n",
       "\n",
       "    .dataframe thead th {\n",
       "        text-align: right;\n",
       "    }\n",
       "</style>\n",
       "<table border=\"1\" class=\"dataframe\">\n",
       "  <thead>\n",
       "    <tr style=\"text-align: right;\">\n",
       "      <th></th>\n",
       "      <th>Unnamed: 0</th>\n",
       "      <th>cleaned</th>\n",
       "      <th>classes</th>\n",
       "      <th>labels</th>\n",
       "    </tr>\n",
       "  </thead>\n",
       "  <tbody>\n",
       "    <tr>\n",
       "      <th>0</th>\n",
       "      <td>0</td>\n",
       "      <td>মেডিকেলে এসে ঠিক ফ্যামিলির ফটো ফ্রেম এর মতো মন...</td>\n",
       "      <td>sadness</td>\n",
       "      <td>1</td>\n",
       "    </tr>\n",
       "    <tr>\n",
       "      <th>1</th>\n",
       "      <td>1</td>\n",
       "      <td>অনেক দিন পর অন্য রকম অনুভূতি হচ্ছে  কেননা আমার...</td>\n",
       "      <td>sadness</td>\n",
       "      <td>1</td>\n",
       "    </tr>\n",
       "    <tr>\n",
       "      <th>2</th>\n",
       "      <td>2</td>\n",
       "      <td>আগে যতোটা বেশি পছন্দ করতাম দুশ্চরিত্রা মিথিলা ...</td>\n",
       "      <td>disgust</td>\n",
       "      <td>3</td>\n",
       "    </tr>\n",
       "    <tr>\n",
       "      <th>3</th>\n",
       "      <td>3</td>\n",
       "      <td>মাঝে মাঝে মনে হয় তোমাকে চাওয়াটা অনেক ভুল হয়ত ভ...</td>\n",
       "      <td>sadness</td>\n",
       "      <td>1</td>\n",
       "    </tr>\n",
       "    <tr>\n",
       "      <th>4</th>\n",
       "      <td>4</td>\n",
       "      <td>এখানে কাওকে কবর দিয়ো না তাহলে তোমাদের পরিবারের...</td>\n",
       "      <td>fear</td>\n",
       "      <td>5</td>\n",
       "    </tr>\n",
       "  </tbody>\n",
       "</table>\n",
       "</div>"
      ],
      "text/plain": [
       "   Unnamed: 0                                            cleaned  classes  \\\n",
       "0           0  মেডিকেলে এসে ঠিক ফ্যামিলির ফটো ফ্রেম এর মতো মন...  sadness   \n",
       "1           1  অনেক দিন পর অন্য রকম অনুভূতি হচ্ছে  কেননা আমার...  sadness   \n",
       "2           2  আগে যতোটা বেশি পছন্দ করতাম দুশ্চরিত্রা মিথিলা ...  disgust   \n",
       "3           3  মাঝে মাঝে মনে হয় তোমাকে চাওয়াটা অনেক ভুল হয়ত ভ...  sadness   \n",
       "4           4  এখানে কাওকে কবর দিয়ো না তাহলে তোমাদের পরিবারের...     fear   \n",
       "\n",
       "   labels  \n",
       "0       1  \n",
       "1       1  \n",
       "2       3  \n",
       "3       1  \n",
       "4       5  "
      ]
     },
     "execution_count": 7,
     "metadata": {},
     "output_type": "execute_result"
    }
   ],
   "source": [
    "train_df.head()"
   ]
  },
  {
   "cell_type": "code",
   "execution_count": 8,
   "id": "5f70cdf8",
   "metadata": {},
   "outputs": [
    {
     "name": "stdout",
     "output_type": "stream",
     "text": [
      "<class 'pandas.core.frame.DataFrame'>\n",
      "RangeIndex: 4994 entries, 0 to 4993\n",
      "Data columns (total 4 columns):\n",
      " #   Column      Non-Null Count  Dtype \n",
      "---  ------      --------------  ----- \n",
      " 0   Unnamed: 0  4994 non-null   int64 \n",
      " 1   cleaned     4994 non-null   object\n",
      " 2   classes     4994 non-null   object\n",
      " 3   labels      4994 non-null   int64 \n",
      "dtypes: int64(2), object(2)\n",
      "memory usage: 156.2+ KB\n",
      "\n",
      "<class 'pandas.core.frame.DataFrame'>\n",
      "RangeIndex: 625 entries, 0 to 624\n",
      "Data columns (total 4 columns):\n",
      " #   Column      Non-Null Count  Dtype \n",
      "---  ------      --------------  ----- \n",
      " 0   Unnamed: 0  625 non-null    int64 \n",
      " 1   cleaned     625 non-null    object\n",
      " 2   classes     625 non-null    object\n",
      " 3   labels      625 non-null    int64 \n",
      "dtypes: int64(2), object(2)\n",
      "memory usage: 19.7+ KB\n",
      "\n",
      "<class 'pandas.core.frame.DataFrame'>\n",
      "RangeIndex: 624 entries, 0 to 623\n",
      "Data columns (total 4 columns):\n",
      " #   Column      Non-Null Count  Dtype \n",
      "---  ------      --------------  ----- \n",
      " 0   Unnamed: 0  624 non-null    int64 \n",
      " 1   cleaned     624 non-null    object\n",
      " 2   classes     624 non-null    object\n",
      " 3   labels      624 non-null    int64 \n",
      "dtypes: int64(2), object(2)\n",
      "memory usage: 19.6+ KB\n",
      "\n"
     ]
    }
   ],
   "source": [
    "#checking for ull values\n",
    "train_df.info()\n",
    "print()\n",
    "test_df.info()\n",
    "print()\n",
    "val_df.info()\n",
    "print()"
   ]
  },
  {
   "cell_type": "code",
   "execution_count": 9,
   "id": "f7dc5157",
   "metadata": {},
   "outputs": [
    {
     "data": {
      "text/plain": [
       "disgust     1233\n",
       "sadness      942\n",
       "joy          908\n",
       "fear         700\n",
       "anger        621\n",
       "surprise     590\n",
       "Name: classes, dtype: int64"
      ]
     },
     "execution_count": 9,
     "metadata": {},
     "output_type": "execute_result"
    }
   ],
   "source": [
    "train_df[\"classes\"].value_counts()"
   ]
  },
  {
   "cell_type": "code",
   "execution_count": 10,
   "id": "7d5d210e",
   "metadata": {},
   "outputs": [
    {
     "data": {
      "text/plain": [
       "disgust     165\n",
       "sadness     119\n",
       "joy         114\n",
       "fear         83\n",
       "surprise     73\n",
       "anger        71\n",
       "Name: classes, dtype: int64"
      ]
     },
     "execution_count": 10,
     "metadata": {},
     "output_type": "execute_result"
    }
   ],
   "source": [
    "test_df[\"classes\"].value_counts()"
   ]
  },
  {
   "cell_type": "code",
   "execution_count": 11,
   "id": "3f417088",
   "metadata": {},
   "outputs": [
    {
     "data": {
      "text/plain": [
       "disgust     155\n",
       "sadness     129\n",
       "joy         120\n",
       "fear         89\n",
       "anger        67\n",
       "surprise     64\n",
       "Name: classes, dtype: int64"
      ]
     },
     "execution_count": 11,
     "metadata": {},
     "output_type": "execute_result"
    }
   ],
   "source": [
    "val_df[\"classes\"].value_counts()"
   ]
  },
  {
   "cell_type": "code",
   "execution_count": 12,
   "id": "053b4540",
   "metadata": {},
   "outputs": [
    {
     "name": "stdout",
     "output_type": "stream",
     "text": [
      "অনেক দিন পর অন্য রকম অনুভূতি হচ্ছে  কেননা আমার সদ্য পাশ করা শিক্ষার্থীর মত এখন আমিও বেকার বেকার পরিচয় দিয়ে আম্মার কাছ থেকে আজ পঞ্চাশ টাকা ডাকাতি করলাম \n"
     ]
    }
   ],
   "source": [
    "#sample text from dataset\n",
    "sample = train_df[\"cleaned\"][1]\n",
    "print(sample)"
   ]
  },
  {
   "cell_type": "code",
   "execution_count": 13,
   "id": "46623438",
   "metadata": {},
   "outputs": [],
   "source": [
    "x_train, x_test, y_train, y_test = train_df[\"cleaned\"], val_df[\"cleaned\"], train_df[\"labels\"], val_df[\"labels\"]"
   ]
  },
  {
   "cell_type": "code",
   "execution_count": 14,
   "id": "cb81d142",
   "metadata": {},
   "outputs": [],
   "source": [
    "from keras.utils import np_utils\n",
    "from keras.preprocessing.text import Tokenizer\n",
    "from keras.preprocessing.sequence import pad_sequences\n",
    "\n",
    "import tensorflow as tf\n",
    "from keras import layers\n",
    "from keras.models import Sequential\n",
    "\n",
    "EPOCHS= 30\n",
    "act= \"swish\"\n",
    "opt= tf.keras.optimizers.Adam(learning_rate=0.001)"
   ]
  },
  {
   "cell_type": "code",
   "execution_count": 15,
   "id": "5b775aeb",
   "metadata": {},
   "outputs": [],
   "source": [
    "#converting text to vectors via tokenization\n",
    "tokenizer = Tokenizer()\n",
    "tokenizer.fit_on_texts(x_train)\n",
    "\n",
    "X_train = tokenizer.texts_to_sequences(x_train)\n",
    "X_test = tokenizer.texts_to_sequences(x_test)\n",
    "TEST = tokenizer.texts_to_sequences(test_df[\"cleaned\"]) \n",
    "\n",
    "vocab_size = len(tokenizer.word_index) + 1 "
   ]
  },
  {
   "cell_type": "code",
   "execution_count": 16,
   "id": "0fedfe97",
   "metadata": {},
   "outputs": [
    {
     "name": "stdout",
     "output_type": "stream",
     "text": [
      "Max len: 215\n"
     ]
    }
   ],
   "source": [
    "#calculating max length of the vector\n",
    "lens_train = [len(i) for i in X_train]\n",
    "lens_test = [len(i) for i in X_test]\n",
    "lens = lens_train + lens_test\n",
    "\n",
    "maxlen = np.max(lens)\n",
    "\n",
    "print('Max len:', maxlen)"
   ]
  },
  {
   "cell_type": "code",
   "execution_count": 17,
   "id": "25f28f11",
   "metadata": {},
   "outputs": [],
   "source": [
    "#Zero padding every vector so that they are the same size\n",
    "X_train = pad_sequences(X_train, padding='post', maxlen=maxlen)\n",
    "X_test = pad_sequences(X_test, padding='post', maxlen=maxlen)\n",
    "TEST = pad_sequences(TEST, padding='post', maxlen=maxlen)"
   ]
  },
  {
   "cell_type": "code",
   "execution_count": 18,
   "id": "3125b2fc",
   "metadata": {},
   "outputs": [],
   "source": [
    "#One Hot Encoding integer labels\n",
    "dummy_y_test = np_utils.to_categorical(y_test)\n",
    "dummy_y_train = np_utils.to_categorical(y_train)"
   ]
  },
  {
   "cell_type": "code",
   "execution_count": 33,
   "id": "e9016fbe",
   "metadata": {},
   "outputs": [],
   "source": [
    "#reading GloVe\n",
    "def get_embedding_vectors(tokenizer, dim=300):\n",
    "    embedding_index = {}\n",
    "    with open('glove.840B.300d.txt','r', encoding=\"cp437\", errors='ignore') as f:\n",
    "        for line in tqdm.tqdm(f, \"Reading GloVe\"):\n",
    "            values = line.split()\n",
    "            word = ''.join(values[:-300])\n",
    "            vectors = np.asarray(values[-300:], dtype='float32')\n",
    "            embedding_index[word] = vectors\n",
    "\n",
    "    word_index = tokenizer.word_index\n",
    "    embedding_matrix = np.zeros((len(word_index)+1, dim))\n",
    "    for word, i in word_index.items():\n",
    "        embedding_vector = embedding_index.get(word)\n",
    "        if embedding_vector is not None:\n",
    "            # words not found will be 0s\n",
    "            embedding_matrix[i] = embedding_vector\n",
    "          \n",
    "    return embedding_matrix"
   ]
  },
  {
   "cell_type": "code",
   "execution_count": 34,
   "id": "667bf5db",
   "metadata": {},
   "outputs": [
    {
     "name": "stderr",
     "output_type": "stream",
     "text": [
      "Reading GloVe: 2196018it [03:45, 9754.67it/s] \n"
     ]
    }
   ],
   "source": [
    "embedding_matrix = get_embedding_vectors(tokenizer)"
   ]
  },
  {
   "cell_type": "code",
   "execution_count": 35,
   "id": "91060327",
   "metadata": {},
   "outputs": [
    {
     "name": "stdout",
     "output_type": "stream",
     "text": [
      "Model: \"sequential_1\"\n",
      "_________________________________________________________________\n",
      " Layer (type)                Output Shape              Param #   \n",
      "=================================================================\n",
      " embedding (Embedding)       (None, 215, 300)          6926100   \n",
      "                                                                 \n",
      " dropout (Dropout)           (None, 215, 300)          0         \n",
      "                                                                 \n",
      " conv1d (Conv1D)             (None, 213, 32)           28832     \n",
      "                                                                 \n",
      " max_pooling1d (MaxPooling1D  (None, 71, 32)           0         \n",
      " )                                                               \n",
      "                                                                 \n",
      " dropout_1 (Dropout)         (None, 71, 32)            0         \n",
      "                                                                 \n",
      " conv1d_1 (Conv1D)           (None, 69, 32)            3104      \n",
      "                                                                 \n",
      " max_pooling1d_1 (MaxPooling  (None, 23, 32)           0         \n",
      " 1D)                                                             \n",
      "                                                                 \n",
      " dropout_2 (Dropout)         (None, 23, 32)            0         \n",
      "                                                                 \n",
      " bidirectional (Bidirectiona  (None, 512)              591872    \n",
      " l)                                                              \n",
      "                                                                 \n",
      " dropout_3 (Dropout)         (None, 512)               0         \n",
      "                                                                 \n",
      " dense (Dense)               (None, 256)               131328    \n",
      "                                                                 \n",
      " dropout_4 (Dropout)         (None, 256)               0         \n",
      "                                                                 \n",
      " dense_1 (Dense)             (None, 6)                 1542      \n",
      "                                                                 \n",
      "=================================================================\n",
      "Total params: 7,682,778\n",
      "Trainable params: 7,682,778\n",
      "Non-trainable params: 0\n",
      "_________________________________________________________________\n"
     ]
    }
   ],
   "source": [
    "#defining CNN-BiLSTM model\n",
    "embedding_dim = 300\n",
    "\n",
    "model = Sequential()\n",
    "model.add(layers.Embedding(input_dim=vocab_size, output_dim=embedding_dim, weights = [embedding_matrix], input_length=maxlen))\n",
    "model.add(layers.Dropout(0.3)) \n",
    "model.add(layers.Conv1D(filters=32, kernel_size=3, activation=act)) \n",
    "model.add(layers.MaxPool1D(pool_size=3)) \n",
    "model.add(layers.Dropout(0.3))\n",
    "model.add(layers.Conv1D(filters=32, kernel_size=3, activation=act)) \n",
    "model.add(layers.MaxPool1D(pool_size=3)) \n",
    "model.add(layers.Dropout(0.3))\n",
    "model.add(layers.Bidirectional(layers.LSTM(256, recurrent_dropout=0.3)))\n",
    "model.add(layers.Dropout(0.3))\n",
    "model.add(layers.Dense(256,activation=act)) \n",
    "model.add(layers.Dropout(0.3)) \n",
    "model.add(layers.Dense(6, activation=\"softmax\"))\n",
    "model.compile(optimizer=opt, loss=\"categorical_crossentropy\",metrics=[\"accuracy\"])\n",
    "model.summary()"
   ]
  },
  {
   "cell_type": "code",
   "execution_count": 36,
   "id": "830c469e",
   "metadata": {},
   "outputs": [],
   "source": [
    "checkpoint_filepath = './Checkpoint/checkpoint'\n",
    "model_checkpoint_callback = tf.keras.callbacks.ModelCheckpoint(\n",
    "    filepath=checkpoint_filepath,\n",
    "    save_weights_only=True,\n",
    "    monitor='val_accuracy',\n",
    "    mode='max',\n",
    "    save_best_only=True)"
   ]
  },
  {
   "cell_type": "code",
   "execution_count": 37,
   "id": "99dc13d0",
   "metadata": {},
   "outputs": [
    {
     "name": "stdout",
     "output_type": "stream",
     "text": [
      "Epoch 1/30\n",
      "40/40 [==============================] - 29s 596ms/step - loss: 1.7661 - accuracy: 0.2443 - val_loss: 1.7452 - val_accuracy: 0.2484\n",
      "Epoch 2/30\n",
      "40/40 [==============================] - 23s 573ms/step - loss: 1.7493 - accuracy: 0.2493 - val_loss: 1.6794 - val_accuracy: 0.2660\n",
      "Epoch 3/30\n",
      "40/40 [==============================] - 24s 594ms/step - loss: 1.5023 - accuracy: 0.3746 - val_loss: 1.4587 - val_accuracy: 0.4471\n",
      "Epoch 4/30\n",
      "40/40 [==============================] - 24s 609ms/step - loss: 0.9426 - accuracy: 0.6221 - val_loss: 1.4926 - val_accuracy: 0.5048\n",
      "Epoch 5/30\n",
      "40/40 [==============================] - 23s 586ms/step - loss: 0.5246 - accuracy: 0.8054 - val_loss: 1.7706 - val_accuracy: 0.5096\n",
      "Epoch 6/30\n",
      "40/40 [==============================] - 24s 588ms/step - loss: 0.2699 - accuracy: 0.9049 - val_loss: 2.1644 - val_accuracy: 0.5353\n",
      "Epoch 7/30\n",
      "40/40 [==============================] - 24s 590ms/step - loss: 0.1735 - accuracy: 0.9519 - val_loss: 2.6309 - val_accuracy: 0.5240\n",
      "Epoch 8/30\n",
      "40/40 [==============================] - 23s 580ms/step - loss: 0.1037 - accuracy: 0.9704 - val_loss: 3.1879 - val_accuracy: 0.4824\n",
      "Epoch 9/30\n",
      "40/40 [==============================] - 26s 640ms/step - loss: 0.0883 - accuracy: 0.9738 - val_loss: 3.1565 - val_accuracy: 0.5240\n",
      "Epoch 10/30\n",
      "40/40 [==============================] - 28s 711ms/step - loss: 0.0881 - accuracy: 0.9734 - val_loss: 3.3150 - val_accuracy: 0.5000\n",
      "Epoch 11/30\n",
      "40/40 [==============================] - 27s 676ms/step - loss: 0.0792 - accuracy: 0.9786 - val_loss: 3.8170 - val_accuracy: 0.4615\n",
      "Epoch 12/30\n",
      "40/40 [==============================] - 28s 684ms/step - loss: 0.0643 - accuracy: 0.9810 - val_loss: 3.3816 - val_accuracy: 0.4856\n",
      "Epoch 13/30\n",
      "40/40 [==============================] - 28s 699ms/step - loss: 0.0580 - accuracy: 0.9844 - val_loss: 3.7295 - val_accuracy: 0.4712\n",
      "Epoch 14/30\n",
      "40/40 [==============================] - 28s 715ms/step - loss: 0.0434 - accuracy: 0.9894 - val_loss: 3.8750 - val_accuracy: 0.4840\n",
      "Epoch 15/30\n",
      "40/40 [==============================] - 28s 698ms/step - loss: 0.0450 - accuracy: 0.9892 - val_loss: 3.6973 - val_accuracy: 0.4824\n",
      "Epoch 16/30\n",
      "40/40 [==============================] - 29s 731ms/step - loss: 0.0434 - accuracy: 0.9902 - val_loss: 3.6992 - val_accuracy: 0.4744\n",
      "Epoch 17/30\n",
      "40/40 [==============================] - 29s 723ms/step - loss: 0.0313 - accuracy: 0.9916 - val_loss: 4.0873 - val_accuracy: 0.4920\n",
      "Epoch 18/30\n",
      "40/40 [==============================] - 29s 720ms/step - loss: 0.0416 - accuracy: 0.9896 - val_loss: 3.7727 - val_accuracy: 0.4984\n",
      "Epoch 19/30\n",
      "40/40 [==============================] - 29s 731ms/step - loss: 0.0276 - accuracy: 0.9916 - val_loss: 3.9458 - val_accuracy: 0.4920\n",
      "Epoch 20/30\n",
      "40/40 [==============================] - 30s 748ms/step - loss: 0.0370 - accuracy: 0.9910 - val_loss: 3.9010 - val_accuracy: 0.4744\n",
      "Epoch 21/30\n",
      "40/40 [==============================] - 29s 721ms/step - loss: 0.0322 - accuracy: 0.9912 - val_loss: 3.8190 - val_accuracy: 0.4856\n",
      "Epoch 22/30\n",
      "40/40 [==============================] - 29s 728ms/step - loss: 0.0223 - accuracy: 0.9936 - val_loss: 3.8737 - val_accuracy: 0.4904\n",
      "Epoch 23/30\n",
      "40/40 [==============================] - 29s 723ms/step - loss: 0.0259 - accuracy: 0.9938 - val_loss: 4.2543 - val_accuracy: 0.4679\n",
      "Epoch 24/30\n",
      "40/40 [==============================] - 29s 728ms/step - loss: 0.0573 - accuracy: 0.9836 - val_loss: 4.1458 - val_accuracy: 0.4808\n",
      "Epoch 25/30\n",
      "40/40 [==============================] - 29s 727ms/step - loss: 0.0654 - accuracy: 0.9864 - val_loss: 3.8206 - val_accuracy: 0.4631\n",
      "Epoch 26/30\n",
      "40/40 [==============================] - 29s 726ms/step - loss: 0.0368 - accuracy: 0.9894 - val_loss: 3.9307 - val_accuracy: 0.4728\n",
      "Epoch 27/30\n",
      "40/40 [==============================] - 29s 701ms/step - loss: 0.0242 - accuracy: 0.9944 - val_loss: 4.2793 - val_accuracy: 0.4728\n",
      "Epoch 28/30\n",
      "40/40 [==============================] - 29s 704ms/step - loss: 0.0243 - accuracy: 0.9926 - val_loss: 3.9511 - val_accuracy: 0.4888\n",
      "Epoch 29/30\n",
      "40/40 [==============================] - 30s 727ms/step - loss: 0.0312 - accuracy: 0.9912 - val_loss: 3.8028 - val_accuracy: 0.4888\n",
      "Epoch 30/30\n",
      "40/40 [==============================] - 29s 713ms/step - loss: 0.0228 - accuracy: 0.9936 - val_loss: 4.0244 - val_accuracy: 0.4760\n",
      "Training Accuracy: 0.9968\n",
      "Testing Accuracy:  0.4760\n"
     ]
    }
   ],
   "source": [
    "history = model.fit(X_train, dummy_y_train, epochs=EPOCHS, verbose=1, validation_data=(X_test, dummy_y_test), batch_size=128, callbacks=[model_checkpoint_callback]) \n",
    "loss, accuracy = model.evaluate(X_train, dummy_y_train, verbose=0)\n",
    "print(\"Training Accuracy: {:.4f}\".format(accuracy))\n",
    "loss, accuracy = model.evaluate(X_test, dummy_y_test, verbose=0)\n",
    "print(\"Testing Accuracy:  {:.4f}\".format(accuracy))"
   ]
  },
  {
   "cell_type": "code",
   "execution_count": 38,
   "id": "107ca1dd",
   "metadata": {},
   "outputs": [],
   "source": [
    "def PlotGraph(history):\n",
    "    acc = history.history['accuracy']\n",
    "    val_acc = history.history['val_accuracy']\n",
    "    loss = history.history['loss']\n",
    "    val_loss = history.history['val_loss']\n",
    "    x = range(1, len(acc) + 1)\n",
    "\n",
    "    plt.figure(figsize=(12, 5))\n",
    "    plt.subplot(1, 2, 1)\n",
    "    plt.plot(x, acc, 'g', label='Training acc')\n",
    "    plt.plot(x, val_acc, 'b', label='Validation acc')\n",
    "    plt.title('Training and validation accuracy')\n",
    "    plt.legend()\n",
    "    plt.subplot(1, 2, 2)\n",
    "    plt.plot(x, loss, 'g', label='Training loss')\n",
    "    plt.plot(x, val_loss, 'b', label='Validation loss')\n",
    "    plt.title('Training and validation loss')\n",
    "    plt.legend()"
   ]
  },
  {
   "cell_type": "code",
   "execution_count": 39,
   "id": "0e4e389b",
   "metadata": {},
   "outputs": [
    {
     "data": {
      "image/png": "[encoded data removed]",
      "text/plain": [
       "<Figure size 864x360 with 2 Axes>"
      ]
     },
     "metadata": {
      "needs_background": "light"
     },
     "output_type": "display_data"
    }
   ],
   "source": [
    "PlotGraph(history)"
   ]
  },
  {
   "cell_type": "code",
   "execution_count": 40,
   "id": "d21e1620",
   "metadata": {},
   "outputs": [
    {
     "name": "stdout",
     "output_type": "stream",
     "text": [
      "Best Accuracy Achieved by Model: 0.5352563858032227\n"
     ]
    }
   ],
   "source": [
    "print(f\"Best Accuracy Achieved by Model: {max(history.history['val_accuracy'])}\")"
   ]
  },
  {
   "cell_type": "code",
   "execution_count": 41,
   "id": "8708c544",
   "metadata": {},
   "outputs": [
    {
     "data": {
      "text/plain": [
       "<tensorflow.python.training.tracking.util.CheckpointLoadStatus at 0x1d78f02c1f0>"
      ]
     },
     "execution_count": 41,
     "metadata": {},
     "output_type": "execute_result"
    }
   ],
   "source": [
    "model.load_weights(checkpoint_filepath)"
   ]
  },
  {
   "cell_type": "code",
   "execution_count": 42,
   "id": "00057820",
   "metadata": {},
   "outputs": [
    {
     "data": {
      "text/plain": [
       "array([0, 3, 1, 3, 0, 0, 2, 3, 1, 5, 3, 3, 0, 3, 3, 3, 1, 3, 3, 1, 3, 4,\n",
       "       3, 2, 2, 3, 1, 0, 3, 3, 4, 1, 1, 1, 0, 0, 5, 3, 0, 0, 3, 1, 4, 3,\n",
       "       1, 1, 1, 5, 0, 0, 1, 0, 0, 3, 5, 5, 3, 4, 3, 3, 3, 2, 4, 0, 3, 5,\n",
       "       1, 2, 0, 5, 4, 5, 1, 0, 3, 5, 1, 2, 4, 3, 4, 3, 2, 5, 1, 0, 4, 3,\n",
       "       0, 3, 4, 0, 4, 1, 0, 4, 4, 2, 1, 0, 5, 4, 1, 1, 4, 4, 5, 1, 3, 1,\n",
       "       3, 3, 1, 0, 1, 4, 0, 2, 0, 2, 1, 0, 2, 2, 4, 1, 3, 3, 0, 1, 5, 3,\n",
       "       1, 3, 5, 5, 0, 5, 3, 0, 1, 1, 4, 3, 4, 0, 5, 1, 5, 4, 5, 0, 0, 1,\n",
       "       0, 2, 0, 3, 0, 0, 1, 3, 3, 1, 5, 0, 5, 4, 0, 1, 2, 3, 1, 5, 4, 4,\n",
       "       0, 0, 4, 1, 1, 0, 3, 3, 3, 5, 4, 1, 4, 2, 5, 3, 5, 0, 4, 3, 3, 5,\n",
       "       4, 1, 4, 0, 0, 3, 1, 4, 4, 3, 4, 5, 3, 1, 4, 3, 3, 5, 4, 0, 4, 3,\n",
       "       0, 3, 3, 4, 2, 4, 1, 3, 3, 4, 3, 3, 1, 1, 0, 3, 3, 2, 3, 4, 1, 0,\n",
       "       3, 3, 5, 5, 3, 4, 1, 0, 1, 3, 3, 3, 3, 1, 1, 0, 1, 1, 1, 1, 4, 1,\n",
       "       0, 0, 0, 3, 5, 1, 5, 3, 5, 0, 1, 3, 0, 3, 1, 3, 1, 1, 2, 3, 0, 5,\n",
       "       3, 0, 3, 0, 3, 1, 0, 3, 5, 3, 1, 4, 5, 1, 1, 3, 2, 1, 0, 5, 0, 3,\n",
       "       1, 2, 0, 0, 2, 3, 3, 4, 3, 0, 0, 1, 3, 3, 4, 1, 4, 2, 1, 4, 0, 1,\n",
       "       0, 4, 3, 0, 3, 0, 2, 4, 5, 2, 3, 1, 1, 1, 4, 1, 4, 0, 3, 1, 1, 1,\n",
       "       0, 5, 1, 2, 3, 1, 4, 1, 5, 5, 4, 1, 0, 3, 0, 2, 2, 1, 4, 3, 3, 3,\n",
       "       0, 5, 2, 3, 4, 4, 1, 3, 2, 2, 0, 5, 5, 3, 4, 5, 0, 1, 0, 4, 0, 4,\n",
       "       5, 5, 1, 3, 0, 3, 3, 1, 0, 3, 2, 4, 5, 1, 3, 0, 3, 5, 5, 2, 2, 2,\n",
       "       4, 5, 4, 4, 2, 1, 2, 0, 5, 3, 3, 4, 0, 1, 1, 3, 3, 5, 3, 0, 2, 0,\n",
       "       0, 1, 1, 0, 1, 1, 4, 4, 5, 0, 3, 4, 3, 4, 5, 5, 2, 2, 0, 4, 5, 3,\n",
       "       3, 3, 1, 1, 5, 0, 3, 0, 2, 1, 0, 5, 3, 3, 3, 3, 4, 3, 0, 0, 0, 5,\n",
       "       1, 5, 1, 3, 4, 5, 1, 1, 1, 3, 3, 1, 1, 1, 1, 3, 0, 4, 3, 0, 5, 4,\n",
       "       5, 0, 3, 2, 3, 3, 0, 4, 5, 5, 3, 0, 5, 3, 0, 0, 3, 3, 3, 3, 3, 5,\n",
       "       2, 0, 3, 5, 3, 4, 3, 2, 3, 0, 3, 3, 3, 3, 3, 3, 0, 3, 0, 2, 1, 3,\n",
       "       1, 4, 1, 0, 3, 4, 3, 0, 2, 5, 1, 0, 0, 5, 0, 1, 4, 2, 1, 2, 4, 4,\n",
       "       0, 3, 1, 3, 1, 1, 3, 3, 4, 0, 1, 3, 5, 1, 1, 1, 1, 3, 3, 1, 4, 1,\n",
       "       3, 1, 4, 0, 1, 1, 2, 4, 4, 3, 3, 0, 1, 5, 1, 1, 4, 1, 3, 1, 3, 3,\n",
       "       5, 1, 3, 2, 4, 0, 5, 4, 1], dtype=int64)"
      ]
     },
     "execution_count": 42,
     "metadata": {},
     "output_type": "execute_result"
    }
   ],
   "source": [
    "predict = model.predict(TEST)\n",
    "predict_class = np.argmax(predict, axis=1)\n",
    "predict_class = np.array(predict_class)\n",
    "predict_class"
   ]
  },
  {
   "cell_type": "code",
   "execution_count": 43,
   "id": "fbe48611",
   "metadata": {},
   "outputs": [
    {
     "data": {
      "text/plain": [
       "array([[ 70,  10,   8,  16,   9,   1],\n",
       "       [  9,  50,   1,  20,  27,  12],\n",
       "       [  9,  14,  23,   7,   8,  12],\n",
       "       [ 15,  26,   1, 103,  15,   5],\n",
       "       [ 10,  14,   3,  18,  22,   4],\n",
       "       [  2,  19,  13,   1,   7,  41]], dtype=int64)"
      ]
     },
     "execution_count": 43,
     "metadata": {},
     "output_type": "execute_result"
    }
   ],
   "source": [
    "from sklearn.metrics import confusion_matrix\n",
    "\n",
    "cm = confusion_matrix(test_df[\"labels\"], predict_class)\n",
    "cm"
   ]
  },
  {
   "cell_type": "code",
   "execution_count": 44,
   "id": "6cb5d8d0",
   "metadata": {},
   "outputs": [
    {
     "data": {
      "text/plain": [
       "<AxesSubplot:>"
      ]
     },
     "execution_count": 44,
     "metadata": {},
     "output_type": "execute_result"
    },
    {
     "data": {
      "image/png": "[encoded data removed]",
      "text/plain": [
       "<Figure size 720x504 with 2 Axes>"
      ]
     },
     "metadata": {
      "needs_background": "light"
     },
     "output_type": "display_data"
    }
   ],
   "source": [
    "df_cm = pd.DataFrame(cm, index=[\"anger\", \"fear\", \"joy\", \"disgust\", \"sadness\", \"surprise\"], columns=[\"anger\", \"fear\", \"joy\", \"disgust\", \"sadness\", \"surprise\"])\n",
    "plt.figure(figsize = (10,7))\n",
    "sns.heatmap(df_cm,annot=True, fmt =\"d\")"
   ]
  },
  {
   "cell_type": "code",
   "execution_count": 45,
   "id": "44d3ac7a",
   "metadata": {},
   "outputs": [
    {
     "name": "stdout",
     "output_type": "stream",
     "text": [
      "              precision    recall  f1-score   support\n",
      "\n",
      "       anger       0.61      0.61      0.61       114\n",
      "        fear       0.38      0.42      0.40       119\n",
      "         joy       0.47      0.32      0.38        73\n",
      "     disgust       0.62      0.62      0.62       165\n",
      "     sadness       0.25      0.31      0.28        71\n",
      "    surprise       0.55      0.49      0.52        83\n",
      "\n",
      "    accuracy                           0.49       625\n",
      "   macro avg       0.48      0.46      0.47       625\n",
      "weighted avg       0.50      0.49      0.50       625\n",
      "\n"
     ]
    }
   ],
   "source": [
    "from sklearn.metrics import classification_report\n",
    "\n",
    "print(classification_report(test_df[\"labels\"], predict_class, target_names =[\"anger\", \"fear\", \"joy\", \"disgust\", \"sadness\", \"surprise\"]))"
   ]
  },
  {
   "cell_type": "code",
   "execution_count": null,
   "id": "e6b7cb72",
   "metadata": {},
   "outputs": [],
   "source": []
  }
 ],
 "metadata": {
  "kernelspec": {
   "display_name": "Python 3",
   "language": "python",
   "name": "python3"
  },
  "language_info": {
   "codemirror_mode": {
    "name": "ipython",
    "version": 3
   },
   "file_extension": ".py",
   "mimetype": "text/x-python",
   "name": "python",
   "nbconvert_exporter": "python",
   "pygments_lexer": "ipython3",
   "version": "3.8.8"
  }
 },
 "nbformat": 4,
 "nbformat_minor": 5
}
