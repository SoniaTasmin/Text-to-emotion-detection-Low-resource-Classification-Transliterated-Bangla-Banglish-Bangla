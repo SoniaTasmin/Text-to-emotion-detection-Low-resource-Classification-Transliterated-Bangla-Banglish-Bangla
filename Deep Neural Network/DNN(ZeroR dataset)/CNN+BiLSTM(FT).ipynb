{
  "cells": [
    {
      "cell_type": "code",
      "execution_count": 1,
      "metadata": {
        "id": "0d5f9be8"
      },
      "outputs": [],
      "source": [
        "import re\n",
        "import tqdm\n",
        "import numpy as np\n",
        "import pandas as pd\n",
        "import seaborn as sns\n",
        "import matplotlib.pyplot as plt"
      ],
      "id": "0d5f9be8"
    },
    {
      "cell_type": "code",
      "execution_count": 2,
      "metadata": {
        "colab": {
          "base_uri": "https://localhost:8080/"
        },
        "id": "f73911aa",
        "outputId": "2d3b73c4-7da6-4183-c90b-3e7cfb2cccbe"
      },
      "outputs": [
        {
          "output_type": "stream",
          "name": "stdout",
          "text": [
            "Mounted at /content/drive\n"
          ]
        }
      ],
      "source": [
        "import os \n",
        "myData = '/content/drive/MyDrive/NSU_Courses/CSE/CSE499A/zeror_dataset';\n",
        "from google.colab import drive\n",
        "drive.mount('/content/drive')"
      ],
      "id": "f73911aa"
    },
    {
      "cell_type": "code",
      "execution_count": 3,
      "metadata": {
        "id": "c6366948"
      },
      "outputs": [],
      "source": [
        "#reading dataset\n",
        "train_df = pd.read_excel('/content/drive/MyDrive/NSU_Courses/CSE/CSE499A/zeror_dataset/train.xlsx') \n",
        "train_df = train_df.dropna()\n",
        "#val_df = pd.read_excel('val.xlsx')\n",
        "test_df = pd.read_excel('/content/drive/MyDrive/NSU_Courses/CSE/CSE499A/zeror_dataset/test.xlsx')\n",
        "test_df = test_df.dropna()"
      ],
      "id": "c6366948"
    },
    {
      "cell_type": "code",
      "execution_count": 4,
      "metadata": {
        "colab": {
          "base_uri": "https://localhost:8080/",
          "height": 206
        },
        "id": "b71de20d",
        "outputId": "177c3f9e-77d3-464e-ec02-4d26b9a21acb"
      },
      "outputs": [
        {
          "output_type": "execute_result",
          "data": {
            "text/plain": [
              "                                                text  emotion  label\n",
              "0  hefajoter pokkhe michil theke hamlay ahoto awa...  sadness      1\n",
              "1         e chara mask chara probesh korte dicchi na    anger      4\n",
              "2  vore uthe batch porano college e class neya ab...  disgust      3\n",
              "3                             eita pata chagler kach    anger      4\n",
              "4                         sob dalal diye vore geche!  disgust      3"
            ],
            "text/html": [
              "\n",
              "  <div id=\"df-5f31f6cd-e484-4547-809e-971b6036a8a3\">\n",
              "    <div class=\"colab-df-container\">\n",
              "      <div>\n",
              "<style scoped>\n",
              "    .dataframe tbody tr th:only-of-type {\n",
              "        vertical-align: middle;\n",
              "    }\n",
              "\n",
              "    .dataframe tbody tr th {\n",
              "        vertical-align: top;\n",
              "    }\n",
              "\n",
              "    .dataframe thead th {\n",
              "        text-align: right;\n",
              "    }\n",
              "</style>\n",
              "<table border=\"1\" class=\"dataframe\">\n",
              "  <thead>\n",
              "    <tr style=\"text-align: right;\">\n",
              "      <th></th>\n",
              "      <th>text</th>\n",
              "      <th>emotion</th>\n",
              "      <th>label</th>\n",
              "    </tr>\n",
              "  </thead>\n",
              "  <tbody>\n",
              "    <tr>\n",
              "      <th>0</th>\n",
              "      <td>hefajoter pokkhe michil theke hamlay ahoto awa...</td>\n",
              "      <td>sadness</td>\n",
              "      <td>1</td>\n",
              "    </tr>\n",
              "    <tr>\n",
              "      <th>1</th>\n",
              "      <td>e chara mask chara probesh korte dicchi na</td>\n",
              "      <td>anger</td>\n",
              "      <td>4</td>\n",
              "    </tr>\n",
              "    <tr>\n",
              "      <th>2</th>\n",
              "      <td>vore uthe batch porano college e class neya ab...</td>\n",
              "      <td>disgust</td>\n",
              "      <td>3</td>\n",
              "    </tr>\n",
              "    <tr>\n",
              "      <th>3</th>\n",
              "      <td>eita pata chagler kach</td>\n",
              "      <td>anger</td>\n",
              "      <td>4</td>\n",
              "    </tr>\n",
              "    <tr>\n",
              "      <th>4</th>\n",
              "      <td>sob dalal diye vore geche!</td>\n",
              "      <td>disgust</td>\n",
              "      <td>3</td>\n",
              "    </tr>\n",
              "  </tbody>\n",
              "</table>\n",
              "</div>\n",
              "      <button class=\"colab-df-convert\" onclick=\"convertToInteractive('df-5f31f6cd-e484-4547-809e-971b6036a8a3')\"\n",
              "              title=\"Convert this dataframe to an interactive table.\"\n",
              "              style=\"display:none;\">\n",
              "        \n",
              "  <svg xmlns=\"http://www.w3.org/2000/svg\" height=\"24px\"viewBox=\"0 0 24 24\"\n",
              "       width=\"24px\">\n",
              "    <path d=\"M0 0h24v24H0V0z\" fill=\"none\"/>\n",
              "    <path d=\"M18.56 5.44l.94 2.06.94-2.06 2.06-.94-2.06-.94-.94-2.06-.94 2.06-2.06.94zm-11 1L8.5 8.5l.94-2.06 2.06-.94-2.06-.94L8.5 2.5l-.94 2.06-2.06.94zm10 10l.94 2.06.94-2.06 2.06-.94-2.06-.94-.94-2.06-.94 2.06-2.06.94z\"/><path d=\"M17.41 7.96l-1.37-1.37c-.4-.4-.92-.59-1.43-.59-.52 0-1.04.2-1.43.59L10.3 9.45l-7.72 7.72c-.78.78-.78 2.05 0 2.83L4 21.41c.39.39.9.59 1.41.59.51 0 1.02-.2 1.41-.59l7.78-7.78 2.81-2.81c.8-.78.8-2.07 0-2.86zM5.41 20L4 18.59l7.72-7.72 1.47 1.35L5.41 20z\"/>\n",
              "  </svg>\n",
              "      </button>\n",
              "      \n",
              "  <style>\n",
              "    .colab-df-container {\n",
              "      display:flex;\n",
              "      flex-wrap:wrap;\n",
              "      gap: 12px;\n",
              "    }\n",
              "\n",
              "    .colab-df-convert {\n",
              "      background-color: #E8F0FE;\n",
              "      border: none;\n",
              "      border-radius: 50%;\n",
              "      cursor: pointer;\n",
              "      display: none;\n",
              "      fill: #1967D2;\n",
              "      height: 32px;\n",
              "      padding: 0 0 0 0;\n",
              "      width: 32px;\n",
              "    }\n",
              "\n",
              "    .colab-df-convert:hover {\n",
              "      background-color: #E2EBFA;\n",
              "      box-shadow: 0px 1px 2px rgba(60, 64, 67, 0.3), 0px 1px 3px 1px rgba(60, 64, 67, 0.15);\n",
              "      fill: #174EA6;\n",
              "    }\n",
              "\n",
              "    [theme=dark] .colab-df-convert {\n",
              "      background-color: #3B4455;\n",
              "      fill: #D2E3FC;\n",
              "    }\n",
              "\n",
              "    [theme=dark] .colab-df-convert:hover {\n",
              "      background-color: #434B5C;\n",
              "      box-shadow: 0px 1px 3px 1px rgba(0, 0, 0, 0.15);\n",
              "      filter: drop-shadow(0px 1px 2px rgba(0, 0, 0, 0.3));\n",
              "      fill: #FFFFFF;\n",
              "    }\n",
              "  </style>\n",
              "\n",
              "      <script>\n",
              "        const buttonEl =\n",
              "          document.querySelector('#df-5f31f6cd-e484-4547-809e-971b6036a8a3 button.colab-df-convert');\n",
              "        buttonEl.style.display =\n",
              "          google.colab.kernel.accessAllowed ? 'block' : 'none';\n",
              "\n",
              "        async function convertToInteractive(key) {\n",
              "          const element = document.querySelector('#df-5f31f6cd-e484-4547-809e-971b6036a8a3');\n",
              "          const dataTable =\n",
              "            await google.colab.kernel.invokeFunction('convertToInteractive',\n",
              "                                                     [key], {});\n",
              "          if (!dataTable) return;\n",
              "\n",
              "          const docLinkHtml = 'Like what you see? Visit the ' +\n",
              "            '<a target=\"_blank\" href=https://colab.research.google.com/notebooks/data_table.ipynb>data table notebook</a>'\n",
              "            + ' to learn more about interactive tables.';\n",
              "          element.innerHTML = '';\n",
              "          dataTable['output_type'] = 'display_data';\n",
              "          await google.colab.output.renderOutput(dataTable, element);\n",
              "          const docLink = document.createElement('div');\n",
              "          docLink.innerHTML = docLinkHtml;\n",
              "          element.appendChild(docLink);\n",
              "        }\n",
              "      </script>\n",
              "    </div>\n",
              "  </div>\n",
              "  "
            ]
          },
          "metadata": {},
          "execution_count": 4
        }
      ],
      "source": [
        "train_df.head()"
      ],
      "id": "b71de20d"
    },
    {
      "cell_type": "code",
      "execution_count": 5,
      "metadata": {
        "colab": {
          "base_uri": "https://localhost:8080/"
        },
        "id": "5f70cdf8",
        "outputId": "53360256-d7c9-4dfd-8ad0-74bb0a3b8451"
      },
      "outputs": [
        {
          "output_type": "stream",
          "name": "stdout",
          "text": [
            "<class 'pandas.core.frame.DataFrame'>\n",
            "Int64Index: 6848 entries, 0 to 6849\n",
            "Data columns (total 3 columns):\n",
            " #   Column   Non-Null Count  Dtype \n",
            "---  ------   --------------  ----- \n",
            " 0   text     6848 non-null   object\n",
            " 1   emotion  6848 non-null   object\n",
            " 2   label    6848 non-null   int64 \n",
            "dtypes: int64(1), object(2)\n",
            "memory usage: 214.0+ KB\n",
            "\n",
            "<class 'pandas.core.frame.DataFrame'>\n",
            "Int64Index: 761 entries, 0 to 760\n",
            "Data columns (total 3 columns):\n",
            " #   Column   Non-Null Count  Dtype \n",
            "---  ------   --------------  ----- \n",
            " 0   text     761 non-null    object\n",
            " 1   emotion  761 non-null    object\n",
            " 2   label    761 non-null    int64 \n",
            "dtypes: int64(1), object(2)\n",
            "memory usage: 23.8+ KB\n",
            "\n"
          ]
        }
      ],
      "source": [
        "#checking for ull values\n",
        "train_df.info()\n",
        "print()\n",
        "test_df.info()\n",
        "print()\n",
        "#val_df.info()\n",
        "#print()"
      ],
      "id": "5f70cdf8"
    },
    {
      "cell_type": "code",
      "execution_count": 6,
      "metadata": {
        "colab": {
          "base_uri": "https://localhost:8080/"
        },
        "id": "f7dc5157",
        "outputId": "02ee0d82-492f-4a49-8d3a-e0afb9799bb7"
      },
      "outputs": [
        {
          "output_type": "execute_result",
          "data": {
            "text/plain": [
              "surprise    1199\n",
              "joy         1175\n",
              "sadness     1161\n",
              "anger       1142\n",
              "fear        1111\n",
              "disgust     1060\n",
              "Name: emotion, dtype: int64"
            ]
          },
          "metadata": {},
          "execution_count": 6
        }
      ],
      "source": [
        "train_df[\"emotion\"].value_counts()"
      ],
      "id": "f7dc5157"
    },
    {
      "cell_type": "code",
      "execution_count": 7,
      "metadata": {
        "colab": {
          "base_uri": "https://localhost:8080/"
        },
        "id": "7d5d210e",
        "outputId": "c7670fc1-7861-4eb2-de0f-ede429ceb86f"
      },
      "outputs": [
        {
          "output_type": "execute_result",
          "data": {
            "text/plain": [
              "disgust     136\n",
              "anger       130\n",
              "joy         128\n",
              "sadness     127\n",
              "surprise    120\n",
              "fear        120\n",
              "Name: emotion, dtype: int64"
            ]
          },
          "metadata": {},
          "execution_count": 7
        }
      ],
      "source": [
        "test_df[\"emotion\"].value_counts()"
      ],
      "id": "7d5d210e"
    },
    {
      "cell_type": "code",
      "execution_count": null,
      "metadata": {
        "id": "3f417088"
      },
      "outputs": [],
      "source": [
        "#val_df[\"classes\"].value_counts()"
      ],
      "id": "3f417088"
    },
    {
      "cell_type": "code",
      "execution_count": 8,
      "metadata": {
        "colab": {
          "base_uri": "https://localhost:8080/"
        },
        "id": "053b4540",
        "outputId": "29d8c4c1-d1ab-4b31-ced7-0df86190d0e2"
      },
      "outputs": [
        {
          "output_type": "stream",
          "name": "stdout",
          "text": [
            "e chara mask chara probesh korte dicchi na\n"
          ]
        }
      ],
      "source": [
        "#sample text from dataset\n",
        "sample = train_df[\"text\"][1]\n",
        "print(sample)"
      ],
      "id": "053b4540"
    },
    {
      "cell_type": "code",
      "execution_count": 9,
      "metadata": {
        "id": "46623438"
      },
      "outputs": [],
      "source": [
        "x_train, x_test, y_train, y_test = train_df[\"text\"], test_df[\"text\"], train_df[\"label\"], test_df[\"label\"]"
      ],
      "id": "46623438"
    },
    {
      "cell_type": "code",
      "execution_count": 10,
      "metadata": {
        "id": "cb81d142"
      },
      "outputs": [],
      "source": [
        "from keras.utils import np_utils\n",
        "from keras.preprocessing.text import Tokenizer\n",
        "from keras.preprocessing.sequence import pad_sequences\n",
        "\n",
        "import tensorflow as tf\n",
        "from keras import layers\n",
        "from keras.models import Sequential\n",
        "\n",
        "EPOCHS= 35\n",
        "act= \"swish\"\n",
        "opt= tf.keras.optimizers.Adam(learning_rate=0.001)"
      ],
      "id": "cb81d142"
    },
    {
      "cell_type": "code",
      "execution_count": 11,
      "metadata": {
        "id": "5b775aeb"
      },
      "outputs": [],
      "source": [
        "#converting text to vectors via tokenization\n",
        "tokenizer = Tokenizer()\n",
        "tokenizer.fit_on_texts(x_train)\n",
        "\n",
        "X_train = tokenizer.texts_to_sequences(x_train)\n",
        "X_test = tokenizer.texts_to_sequences(x_test)\n",
        "TEST = tokenizer.texts_to_sequences(test_df[\"text\"]) \n",
        "\n",
        "vocab_size = len(tokenizer.word_index) + 1 "
      ],
      "id": "5b775aeb"
    },
    {
      "cell_type": "code",
      "execution_count": 12,
      "metadata": {
        "colab": {
          "base_uri": "https://localhost:8080/"
        },
        "id": "79603d3f",
        "outputId": "8be652e7-4724-4f06-863d-7422bcf330e6"
      },
      "outputs": [
        {
          "output_type": "stream",
          "name": "stdout",
          "text": [
            "Max len: 247\n"
          ]
        }
      ],
      "source": [
        "#calculating max length of the vector\n",
        "lens_train = [len(i) for i in X_train]\n",
        "lens_test = [len(i) for i in X_test]\n",
        "lens = lens_train + lens_test\n",
        "\n",
        "maxlen = np.max(lens)\n",
        "\n",
        "print('Max len:', maxlen)"
      ],
      "id": "79603d3f"
    },
    {
      "cell_type": "code",
      "execution_count": 13,
      "metadata": {
        "id": "bb495e40"
      },
      "outputs": [],
      "source": [
        "#Zero padding every vector so that they are the same size\n",
        "X_train = pad_sequences(X_train, padding='post', maxlen=maxlen)\n",
        "X_test = pad_sequences(X_test, padding='post', maxlen=maxlen)\n",
        "TEST = pad_sequences(TEST, padding='post', maxlen=maxlen)"
      ],
      "id": "bb495e40"
    },
    {
      "cell_type": "code",
      "execution_count": 14,
      "metadata": {
        "id": "bbfc3acc"
      },
      "outputs": [],
      "source": [
        "#One Hot Encoding integer labels\n",
        "dummy_y_test = np_utils.to_categorical(y_test)\n",
        "dummy_y_train = np_utils.to_categorical(y_train)"
      ],
      "id": "bbfc3acc"
    },
    {
      "cell_type": "code",
      "execution_count": 15,
      "metadata": {
        "id": "a914d44d"
      },
      "outputs": [],
      "source": [
        "#reading fasttext\n",
        "def get_embedding_vectors(tokenizer, dim=300):\n",
        "    embedding_index = {}\n",
        "    with open('/content/drive/MyDrive/NSU_Courses/CSE/CSE499A/cc.bn.300.vec','r', encoding=\"cp437\", errors='ignore') as f:\n",
        "        for line in tqdm.tqdm(f, \"Reading fasttext\"):\n",
        "            values = line.split()\n",
        "            word = ''.join(values[:-300])\n",
        "            vectors = np.asarray(values[-300:], dtype='float32')\n",
        "            embedding_index[word] = vectors\n",
        "\n",
        "    word_index = tokenizer.word_index\n",
        "    embedding_matrix = np.zeros((len(word_index)+1, dim))\n",
        "    for word, i in word_index.items():\n",
        "        embedding_vector = embedding_index.get(word)\n",
        "        if embedding_vector is not None:\n",
        "            # words not found will be 0s\n",
        "            embedding_matrix[i] = embedding_vector\n",
        "          \n",
        "    return embedding_matrix"
      ],
      "id": "a914d44d"
    },
    {
      "cell_type": "code",
      "execution_count": 16,
      "metadata": {
        "colab": {
          "base_uri": "https://localhost:8080/"
        },
        "id": "c7afb8fc",
        "outputId": "e56a1f07-36c9-4420-c653-a3ab8c1b4c79"
      },
      "outputs": [
        {
          "output_type": "stream",
          "name": "stderr",
          "text": [
            "Reading fasttext: 1468579it [02:23, 10243.26it/s]\n"
          ]
        }
      ],
      "source": [
        "embedding_matrix = get_embedding_vectors(tokenizer)"
      ],
      "id": "c7afb8fc"
    },
    {
      "cell_type": "code",
      "execution_count": 17,
      "metadata": {
        "colab": {
          "base_uri": "https://localhost:8080/"
        },
        "id": "9a10d6e8",
        "outputId": "889688f9-57a6-4712-fb4d-682a6167f3b2"
      },
      "outputs": [
        {
          "output_type": "stream",
          "name": "stdout",
          "text": [
            "Model: \"sequential\"\n",
            "_________________________________________________________________\n",
            " Layer (type)                Output Shape              Param #   \n",
            "=================================================================\n",
            " embedding (Embedding)       (None, 247, 300)          3775800   \n",
            "                                                                 \n",
            " dropout (Dropout)           (None, 247, 300)          0         \n",
            "                                                                 \n",
            " conv1d (Conv1D)             (None, 245, 64)           57664     \n",
            "                                                                 \n",
            " max_pooling1d (MaxPooling1D  (None, 81, 64)           0         \n",
            " )                                                               \n",
            "                                                                 \n",
            " dropout_1 (Dropout)         (None, 81, 64)            0         \n",
            "                                                                 \n",
            " conv1d_1 (Conv1D)           (None, 79, 64)            12352     \n",
            "                                                                 \n",
            " max_pooling1d_1 (MaxPooling  (None, 26, 64)           0         \n",
            " 1D)                                                             \n",
            "                                                                 \n",
            " dropout_2 (Dropout)         (None, 26, 64)            0         \n",
            "                                                                 \n",
            " bidirectional (Bidirectiona  (None, 512)              657408    \n",
            " l)                                                              \n",
            "                                                                 \n",
            " dropout_3 (Dropout)         (None, 512)               0         \n",
            "                                                                 \n",
            " dense (Dense)               (None, 256)               131328    \n",
            "                                                                 \n",
            " dropout_4 (Dropout)         (None, 256)               0         \n",
            "                                                                 \n",
            " dense_1 (Dense)             (None, 6)                 1542      \n",
            "                                                                 \n",
            "=================================================================\n",
            "Total params: 4,636,094\n",
            "Trainable params: 4,636,094\n",
            "Non-trainable params: 0\n",
            "_________________________________________________________________\n"
          ]
        }
      ],
      "source": [
        "#defining CNN-BiLSTM model\n",
        "embedding_dim = 300\n",
        "\n",
        "model = Sequential()\n",
        "model.add(layers.Embedding(input_dim=vocab_size, output_dim=embedding_dim, weights = [embedding_matrix], input_length=maxlen))\n",
        "model.add(layers.Dropout(0.3)) \n",
        "model.add(layers.Conv1D(filters=64, kernel_size=3, activation=act)) \n",
        "model.add(layers.MaxPool1D(pool_size=3)) \n",
        "model.add(layers.Dropout(0.3))\n",
        "model.add(layers.Conv1D(filters=64, kernel_size=3, activation=act)) \n",
        "model.add(layers.MaxPool1D(pool_size=3)) \n",
        "model.add(layers.Dropout(0.3))\n",
        "model.add(layers.Bidirectional(layers.LSTM(256, recurrent_dropout=0.3)))\n",
        "model.add(layers.Dropout(0.3))\n",
        "model.add(layers.Dense(256,activation=act)) \n",
        "model.add(layers.Dropout(0.3)) \n",
        "model.add(layers.Dense(6, activation=\"softmax\"))\n",
        "model.compile(optimizer=opt, loss=\"categorical_crossentropy\",metrics=[\"accuracy\"])\n",
        "model.summary()"
      ],
      "id": "9a10d6e8"
    },
    {
      "cell_type": "code",
      "execution_count": 18,
      "metadata": {
        "id": "079b4cb1"
      },
      "outputs": [],
      "source": [
        "checkpoint_filepath = './Checkpoint/checkpoint'\n",
        "model_checkpoint_callback = tf.keras.callbacks.ModelCheckpoint(\n",
        "    filepath=checkpoint_filepath,\n",
        "    save_weights_only=True,\n",
        "    monitor='test_accuracy',\n",
        "    mode='max',\n",
        "    save_best_only=True)"
      ],
      "id": "079b4cb1"
    },
    {
      "cell_type": "code",
      "execution_count": 19,
      "metadata": {
        "colab": {
          "base_uri": "https://localhost:8080/"
        },
        "id": "0fbfa69e",
        "outputId": "04aeedad-8d2e-4c8f-c7f7-662a90ef25d1"
      },
      "outputs": [
        {
          "output_type": "stream",
          "name": "stdout",
          "text": [
            "Epoch 1/35\n",
            "856/856 [==============================] - ETA: 0s - loss: 1.7218 - accuracy: 0.2442WARNING:tensorflow:Can save best model only with test_accuracy available, skipping.\n",
            "856/856 [==============================] - 302s 348ms/step - loss: 1.7218 - accuracy: 0.2442 - val_loss: 1.5890 - val_accuracy: 0.3364\n",
            "Epoch 2/35\n",
            "856/856 [==============================] - ETA: 0s - loss: 1.2419 - accuracy: 0.5164WARNING:tensorflow:Can save best model only with test_accuracy available, skipping.\n",
            "856/856 [==============================] - 298s 348ms/step - loss: 1.2419 - accuracy: 0.5164 - val_loss: 1.2450 - val_accuracy: 0.5453\n",
            "Epoch 3/35\n",
            "856/856 [==============================] - ETA: 0s - loss: 0.7470 - accuracy: 0.7392WARNING:tensorflow:Can save best model only with test_accuracy available, skipping.\n",
            "856/856 [==============================] - 296s 346ms/step - loss: 0.7470 - accuracy: 0.7392 - val_loss: 1.2037 - val_accuracy: 0.6163\n",
            "Epoch 4/35\n",
            "856/856 [==============================] - ETA: 0s - loss: 0.4666 - accuracy: 0.8550WARNING:tensorflow:Can save best model only with test_accuracy available, skipping.\n",
            "856/856 [==============================] - 296s 346ms/step - loss: 0.4666 - accuracy: 0.8550 - val_loss: 1.3311 - val_accuracy: 0.6386\n",
            "Epoch 5/35\n",
            "856/856 [==============================] - ETA: 0s - loss: 0.3255 - accuracy: 0.8985WARNING:tensorflow:Can save best model only with test_accuracy available, skipping.\n",
            "856/856 [==============================] - 292s 341ms/step - loss: 0.3255 - accuracy: 0.8985 - val_loss: 1.3222 - val_accuracy: 0.6557\n",
            "Epoch 6/35\n",
            "856/856 [==============================] - ETA: 0s - loss: 0.2457 - accuracy: 0.9299WARNING:tensorflow:Can save best model only with test_accuracy available, skipping.\n",
            "856/856 [==============================] - 296s 346ms/step - loss: 0.2457 - accuracy: 0.9299 - val_loss: 1.4284 - val_accuracy: 0.6570\n",
            "Epoch 7/35\n",
            "856/856 [==============================] - ETA: 0s - loss: 0.2077 - accuracy: 0.9369WARNING:tensorflow:Can save best model only with test_accuracy available, skipping.\n",
            "856/856 [==============================] - 292s 341ms/step - loss: 0.2077 - accuracy: 0.9369 - val_loss: 1.4567 - val_accuracy: 0.6662\n",
            "Epoch 8/35\n",
            "856/856 [==============================] - ETA: 0s - loss: 0.1875 - accuracy: 0.9412WARNING:tensorflow:Can save best model only with test_accuracy available, skipping.\n",
            "856/856 [==============================] - 296s 346ms/step - loss: 0.1875 - accuracy: 0.9412 - val_loss: 1.6341 - val_accuracy: 0.6728\n",
            "Epoch 9/35\n",
            "856/856 [==============================] - ETA: 0s - loss: 0.1754 - accuracy: 0.9452WARNING:tensorflow:Can save best model only with test_accuracy available, skipping.\n",
            "856/856 [==============================] - 295s 345ms/step - loss: 0.1754 - accuracy: 0.9452 - val_loss: 1.7134 - val_accuracy: 0.6610\n",
            "Epoch 10/35\n",
            "856/856 [==============================] - ETA: 0s - loss: 0.1517 - accuracy: 0.9522WARNING:tensorflow:Can save best model only with test_accuracy available, skipping.\n",
            "856/856 [==============================] - 305s 356ms/step - loss: 0.1517 - accuracy: 0.9522 - val_loss: 1.6873 - val_accuracy: 0.6689\n",
            "Epoch 11/35\n",
            "856/856 [==============================] - ETA: 0s - loss: 0.1457 - accuracy: 0.9525WARNING:tensorflow:Can save best model only with test_accuracy available, skipping.\n",
            "856/856 [==============================] - 304s 355ms/step - loss: 0.1457 - accuracy: 0.9525 - val_loss: 1.9731 - val_accuracy: 0.6754\n",
            "Epoch 12/35\n",
            "856/856 [==============================] - ETA: 0s - loss: 0.1353 - accuracy: 0.9563WARNING:tensorflow:Can save best model only with test_accuracy available, skipping.\n",
            "856/856 [==============================] - 301s 352ms/step - loss: 0.1353 - accuracy: 0.9563 - val_loss: 1.7204 - val_accuracy: 0.6610\n",
            "Epoch 13/35\n",
            "856/856 [==============================] - ETA: 0s - loss: 0.1319 - accuracy: 0.9553WARNING:tensorflow:Can save best model only with test_accuracy available, skipping.\n",
            "856/856 [==============================] - 300s 350ms/step - loss: 0.1319 - accuracy: 0.9553 - val_loss: 1.9622 - val_accuracy: 0.6807\n",
            "Epoch 14/35\n",
            "856/856 [==============================] - ETA: 0s - loss: 0.1225 - accuracy: 0.9603WARNING:tensorflow:Can save best model only with test_accuracy available, skipping.\n",
            "856/856 [==============================] - 301s 351ms/step - loss: 0.1225 - accuracy: 0.9603 - val_loss: 2.2493 - val_accuracy: 0.6754\n",
            "Epoch 15/35\n",
            "856/856 [==============================] - ETA: 0s - loss: 0.1272 - accuracy: 0.9569WARNING:tensorflow:Can save best model only with test_accuracy available, skipping.\n",
            "856/856 [==============================] - 300s 351ms/step - loss: 0.1272 - accuracy: 0.9569 - val_loss: 1.7623 - val_accuracy: 0.6689\n",
            "Epoch 16/35\n",
            "856/856 [==============================] - ETA: 0s - loss: 0.1172 - accuracy: 0.9616WARNING:tensorflow:Can save best model only with test_accuracy available, skipping.\n",
            "856/856 [==============================] - 302s 352ms/step - loss: 0.1172 - accuracy: 0.9616 - val_loss: 1.9399 - val_accuracy: 0.6675\n",
            "Epoch 17/35\n",
            "856/856 [==============================] - ETA: 0s - loss: 0.1126 - accuracy: 0.9603WARNING:tensorflow:Can save best model only with test_accuracy available, skipping.\n",
            "856/856 [==============================] - 304s 355ms/step - loss: 0.1126 - accuracy: 0.9603 - val_loss: 2.2491 - val_accuracy: 0.6833\n",
            "Epoch 18/35\n",
            "856/856 [==============================] - ETA: 0s - loss: 0.1133 - accuracy: 0.9601WARNING:tensorflow:Can save best model only with test_accuracy available, skipping.\n",
            "856/856 [==============================] - 300s 351ms/step - loss: 0.1133 - accuracy: 0.9601 - val_loss: 1.9750 - val_accuracy: 0.6951\n",
            "Epoch 19/35\n",
            "856/856 [==============================] - ETA: 0s - loss: 0.1122 - accuracy: 0.9600WARNING:tensorflow:Can save best model only with test_accuracy available, skipping.\n",
            "856/856 [==============================] - 301s 352ms/step - loss: 0.1122 - accuracy: 0.9600 - val_loss: 2.3020 - val_accuracy: 0.6781\n",
            "Epoch 20/35\n",
            "856/856 [==============================] - ETA: 0s - loss: 0.0995 - accuracy: 0.9651WARNING:tensorflow:Can save best model only with test_accuracy available, skipping.\n",
            "856/856 [==============================] - 300s 350ms/step - loss: 0.0995 - accuracy: 0.9651 - val_loss: 2.4461 - val_accuracy: 0.6820\n",
            "Epoch 21/35\n",
            "856/856 [==============================] - ETA: 0s - loss: 0.1074 - accuracy: 0.9625WARNING:tensorflow:Can save best model only with test_accuracy available, skipping.\n",
            "856/856 [==============================] - 304s 355ms/step - loss: 0.1074 - accuracy: 0.9625 - val_loss: 1.9904 - val_accuracy: 0.6886\n",
            "Epoch 22/35\n",
            "856/856 [==============================] - ETA: 0s - loss: 0.1073 - accuracy: 0.9626WARNING:tensorflow:Can save best model only with test_accuracy available, skipping.\n",
            "856/856 [==============================] - 302s 353ms/step - loss: 0.1073 - accuracy: 0.9626 - val_loss: 2.1757 - val_accuracy: 0.6754\n",
            "Epoch 23/35\n",
            "856/856 [==============================] - ETA: 0s - loss: 0.1008 - accuracy: 0.9633WARNING:tensorflow:Can save best model only with test_accuracy available, skipping.\n",
            "856/856 [==============================] - 304s 355ms/step - loss: 0.1008 - accuracy: 0.9633 - val_loss: 2.0471 - val_accuracy: 0.6675\n",
            "Epoch 24/35\n",
            "856/856 [==============================] - ETA: 0s - loss: 0.1011 - accuracy: 0.9641WARNING:tensorflow:Can save best model only with test_accuracy available, skipping.\n",
            "856/856 [==============================] - 302s 353ms/step - loss: 0.1011 - accuracy: 0.9641 - val_loss: 2.0585 - val_accuracy: 0.6623\n",
            "Epoch 25/35\n",
            "856/856 [==============================] - ETA: 0s - loss: 0.0967 - accuracy: 0.9639WARNING:tensorflow:Can save best model only with test_accuracy available, skipping.\n",
            "856/856 [==============================] - 304s 356ms/step - loss: 0.0967 - accuracy: 0.9639 - val_loss: 2.2349 - val_accuracy: 0.6702\n",
            "Epoch 26/35\n",
            "856/856 [==============================] - ETA: 0s - loss: 0.0921 - accuracy: 0.9664WARNING:tensorflow:Can save best model only with test_accuracy available, skipping.\n",
            "856/856 [==============================] - 301s 351ms/step - loss: 0.0921 - accuracy: 0.9664 - val_loss: 2.2806 - val_accuracy: 0.6767\n",
            "Epoch 27/35\n",
            "856/856 [==============================] - ETA: 0s - loss: 0.1078 - accuracy: 0.9614WARNING:tensorflow:Can save best model only with test_accuracy available, skipping.\n",
            "856/856 [==============================] - 302s 353ms/step - loss: 0.1078 - accuracy: 0.9614 - val_loss: 2.1610 - val_accuracy: 0.6794\n",
            "Epoch 28/35\n",
            "856/856 [==============================] - ETA: 0s - loss: 0.0969 - accuracy: 0.9658WARNING:tensorflow:Can save best model only with test_accuracy available, skipping.\n",
            "856/856 [==============================] - 300s 350ms/step - loss: 0.0969 - accuracy: 0.9658 - val_loss: 2.1426 - val_accuracy: 0.6794\n",
            "Epoch 29/35\n",
            "856/856 [==============================] - ETA: 0s - loss: 0.0915 - accuracy: 0.9676WARNING:tensorflow:Can save best model only with test_accuracy available, skipping.\n",
            "856/856 [==============================] - 302s 352ms/step - loss: 0.0915 - accuracy: 0.9676 - val_loss: 2.2530 - val_accuracy: 0.6846\n",
            "Epoch 30/35\n",
            "856/856 [==============================] - ETA: 0s - loss: 0.0906 - accuracy: 0.9671WARNING:tensorflow:Can save best model only with test_accuracy available, skipping.\n",
            "856/856 [==============================] - 302s 353ms/step - loss: 0.0906 - accuracy: 0.9671 - val_loss: 2.3142 - val_accuracy: 0.6846\n",
            "Epoch 31/35\n",
            "856/856 [==============================] - ETA: 0s - loss: 0.0914 - accuracy: 0.9648WARNING:tensorflow:Can save best model only with test_accuracy available, skipping.\n",
            "856/856 [==============================] - 301s 352ms/step - loss: 0.0914 - accuracy: 0.9648 - val_loss: 2.1480 - val_accuracy: 0.6807\n",
            "Epoch 32/35\n",
            "856/856 [==============================] - ETA: 0s - loss: 0.0880 - accuracy: 0.9676WARNING:tensorflow:Can save best model only with test_accuracy available, skipping.\n",
            "856/856 [==============================] - 301s 352ms/step - loss: 0.0880 - accuracy: 0.9676 - val_loss: 2.7466 - val_accuracy: 0.6781\n",
            "Epoch 33/35\n",
            "856/856 [==============================] - ETA: 0s - loss: 0.0959 - accuracy: 0.9633WARNING:tensorflow:Can save best model only with test_accuracy available, skipping.\n",
            "856/856 [==============================] - 301s 352ms/step - loss: 0.0959 - accuracy: 0.9633 - val_loss: 2.3701 - val_accuracy: 0.6754\n",
            "Epoch 34/35\n",
            "856/856 [==============================] - ETA: 0s - loss: 0.1025 - accuracy: 0.9645WARNING:tensorflow:Can save best model only with test_accuracy available, skipping.\n",
            "856/856 [==============================] - 305s 356ms/step - loss: 0.1025 - accuracy: 0.9645 - val_loss: 2.0492 - val_accuracy: 0.6820\n",
            "Epoch 35/35\n",
            "856/856 [==============================] - ETA: 0s - loss: 0.0918 - accuracy: 0.9663WARNING:tensorflow:Can save best model only with test_accuracy available, skipping.\n",
            "856/856 [==============================] - 301s 352ms/step - loss: 0.0918 - accuracy: 0.9663 - val_loss: 2.3897 - val_accuracy: 0.6754\n",
            "Training Accuracy: 0.9756\n",
            "Testing Accuracy:  0.6754\n"
          ]
        }
      ],
      "source": [
        "history = model.fit(X_train, dummy_y_train, epochs=EPOCHS, verbose=1, validation_data=(X_test, dummy_y_test), batch_size=8, callbacks=[model_checkpoint_callback]) \n",
        "loss, accuracy = model.evaluate(X_train, dummy_y_train, verbose=0)\n",
        "print(\"Training Accuracy: {:.4f}\".format(accuracy))\n",
        "loss, accuracy = model.evaluate(X_test, dummy_y_test, verbose=0)\n",
        "print(\"Testing Accuracy:  {:.4f}\".format(accuracy))"
      ],
      "id": "0fbfa69e"
    },
    {
      "cell_type": "code",
      "execution_count": 20,
      "metadata": {
        "id": "cb6cbf4b"
      },
      "outputs": [],
      "source": [
        "def PlotGraph(history):\n",
        "    acc = history.history['accuracy']\n",
        "    val_acc = history.history['val_accuracy']\n",
        "    loss = history.history['loss']\n",
        "    val_loss = history.history['val_loss']\n",
        "    x = range(1, len(acc) + 1)\n",
        "\n",
        "    plt.figure(figsize=(12, 5))\n",
        "    plt.subplot(1, 2, 1)\n",
        "    plt.plot(x, acc, 'g', label='Training acc')\n",
        "    plt.plot(x, val_acc, 'b', label='Validation acc')\n",
        "    plt.title('Training and validation accuracy')\n",
        "    plt.legend()\n",
        "    plt.subplot(1, 2, 2)\n",
        "    plt.plot(x, loss, 'g', label='Training loss')\n",
        "    plt.plot(x, val_loss, 'b', label='Validation loss')\n",
        "    plt.title('Training and validation loss')\n",
        "    plt.legend()"
      ],
      "id": "cb6cbf4b"
    },
    {
      "cell_type": "code",
      "execution_count": 21,
      "metadata": {
        "colab": {
          "base_uri": "https://localhost:8080/",
          "height": 336
        },
        "id": "a3a1d6c9",
        "outputId": "44288c72-891f-417f-aa85-9f55c1b20163"
      },
      "outputs": [
        {
          "output_type": "display_data",
          "data": {
            "text/plain": [
              "<Figure size 864x360 with 2 Axes>"
            ],
            "image/png": "[encoded data removed]"
          },
          "metadata": {
            "needs_background": "light"
          }
        }
      ],
      "source": [
        "PlotGraph(history)"
      ],
      "id": "a3a1d6c9"
    },
    {
      "cell_type": "code",
      "execution_count": 22,
      "metadata": {
        "colab": {
          "base_uri": "https://localhost:8080/"
        },
        "id": "b2244f33",
        "outputId": "34587785-d821-49a4-f635-d4e4b441f470"
      },
      "outputs": [
        {
          "output_type": "stream",
          "name": "stdout",
          "text": [
            "Best Accuracy Achieved by Model: 0.6951379776000977\n"
          ]
        }
      ],
      "source": [
        "print(f\"Best Accuracy Achieved by Model: {max(history.history['val_accuracy'])}\")"
      ],
      "id": "b2244f33"
    },
    {
      "cell_type": "code",
      "execution_count": 23,
      "metadata": {
        "id": "4eea3c67"
      },
      "outputs": [],
      "source": [
        "#model.load_weights(checkpoint_filepath)"
      ],
      "id": "4eea3c67"
    },
    {
      "cell_type": "code",
      "execution_count": 24,
      "metadata": {
        "colab": {
          "base_uri": "https://localhost:8080/"
        },
        "id": "1f4cc737",
        "outputId": "c8753b45-145f-41e0-c62c-f499527e2932"
      },
      "outputs": [
        {
          "output_type": "execute_result",
          "data": {
            "text/plain": [
              "array([4, 4, 5, 1, 2, 0, 0, 2, 5, 2, 3, 3, 4, 1, 2, 2, 0, 4, 3, 5, 4, 2,\n",
              "       2, 3, 4, 4, 1, 4, 4, 0, 2, 2, 4, 2, 1, 2, 1, 4, 1, 0, 4, 4, 3, 2,\n",
              "       1, 3, 5, 2, 4, 3, 1, 2, 4, 1, 3, 5, 3, 4, 2, 0, 2, 4, 5, 2, 1, 2,\n",
              "       5, 0, 0, 2, 0, 5, 5, 2, 1, 4, 3, 5, 5, 0, 0, 0, 3, 2, 4, 4, 0, 2,\n",
              "       0, 3, 0, 3, 2, 1, 0, 3, 2, 3, 4, 0, 2, 0, 2, 3, 1, 0, 4, 3, 4, 0,\n",
              "       0, 5, 0, 4, 3, 2, 5, 1, 0, 4, 0, 3, 2, 3, 3, 0, 0, 2, 2, 2, 4, 4,\n",
              "       3, 2, 2, 4, 4, 2, 2, 4, 3, 2, 1, 5, 0, 4, 2, 2, 2, 1, 3, 4, 5, 0,\n",
              "       4, 2, 5, 4, 2, 1, 0, 2, 2, 3, 5, 3, 1, 4, 5, 1, 5, 0, 4, 5, 0, 2,\n",
              "       3, 3, 4, 1, 2, 0, 4, 3, 2, 0, 1, 3, 1, 3, 5, 5, 3, 5, 4, 5, 1, 1,\n",
              "       0, 5, 0, 1, 2, 1, 0, 4, 2, 2, 1, 1, 4, 1, 0, 2, 4, 0, 4, 1, 4, 5,\n",
              "       4, 3, 4, 3, 1, 4, 4, 5, 3, 1, 4, 0, 2, 2, 2, 1, 1, 5, 3, 3, 2, 4,\n",
              "       2, 0, 3, 0, 4, 4, 4, 0, 4, 5, 4, 0, 0, 1, 0, 1, 2, 2, 2, 2, 4, 4,\n",
              "       3, 2, 3, 3, 3, 4, 5, 2, 5, 4, 2, 4, 4, 1, 3, 1, 1, 5, 0, 3, 2, 2,\n",
              "       1, 1, 1, 0, 0, 0, 5, 5, 4, 1, 5, 0, 3, 3, 3, 3, 3, 5, 0, 2, 5, 0,\n",
              "       2, 4, 5, 1, 2, 4, 1, 3, 0, 2, 3, 5, 4, 1, 1, 5, 5, 1, 0, 5, 2, 0,\n",
              "       3, 1, 4, 0, 1, 4, 3, 3, 3, 4, 5, 5, 2, 4, 2, 3, 5, 0, 2, 5, 5, 4,\n",
              "       0, 4, 3, 4, 4, 1, 4, 0, 3, 2, 0, 3, 2, 3, 4, 2, 5, 2, 5, 4, 0, 3,\n",
              "       3, 0, 3, 5, 1, 3, 0, 1, 2, 5, 4, 1, 3, 4, 3, 5, 3, 2, 4, 2, 4, 2,\n",
              "       2, 0, 1, 0, 0, 4, 4, 4, 0, 2, 2, 3, 4, 4, 0, 0, 4, 5, 1, 2, 3, 1,\n",
              "       4, 2, 4, 3, 5, 1, 5, 1, 4, 2, 4, 1, 5, 3, 5, 0, 1, 5, 2, 3, 4, 1,\n",
              "       0, 0, 0, 1, 3, 2, 0, 5, 4, 3, 5, 5, 4, 4, 2, 4, 4, 4, 0, 5, 4, 2,\n",
              "       4, 5, 5, 5, 5, 3, 1, 5, 1, 4, 5, 0, 2, 1, 2, 3, 2, 4, 5, 4, 2, 2,\n",
              "       5, 0, 2, 5, 5, 4, 4, 5, 2, 2, 2, 2, 2, 3, 0, 2, 5, 2, 0, 1, 1, 3,\n",
              "       2, 0, 3, 1, 2, 0, 5, 3, 4, 5, 1, 3, 2, 3, 4, 5, 3, 2, 5, 3, 2, 3,\n",
              "       1, 4, 2, 2, 3, 0, 3, 1, 3, 2, 0, 3, 1, 2, 1, 0, 3, 1, 1, 3, 0, 0,\n",
              "       2, 0, 5, 2, 5, 2, 4, 4, 0, 4, 4, 3, 0, 2, 4, 0, 2, 1, 2, 3, 1, 5,\n",
              "       2, 2, 2, 0, 2, 2, 0, 0, 5, 2, 2, 5, 3, 1, 4, 5, 1, 3, 4, 1, 5, 5,\n",
              "       3, 5, 4, 2, 3, 4, 5, 5, 4, 3, 1, 3, 2, 4, 0, 2, 2, 3, 4, 3, 0, 0,\n",
              "       5, 4, 1, 5, 3, 1, 1, 5, 0, 0, 0, 1, 5, 5, 5, 2, 4, 3, 5, 5, 0, 2,\n",
              "       2, 3, 1, 5, 0, 5, 3, 0, 2, 5, 5, 2, 3, 0, 5, 0, 4, 0, 1, 3, 1, 1,\n",
              "       2, 0, 2, 3, 2, 5, 3, 0, 0, 2, 1, 1, 5, 3, 4, 1, 5, 3, 2, 3, 0, 5,\n",
              "       0, 2, 4, 4, 5, 0, 5, 2, 5, 2, 5, 2, 0, 2, 0, 4, 4, 4, 2, 2, 2, 3,\n",
              "       1, 5, 1, 2, 2, 3, 4, 4, 2, 1, 2, 5, 5, 4, 0, 0, 5, 1, 1, 1, 2, 4,\n",
              "       4, 4, 3, 2, 1, 2, 0, 1, 3, 1, 1, 3, 2, 4, 1, 4, 1, 2, 0, 2, 0, 4,\n",
              "       1, 0, 3, 1, 2, 2, 3, 3, 5, 3, 4, 5, 5])"
            ]
          },
          "metadata": {},
          "execution_count": 24
        }
      ],
      "source": [
        "predict = model.predict(TEST)\n",
        "predict_class = np.argmax(predict, axis=1)\n",
        "predict_class = np.array(predict_class)\n",
        "predict_class"
      ],
      "id": "1f4cc737"
    },
    {
      "cell_type": "code",
      "execution_count": 25,
      "metadata": {
        "colab": {
          "base_uri": "https://localhost:8080/"
        },
        "id": "07fbb8f2",
        "outputId": "0d1b4b64-ce21-43c2-e6ce-2f3efc8a6d77"
      },
      "outputs": [
        {
          "output_type": "execute_result",
          "data": {
            "text/plain": [
              "array([[90, 10, 11,  7,  5,  5],\n",
              "       [11, 63, 22,  5, 20,  6],\n",
              "       [ 2, 11, 91,  6,  7,  3],\n",
              "       [ 8,  8, 13, 89, 12,  6],\n",
              "       [ 5,  8, 12,  9, 90,  6],\n",
              "       [ 3,  7, 10,  5,  4, 91]])"
            ]
          },
          "metadata": {},
          "execution_count": 25
        }
      ],
      "source": [
        "from sklearn.metrics import confusion_matrix\n",
        "\n",
        "cm = confusion_matrix(test_df[\"label\"], predict_class)\n",
        "cm"
      ],
      "id": "07fbb8f2"
    },
    {
      "cell_type": "code",
      "execution_count": 26,
      "metadata": {
        "colab": {
          "base_uri": "https://localhost:8080/",
          "height": 445
        },
        "id": "d6d34c1e",
        "outputId": "2e5cfc86-7a03-41f9-8fdd-88d38c43ec9e"
      },
      "outputs": [
        {
          "output_type": "execute_result",
          "data": {
            "text/plain": [
              "<matplotlib.axes._subplots.AxesSubplot at 0x7f3a8eefdf90>"
            ]
          },
          "metadata": {},
          "execution_count": 26
        },
        {
          "output_type": "display_data",
          "data": {
            "text/plain": [
              "<Figure size 720x504 with 2 Axes>"
            ],
            "image/png": "[encoded data removed]"
          },
          "metadata": {
            "needs_background": "light"
          }
        }
      ],
      "source": [
        "df_cm = pd.DataFrame(cm, index=[\"anger\", \"fear\", \"joy\", \"disgust\", \"sadness\", \"surprise\"], columns=[\"anger\", \"fear\", \"joy\", \"disgust\", \"sadness\", \"surprise\"])\n",
        "plt.figure(figsize = (10,7))\n",
        "sns.heatmap(df_cm,annot=True, fmt =\"d\")"
      ],
      "id": "d6d34c1e"
    },
    {
      "cell_type": "code",
      "execution_count": 27,
      "metadata": {
        "colab": {
          "base_uri": "https://localhost:8080/"
        },
        "id": "cc35fbc5",
        "outputId": "890d6845-0e99-4a21-b956-cae1682ba3d3"
      },
      "outputs": [
        {
          "output_type": "stream",
          "name": "stdout",
          "text": [
            "              precision    recall  f1-score   support\n",
            "\n",
            "       anger       0.76      0.70      0.73       128\n",
            "        fear       0.59      0.50      0.54       127\n",
            "         joy       0.57      0.76      0.65       120\n",
            "     disgust       0.74      0.65      0.69       136\n",
            "     sadness       0.65      0.69      0.67       130\n",
            "    surprise       0.78      0.76      0.77       120\n",
            "\n",
            "    accuracy                           0.68       761\n",
            "   macro avg       0.68      0.68      0.68       761\n",
            "weighted avg       0.68      0.68      0.67       761\n",
            "\n"
          ]
        }
      ],
      "source": [
        "from sklearn.metrics import classification_report\n",
        "\n",
        "print(classification_report(test_df[\"label\"], predict_class, target_names =[\"anger\", \"fear\", \"joy\", \"disgust\", \"sadness\", \"surprise\"]))"
      ],
      "id": "cc35fbc5"
    },
    {
      "cell_type": "code",
      "execution_count": null,
      "metadata": {
        "id": "6ee1c297"
      },
      "outputs": [],
      "source": [
        ""
      ],
      "id": "6ee1c297"
    },
    {
      "cell_type": "code",
      "execution_count": null,
      "metadata": {
        "id": "01b22149"
      },
      "outputs": [],
      "source": [
        ""
      ],
      "id": "01b22149"
    }
  ],
  "metadata": {
    "accelerator": "GPU",
    "colab": {
      "name": "CNN+ BiLSTM( FastText) with EDA",
      "provenance": []
    },
    "kernelspec": {
      "display_name": "Python 3 (ipykernel)",
      "language": "python",
      "name": "python3"
    },
    "language_info": {
      "codemirror_mode": {
        "name": "ipython",
        "version": 3
      },
      "file_extension": ".py",
      "mimetype": "text/x-python",
      "name": "python",
      "nbconvert_exporter": "python",
      "pygments_lexer": "ipython3",
      "version": "3.9.7"
    }
  },
  "nbformat": 4,
  "nbformat_minor": 5
}