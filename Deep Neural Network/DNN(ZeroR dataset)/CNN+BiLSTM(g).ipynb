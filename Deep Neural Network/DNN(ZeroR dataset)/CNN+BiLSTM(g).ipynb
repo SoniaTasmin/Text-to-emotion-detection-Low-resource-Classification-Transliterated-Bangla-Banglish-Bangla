{
  "cells": [
    {
      "cell_type": "code",
      "execution_count": null,
      "metadata": {
        "id": "0d5f9be8"
      },
      "outputs": [],
      "source": [
        "import re\n",
        "import tqdm\n",
        "import numpy as np\n",
        "import pandas as pd\n",
        "import seaborn as sns\n",
        "import matplotlib.pyplot as plt"
      ],
      "id": "0d5f9be8"
    },
    {
      "cell_type": "code",
      "execution_count": null,
      "metadata": {
        "colab": {
          "base_uri": "https://localhost:8080/"
        },
        "id": "c12a3b64",
        "outputId": "6fe71042-3dde-475b-ab7e-e367388549a0"
      },
      "outputs": [
        {
          "name": "stdout",
          "output_type": "stream",
          "text": [
            "Mounted at /content/drive\n"
          ]
        }
      ],
      "source": [
        "import os \n",
        "myData = '/content/drive/MyDrive/NSU_Courses/CSE/CSE499A/zeror_dataset';\n",
        "from google.colab import drive\n",
        "drive.mount('/content/drive')"
      ],
      "id": "c12a3b64"
    },
    {
      "cell_type": "code",
      "execution_count": null,
      "metadata": {
        "id": "c6366948"
      },
      "outputs": [],
      "source": [
        "#reading dataset\n",
        "train_df = pd.read_excel('/content/drive/MyDrive/NSU_Courses/CSE/CSE499A/zeror_dataset/train.xlsx') \n",
        "train_df = train_df.dropna()\n",
        "#val_df = pd.read_excel('val.xlsx')\n",
        "test_df = pd.read_excel('/content/drive/MyDrive/NSU_Courses/CSE/CSE499A/zeror_dataset/test.xlsx')\n",
        "test_df = test_df.dropna()"
      ],
      "id": "c6366948"
    },
    {
      "cell_type": "code",
      "execution_count": null,
      "metadata": {
        "colab": {
          "base_uri": "https://localhost:8080/",
          "height": 206
        },
        "id": "b71de20d",
        "outputId": "b74f5a00-d9ed-4f0a-e97e-9ca03128950d"
      },
      "outputs": [
        {
          "data": {
            "text/html": [
              "\n",
              "  <div id=\"df-29a292b7-3e59-418b-8734-e724f5b74b7f\">\n",
              "    <div class=\"colab-df-container\">\n",
              "      <div>\n",
              "<style scoped>\n",
              "    .dataframe tbody tr th:only-of-type {\n",
              "        vertical-align: middle;\n",
              "    }\n",
              "\n",
              "    .dataframe tbody tr th {\n",
              "        vertical-align: top;\n",
              "    }\n",
              "\n",
              "    .dataframe thead th {\n",
              "        text-align: right;\n",
              "    }\n",
              "</style>\n",
              "<table border=\"1\" class=\"dataframe\">\n",
              "  <thead>\n",
              "    <tr style=\"text-align: right;\">\n",
              "      <th></th>\n",
              "      <th>text</th>\n",
              "      <th>emotion</th>\n",
              "      <th>label</th>\n",
              "    </tr>\n",
              "  </thead>\n",
              "  <tbody>\n",
              "    <tr>\n",
              "      <th>0</th>\n",
              "      <td>hefajoter pokkhe michil theke hamlay ahoto awa...</td>\n",
              "      <td>sadness</td>\n",
              "      <td>1</td>\n",
              "    </tr>\n",
              "    <tr>\n",
              "      <th>1</th>\n",
              "      <td>e chara mask chara probesh korte dicchi na</td>\n",
              "      <td>anger</td>\n",
              "      <td>4</td>\n",
              "    </tr>\n",
              "    <tr>\n",
              "      <th>2</th>\n",
              "      <td>vore uthe batch porano college e class neya ab...</td>\n",
              "      <td>disgust</td>\n",
              "      <td>3</td>\n",
              "    </tr>\n",
              "    <tr>\n",
              "      <th>3</th>\n",
              "      <td>eita pata chagler kach</td>\n",
              "      <td>anger</td>\n",
              "      <td>4</td>\n",
              "    </tr>\n",
              "    <tr>\n",
              "      <th>4</th>\n",
              "      <td>sob dalal diye vore geche!</td>\n",
              "      <td>disgust</td>\n",
              "      <td>3</td>\n",
              "    </tr>\n",
              "  </tbody>\n",
              "</table>\n",
              "</div>\n",
              "      <button class=\"colab-df-convert\" onclick=\"convertToInteractive('df-29a292b7-3e59-418b-8734-e724f5b74b7f')\"\n",
              "              title=\"Convert this dataframe to an interactive table.\"\n",
              "              style=\"display:none;\">\n",
              "        \n",
              "  <svg xmlns=\"http://www.w3.org/2000/svg\" height=\"24px\"viewBox=\"0 0 24 24\"\n",
              "       width=\"24px\">\n",
              "    <path d=\"M0 0h24v24H0V0z\" fill=\"none\"/>\n",
              "    <path d=\"M18.56 5.44l.94 2.06.94-2.06 2.06-.94-2.06-.94-.94-2.06-.94 2.06-2.06.94zm-11 1L8.5 8.5l.94-2.06 2.06-.94-2.06-.94L8.5 2.5l-.94 2.06-2.06.94zm10 10l.94 2.06.94-2.06 2.06-.94-2.06-.94-.94-2.06-.94 2.06-2.06.94z\"/><path d=\"M17.41 7.96l-1.37-1.37c-.4-.4-.92-.59-1.43-.59-.52 0-1.04.2-1.43.59L10.3 9.45l-7.72 7.72c-.78.78-.78 2.05 0 2.83L4 21.41c.39.39.9.59 1.41.59.51 0 1.02-.2 1.41-.59l7.78-7.78 2.81-2.81c.8-.78.8-2.07 0-2.86zM5.41 20L4 18.59l7.72-7.72 1.47 1.35L5.41 20z\"/>\n",
              "  </svg>\n",
              "      </button>\n",
              "      \n",
              "  <style>\n",
              "    .colab-df-container {\n",
              "      display:flex;\n",
              "      flex-wrap:wrap;\n",
              "      gap: 12px;\n",
              "    }\n",
              "\n",
              "    .colab-df-convert {\n",
              "      background-color: #E8F0FE;\n",
              "      border: none;\n",
              "      border-radius: 50%;\n",
              "      cursor: pointer;\n",
              "      display: none;\n",
              "      fill: #1967D2;\n",
              "      height: 32px;\n",
              "      padding: 0 0 0 0;\n",
              "      width: 32px;\n",
              "    }\n",
              "\n",
              "    .colab-df-convert:hover {\n",
              "      background-color: #E2EBFA;\n",
              "      box-shadow: 0px 1px 2px rgba(60, 64, 67, 0.3), 0px 1px 3px 1px rgba(60, 64, 67, 0.15);\n",
              "      fill: #174EA6;\n",
              "    }\n",
              "\n",
              "    [theme=dark] .colab-df-convert {\n",
              "      background-color: #3B4455;\n",
              "      fill: #D2E3FC;\n",
              "    }\n",
              "\n",
              "    [theme=dark] .colab-df-convert:hover {\n",
              "      background-color: #434B5C;\n",
              "      box-shadow: 0px 1px 3px 1px rgba(0, 0, 0, 0.15);\n",
              "      filter: drop-shadow(0px 1px 2px rgba(0, 0, 0, 0.3));\n",
              "      fill: #FFFFFF;\n",
              "    }\n",
              "  </style>\n",
              "\n",
              "      <script>\n",
              "        const buttonEl =\n",
              "          document.querySelector('#df-29a292b7-3e59-418b-8734-e724f5b74b7f button.colab-df-convert');\n",
              "        buttonEl.style.display =\n",
              "          google.colab.kernel.accessAllowed ? 'block' : 'none';\n",
              "\n",
              "        async function convertToInteractive(key) {\n",
              "          const element = document.querySelector('#df-29a292b7-3e59-418b-8734-e724f5b74b7f');\n",
              "          const dataTable =\n",
              "            await google.colab.kernel.invokeFunction('convertToInteractive',\n",
              "                                                     [key], {});\n",
              "          if (!dataTable) return;\n",
              "\n",
              "          const docLinkHtml = 'Like what you see? Visit the ' +\n",
              "            '<a target=\"_blank\" href=https://colab.research.google.com/notebooks/data_table.ipynb>data table notebook</a>'\n",
              "            + ' to learn more about interactive tables.';\n",
              "          element.innerHTML = '';\n",
              "          dataTable['output_type'] = 'display_data';\n",
              "          await google.colab.output.renderOutput(dataTable, element);\n",
              "          const docLink = document.createElement('div');\n",
              "          docLink.innerHTML = docLinkHtml;\n",
              "          element.appendChild(docLink);\n",
              "        }\n",
              "      </script>\n",
              "    </div>\n",
              "  </div>\n",
              "  "
            ],
            "text/plain": [
              "                                                text  emotion  label\n",
              "0  hefajoter pokkhe michil theke hamlay ahoto awa...  sadness      1\n",
              "1         e chara mask chara probesh korte dicchi na    anger      4\n",
              "2  vore uthe batch porano college e class neya ab...  disgust      3\n",
              "3                             eita pata chagler kach    anger      4\n",
              "4                         sob dalal diye vore geche!  disgust      3"
            ]
          },
          "execution_count": 4,
          "metadata": {},
          "output_type": "execute_result"
        }
      ],
      "source": [
        "train_df.head()"
      ],
      "id": "b71de20d"
    },
    {
      "cell_type": "code",
      "execution_count": null,
      "metadata": {
        "colab": {
          "base_uri": "https://localhost:8080/"
        },
        "id": "5f70cdf8",
        "outputId": "fb57ceac-452b-4ed0-87cd-195805fa45ee"
      },
      "outputs": [
        {
          "name": "stdout",
          "output_type": "stream",
          "text": [
            "<class 'pandas.core.frame.DataFrame'>\n",
            "Int64Index: 6848 entries, 0 to 6849\n",
            "Data columns (total 3 columns):\n",
            " #   Column   Non-Null Count  Dtype \n",
            "---  ------   --------------  ----- \n",
            " 0   text     6848 non-null   object\n",
            " 1   emotion  6848 non-null   object\n",
            " 2   label    6848 non-null   int64 \n",
            "dtypes: int64(1), object(2)\n",
            "memory usage: 214.0+ KB\n",
            "\n",
            "<class 'pandas.core.frame.DataFrame'>\n",
            "Int64Index: 761 entries, 0 to 760\n",
            "Data columns (total 3 columns):\n",
            " #   Column   Non-Null Count  Dtype \n",
            "---  ------   --------------  ----- \n",
            " 0   text     761 non-null    object\n",
            " 1   emotion  761 non-null    object\n",
            " 2   label    761 non-null    int64 \n",
            "dtypes: int64(1), object(2)\n",
            "memory usage: 23.8+ KB\n",
            "\n"
          ]
        }
      ],
      "source": [
        "#checking for ull values\n",
        "train_df.info()\n",
        "print()\n",
        "test_df.info()\n",
        "print()\n",
        "#val_df.info()\n",
        "#print()"
      ],
      "id": "5f70cdf8"
    },
    {
      "cell_type": "code",
      "execution_count": null,
      "metadata": {
        "colab": {
          "base_uri": "https://localhost:8080/"
        },
        "id": "f7dc5157",
        "outputId": "586d49c5-4e8c-4039-aaac-eaad56a2d94f"
      },
      "outputs": [
        {
          "data": {
            "text/plain": [
              "surprise    1199\n",
              "joy         1175\n",
              "sadness     1161\n",
              "anger       1142\n",
              "fear        1111\n",
              "disgust     1060\n",
              "Name: emotion, dtype: int64"
            ]
          },
          "execution_count": 6,
          "metadata": {},
          "output_type": "execute_result"
        }
      ],
      "source": [
        "train_df[\"emotion\"].value_counts()"
      ],
      "id": "f7dc5157"
    },
    {
      "cell_type": "code",
      "execution_count": null,
      "metadata": {
        "colab": {
          "base_uri": "https://localhost:8080/"
        },
        "id": "7d5d210e",
        "outputId": "be828c38-efb1-488b-8114-f0dc25b1bb3d"
      },
      "outputs": [
        {
          "data": {
            "text/plain": [
              "disgust     136\n",
              "anger       130\n",
              "joy         128\n",
              "sadness     127\n",
              "surprise    120\n",
              "fear        120\n",
              "Name: emotion, dtype: int64"
            ]
          },
          "execution_count": 7,
          "metadata": {},
          "output_type": "execute_result"
        }
      ],
      "source": [
        "test_df[\"emotion\"].value_counts()"
      ],
      "id": "7d5d210e"
    },
    {
      "cell_type": "code",
      "execution_count": null,
      "metadata": {
        "id": "3f417088"
      },
      "outputs": [],
      "source": [
        "#val_df[\"classes\"].value_counts()"
      ],
      "id": "3f417088"
    },
    {
      "cell_type": "code",
      "execution_count": null,
      "metadata": {
        "colab": {
          "base_uri": "https://localhost:8080/"
        },
        "id": "053b4540",
        "outputId": "6c4cf0a1-2ff8-47f6-8740-c2470fc7a052"
      },
      "outputs": [
        {
          "name": "stdout",
          "output_type": "stream",
          "text": [
            "e chara mask chara probesh korte dicchi na\n"
          ]
        }
      ],
      "source": [
        "#sample text from dataset\n",
        "sample = train_df[\"text\"][1]\n",
        "print(sample)"
      ],
      "id": "053b4540"
    },
    {
      "cell_type": "code",
      "execution_count": null,
      "metadata": {
        "id": "46623438"
      },
      "outputs": [],
      "source": [
        "x_train, x_test, y_train, y_test = train_df[\"text\"], test_df[\"text\"], train_df[\"label\"], test_df[\"label\"]"
      ],
      "id": "46623438"
    },
    {
      "cell_type": "code",
      "execution_count": null,
      "metadata": {
        "id": "cb81d142"
      },
      "outputs": [],
      "source": [
        "from keras.utils import np_utils\n",
        "from keras.preprocessing.text import Tokenizer\n",
        "from keras.preprocessing.sequence import pad_sequences\n",
        "\n",
        "import tensorflow as tf\n",
        "from keras import layers\n",
        "from keras.models import Sequential\n",
        "\n",
        "EPOCHS= 35\n",
        "act= \"swish\"\n",
        "opt= tf.keras.optimizers.Adam(learning_rate=0.001)"
      ],
      "id": "cb81d142"
    },
    {
      "cell_type": "code",
      "execution_count": null,
      "metadata": {
        "id": "5b775aeb"
      },
      "outputs": [],
      "source": [
        "#converting text to vectors via tokenization\n",
        "tokenizer = Tokenizer()\n",
        "tokenizer.fit_on_texts(x_train)\n",
        "\n",
        "X_train = tokenizer.texts_to_sequences(x_train)\n",
        "X_test = tokenizer.texts_to_sequences(x_test)\n",
        "TEST = tokenizer.texts_to_sequences(test_df[\"text\"]) \n",
        "\n",
        "vocab_size = len(tokenizer.word_index) + 1 "
      ],
      "id": "5b775aeb"
    },
    {
      "cell_type": "code",
      "execution_count": null,
      "metadata": {
        "colab": {
          "base_uri": "https://localhost:8080/"
        },
        "id": "79603d3f",
        "outputId": "5e55f5b8-7bff-4463-eddf-bffd985ff234"
      },
      "outputs": [
        {
          "name": "stdout",
          "output_type": "stream",
          "text": [
            "Max len: 247\n"
          ]
        }
      ],
      "source": [
        "#calculating max length of the vector\n",
        "lens_train = [len(i) for i in X_train]\n",
        "lens_test = [len(i) for i in X_test]\n",
        "lens = lens_train + lens_test\n",
        "\n",
        "maxlen = np.max(lens)\n",
        "\n",
        "print('Max len:', maxlen)"
      ],
      "id": "79603d3f"
    },
    {
      "cell_type": "code",
      "execution_count": null,
      "metadata": {
        "id": "bb495e40"
      },
      "outputs": [],
      "source": [
        "#Zero padding every vector so that they are the same size\n",
        "X_train = pad_sequences(X_train, padding='post', maxlen=maxlen)\n",
        "X_test = pad_sequences(X_test, padding='post', maxlen=maxlen)\n",
        "TEST = pad_sequences(TEST, padding='post', maxlen=maxlen)"
      ],
      "id": "bb495e40"
    },
    {
      "cell_type": "code",
      "execution_count": null,
      "metadata": {
        "id": "bbfc3acc"
      },
      "outputs": [],
      "source": [
        "#One Hot Encoding integer labels\n",
        "dummy_y_test = np_utils.to_categorical(y_test)\n",
        "dummy_y_train = np_utils.to_categorical(y_train)"
      ],
      "id": "bbfc3acc"
    },
    {
      "cell_type": "code",
      "execution_count": null,
      "metadata": {
        "id": "a914d44d"
      },
      "outputs": [],
      "source": [
        "#reading fasttext\n",
        "def get_embedding_vectors(tokenizer, dim=300):\n",
        "    embedding_index = {}\n",
        "    with open('/content/drive/MyDrive/NSU_Courses/CSE/CSE499A/glove.840B.300d.txt','r', encoding=\"cp437\", errors='ignore') as f:\n",
        "        for line in tqdm.tqdm(f, \"Reading fasttext\"):\n",
        "            values = line.split()\n",
        "            word = ''.join(values[:-300])\n",
        "            vectors = np.asarray(values[-300:], dtype='float32')\n",
        "            embedding_index[word] = vectors\n",
        "\n",
        "    word_index = tokenizer.word_index\n",
        "    embedding_matrix = np.zeros((len(word_index)+1, dim))\n",
        "    for word, i in word_index.items():\n",
        "        embedding_vector = embedding_index.get(word)\n",
        "        if embedding_vector is not None:\n",
        "            # words not found will be 0s\n",
        "            embedding_matrix[i] = embedding_vector\n",
        "          \n",
        "    return embedding_matrix"
      ],
      "id": "a914d44d"
    },
    {
      "cell_type": "code",
      "execution_count": null,
      "metadata": {
        "colab": {
          "base_uri": "https://localhost:8080/"
        },
        "id": "c7afb8fc",
        "outputId": "31a6faae-d0a3-4965-c3ca-3a560b9188e1"
      },
      "outputs": [
        {
          "name": "stderr",
          "output_type": "stream",
          "text": [
            "Reading fasttext: 2196018it [03:18, 11035.61it/s]\n"
          ]
        }
      ],
      "source": [
        "embedding_matrix = get_embedding_vectors(tokenizer)"
      ],
      "id": "c7afb8fc"
    },
    {
      "cell_type": "code",
      "execution_count": null,
      "metadata": {
        "colab": {
          "base_uri": "https://localhost:8080/"
        },
        "id": "9a10d6e8",
        "outputId": "5ddb6266-a29c-4216-e1ed-cc4584cd4152"
      },
      "outputs": [
        {
          "name": "stdout",
          "output_type": "stream",
          "text": [
            "Model: \"sequential\"\n",
            "_________________________________________________________________\n",
            " Layer (type)                Output Shape              Param #   \n",
            "=================================================================\n",
            " embedding (Embedding)       (None, 247, 300)          3775800   \n",
            "                                                                 \n",
            " dropout (Dropout)           (None, 247, 300)          0         \n",
            "                                                                 \n",
            " conv1d (Conv1D)             (None, 245, 64)           57664     \n",
            "                                                                 \n",
            " max_pooling1d (MaxPooling1D  (None, 81, 64)           0         \n",
            " )                                                               \n",
            "                                                                 \n",
            " dropout_1 (Dropout)         (None, 81, 64)            0         \n",
            "                                                                 \n",
            " conv1d_1 (Conv1D)           (None, 79, 64)            12352     \n",
            "                                                                 \n",
            " max_pooling1d_1 (MaxPooling  (None, 26, 64)           0         \n",
            " 1D)                                                             \n",
            "                                                                 \n",
            " dropout_2 (Dropout)         (None, 26, 64)            0         \n",
            "                                                                 \n",
            " bidirectional (Bidirectiona  (None, 512)              657408    \n",
            " l)                                                              \n",
            "                                                                 \n",
            " dropout_3 (Dropout)         (None, 512)               0         \n",
            "                                                                 \n",
            " dense (Dense)               (None, 256)               131328    \n",
            "                                                                 \n",
            " dropout_4 (Dropout)         (None, 256)               0         \n",
            "                                                                 \n",
            " dense_1 (Dense)             (None, 6)                 1542      \n",
            "                                                                 \n",
            "=================================================================\n",
            "Total params: 4,636,094\n",
            "Trainable params: 4,636,094\n",
            "Non-trainable params: 0\n",
            "_________________________________________________________________\n"
          ]
        }
      ],
      "source": [
        "#defining CNN-BiLSTM model\n",
        "embedding_dim = 300\n",
        "\n",
        "model = Sequential()\n",
        "model.add(layers.Embedding(input_dim=vocab_size, output_dim=embedding_dim, weights = [embedding_matrix], input_length=maxlen))\n",
        "model.add(layers.Dropout(0.3)) \n",
        "model.add(layers.Conv1D(filters=64, kernel_size=3, activation=act)) \n",
        "model.add(layers.MaxPool1D(pool_size=3)) \n",
        "model.add(layers.Dropout(0.3))\n",
        "model.add(layers.Conv1D(filters=64, kernel_size=3, activation=act)) \n",
        "model.add(layers.MaxPool1D(pool_size=3)) \n",
        "model.add(layers.Dropout(0.3))\n",
        "model.add(layers.Bidirectional(layers.LSTM(256, recurrent_dropout=0.3)))\n",
        "model.add(layers.Dropout(0.3))\n",
        "model.add(layers.Dense(256,activation=act)) \n",
        "model.add(layers.Dropout(0.3)) \n",
        "model.add(layers.Dense(6, activation=\"softmax\"))\n",
        "model.compile(optimizer=opt, loss=\"categorical_crossentropy\",metrics=[\"accuracy\"])\n",
        "model.summary()"
      ],
      "id": "9a10d6e8"
    },
    {
      "cell_type": "code",
      "execution_count": null,
      "metadata": {
        "id": "079b4cb1"
      },
      "outputs": [],
      "source": [
        "checkpoint_filepath = './Checkpoint/checkpoint'\n",
        "model_checkpoint_callback = tf.keras.callbacks.ModelCheckpoint(\n",
        "    filepath=checkpoint_filepath,\n",
        "    save_weights_only=True,\n",
        "    monitor='test_accuracy',\n",
        "    mode='max',\n",
        "    save_best_only=True)"
      ],
      "id": "079b4cb1"
    },
    {
      "cell_type": "code",
      "execution_count": 19,
      "metadata": {
        "colab": {
          "base_uri": "https://localhost:8080/"
        },
        "id": "0fbfa69e",
        "outputId": "d2271d9b-c5aa-4310-a45d-95c8c029880e"
      },
      "outputs": [
        {
          "output_type": "stream",
          "name": "stdout",
          "text": [
            "Epoch 1/35\n",
            "856/856 [==============================] - ETA: 0s - loss: 1.7696 - accuracy: 0.2230WARNING:tensorflow:Can save best model only with test_accuracy available, skipping.\n",
            "856/856 [==============================] - 298s 343ms/step - loss: 1.7696 - accuracy: 0.2230 - val_loss: 1.6509 - val_accuracy: 0.3285\n",
            "Epoch 2/35\n",
            "856/856 [==============================] - ETA: 0s - loss: 1.4618 - accuracy: 0.4179WARNING:tensorflow:Can save best model only with test_accuracy available, skipping.\n",
            "856/856 [==============================] - 292s 342ms/step - loss: 1.4618 - accuracy: 0.4179 - val_loss: 1.2802 - val_accuracy: 0.5059\n",
            "Epoch 3/35\n",
            "856/856 [==============================] - ETA: 0s - loss: 1.0196 - accuracy: 0.6162WARNING:tensorflow:Can save best model only with test_accuracy available, skipping.\n",
            "856/856 [==============================] - 288s 337ms/step - loss: 1.0196 - accuracy: 0.6162 - val_loss: 1.1150 - val_accuracy: 0.5913\n",
            "Epoch 4/35\n",
            "856/856 [==============================] - ETA: 0s - loss: 0.7282 - accuracy: 0.7421WARNING:tensorflow:Can save best model only with test_accuracy available, skipping.\n",
            "856/856 [==============================] - 286s 334ms/step - loss: 0.7282 - accuracy: 0.7421 - val_loss: 1.1460 - val_accuracy: 0.6347\n",
            "Epoch 5/35\n",
            "856/856 [==============================] - ETA: 0s - loss: 0.5321 - accuracy: 0.8255WARNING:tensorflow:Can save best model only with test_accuracy available, skipping.\n",
            "856/856 [==============================] - 285s 333ms/step - loss: 0.5321 - accuracy: 0.8255 - val_loss: 1.1124 - val_accuracy: 0.6636\n",
            "Epoch 6/35\n",
            "856/856 [==============================] - ETA: 0s - loss: 0.4174 - accuracy: 0.8643WARNING:tensorflow:Can save best model only with test_accuracy available, skipping.\n",
            "856/856 [==============================] - 286s 334ms/step - loss: 0.4174 - accuracy: 0.8643 - val_loss: 1.1659 - val_accuracy: 0.6728\n",
            "Epoch 7/35\n",
            "856/856 [==============================] - ETA: 0s - loss: 0.3341 - accuracy: 0.8933WARNING:tensorflow:Can save best model only with test_accuracy available, skipping.\n",
            "856/856 [==============================] - 285s 333ms/step - loss: 0.3341 - accuracy: 0.8933 - val_loss: 1.1746 - val_accuracy: 0.6767\n",
            "Epoch 8/35\n",
            "856/856 [==============================] - ETA: 0s - loss: 0.2821 - accuracy: 0.9131WARNING:tensorflow:Can save best model only with test_accuracy available, skipping.\n",
            "856/856 [==============================] - 286s 334ms/step - loss: 0.2821 - accuracy: 0.9131 - val_loss: 1.2690 - val_accuracy: 0.6662\n",
            "Epoch 9/35\n",
            "856/856 [==============================] - ETA: 0s - loss: 0.2504 - accuracy: 0.9239WARNING:tensorflow:Can save best model only with test_accuracy available, skipping.\n",
            "856/856 [==============================] - 285s 333ms/step - loss: 0.2504 - accuracy: 0.9239 - val_loss: 1.2534 - val_accuracy: 0.6912\n",
            "Epoch 10/35\n",
            "856/856 [==============================] - ETA: 0s - loss: 0.2327 - accuracy: 0.9260WARNING:tensorflow:Can save best model only with test_accuracy available, skipping.\n",
            "856/856 [==============================] - 292s 341ms/step - loss: 0.2327 - accuracy: 0.9260 - val_loss: 1.3328 - val_accuracy: 0.6689\n",
            "Epoch 11/35\n",
            "856/856 [==============================] - ETA: 0s - loss: 0.2063 - accuracy: 0.9376WARNING:tensorflow:Can save best model only with test_accuracy available, skipping.\n",
            "856/856 [==============================] - 292s 341ms/step - loss: 0.2063 - accuracy: 0.9376 - val_loss: 1.4911 - val_accuracy: 0.6820\n",
            "Epoch 12/35\n",
            "856/856 [==============================] - ETA: 0s - loss: 0.1806 - accuracy: 0.9471WARNING:tensorflow:Can save best model only with test_accuracy available, skipping.\n",
            "856/856 [==============================] - 290s 339ms/step - loss: 0.1806 - accuracy: 0.9471 - val_loss: 1.5838 - val_accuracy: 0.6728\n",
            "Epoch 13/35\n",
            "856/856 [==============================] - ETA: 0s - loss: 0.1632 - accuracy: 0.9474WARNING:tensorflow:Can save best model only with test_accuracy available, skipping.\n",
            "856/856 [==============================] - 290s 339ms/step - loss: 0.1632 - accuracy: 0.9474 - val_loss: 1.5625 - val_accuracy: 0.6675\n",
            "Epoch 14/35\n",
            "856/856 [==============================] - ETA: 0s - loss: 0.1686 - accuracy: 0.9449WARNING:tensorflow:Can save best model only with test_accuracy available, skipping.\n",
            "856/856 [==============================] - 290s 339ms/step - loss: 0.1686 - accuracy: 0.9449 - val_loss: 1.4757 - val_accuracy: 0.6873\n",
            "Epoch 15/35\n",
            "856/856 [==============================] - ETA: 0s - loss: 0.1474 - accuracy: 0.9515WARNING:tensorflow:Can save best model only with test_accuracy available, skipping.\n",
            "856/856 [==============================] - 289s 338ms/step - loss: 0.1474 - accuracy: 0.9515 - val_loss: 1.4790 - val_accuracy: 0.6833\n",
            "Epoch 16/35\n",
            "856/856 [==============================] - ETA: 0s - loss: 0.1373 - accuracy: 0.9555WARNING:tensorflow:Can save best model only with test_accuracy available, skipping.\n",
            "856/856 [==============================] - 289s 337ms/step - loss: 0.1373 - accuracy: 0.9555 - val_loss: 1.6117 - val_accuracy: 0.6754\n",
            "Epoch 17/35\n",
            "856/856 [==============================] - ETA: 0s - loss: 0.1467 - accuracy: 0.9517WARNING:tensorflow:Can save best model only with test_accuracy available, skipping.\n",
            "856/856 [==============================] - 289s 338ms/step - loss: 0.1467 - accuracy: 0.9517 - val_loss: 1.5075 - val_accuracy: 0.6741\n",
            "Epoch 18/35\n",
            "856/856 [==============================] - ETA: 0s - loss: 0.1283 - accuracy: 0.9578WARNING:tensorflow:Can save best model only with test_accuracy available, skipping.\n",
            "856/856 [==============================] - 291s 341ms/step - loss: 0.1283 - accuracy: 0.9578 - val_loss: 1.6922 - val_accuracy: 0.6873\n",
            "Epoch 19/35\n",
            "856/856 [==============================] - ETA: 0s - loss: 0.1318 - accuracy: 0.9572WARNING:tensorflow:Can save best model only with test_accuracy available, skipping.\n",
            "856/856 [==============================] - 292s 341ms/step - loss: 0.1318 - accuracy: 0.9572 - val_loss: 1.7751 - val_accuracy: 0.6754\n",
            "Epoch 20/35\n",
            "856/856 [==============================] - ETA: 0s - loss: 0.1232 - accuracy: 0.9600WARNING:tensorflow:Can save best model only with test_accuracy available, skipping.\n",
            "856/856 [==============================] - 290s 339ms/step - loss: 0.1232 - accuracy: 0.9600 - val_loss: 1.6955 - val_accuracy: 0.6675\n",
            "Epoch 21/35\n",
            "856/856 [==============================] - ETA: 0s - loss: 0.1149 - accuracy: 0.9604WARNING:tensorflow:Can save best model only with test_accuracy available, skipping.\n",
            "856/856 [==============================] - 292s 342ms/step - loss: 0.1149 - accuracy: 0.9604 - val_loss: 2.0766 - val_accuracy: 0.6767\n",
            "Epoch 22/35\n",
            "856/856 [==============================] - ETA: 0s - loss: 0.1169 - accuracy: 0.9569WARNING:tensorflow:Can save best model only with test_accuracy available, skipping.\n",
            "856/856 [==============================] - 294s 344ms/step - loss: 0.1169 - accuracy: 0.9569 - val_loss: 1.9981 - val_accuracy: 0.6859\n",
            "Epoch 23/35\n",
            "856/856 [==============================] - ETA: 0s - loss: 0.1258 - accuracy: 0.9590WARNING:tensorflow:Can save best model only with test_accuracy available, skipping.\n",
            "856/856 [==============================] - 296s 346ms/step - loss: 0.1258 - accuracy: 0.9590 - val_loss: 1.7739 - val_accuracy: 0.6820\n",
            "Epoch 24/35\n",
            "856/856 [==============================] - ETA: 0s - loss: 0.1121 - accuracy: 0.9593WARNING:tensorflow:Can save best model only with test_accuracy available, skipping.\n",
            "856/856 [==============================] - 293s 342ms/step - loss: 0.1121 - accuracy: 0.9593 - val_loss: 2.0258 - val_accuracy: 0.6820\n",
            "Epoch 25/35\n",
            "856/856 [==============================] - ETA: 0s - loss: 0.1219 - accuracy: 0.9603WARNING:tensorflow:Can save best model only with test_accuracy available, skipping.\n",
            "856/856 [==============================] - 293s 342ms/step - loss: 0.1219 - accuracy: 0.9603 - val_loss: 1.8706 - val_accuracy: 0.6794\n",
            "Epoch 26/35\n",
            "856/856 [==============================] - ETA: 0s - loss: 0.1145 - accuracy: 0.9614WARNING:tensorflow:Can save best model only with test_accuracy available, skipping.\n",
            "856/856 [==============================] - 290s 339ms/step - loss: 0.1145 - accuracy: 0.9614 - val_loss: 1.8608 - val_accuracy: 0.6846\n",
            "Epoch 27/35\n",
            "856/856 [==============================] - ETA: 0s - loss: 0.1006 - accuracy: 0.9636WARNING:tensorflow:Can save best model only with test_accuracy available, skipping.\n",
            "856/856 [==============================] - 288s 337ms/step - loss: 0.1006 - accuracy: 0.9636 - val_loss: 1.9936 - val_accuracy: 0.6794\n",
            "Epoch 28/35\n",
            "856/856 [==============================] - ETA: 0s - loss: 0.1082 - accuracy: 0.9638WARNING:tensorflow:Can save best model only with test_accuracy available, skipping.\n",
            "856/856 [==============================] - 290s 339ms/step - loss: 0.1082 - accuracy: 0.9638 - val_loss: 2.0929 - val_accuracy: 0.6767\n",
            "Epoch 29/35\n",
            "856/856 [==============================] - ETA: 0s - loss: 0.1047 - accuracy: 0.9641WARNING:tensorflow:Can save best model only with test_accuracy available, skipping.\n",
            "856/856 [==============================] - 290s 339ms/step - loss: 0.1047 - accuracy: 0.9641 - val_loss: 2.0737 - val_accuracy: 0.6689\n",
            "Epoch 30/35\n",
            "856/856 [==============================] - ETA: 0s - loss: 0.1112 - accuracy: 0.9614WARNING:tensorflow:Can save best model only with test_accuracy available, skipping.\n",
            "856/856 [==============================] - 289s 338ms/step - loss: 0.1112 - accuracy: 0.9614 - val_loss: 2.1284 - val_accuracy: 0.6728\n",
            "Epoch 31/35\n",
            "856/856 [==============================] - ETA: 0s - loss: 0.1049 - accuracy: 0.9638WARNING:tensorflow:Can save best model only with test_accuracy available, skipping.\n",
            "856/856 [==============================] - 289s 338ms/step - loss: 0.1049 - accuracy: 0.9638 - val_loss: 2.1992 - val_accuracy: 0.6781\n",
            "Epoch 32/35\n",
            "856/856 [==============================] - ETA: 0s - loss: 0.0985 - accuracy: 0.9638WARNING:tensorflow:Can save best model only with test_accuracy available, skipping.\n",
            "856/856 [==============================] - 290s 339ms/step - loss: 0.0985 - accuracy: 0.9638 - val_loss: 2.2440 - val_accuracy: 0.6807\n",
            "Epoch 33/35\n",
            "856/856 [==============================] - ETA: 0s - loss: 0.0979 - accuracy: 0.9651WARNING:tensorflow:Can save best model only with test_accuracy available, skipping.\n",
            "856/856 [==============================] - 292s 341ms/step - loss: 0.0979 - accuracy: 0.9651 - val_loss: 2.2157 - val_accuracy: 0.6715\n",
            "Epoch 34/35\n",
            "856/856 [==============================] - ETA: 0s - loss: 0.1011 - accuracy: 0.9632WARNING:tensorflow:Can save best model only with test_accuracy available, skipping.\n",
            "856/856 [==============================] - 290s 338ms/step - loss: 0.1011 - accuracy: 0.9632 - val_loss: 2.1866 - val_accuracy: 0.6833\n",
            "Epoch 35/35\n",
            "856/856 [==============================] - ETA: 0s - loss: 0.1049 - accuracy: 0.9641WARNING:tensorflow:Can save best model only with test_accuracy available, skipping.\n",
            "856/856 [==============================] - 289s 338ms/step - loss: 0.1049 - accuracy: 0.9641 - val_loss: 2.1274 - val_accuracy: 0.6741\n",
            "Training Accuracy: 0.9747\n",
            "Testing Accuracy:  0.6741\n"
          ]
        }
      ],
      "source": [
        "history = model.fit(X_train, dummy_y_train, epochs=EPOCHS, verbose=1, validation_data=(X_test, dummy_y_test), batch_size=8, callbacks=[model_checkpoint_callback]) \n",
        "loss, accuracy = model.evaluate(X_train, dummy_y_train, verbose=0)\n",
        "print(\"Training Accuracy: {:.4f}\".format(accuracy))\n",
        "loss, accuracy = model.evaluate(X_test, dummy_y_test, verbose=0)\n",
        "print(\"Testing Accuracy:  {:.4f}\".format(accuracy))"
      ],
      "id": "0fbfa69e"
    },
    {
      "cell_type": "code",
      "execution_count": 20,
      "metadata": {
        "id": "cb6cbf4b"
      },
      "outputs": [],
      "source": [
        "def PlotGraph(history):\n",
        "    acc = history.history['accuracy']\n",
        "    val_acc = history.history['val_accuracy']\n",
        "    loss = history.history['loss']\n",
        "    val_loss = history.history['val_loss']\n",
        "    x = range(1, len(acc) + 1)\n",
        "\n",
        "    plt.figure(figsize=(12, 5))\n",
        "    plt.subplot(1, 2, 1)\n",
        "    plt.plot(x, acc, 'g', label='Training acc')\n",
        "    plt.plot(x, val_acc, 'b', label='Validation acc')\n",
        "    plt.title('Training and validation accuracy')\n",
        "    plt.legend()\n",
        "    plt.subplot(1, 2, 2)\n",
        "    plt.plot(x, loss, 'g', label='Training loss')\n",
        "    plt.plot(x, val_loss, 'b', label='Validation loss')\n",
        "    plt.title('Training and validation loss')\n",
        "    plt.legend()"
      ],
      "id": "cb6cbf4b"
    },
    {
      "cell_type": "code",
      "execution_count": 21,
      "metadata": {
        "id": "a3a1d6c9",
        "colab": {
          "base_uri": "https://localhost:8080/",
          "height": 336
        },
        "outputId": "5356af25-876d-496f-c99c-5007f82ecb9d"
      },
      "outputs": [
        {
          "output_type": "display_data",
          "data": {
            "text/plain": [
              "<Figure size 864x360 with 2 Axes>"
            ],
            "image/png": "[encoded data removed]"
          },
          "metadata": {
            "needs_background": "light"
          }
        }
      ],
      "source": [
        "PlotGraph(history)"
      ],
      "id": "a3a1d6c9"
    },
    {
      "cell_type": "code",
      "execution_count": 22,
      "metadata": {
        "id": "b2244f33",
        "colab": {
          "base_uri": "https://localhost:8080/"
        },
        "outputId": "c260d9a8-a688-4ea9-d274-b431126d99ca"
      },
      "outputs": [
        {
          "output_type": "stream",
          "name": "stdout",
          "text": [
            "Best Accuracy Achieved by Model: 0.6911957859992981\n"
          ]
        }
      ],
      "source": [
        "print(f\"Best Accuracy Achieved by Model: {max(history.history['val_accuracy'])}\")"
      ],
      "id": "b2244f33"
    },
    {
      "cell_type": "code",
      "execution_count": 24,
      "metadata": {
        "id": "4eea3c67"
      },
      "outputs": [],
      "source": [
        "#model.load_weights(checkpoint_filepath)"
      ],
      "id": "4eea3c67"
    },
    {
      "cell_type": "code",
      "execution_count": 23,
      "metadata": {
        "id": "1f4cc737",
        "colab": {
          "base_uri": "https://localhost:8080/"
        },
        "outputId": "b55e1ed4-16ad-4a5e-df8c-07e04877235d"
      },
      "outputs": [
        {
          "output_type": "execute_result",
          "data": {
            "text/plain": [
              "array([0, 4, 4, 1, 2, 0, 0, 5, 5, 2, 3, 4, 4, 1, 0, 2, 5, 1, 5, 3, 2, 0,\n",
              "       2, 3, 1, 4, 1, 4, 3, 2, 4, 2, 4, 2, 0, 2, 5, 5, 5, 0, 4, 1, 3, 2,\n",
              "       1, 3, 5, 2, 4, 3, 2, 2, 4, 1, 3, 5, 1, 1, 2, 0, 3, 4, 2, 5, 1, 5,\n",
              "       5, 0, 0, 5, 2, 5, 5, 2, 5, 1, 3, 5, 5, 0, 5, 1, 3, 2, 3, 4, 0, 0,\n",
              "       0, 3, 0, 3, 0, 1, 0, 3, 2, 3, 4, 2, 2, 5, 2, 3, 1, 0, 4, 4, 4, 0,\n",
              "       0, 5, 0, 4, 0, 1, 5, 1, 0, 5, 0, 3, 2, 3, 3, 0, 0, 2, 2, 0, 4, 4,\n",
              "       3, 4, 1, 1, 4, 1, 2, 2, 3, 0, 4, 5, 0, 4, 2, 2, 2, 1, 3, 4, 5, 5,\n",
              "       4, 2, 5, 4, 2, 1, 2, 3, 2, 3, 5, 3, 0, 4, 3, 2, 5, 0, 4, 5, 0, 4,\n",
              "       3, 3, 5, 1, 2, 0, 4, 3, 2, 0, 1, 3, 5, 3, 5, 5, 3, 5, 4, 5, 1, 4,\n",
              "       0, 5, 0, 1, 2, 2, 0, 4, 2, 2, 0, 2, 4, 1, 4, 2, 4, 0, 4, 3, 4, 0,\n",
              "       1, 3, 4, 3, 5, 4, 4, 5, 3, 0, 4, 0, 2, 5, 2, 1, 1, 5, 3, 3, 2, 1,\n",
              "       2, 0, 3, 2, 3, 4, 1, 0, 3, 5, 4, 0, 0, 1, 0, 4, 2, 2, 2, 2, 4, 1,\n",
              "       3, 4, 3, 3, 3, 4, 5, 2, 5, 4, 1, 3, 1, 5, 3, 1, 1, 5, 0, 3, 2, 2,\n",
              "       2, 1, 0, 0, 0, 0, 5, 5, 4, 1, 5, 0, 4, 3, 3, 3, 4, 5, 0, 2, 5, 0,\n",
              "       2, 2, 5, 1, 2, 5, 4, 3, 0, 2, 3, 5, 4, 1, 1, 5, 5, 1, 0, 2, 2, 0,\n",
              "       4, 5, 4, 0, 1, 5, 3, 4, 3, 5, 5, 5, 5, 4, 2, 3, 1, 0, 2, 5, 5, 4,\n",
              "       0, 4, 3, 4, 5, 1, 1, 2, 3, 5, 0, 3, 5, 3, 4, 2, 5, 2, 2, 4, 0, 3,\n",
              "       5, 0, 3, 5, 1, 1, 0, 0, 5, 4, 4, 1, 0, 4, 3, 5, 5, 5, 5, 2, 4, 2,\n",
              "       0, 0, 0, 0, 0, 5, 4, 4, 0, 2, 2, 5, 5, 4, 0, 2, 4, 0, 3, 2, 3, 1,\n",
              "       3, 2, 5, 3, 5, 1, 5, 1, 4, 2, 4, 1, 5, 3, 4, 0, 1, 5, 2, 3, 0, 1,\n",
              "       0, 0, 0, 0, 3, 2, 5, 5, 4, 4, 5, 5, 4, 4, 2, 4, 4, 1, 0, 5, 4, 5,\n",
              "       3, 5, 5, 5, 5, 3, 1, 5, 1, 4, 5, 0, 5, 1, 1, 3, 5, 4, 5, 4, 2, 2,\n",
              "       5, 1, 2, 5, 2, 4, 4, 5, 2, 2, 0, 5, 2, 3, 0, 2, 5, 2, 0, 0, 1, 3,\n",
              "       5, 5, 3, 1, 2, 0, 5, 3, 4, 5, 1, 3, 2, 1, 1, 5, 3, 0, 5, 3, 2, 4,\n",
              "       1, 1, 2, 2, 3, 0, 3, 1, 3, 1, 0, 3, 1, 2, 2, 4, 2, 1, 0, 3, 0, 0,\n",
              "       2, 2, 5, 2, 5, 5, 4, 0, 0, 1, 4, 3, 0, 2, 0, 0, 2, 1, 2, 5, 1, 5,\n",
              "       2, 2, 2, 0, 2, 2, 0, 0, 5, 2, 3, 5, 3, 1, 4, 5, 1, 3, 4, 1, 5, 5,\n",
              "       3, 5, 4, 2, 5, 4, 5, 5, 4, 4, 1, 3, 1, 4, 0, 2, 5, 3, 4, 3, 1, 0,\n",
              "       5, 4, 1, 5, 3, 3, 1, 5, 0, 2, 0, 1, 5, 5, 4, 2, 4, 3, 5, 5, 0, 2,\n",
              "       2, 3, 1, 5, 0, 3, 3, 0, 2, 5, 5, 1, 3, 0, 5, 0, 4, 0, 1, 3, 0, 3,\n",
              "       2, 0, 2, 3, 5, 5, 3, 0, 0, 2, 1, 1, 5, 3, 4, 1, 5, 3, 2, 3, 0, 5,\n",
              "       1, 2, 4, 4, 5, 0, 5, 2, 5, 2, 4, 4, 2, 2, 0, 0, 4, 4, 2, 2, 2, 5,\n",
              "       1, 5, 1, 2, 2, 3, 4, 0, 2, 1, 2, 5, 5, 4, 0, 1, 5, 1, 1, 1, 0, 4,\n",
              "       4, 0, 3, 2, 2, 2, 4, 1, 3, 1, 1, 3, 1, 4, 5, 4, 1, 2, 0, 2, 0, 4,\n",
              "       2, 0, 3, 1, 2, 2, 3, 3, 5, 3, 4, 5, 5])"
            ]
          },
          "metadata": {},
          "execution_count": 23
        }
      ],
      "source": [
        "predict = model.predict(TEST)\n",
        "predict_class = np.argmax(predict, axis=1)\n",
        "predict_class = np.array(predict_class)\n",
        "predict_class"
      ],
      "id": "1f4cc737"
    },
    {
      "cell_type": "code",
      "execution_count": 25,
      "metadata": {
        "id": "07fbb8f2",
        "colab": {
          "base_uri": "https://localhost:8080/"
        },
        "outputId": "4fe47cbf-6949-4774-e575-24c8a4e65eb1"
      },
      "outputs": [
        {
          "output_type": "execute_result",
          "data": {
            "text/plain": [
              "array([[94, 11,  7,  4,  5,  7],\n",
              "       [11, 66, 14,  5, 18, 13],\n",
              "       [ 4,  7, 90,  3,  7,  9],\n",
              "       [ 8,  5, 11, 92,  8, 12],\n",
              "       [ 8, 11,  6,  9, 78, 18],\n",
              "       [ 2,  6, 12,  3,  4, 93]])"
            ]
          },
          "metadata": {},
          "execution_count": 25
        }
      ],
      "source": [
        "from sklearn.metrics import confusion_matrix\n",
        "\n",
        "cm = confusion_matrix(test_df[\"label\"], predict_class)\n",
        "cm"
      ],
      "id": "07fbb8f2"
    },
    {
      "cell_type": "code",
      "execution_count": 26,
      "metadata": {
        "id": "d6d34c1e",
        "colab": {
          "base_uri": "https://localhost:8080/",
          "height": 445
        },
        "outputId": "b51f5747-00d4-4c10-805f-0f58204906f5"
      },
      "outputs": [
        {
          "output_type": "execute_result",
          "data": {
            "text/plain": [
              "<matplotlib.axes._subplots.AxesSubplot at 0x7ff465f42910>"
            ]
          },
          "metadata": {},
          "execution_count": 26
        },
        {
          "output_type": "display_data",
          "data": {
            "text/plain": [
              "<Figure size 720x504 with 2 Axes>"
            ],
            "image/png": "[encoded data removed]"
          },
          "metadata": {
            "needs_background": "light"
          }
        }
      ],
      "source": [
        "df_cm = pd.DataFrame(cm, index=[\"anger\", \"fear\", \"joy\", \"disgust\", \"sadness\", \"surprise\"], columns=[\"anger\", \"fear\", \"joy\", \"disgust\", \"sadness\", \"surprise\"])\n",
        "plt.figure(figsize = (10,7))\n",
        "sns.heatmap(df_cm,annot=True, fmt =\"d\")"
      ],
      "id": "d6d34c1e"
    },
    {
      "cell_type": "code",
      "execution_count": 27,
      "metadata": {
        "id": "cc35fbc5",
        "colab": {
          "base_uri": "https://localhost:8080/"
        },
        "outputId": "328837c0-41b5-4770-bdec-9103d4af3bec"
      },
      "outputs": [
        {
          "output_type": "stream",
          "name": "stdout",
          "text": [
            "              precision    recall  f1-score   support\n",
            "\n",
            "       anger       0.74      0.73      0.74       128\n",
            "        fear       0.62      0.52      0.57       127\n",
            "         joy       0.64      0.75      0.69       120\n",
            "     disgust       0.79      0.68      0.73       136\n",
            "     sadness       0.65      0.60      0.62       130\n",
            "    surprise       0.61      0.78      0.68       120\n",
            "\n",
            "    accuracy                           0.67       761\n",
            "   macro avg       0.68      0.68      0.67       761\n",
            "weighted avg       0.68      0.67      0.67       761\n",
            "\n"
          ]
        }
      ],
      "source": [
        "from sklearn.metrics import classification_report\n",
        "\n",
        "print(classification_report(test_df[\"label\"], predict_class, target_names =[\"anger\", \"fear\", \"joy\", \"disgust\", \"sadness\", \"surprise\"]))"
      ],
      "id": "cc35fbc5"
    },
    {
      "cell_type": "code",
      "execution_count": null,
      "metadata": {
        "id": "6ee1c297"
      },
      "outputs": [],
      "source": [
        ""
      ],
      "id": "6ee1c297"
    },
    {
      "cell_type": "code",
      "execution_count": null,
      "metadata": {
        "id": "01b22149"
      },
      "outputs": [],
      "source": [
        ""
      ],
      "id": "01b22149"
    }
  ],
  "metadata": {
    "accelerator": "GPU",
    "colab": {
      "name": "CNN+ BiLSTM( glove) with EDA",
      "provenance": []
    },
    "kernelspec": {
      "display_name": "Python 3 (ipykernel)",
      "language": "python",
      "name": "python3"
    },
    "language_info": {
      "codemirror_mode": {
        "name": "ipython",
        "version": 3
      },
      "file_extension": ".py",
      "mimetype": "text/x-python",
      "name": "python",
      "nbconvert_exporter": "python",
      "pygments_lexer": "ipython3",
      "version": "3.9.7"
    }
  },
  "nbformat": 4,
  "nbformat_minor": 5
}