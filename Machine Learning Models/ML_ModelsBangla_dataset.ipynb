{
  "nbformat": 4,
  "nbformat_minor": 0,
  "metadata": {
    "colab": {
      "name": "ML Models(Bangla dataset).ipynb",
      "provenance": []
    },
    "kernelspec": {
      "name": "python3",
      "display_name": "Python 3"
    },
    "language_info": {
      "name": "python"
    }
  },
  "cells": [
    {
      "cell_type": "code",
      "execution_count": null,
      "metadata": {
        "colab": {
          "base_uri": "https://localhost:8080/"
        },
        "id": "nFSKoQQ6d8cQ",
        "outputId": "022bb612-1ee9-4da1-9ff7-2e5e01ff95a7"
      },
      "outputs": [
        {
          "output_type": "stream",
          "name": "stdout",
          "text": [
            "CPU times: user 4.67 ms, sys: 0 ns, total: 4.67 ms\n",
            "Wall time: 4.68 ms\n"
          ]
        }
      ],
      "source": [
        "%%time\n",
        "import os\n",
        "from glob import glob\n",
        "import numpy as np\n",
        "import matplotlib.pyplot as plt\n",
        "%matplotlib inline\n",
        "import pandas as pd\n",
        "import seaborn as sns\n",
        "import re\n",
        "import nltk\n",
        "import json\n",
        "import tensorflow as tf\n",
        "from tensorflow import keras\n",
        "from tensorflow.keras import regularizers\n",
        "from keras import models\n",
        "from keras import layers\n",
        "from tensorflow.keras.layers import LSTM,GRU\n",
        "from tensorflow.keras.models import load_model\n",
        "from sklearn.metrics import confusion_matrix\n",
        "from sklearn.metrics import classification_report \n",
        "from sklearn.model_selection import train_test_split\n",
        "from sklearn.linear_model import LogisticRegression, LogisticRegressionCV\n",
        "from sklearn.tree import DecisionTreeClassifier\n",
        "from sklearn.neighbors import KNeighborsClassifier\n",
        "from sklearn.ensemble import RandomForestClassifier, AdaBoostClassifier\n",
        "from sklearn.naive_bayes import MultinomialNB\n",
        "from sklearn.svm import SVC\n",
        "from sklearn.metrics import accuracy_score,precision_score,recall_score,f1_score,roc_auc_score\n",
        "from sklearn.metrics import average_precision_score,roc_auc_score, roc_curve, precision_recall_curve\n",
        "from sklearn.preprocessing import LabelEncoder\n",
        "from sklearn.feature_extraction.text import TfidfVectorizer, CountVectorizer, TfidfTransformer\n",
        "from sklearn.pipeline import Pipeline\n",
        "from tensorflow.keras.preprocessing.text import Tokenizer\n",
        "np.random.seed(42)"
      ]
    },
    {
      "cell_type": "code",
      "source": [
        "df = '/content/drive/MyDrive/NSU_Courses/CSE/CSE499A';\n",
        "from google.colab import drive\n",
        "drive.mount('/content/drive')\n",
        "df = pd.read_excel('/content/drive/MyDrive/NSU_Courses/CSE/CSE499A/cuet_dataset.xlsx')"
      ],
      "metadata": {
        "colab": {
          "base_uri": "https://localhost:8080/"
        },
        "id": "__8zlC5AfJnd",
        "outputId": "2e0b365f-0dc2-4098-b474-a2bcdd1955ee"
      },
      "execution_count": null,
      "outputs": [
        {
          "output_type": "stream",
          "name": "stdout",
          "text": [
            "Drive already mounted at /content/drive; to attempt to forcibly remount, call drive.mount(\"/content/drive\", force_remount=True).\n"
          ]
        }
      ]
    },
    {
      "cell_type": "code",
      "source": [
        "for cols in df.columns:\n",
        "    unique_vals = df[cols].unique()\n",
        "    if len(unique_vals) <= 10:\n",
        "        print(\"Feature \", cols, \" has \", len(unique_vals), \" unique values ----> \", unique_vals)\n",
        "    else:\n",
        "        print(\"Feature \", cols, \" has \", len(unique_vals), \" unique values\")"
      ],
      "metadata": {
        "colab": {
          "base_uri": "https://localhost:8080/"
        },
        "id": "jqGt-MO5fJkq",
        "outputId": "40489656-f273-4cb8-f3f2-9fd7771014b7"
      },
      "execution_count": null,
      "outputs": [
        {
          "output_type": "stream",
          "name": "stdout",
          "text": [
            "Feature  Unnamed: 0  has  6243  unique values\n",
            "Feature  cleaned  has  5669  unique values\n",
            "Feature  classes  has  6  unique values ---->  ['sadness' 'disgust' 'fear' 'joy' 'surprise' 'anger']\n",
            "Feature  labels  has  6  unique values ---->  [1 3 5 0 2 4]\n"
          ]
        }
      ]
    },
    {
      "cell_type": "code",
      "source": [
        "df.dropna(inplace=True)\n",
        "df[\"classes\"].value_counts()"
      ],
      "metadata": {
        "colab": {
          "base_uri": "https://localhost:8080/"
        },
        "id": "YbRQv8RsfJho",
        "outputId": "31a876df-24e5-41d1-ee33-91343f888c02"
      },
      "execution_count": null,
      "outputs": [
        {
          "output_type": "execute_result",
          "data": {
            "text/plain": [
              "disgust     1553\n",
              "sadness     1190\n",
              "joy         1142\n",
              "fear         872\n",
              "anger        759\n",
              "surprise     727\n",
              "Name: classes, dtype: int64"
            ]
          },
          "metadata": {},
          "execution_count": 42
        }
      ]
    },
    {
      "cell_type": "code",
      "source": [
        "## checking for null values\n",
        "df.isnull().sum()"
      ],
      "metadata": {
        "colab": {
          "base_uri": "https://localhost:8080/"
        },
        "id": "mmvOvnKmfJey",
        "outputId": "ed01ed0a-4447-4a9a-8c0a-37feccc319b8"
      },
      "execution_count": null,
      "outputs": [
        {
          "output_type": "execute_result",
          "data": {
            "text/plain": [
              "Unnamed: 0    0\n",
              "cleaned       0\n",
              "classes       0\n",
              "labels        0\n",
              "dtype: int64"
            ]
          },
          "metadata": {},
          "execution_count": 43
        }
      ]
    },
    {
      "cell_type": "code",
      "source": [
        "# remove duplicate entries, if any\n",
        "df.drop_duplicates(inplace = True)\n",
        "print(df.shape)"
      ],
      "metadata": {
        "colab": {
          "base_uri": "https://localhost:8080/"
        },
        "id": "xy1vU2trfJb9",
        "outputId": "6c2e409b-1c48-4dd6-818d-5750f05cc9be"
      },
      "execution_count": null,
      "outputs": [
        {
          "output_type": "stream",
          "name": "stdout",
          "text": [
            "(6243, 4)\n"
          ]
        }
      ]
    },
    {
      "cell_type": "code",
      "source": [
        "# Pearson's Correlation Coefficient\n",
        "\n",
        "corr = df.corr()\n",
        "mask1 = np.triu(np.ones_like(corr, dtype=bool))\n",
        "mask2 = np.tril(np.ones_like(corr, dtype=bool))\n",
        "plt.figure(figsize = (12,10))\n",
        "sns.heatmap(corr, annot = True, cmap = \"seismic\", mask = mask1);"
      ],
      "metadata": {
        "colab": {
          "base_uri": "https://localhost:8080/",
          "height": 592
        },
        "id": "QG-2R872fJXx",
        "outputId": "d0503d69-3e9c-43ac-b570-4c053e4853fe"
      },
      "execution_count": null,
      "outputs": [
        {
          "output_type": "display_data",
          "data": {
            "text/plain": [
              "<Figure size 864x720 with 2 Axes>"
            ],
            "image/png": "[encoded data removed]"
          },
          "metadata": {
            "needs_background": "light"
          }
        }
      ]
    },
    {
      "cell_type": "code",
      "source": [
        "# with the following function we can select highly correlated features\n",
        "# it will remove the first feature that is highly correlated with another feature\n",
        "\n",
        "def correlation(dataset, threshold):\n",
        "    col_corr = set() # Set of all the names of the redundant columns\n",
        "    corr_matrix = dataset.corr()\n",
        "    for i in range(len(corr_matrix.columns)):\n",
        "        for j in range(i):\n",
        "            if(abs(corr_matrix.iloc[i, j])) > threshold:\n",
        "                colname = corr_matrix.columns[i]\n",
        "                col_corr.add(colname)\n",
        "    return col_corr"
      ],
      "metadata": {
        "id": "cFaakAl2fJC8"
      },
      "execution_count": null,
      "outputs": []
    },
    {
      "cell_type": "code",
      "source": [
        "corr_features = correlation(df, 0.9) # 85% is a good value of the threshold\n",
        "print(len(corr_features))\n",
        "print(corr_features)"
      ],
      "metadata": {
        "colab": {
          "base_uri": "https://localhost:8080/"
        },
        "id": "xEst6oazjEUE",
        "outputId": "03ae4bb4-b1e1-45ac-f129-6c8d21af21fa"
      },
      "execution_count": null,
      "outputs": [
        {
          "output_type": "stream",
          "name": "stdout",
          "text": [
            "0\n",
            "set()\n"
          ]
        }
      ]
    },
    {
      "cell_type": "code",
      "source": [
        "path = '/content/drive/MyDrive/NSU_Courses/CSE/CSE445/cse445_project/'\n",
        "from google.colab import drive\n",
        "drive.mount('/content/drive')\n",
        "raw_train_data = pd.read_excel(path+'train.xlsx') \n",
        "raw_val_data = pd.read_excel(path + 'val.xlsx')\n",
        "raw_test_data = pd.read_excel(path + 'test.xlsx')"
      ],
      "metadata": {
        "colab": {
          "base_uri": "https://localhost:8080/"
        },
        "id": "LXElRIS6jdNa",
        "outputId": "27d27d16-af76-4722-ff13-172c82ad6718"
      },
      "execution_count": null,
      "outputs": [
        {
          "output_type": "stream",
          "name": "stdout",
          "text": [
            "Drive already mounted at /content/drive; to attempt to forcibly remount, call drive.mount(\"/content/drive\", force_remount=True).\n"
          ]
        }
      ]
    },
    {
      "cell_type": "code",
      "source": [
        "#Creating training data\n",
        "train_data = raw_train_data.cleaned.tolist()\n",
        "train_labels = raw_train_data.labels.tolist()\n",
        "\n",
        "#Creating validation data\n",
        "val_data = raw_val_data.cleaned.tolist()\n",
        "val_labels = raw_val_data.labels.tolist()\n",
        "\n",
        "#Creating testing data\n",
        "test_data = raw_test_data.cleaned.tolist()\n",
        "test_labels = raw_test_data.labels.tolist()"
      ],
      "metadata": {
        "id": "47eM_XMtnpYx"
      },
      "execution_count": null,
      "outputs": []
    },
    {
      "cell_type": "code",
      "source": [
        "%%time\n",
        "lr_model = LogisticRegressionCV(class_weight='balanced', max_iter=400)\n",
        "dt_model = DecisionTreeClassifier(class_weight='balanced')\n",
        "rf_model = RandomForestClassifier(class_weight='balanced')\n",
        "mnb_model = MultinomialNB()\n",
        "svm_model = SVC(class_weight='balanced')\n",
        "knn_model = KNeighborsClassifier()\n",
        "ada_model = AdaBoostClassifier()\n",
        "model_names = ['Logistic Regression','Decision Tree','Random Forest','Naive Bayes', 'SVM', 'KNN', 'AdaBoost']\n",
        "ml_models = [lr_model,dt_model,rf_model,mnb_model, svm_model, knn_model, ada_model]"
      ],
      "metadata": {
        "colab": {
          "base_uri": "https://localhost:8080/"
        },
        "id": "qt8UAsKfn1Jf",
        "outputId": "91e9f76e-73bf-4692-9803-39be5653c144"
      },
      "execution_count": null,
      "outputs": [
        {
          "output_type": "stream",
          "name": "stdout",
          "text": [
            "CPU times: user 98 µs, sys: 86 µs, total: 184 µs\n",
            "Wall time: 191 µs\n"
          ]
        }
      ]
    },
    {
      "cell_type": "code",
      "source": [
        "%%time\n",
        "def model_train(model, train_data, train_labels):\n",
        "  pipe = Pipeline([\n",
        "        ('FE', TfidfVectorizer(ngram_range=(1,2), use_idf = True, tokenizer=lambda x: x.split(), max_features=20000)),  \n",
        "        ('Transformer', TfidfTransformer()),  \n",
        "        ('M', model)\n",
        "    ])\n",
        "  pipe.fit(train_data, train_labels)\n",
        "  return pipe\n",
        "\n",
        "trained_ml_models = []\n",
        "for i in ml_models:\n",
        "    tt = model_train(i,train_data, train_labels)\n",
        "    trained_ml_models.append(tt)"
      ],
      "metadata": {
        "colab": {
          "base_uri": "https://localhost:8080/"
        },
        "id": "md6rBZHxn8I6",
        "outputId": "8e2467c8-8f8b-42bb-e958-b9e6e03dcf1e"
      },
      "execution_count": null,
      "outputs": [
        {
          "output_type": "stream",
          "name": "stdout",
          "text": [
            "CPU times: user 3min 51s, sys: 3min 36s, total: 7min 28s\n",
            "Wall time: 4min 46s\n"
          ]
        }
      ]
    },
    {
      "cell_type": "markdown",
      "source": [
        "# **Performance on validation set**"
      ],
      "metadata": {
        "id": "TyDYI53NoI-v"
      }
    },
    {
      "cell_type": "code",
      "source": [
        "pr_list = []\n",
        "re_list = []\n",
        "f1_list = []\n",
        "acc_list = []\n",
        "\n",
        "def print_results(md, x_test, y_test, name):\n",
        "    print(\"\\n\\nClassifier: \", name)\n",
        "    pred_y = md.predict(x_test)\n",
        "    true, pred = y_test, pred_y\n",
        "    print(confusion_matrix(true,pred))\n",
        "    print(classification_report(true,pred))\n",
        "    print(\"\\nPrecison : \",precision_score(pred,true, average = 'weighted'))\n",
        "    print(\"\\nRecall : \",recall_score(pred,true,  average = 'weighted'))\n",
        "    print(\"\\nF1 : \",f1_score(pred,true,  average = 'weighted'))\n",
        "    print(\"\\nAccuracy : \",accuracy_score(pred,true))\n",
        "\n",
        "    pr_list.append((round(precision_score(y_test, pred_y, average='weighted'),4)*100)) \n",
        "    re_list.append((round(recall_score(y_test, pred_y, average='weighted'),4)*100))\n",
        "    f1_list.append((round(f1_score(y_test, pred_y, average='weighted'),4)*100))\n",
        "    acc_list.append((round(accuracy_score(y_test, pred_y),4)*100))\n",
        "\n",
        "for i in range(len(trained_ml_models)):\n",
        "    md = trained_ml_models[i]\n",
        "    name = model_names[i]\n",
        "    print_results(md, val_data, val_labels, name)\n",
        "\n",
        "performance_matrix = pd.DataFrame({'Precision':pr_list,\n",
        "                                   'Recall':re_list,'F1 Score':f1_list, 'Accuracy':acc_list },\n",
        "                                  index =model_names)\n",
        "performance_matrix"
      ],
      "metadata": {
        "colab": {
          "base_uri": "https://localhost:8080/",
          "height": 1000
        },
        "id": "y8jXF-ygoNas",
        "outputId": "f10cca51-834d-45a6-dbdc-2aa3b47e7627"
      },
      "execution_count": null,
      "outputs": [
        {
          "output_type": "stream",
          "name": "stdout",
          "text": [
            "\n",
            "\n",
            "Classifier:  Logistic Regression\n",
            "[[ 80  17   7  10   3   3]\n",
            " [ 11  82  10   5  11  10]\n",
            " [  7   7  34   5   1  10]\n",
            " [  8   9   5 114  18   1]\n",
            " [  1  14   2  13  36   1]\n",
            " [  1  11   5   6   2  64]]\n",
            "              precision    recall  f1-score   support\n",
            "\n",
            "           0       0.74      0.67      0.70       120\n",
            "           1       0.59      0.64      0.61       129\n",
            "           2       0.54      0.53      0.54        64\n",
            "           3       0.75      0.74      0.74       155\n",
            "           4       0.51      0.54      0.52        67\n",
            "           5       0.72      0.72      0.72        89\n",
            "\n",
            "    accuracy                           0.66       624\n",
            "   macro avg       0.64      0.64      0.64       624\n",
            "weighted avg       0.66      0.66      0.66       624\n",
            "\n",
            "\n",
            "Precison :  0.6556719295695885\n",
            "\n",
            "Recall :  0.657051282051282\n",
            "\n",
            "F1 :  0.6557341915395648\n",
            "\n",
            "Accuracy :  0.657051282051282\n",
            "\n",
            "\n",
            "Classifier:  Decision Tree\n",
            "[[47 18 15 22 13  5]\n",
            " [21 43 23 20 12 10]\n",
            " [ 7 19 22  9  3  4]\n",
            " [12 20  4 98 18  3]\n",
            " [11 12  2 11 26  5]\n",
            " [ 9 12 13 10  7 38]]\n",
            "              precision    recall  f1-score   support\n",
            "\n",
            "           0       0.44      0.39      0.41       120\n",
            "           1       0.35      0.33      0.34       129\n",
            "           2       0.28      0.34      0.31        64\n",
            "           3       0.58      0.63      0.60       155\n",
            "           4       0.33      0.39      0.36        67\n",
            "           5       0.58      0.43      0.49        89\n",
            "\n",
            "    accuracy                           0.44       624\n",
            "   macro avg       0.43      0.42      0.42       624\n",
            "weighted avg       0.45      0.44      0.44       624\n",
            "\n",
            "\n",
            "Precison :  0.44277454012994083\n",
            "\n",
            "Recall :  0.4391025641025641\n",
            "\n",
            "F1 :  0.438308085388738\n",
            "\n",
            "Accuracy :  0.4391025641025641\n",
            "\n",
            "\n",
            "Classifier:  Random Forest\n",
            "[[ 64  25   5  21   2   3]\n",
            " [ 19  72   4  21   4   9]\n",
            " [ 10  13  26   7   1   7]\n",
            " [  6  12   3 125   6   3]\n",
            " [  6  14   0  27  18   2]\n",
            " [ 10  12   3  13   0  51]]\n",
            "              precision    recall  f1-score   support\n",
            "\n",
            "           0       0.56      0.53      0.54       120\n",
            "           1       0.49      0.56      0.52       129\n",
            "           2       0.63      0.41      0.50        64\n",
            "           3       0.58      0.81      0.68       155\n",
            "           4       0.58      0.27      0.37        67\n",
            "           5       0.68      0.57      0.62        89\n",
            "\n",
            "    accuracy                           0.57       624\n",
            "   macro avg       0.59      0.52      0.54       624\n",
            "weighted avg       0.58      0.57      0.56       624\n",
            "\n",
            "\n",
            "Precison :  0.6161550736478482\n",
            "\n",
            "Recall :  0.5705128205128205\n",
            "\n",
            "F1 :  0.5815740935350981\n",
            "\n",
            "Accuracy :  0.5705128205128205\n",
            "\n",
            "\n",
            "Classifier:  Naive Bayes\n",
            "[[ 73  24   1  21   0   1]\n",
            " [ 14  89   0  21   0   5]\n",
            " [ 15  23   4  14   0   8]\n",
            " [  7  10   0 134   3   1]\n",
            " [  1  25   0  32   9   0]\n",
            " [  2  25   0  18   1  43]]\n",
            "              precision    recall  f1-score   support\n",
            "\n",
            "           0       0.65      0.61      0.63       120\n",
            "           1       0.45      0.69      0.55       129\n",
            "           2       0.80      0.06      0.12        64\n",
            "           3       0.56      0.86      0.68       155\n",
            "           4       0.69      0.13      0.23        67\n",
            "           5       0.74      0.48      0.59        89\n",
            "\n",
            "    accuracy                           0.56       624\n",
            "   macro avg       0.65      0.47      0.46       624\n",
            "weighted avg       0.62      0.56      0.52       624\n",
            "\n",
            "\n",
            "Precison :  0.7066077741497667\n",
            "\n",
            "Recall :  0.5641025641025641\n",
            "\n",
            "F1 :  0.6059336168275637\n",
            "\n",
            "Accuracy :  0.5641025641025641\n",
            "\n",
            "\n",
            "Classifier:  SVM\n",
            "[[ 75  25   5  11   2   2]\n",
            " [ 11  94   3   8   7   6]\n",
            " [  9  15  24   8   1   7]\n",
            " [ 10  12   1 118  13   1]\n",
            " [  2  20   0  14  31   0]\n",
            " [  3  22   3   8   2  51]]\n",
            "              precision    recall  f1-score   support\n",
            "\n",
            "           0       0.68      0.62      0.65       120\n",
            "           1       0.50      0.73      0.59       129\n",
            "           2       0.67      0.38      0.48        64\n",
            "           3       0.71      0.76      0.73       155\n",
            "           4       0.55      0.46      0.50        67\n",
            "           5       0.76      0.57      0.65        89\n",
            "\n",
            "    accuracy                           0.63       624\n",
            "   macro avg       0.64      0.59      0.60       624\n",
            "weighted avg       0.65      0.63      0.63       624\n",
            "\n",
            "\n",
            "Precison :  0.6581433303223454\n",
            "\n",
            "Recall :  0.6298076923076923\n",
            "\n",
            "F1 :  0.632928283150079\n",
            "\n",
            "Accuracy :  0.6298076923076923\n",
            "\n",
            "\n",
            "Classifier:  KNN\n",
            "[[74 16 10  8  6  6]\n",
            " [27 70  7  9  5 11]\n",
            " [13 12 18  8  3 10]\n",
            " [30 25  5 69 19  7]\n",
            " [19 10  4 11 21  2]\n",
            " [15 12  8  4  4 46]]\n",
            "              precision    recall  f1-score   support\n",
            "\n",
            "           0       0.42      0.62      0.50       120\n",
            "           1       0.48      0.54      0.51       129\n",
            "           2       0.35      0.28      0.31        64\n",
            "           3       0.63      0.45      0.52       155\n",
            "           4       0.36      0.31      0.34        67\n",
            "           5       0.56      0.52      0.54        89\n",
            "\n",
            "    accuracy                           0.48       624\n",
            "   macro avg       0.47      0.45      0.45       624\n",
            "weighted avg       0.49      0.48      0.48       624\n",
            "\n",
            "\n",
            "Precison :  0.500252475647413\n",
            "\n",
            "Recall :  0.4775641025641026\n",
            "\n",
            "F1 :  0.47950390806204696\n",
            "\n",
            "Accuracy :  0.4775641025641026\n",
            "\n",
            "\n",
            "Classifier:  AdaBoost\n",
            "[[ 38  16   4  56   2   4]\n",
            " [  9  45   8  54   2  11]\n",
            " [  2   9  23  21   0   9]\n",
            " [ 10  21   3 112   5   4]\n",
            " [  3   8   0  40  14   2]\n",
            " [  2   9   2  33   0  43]]\n",
            "              precision    recall  f1-score   support\n",
            "\n",
            "           0       0.59      0.32      0.41       120\n",
            "           1       0.42      0.35      0.38       129\n",
            "           2       0.57      0.36      0.44        64\n",
            "           3       0.35      0.72      0.48       155\n",
            "           4       0.61      0.21      0.31        67\n",
            "           5       0.59      0.48      0.53        89\n",
            "\n",
            "    accuracy                           0.44       624\n",
            "   macro avg       0.52      0.41      0.43       624\n",
            "weighted avg       0.50      0.44      0.43       624\n",
            "\n",
            "\n",
            "Precison :  0.5460371830334737\n",
            "\n",
            "Recall :  0.4407051282051282\n",
            "\n",
            "F1 :  0.45085399289379996\n",
            "\n",
            "Accuracy :  0.4407051282051282\n"
          ]
        },
        {
          "output_type": "execute_result",
          "data": {
            "text/plain": [
              "                     Precision  Recall  F1 Score  Accuracy\n",
              "Logistic Regression      66.10   65.71     65.84     65.71\n",
              "Decision Tree            44.66   43.91     43.99     43.91\n",
              "Random Forest            57.71   57.05     55.95     57.05\n",
              "Naive Bayes              62.00   56.41     52.23     56.41\n",
              "SVM                      64.64   62.98     62.67     62.98\n",
              "KNN                      49.14   47.76     47.56     47.76\n",
              "AdaBoost                 49.67   44.07     43.06     44.07"
            ],
            "text/html": [
              "\n",
              "  <div id=\"df-a481f56e-95a7-4915-96c0-46493177607b\">\n",
              "    <div class=\"colab-df-container\">\n",
              "      <div>\n",
              "<style scoped>\n",
              "    .dataframe tbody tr th:only-of-type {\n",
              "        vertical-align: middle;\n",
              "    }\n",
              "\n",
              "    .dataframe tbody tr th {\n",
              "        vertical-align: top;\n",
              "    }\n",
              "\n",
              "    .dataframe thead th {\n",
              "        text-align: right;\n",
              "    }\n",
              "</style>\n",
              "<table border=\"1\" class=\"dataframe\">\n",
              "  <thead>\n",
              "    <tr style=\"text-align: right;\">\n",
              "      <th></th>\n",
              "      <th>Precision</th>\n",
              "      <th>Recall</th>\n",
              "      <th>F1 Score</th>\n",
              "      <th>Accuracy</th>\n",
              "    </tr>\n",
              "  </thead>\n",
              "  <tbody>\n",
              "    <tr>\n",
              "      <th>Logistic Regression</th>\n",
              "      <td>66.10</td>\n",
              "      <td>65.71</td>\n",
              "      <td>65.84</td>\n",
              "      <td>65.71</td>\n",
              "    </tr>\n",
              "    <tr>\n",
              "      <th>Decision Tree</th>\n",
              "      <td>44.66</td>\n",
              "      <td>43.91</td>\n",
              "      <td>43.99</td>\n",
              "      <td>43.91</td>\n",
              "    </tr>\n",
              "    <tr>\n",
              "      <th>Random Forest</th>\n",
              "      <td>57.71</td>\n",
              "      <td>57.05</td>\n",
              "      <td>55.95</td>\n",
              "      <td>57.05</td>\n",
              "    </tr>\n",
              "    <tr>\n",
              "      <th>Naive Bayes</th>\n",
              "      <td>62.00</td>\n",
              "      <td>56.41</td>\n",
              "      <td>52.23</td>\n",
              "      <td>56.41</td>\n",
              "    </tr>\n",
              "    <tr>\n",
              "      <th>SVM</th>\n",
              "      <td>64.64</td>\n",
              "      <td>62.98</td>\n",
              "      <td>62.67</td>\n",
              "      <td>62.98</td>\n",
              "    </tr>\n",
              "    <tr>\n",
              "      <th>KNN</th>\n",
              "      <td>49.14</td>\n",
              "      <td>47.76</td>\n",
              "      <td>47.56</td>\n",
              "      <td>47.76</td>\n",
              "    </tr>\n",
              "    <tr>\n",
              "      <th>AdaBoost</th>\n",
              "      <td>49.67</td>\n",
              "      <td>44.07</td>\n",
              "      <td>43.06</td>\n",
              "      <td>44.07</td>\n",
              "    </tr>\n",
              "  </tbody>\n",
              "</table>\n",
              "</div>\n",
              "      <button class=\"colab-df-convert\" onclick=\"convertToInteractive('df-a481f56e-95a7-4915-96c0-46493177607b')\"\n",
              "              title=\"Convert this dataframe to an interactive table.\"\n",
              "              style=\"display:none;\">\n",
              "        \n",
              "  <svg xmlns=\"http://www.w3.org/2000/svg\" height=\"24px\"viewBox=\"0 0 24 24\"\n",
              "       width=\"24px\">\n",
              "    <path d=\"M0 0h24v24H0V0z\" fill=\"none\"/>\n",
              "    <path d=\"M18.56 5.44l.94 2.06.94-2.06 2.06-.94-2.06-.94-.94-2.06-.94 2.06-2.06.94zm-11 1L8.5 8.5l.94-2.06 2.06-.94-2.06-.94L8.5 2.5l-.94 2.06-2.06.94zm10 10l.94 2.06.94-2.06 2.06-.94-2.06-.94-.94-2.06-.94 2.06-2.06.94z\"/><path d=\"M17.41 7.96l-1.37-1.37c-.4-.4-.92-.59-1.43-.59-.52 0-1.04.2-1.43.59L10.3 9.45l-7.72 7.72c-.78.78-.78 2.05 0 2.83L4 21.41c.39.39.9.59 1.41.59.51 0 1.02-.2 1.41-.59l7.78-7.78 2.81-2.81c.8-.78.8-2.07 0-2.86zM5.41 20L4 18.59l7.72-7.72 1.47 1.35L5.41 20z\"/>\n",
              "  </svg>\n",
              "      </button>\n",
              "      \n",
              "  <style>\n",
              "    .colab-df-container {\n",
              "      display:flex;\n",
              "      flex-wrap:wrap;\n",
              "      gap: 12px;\n",
              "    }\n",
              "\n",
              "    .colab-df-convert {\n",
              "      background-color: #E8F0FE;\n",
              "      border: none;\n",
              "      border-radius: 50%;\n",
              "      cursor: pointer;\n",
              "      display: none;\n",
              "      fill: #1967D2;\n",
              "      height: 32px;\n",
              "      padding: 0 0 0 0;\n",
              "      width: 32px;\n",
              "    }\n",
              "\n",
              "    .colab-df-convert:hover {\n",
              "      background-color: #E2EBFA;\n",
              "      box-shadow: 0px 1px 2px rgba(60, 64, 67, 0.3), 0px 1px 3px 1px rgba(60, 64, 67, 0.15);\n",
              "      fill: #174EA6;\n",
              "    }\n",
              "\n",
              "    [theme=dark] .colab-df-convert {\n",
              "      background-color: #3B4455;\n",
              "      fill: #D2E3FC;\n",
              "    }\n",
              "\n",
              "    [theme=dark] .colab-df-convert:hover {\n",
              "      background-color: #434B5C;\n",
              "      box-shadow: 0px 1px 3px 1px rgba(0, 0, 0, 0.15);\n",
              "      filter: drop-shadow(0px 1px 2px rgba(0, 0, 0, 0.3));\n",
              "      fill: #FFFFFF;\n",
              "    }\n",
              "  </style>\n",
              "\n",
              "      <script>\n",
              "        const buttonEl =\n",
              "          document.querySelector('#df-a481f56e-95a7-4915-96c0-46493177607b button.colab-df-convert');\n",
              "        buttonEl.style.display =\n",
              "          google.colab.kernel.accessAllowed ? 'block' : 'none';\n",
              "\n",
              "        async function convertToInteractive(key) {\n",
              "          const element = document.querySelector('#df-a481f56e-95a7-4915-96c0-46493177607b');\n",
              "          const dataTable =\n",
              "            await google.colab.kernel.invokeFunction('convertToInteractive',\n",
              "                                                     [key], {});\n",
              "          if (!dataTable) return;\n",
              "\n",
              "          const docLinkHtml = 'Like what you see? Visit the ' +\n",
              "            '<a target=\"_blank\" href=https://colab.research.google.com/notebooks/data_table.ipynb>data table notebook</a>'\n",
              "            + ' to learn more about interactive tables.';\n",
              "          element.innerHTML = '';\n",
              "          dataTable['output_type'] = 'display_data';\n",
              "          await google.colab.output.renderOutput(dataTable, element);\n",
              "          const docLink = document.createElement('div');\n",
              "          docLink.innerHTML = docLinkHtml;\n",
              "          element.appendChild(docLink);\n",
              "        }\n",
              "      </script>\n",
              "    </div>\n",
              "  </div>\n",
              "  "
            ]
          },
          "metadata": {},
          "execution_count": 73
        }
      ]
    },
    {
      "cell_type": "markdown",
      "source": [
        "# **Performance on test set**"
      ],
      "metadata": {
        "id": "l8WieXK3pZF-"
      }
    },
    {
      "cell_type": "code",
      "source": [
        "pr_list = []\n",
        "re_list = []\n",
        "f1_list = []\n",
        "acc_list = []\n",
        "\n",
        "def print_results(md, x_test, y_test, name):\n",
        "    print(\"\\n\\nClassifier: \", name)\n",
        "    pred_y = md.predict(x_test)\n",
        "    true, pred = y_test, pred_y\n",
        "    print(confusion_matrix(true,pred))\n",
        "    print(classification_report(true,pred))\n",
        "    print(\"\\nPrecison : \",precision_score(pred,true, average = 'weighted'))\n",
        "    print(\"\\nRecall : \",recall_score(pred,true,  average = 'weighted'))\n",
        "    print(\"\\nF1 : \",f1_score(pred,true,  average = 'weighted'))\n",
        "    print(\"\\nAccuracy : \",accuracy_score(pred,true))\n",
        "\n",
        "    pr_list.append((round(precision_score(y_test, pred_y, average='weighted'),4)*100)) \n",
        "    re_list.append((round(recall_score(y_test, pred_y, average='weighted'),4)*100))\n",
        "    f1_list.append((round(f1_score(y_test, pred_y, average='weighted'),4)*100))\n",
        "    acc_list.append((round(accuracy_score(y_test, pred_y),4)*100))\n",
        "\n",
        "for i in range(len(trained_ml_models)):\n",
        "    md = trained_ml_models[i]\n",
        "    name = model_names[i]\n",
        "    print_results(md, test_data, test_labels, name)\n",
        "\n",
        "performance_matrix = pd.DataFrame({'Precision':pr_list,\n",
        "                                   'Recall':re_list,'F1 Score':f1_list, 'Accuracy':acc_list},\n",
        "                                  index =model_names)\n",
        "performance_matrix"
      ],
      "metadata": {
        "colab": {
          "base_uri": "https://localhost:8080/",
          "height": 1000
        },
        "id": "uRy08QFEpdZv",
        "outputId": "80dde7b9-d008-423d-f24d-c1b98d839a80"
      },
      "execution_count": null,
      "outputs": [
        {
          "output_type": "stream",
          "name": "stdout",
          "text": [
            "\n",
            "\n",
            "Classifier:  Logistic Regression\n",
            "[[ 83   6  15   6   2   2]\n",
            " [ 13  65   5  14  13   9]\n",
            " [  8   9  38   6   5   7]\n",
            " [ 13  14   6 105  24   3]\n",
            " [  3   4   5  23  32   4]\n",
            " [  4   7   6   4   6  56]]\n",
            "              precision    recall  f1-score   support\n",
            "\n",
            "           0       0.67      0.73      0.70       114\n",
            "           1       0.62      0.55      0.58       119\n",
            "           2       0.51      0.52      0.51        73\n",
            "           3       0.66      0.64      0.65       165\n",
            "           4       0.39      0.45      0.42        71\n",
            "           5       0.69      0.67      0.68        83\n",
            "\n",
            "    accuracy                           0.61       625\n",
            "   macro avg       0.59      0.59      0.59       625\n",
            "weighted avg       0.61      0.61      0.61       625\n",
            "\n",
            "\n",
            "Precison :  0.6061256676083742\n",
            "\n",
            "Recall :  0.6064\n",
            "\n",
            "F1 :  0.6052489495061344\n",
            "\n",
            "Accuracy :  0.6064\n",
            "\n",
            "\n",
            "Classifier:  Decision Tree\n",
            "[[ 48  19  11  20  12   4]\n",
            " [ 21  44  11  18  16   9]\n",
            " [ 12  13  26  13   3   6]\n",
            " [ 15  17   7 100  21   5]\n",
            " [ 11  14  10  14  20   2]\n",
            " [ 12  11   7   9   5  39]]\n",
            "              precision    recall  f1-score   support\n",
            "\n",
            "           0       0.40      0.42      0.41       114\n",
            "           1       0.37      0.37      0.37       119\n",
            "           2       0.36      0.36      0.36        73\n",
            "           3       0.57      0.61      0.59       165\n",
            "           4       0.26      0.28      0.27        71\n",
            "           5       0.60      0.47      0.53        83\n",
            "\n",
            "    accuracy                           0.44       625\n",
            "   macro avg       0.43      0.42      0.42       625\n",
            "weighted avg       0.45      0.44      0.44       625\n",
            "\n",
            "\n",
            "Precison :  0.44330592935918095\n",
            "\n",
            "Recall :  0.4432\n",
            "\n",
            "F1 :  0.44222002142302924\n",
            "\n",
            "Accuracy :  0.4432\n",
            "\n",
            "\n",
            "Classifier:  Random Forest\n",
            "[[ 84   9   5  14   2   0]\n",
            " [ 17  63   1  28   2   8]\n",
            " [ 14  14  21  17   0   7]\n",
            " [ 14  22   2 116   9   2]\n",
            " [ 10  10   1  35  12   3]\n",
            " [  8  18   2   9   1  45]]\n",
            "              precision    recall  f1-score   support\n",
            "\n",
            "           0       0.57      0.74      0.64       114\n",
            "           1       0.46      0.53      0.49       119\n",
            "           2       0.66      0.29      0.40        73\n",
            "           3       0.53      0.70      0.60       165\n",
            "           4       0.46      0.17      0.25        71\n",
            "           5       0.69      0.54      0.61        83\n",
            "\n",
            "    accuracy                           0.55       625\n",
            "   macro avg       0.56      0.49      0.50       625\n",
            "weighted avg       0.55      0.55      0.53       625\n",
            "\n",
            "\n",
            "Precison :  0.6129923765471682\n",
            "\n",
            "Recall :  0.5456\n",
            "\n",
            "F1 :  0.5646291301966737\n",
            "\n",
            "Accuracy :  0.5456\n",
            "\n",
            "\n",
            "Classifier:  Naive Bayes\n",
            "[[ 83  11   0  20   0   0]\n",
            " [ 10  73   0  32   0   4]\n",
            " [  9  29   5  20   0  10]\n",
            " [  9  21   0 133   0   2]\n",
            " [  5   9   0  52   2   3]\n",
            " [  4  21   1  15   0  42]]\n",
            "              precision    recall  f1-score   support\n",
            "\n",
            "           0       0.69      0.73      0.71       114\n",
            "           1       0.45      0.61      0.52       119\n",
            "           2       0.83      0.07      0.13        73\n",
            "           3       0.49      0.81      0.61       165\n",
            "           4       1.00      0.03      0.05        71\n",
            "           5       0.69      0.51      0.58        83\n",
            "\n",
            "    accuracy                           0.54       625\n",
            "   macro avg       0.69      0.46      0.43       625\n",
            "weighted avg       0.64      0.54      0.49       625\n",
            "\n",
            "\n",
            "Precison :  0.7016907435675517\n",
            "\n",
            "Recall :  0.5408\n",
            "\n",
            "F1 :  0.5948057798662638\n",
            "\n",
            "Accuracy :  0.5408\n",
            "\n",
            "\n",
            "Classifier:  SVM\n",
            "[[ 85  13   7   8   0   1]\n",
            " [ 12  75   1  18   9   4]\n",
            " [  8  17  28   9   4   7]\n",
            " [ 13  24   0 112  14   2]\n",
            " [  7  10   1  26  25   2]\n",
            " [  5  18   3   5   2  50]]\n",
            "              precision    recall  f1-score   support\n",
            "\n",
            "           0       0.65      0.75      0.70       114\n",
            "           1       0.48      0.63      0.54       119\n",
            "           2       0.70      0.38      0.50        73\n",
            "           3       0.63      0.68      0.65       165\n",
            "           4       0.46      0.35      0.40        71\n",
            "           5       0.76      0.60      0.67        83\n",
            "\n",
            "    accuracy                           0.60       625\n",
            "   macro avg       0.61      0.57      0.58       625\n",
            "weighted avg       0.61      0.60      0.60       625\n",
            "\n",
            "\n",
            "Precison :  0.6253107731561982\n",
            "\n",
            "Recall :  0.6\n",
            "\n",
            "F1 :  0.6045809060327825\n",
            "\n",
            "Accuracy :  0.6\n",
            "\n",
            "\n",
            "Classifier:  KNN\n",
            "[[75 10  8  9  6  6]\n",
            " [20 61  4 14  9 11]\n",
            " [14 12 24  6  5 12]\n",
            " [26 26 11 73 21  8]\n",
            " [13  7  8 21 18  4]\n",
            " [11 19  9 11  5 28]]\n",
            "              precision    recall  f1-score   support\n",
            "\n",
            "           0       0.47      0.66      0.55       114\n",
            "           1       0.45      0.51      0.48       119\n",
            "           2       0.38      0.33      0.35        73\n",
            "           3       0.54      0.44      0.49       165\n",
            "           4       0.28      0.25      0.27        71\n",
            "           5       0.41      0.34      0.37        83\n",
            "\n",
            "    accuracy                           0.45       625\n",
            "   macro avg       0.42      0.42      0.42       625\n",
            "weighted avg       0.45      0.45      0.44       625\n",
            "\n",
            "\n",
            "Precison :  0.46981655800293454\n",
            "\n",
            "Recall :  0.4464\n",
            "\n",
            "F1 :  0.452076275419594\n",
            "\n",
            "Accuracy :  0.4464\n",
            "\n",
            "\n",
            "Classifier:  AdaBoost\n",
            "[[ 29   9   3  70   2   1]\n",
            " [  9  35   3  61   3   8]\n",
            " [  2   6  23  36   1   5]\n",
            " [ 10  21   3 123   3   5]\n",
            " [  4   9   2  40  13   3]\n",
            " [  2  10   0  27   2  42]]\n",
            "              precision    recall  f1-score   support\n",
            "\n",
            "           0       0.52      0.25      0.34       114\n",
            "           1       0.39      0.29      0.33       119\n",
            "           2       0.68      0.32      0.43        73\n",
            "           3       0.34      0.75      0.47       165\n",
            "           4       0.54      0.18      0.27        71\n",
            "           5       0.66      0.51      0.57        83\n",
            "\n",
            "    accuracy                           0.42       625\n",
            "   macro avg       0.52      0.38      0.40       625\n",
            "weighted avg       0.49      0.42      0.41       625\n",
            "\n",
            "\n",
            "Precison :  0.566937139409017\n",
            "\n",
            "Recall :  0.424\n",
            "\n",
            "F1 :  0.4403959590193746\n",
            "\n",
            "Accuracy :  0.424\n"
          ]
        },
        {
          "output_type": "execute_result",
          "data": {
            "text/plain": [
              "                     Precision  Recall  F1 Score  Accuracy\n",
              "Logistic Regression      61.07   60.64     60.76     60.64\n",
              "Decision Tree            44.77   44.32     44.42     44.32\n",
              "Random Forest            55.33   54.56     52.66     54.56\n",
              "Naive Bayes              64.24   54.08     48.68     54.08\n",
              "SVM                      61.13   60.00     59.54     60.00\n",
              "KNN                      44.55   44.64     44.07     44.64\n",
              "AdaBoost                 48.72   42.40     40.76     42.40"
            ],
            "text/html": [
              "\n",
              "  <div id=\"df-58d3e6bf-b3a8-4576-902b-cde3dcd83d06\">\n",
              "    <div class=\"colab-df-container\">\n",
              "      <div>\n",
              "<style scoped>\n",
              "    .dataframe tbody tr th:only-of-type {\n",
              "        vertical-align: middle;\n",
              "    }\n",
              "\n",
              "    .dataframe tbody tr th {\n",
              "        vertical-align: top;\n",
              "    }\n",
              "\n",
              "    .dataframe thead th {\n",
              "        text-align: right;\n",
              "    }\n",
              "</style>\n",
              "<table border=\"1\" class=\"dataframe\">\n",
              "  <thead>\n",
              "    <tr style=\"text-align: right;\">\n",
              "      <th></th>\n",
              "      <th>Precision</th>\n",
              "      <th>Recall</th>\n",
              "      <th>F1 Score</th>\n",
              "      <th>Accuracy</th>\n",
              "    </tr>\n",
              "  </thead>\n",
              "  <tbody>\n",
              "    <tr>\n",
              "      <th>Logistic Regression</th>\n",
              "      <td>61.07</td>\n",
              "      <td>60.64</td>\n",
              "      <td>60.76</td>\n",
              "      <td>60.64</td>\n",
              "    </tr>\n",
              "    <tr>\n",
              "      <th>Decision Tree</th>\n",
              "      <td>44.77</td>\n",
              "      <td>44.32</td>\n",
              "      <td>44.42</td>\n",
              "      <td>44.32</td>\n",
              "    </tr>\n",
              "    <tr>\n",
              "      <th>Random Forest</th>\n",
              "      <td>55.33</td>\n",
              "      <td>54.56</td>\n",
              "      <td>52.66</td>\n",
              "      <td>54.56</td>\n",
              "    </tr>\n",
              "    <tr>\n",
              "      <th>Naive Bayes</th>\n",
              "      <td>64.24</td>\n",
              "      <td>54.08</td>\n",
              "      <td>48.68</td>\n",
              "      <td>54.08</td>\n",
              "    </tr>\n",
              "    <tr>\n",
              "      <th>SVM</th>\n",
              "      <td>61.13</td>\n",
              "      <td>60.00</td>\n",
              "      <td>59.54</td>\n",
              "      <td>60.00</td>\n",
              "    </tr>\n",
              "    <tr>\n",
              "      <th>KNN</th>\n",
              "      <td>44.55</td>\n",
              "      <td>44.64</td>\n",
              "      <td>44.07</td>\n",
              "      <td>44.64</td>\n",
              "    </tr>\n",
              "    <tr>\n",
              "      <th>AdaBoost</th>\n",
              "      <td>48.72</td>\n",
              "      <td>42.40</td>\n",
              "      <td>40.76</td>\n",
              "      <td>42.40</td>\n",
              "    </tr>\n",
              "  </tbody>\n",
              "</table>\n",
              "</div>\n",
              "      <button class=\"colab-df-convert\" onclick=\"convertToInteractive('df-58d3e6bf-b3a8-4576-902b-cde3dcd83d06')\"\n",
              "              title=\"Convert this dataframe to an interactive table.\"\n",
              "              style=\"display:none;\">\n",
              "        \n",
              "  <svg xmlns=\"http://www.w3.org/2000/svg\" height=\"24px\"viewBox=\"0 0 24 24\"\n",
              "       width=\"24px\">\n",
              "    <path d=\"M0 0h24v24H0V0z\" fill=\"none\"/>\n",
              "    <path d=\"M18.56 5.44l.94 2.06.94-2.06 2.06-.94-2.06-.94-.94-2.06-.94 2.06-2.06.94zm-11 1L8.5 8.5l.94-2.06 2.06-.94-2.06-.94L8.5 2.5l-.94 2.06-2.06.94zm10 10l.94 2.06.94-2.06 2.06-.94-2.06-.94-.94-2.06-.94 2.06-2.06.94z\"/><path d=\"M17.41 7.96l-1.37-1.37c-.4-.4-.92-.59-1.43-.59-.52 0-1.04.2-1.43.59L10.3 9.45l-7.72 7.72c-.78.78-.78 2.05 0 2.83L4 21.41c.39.39.9.59 1.41.59.51 0 1.02-.2 1.41-.59l7.78-7.78 2.81-2.81c.8-.78.8-2.07 0-2.86zM5.41 20L4 18.59l7.72-7.72 1.47 1.35L5.41 20z\"/>\n",
              "  </svg>\n",
              "      </button>\n",
              "      \n",
              "  <style>\n",
              "    .colab-df-container {\n",
              "      display:flex;\n",
              "      flex-wrap:wrap;\n",
              "      gap: 12px;\n",
              "    }\n",
              "\n",
              "    .colab-df-convert {\n",
              "      background-color: #E8F0FE;\n",
              "      border: none;\n",
              "      border-radius: 50%;\n",
              "      cursor: pointer;\n",
              "      display: none;\n",
              "      fill: #1967D2;\n",
              "      height: 32px;\n",
              "      padding: 0 0 0 0;\n",
              "      width: 32px;\n",
              "    }\n",
              "\n",
              "    .colab-df-convert:hover {\n",
              "      background-color: #E2EBFA;\n",
              "      box-shadow: 0px 1px 2px rgba(60, 64, 67, 0.3), 0px 1px 3px 1px rgba(60, 64, 67, 0.15);\n",
              "      fill: #174EA6;\n",
              "    }\n",
              "\n",
              "    [theme=dark] .colab-df-convert {\n",
              "      background-color: #3B4455;\n",
              "      fill: #D2E3FC;\n",
              "    }\n",
              "\n",
              "    [theme=dark] .colab-df-convert:hover {\n",
              "      background-color: #434B5C;\n",
              "      box-shadow: 0px 1px 3px 1px rgba(0, 0, 0, 0.15);\n",
              "      filter: drop-shadow(0px 1px 2px rgba(0, 0, 0, 0.3));\n",
              "      fill: #FFFFFF;\n",
              "    }\n",
              "  </style>\n",
              "\n",
              "      <script>\n",
              "        const buttonEl =\n",
              "          document.querySelector('#df-58d3e6bf-b3a8-4576-902b-cde3dcd83d06 button.colab-df-convert');\n",
              "        buttonEl.style.display =\n",
              "          google.colab.kernel.accessAllowed ? 'block' : 'none';\n",
              "\n",
              "        async function convertToInteractive(key) {\n",
              "          const element = document.querySelector('#df-58d3e6bf-b3a8-4576-902b-cde3dcd83d06');\n",
              "          const dataTable =\n",
              "            await google.colab.kernel.invokeFunction('convertToInteractive',\n",
              "                                                     [key], {});\n",
              "          if (!dataTable) return;\n",
              "\n",
              "          const docLinkHtml = 'Like what you see? Visit the ' +\n",
              "            '<a target=\"_blank\" href=https://colab.research.google.com/notebooks/data_table.ipynb>data table notebook</a>'\n",
              "            + ' to learn more about interactive tables.';\n",
              "          element.innerHTML = '';\n",
              "          dataTable['output_type'] = 'display_data';\n",
              "          await google.colab.output.renderOutput(dataTable, element);\n",
              "          const docLink = document.createElement('div');\n",
              "          docLink.innerHTML = docLinkHtml;\n",
              "          element.appendChild(docLink);\n",
              "        }\n",
              "      </script>\n",
              "    </div>\n",
              "  </div>\n",
              "  "
            ]
          },
          "metadata": {},
          "execution_count": 74
        }
      ]
    },
    {
      "cell_type": "code",
      "source": [
        "plt.plot(range, x_test, 'ro-', range, y_test,'bv--')\n",
        "plt.legend(['Training Accuracy','Test Accuracy'])\n",
        "plt.xlabel('Number of neighbors')\n",
        "plt.ylabel('Accuracy');\n",
        "\n",
        "index = 0\n",
        "for i in range:\n",
        "    print(\"K = \", range[index], \", Training Accuracy = \", x_test[index], \" Test Accuracy = \", y_test[index], \n",
        "          \", Difference = \", np.abs(x_test[index]-y_test[index])*100, \"%\")\n",
        "    index+=1"
      ],
      "metadata": {
        "colab": {
          "base_uri": "https://localhost:8080/",
          "height": 236
        },
        "id": "_OTO3gPbtByw",
        "outputId": "7a5f3c24-c0db-4699-bbb5-4b3afb032d8b"
      },
      "execution_count": null,
      "outputs": [
        {
          "output_type": "error",
          "ename": "NameError",
          "evalue": "ignored",
          "traceback": [
            "\u001b[0;31m---------------------------------------------------------------------------\u001b[0m",
            "\u001b[0;31mNameError\u001b[0m                                 Traceback (most recent call last)",
            "\u001b[0;32m<ipython-input-32-2811921907b2>\u001b[0m in \u001b[0;36m<module>\u001b[0;34m()\u001b[0m\n\u001b[0;32m----> 1\u001b[0;31m \u001b[0mplt\u001b[0m\u001b[0;34m.\u001b[0m\u001b[0mplot\u001b[0m\u001b[0;34m(\u001b[0m\u001b[0mrange\u001b[0m\u001b[0;34m,\u001b[0m \u001b[0mx_test\u001b[0m\u001b[0;34m,\u001b[0m \u001b[0;34m'ro-'\u001b[0m\u001b[0;34m,\u001b[0m \u001b[0mrange\u001b[0m\u001b[0;34m,\u001b[0m \u001b[0my_test\u001b[0m\u001b[0;34m,\u001b[0m\u001b[0;34m'bv--'\u001b[0m\u001b[0;34m)\u001b[0m\u001b[0;34m\u001b[0m\u001b[0;34m\u001b[0m\u001b[0m\n\u001b[0m\u001b[1;32m      2\u001b[0m \u001b[0mplt\u001b[0m\u001b[0;34m.\u001b[0m\u001b[0mlegend\u001b[0m\u001b[0;34m(\u001b[0m\u001b[0;34m[\u001b[0m\u001b[0;34m'Training Accuracy'\u001b[0m\u001b[0;34m,\u001b[0m\u001b[0;34m'Test Accuracy'\u001b[0m\u001b[0;34m]\u001b[0m\u001b[0;34m)\u001b[0m\u001b[0;34m\u001b[0m\u001b[0;34m\u001b[0m\u001b[0m\n\u001b[1;32m      3\u001b[0m \u001b[0mplt\u001b[0m\u001b[0;34m.\u001b[0m\u001b[0mxlabel\u001b[0m\u001b[0;34m(\u001b[0m\u001b[0;34m'Number of neighbors'\u001b[0m\u001b[0;34m)\u001b[0m\u001b[0;34m\u001b[0m\u001b[0;34m\u001b[0m\u001b[0m\n\u001b[1;32m      4\u001b[0m \u001b[0mplt\u001b[0m\u001b[0;34m.\u001b[0m\u001b[0mylabel\u001b[0m\u001b[0;34m(\u001b[0m\u001b[0;34m'Accuracy'\u001b[0m\u001b[0;34m)\u001b[0m\u001b[0;34m;\u001b[0m\u001b[0;34m\u001b[0m\u001b[0;34m\u001b[0m\u001b[0m\n\u001b[1;32m      5\u001b[0m \u001b[0;34m\u001b[0m\u001b[0m\n",
            "\u001b[0;31mNameError\u001b[0m: name 'x_test' is not defined"
          ]
        }
      ]
    },
    {
      "cell_type": "code",
      "source": [
        "def PlotGraph(model_train):\n",
        "    acc = history.model_train['accuracy']\n",
        "    val_acc = history.model_train['val_accuracy']\n",
        "    loss = history.model_train['loss']\n",
        "    val_loss = history.model_train['val_loss']\n",
        "    x = range(1, len(acc) + 1)\n",
        "\n",
        "    plt.figure(figsize=(12, 5))\n",
        "    plt.subplot(1, 2, 1)\n",
        "    plt.plot(x, acc, 'g', label='Training acc')\n",
        "    plt.plot(x, val_acc, 'b', label='Validation acc')\n",
        "    plt.title('Training and validation accuracy')\n",
        "    plt.legend()\n",
        "    plt.subplot(1, 2, 2)\n",
        "    plt.plot(x, loss, 'g', label='Training loss')\n",
        "    plt.plot(x, val_loss, 'b', label='Validation loss')\n",
        "    plt.title('Training and validation loss')\n",
        "    plt.legend()"
      ],
      "metadata": {
        "id": "OA3VM6tRqePi"
      },
      "execution_count": null,
      "outputs": []
    },
    {
      "cell_type": "code",
      "source": [
        "PlotGraph(history)"
      ],
      "metadata": {
        "colab": {
          "base_uri": "https://localhost:8080/",
          "height": 167
        },
        "id": "EhOjRKB3qiPA",
        "outputId": "56d31677-360c-41a4-f782-35a7c1ab4f86"
      },
      "execution_count": null,
      "outputs": [
        {
          "output_type": "error",
          "ename": "NameError",
          "evalue": "ignored",
          "traceback": [
            "\u001b[0;31m---------------------------------------------------------------------------\u001b[0m",
            "\u001b[0;31mNameError\u001b[0m                                 Traceback (most recent call last)",
            "\u001b[0;32m<ipython-input-30-9ba030f3a8e4>\u001b[0m in \u001b[0;36m<module>\u001b[0;34m()\u001b[0m\n\u001b[0;32m----> 1\u001b[0;31m \u001b[0mPlotGraph\u001b[0m\u001b[0;34m(\u001b[0m\u001b[0mhistory\u001b[0m\u001b[0;34m)\u001b[0m\u001b[0;34m\u001b[0m\u001b[0;34m\u001b[0m\u001b[0m\n\u001b[0m",
            "\u001b[0;31mNameError\u001b[0m: name 'history' is not defined"
          ]
        }
      ]
    },
    {
      "cell_type": "markdown",
      "source": [
        "# **Ensemble**"
      ],
      "metadata": {
        "id": "WUPjYkT0qLcw"
      }
    },
    {
      "cell_type": "code",
      "source": [
        "whole_data = []\n",
        "\n",
        "def make_whole_list(L):\n",
        "  for i in L:\n",
        "    whole_data.append(i)\n",
        "\n",
        "make_whole_list(train_data)\n",
        "make_whole_list(val_data)\n",
        "make_whole_list(test_data)\n",
        "print(len(whole_data))"
      ],
      "metadata": {
        "colab": {
          "base_uri": "https://localhost:8080/"
        },
        "id": "Z2-L7MKaqFWH",
        "outputId": "ebf9379f-5f57-421f-cccf-e69d52b4ad4b"
      },
      "execution_count": null,
      "outputs": [
        {
          "output_type": "stream",
          "name": "stdout",
          "text": [
            "6243\n"
          ]
        }
      ]
    },
    {
      "cell_type": "code",
      "source": [
        "tf = TfidfVectorizer(ngram_range=(1,2), use_idf = True, tokenizer=lambda x: x.split(),  max_features=20000)\n",
        "tf.fit_transform(whole_data) ### Bit confusion arises here need to resolve\n",
        "trained_texts = tf.transform(train_data)\n",
        "val_texts = tf.transform(val_data)\n",
        "test_texts = tf.transform(test_data)"
      ],
      "metadata": {
        "id": "Skc5WsNQuasY"
      },
      "execution_count": null,
      "outputs": []
    },
    {
      "cell_type": "code",
      "source": [
        "%%time\n",
        "from sklearn.ensemble import VotingClassifier\n",
        "LogReg_clf = LogisticRegressionCV(class_weight='balanced', max_iter=400)\n",
        "rt_clf =   RandomForestClassifier(class_weight='balanced')\n",
        "SVC_clf = SVC(class_weight='balanced')\n",
        "\n",
        "\n",
        "voting_clf = VotingClassifier(estimators=[('SVC', SVC_clf), ('LogReg', LogReg_clf),('RF', rt_clf)], voting='hard')\n",
        "voting_clf.fit(trained_texts, train_labels)"
      ],
      "metadata": {
        "colab": {
          "base_uri": "https://localhost:8080/"
        },
        "id": "ntKDh_kiui1J",
        "outputId": "ba86349a-07f1-4dd8-fddf-c8421a59c4f9"
      },
      "execution_count": null,
      "outputs": [
        {
          "output_type": "stream",
          "name": "stderr",
          "text": [
            "/usr/local/lib/python3.7/dist-packages/sklearn/linear_model/_logistic.py:818: ConvergenceWarning: lbfgs failed to converge (status=1):\n",
            "STOP: TOTAL NO. of ITERATIONS REACHED LIMIT.\n",
            "\n",
            "Increase the number of iterations (max_iter) or scale the data as shown in:\n",
            "    https://scikit-learn.org/stable/modules/preprocessing.html\n",
            "Please also refer to the documentation for alternative solver options:\n",
            "    https://scikit-learn.org/stable/modules/linear_model.html#logistic-regression\n",
            "  extra_warning_msg=_LOGISTIC_SOLVER_CONVERGENCE_MSG,\n",
            "/usr/local/lib/python3.7/dist-packages/sklearn/linear_model/_logistic.py:818: ConvergenceWarning: lbfgs failed to converge (status=1):\n",
            "STOP: TOTAL NO. of ITERATIONS REACHED LIMIT.\n",
            "\n",
            "Increase the number of iterations (max_iter) or scale the data as shown in:\n",
            "    https://scikit-learn.org/stable/modules/preprocessing.html\n",
            "Please also refer to the documentation for alternative solver options:\n",
            "    https://scikit-learn.org/stable/modules/linear_model.html#logistic-regression\n",
            "  extra_warning_msg=_LOGISTIC_SOLVER_CONVERGENCE_MSG,\n"
          ]
        },
        {
          "output_type": "stream",
          "name": "stdout",
          "text": [
            "CPU times: user 4min 2s, sys: 3min 53s, total: 7min 55s\n",
            "Wall time: 4min 28s\n"
          ]
        }
      ]
    },
    {
      "cell_type": "markdown",
      "source": [
        "# **val set**"
      ],
      "metadata": {
        "id": "KfINQmTgusBy"
      }
    },
    {
      "cell_type": "code",
      "source": [
        "preds = voting_clf.predict(val_texts)\n",
        "true, pred = val_labels, preds\n",
        "print(confusion_matrix(true,pred))\n",
        "print(classification_report(true,pred))\n",
        "print(\"\\nPrecison : \",precision_score(true, pred, average = 'weighted'))\n",
        "print(\"\\nRecall : \",recall_score(true, pred,  average = 'weighted'))\n",
        "print(\"\\nF1 : \",f1_score(true, pred,  average = 'weighted'))"
      ],
      "metadata": {
        "colab": {
          "base_uri": "https://localhost:8080/"
        },
        "id": "o9zU0bnBuu2U",
        "outputId": "978bdb22-d23a-4713-849e-dc3632883328"
      },
      "execution_count": null,
      "outputs": [
        {
          "output_type": "stream",
          "name": "stdout",
          "text": [
            "[[ 80  18   5  15   1   1]\n",
            " [ 14  86   6  13   6   4]\n",
            " [  8  11  30   8   0   7]\n",
            " [  7  10   3 124  10   1]\n",
            " [  5  11   2  14  34   1]\n",
            " [  5  13   2  10   2  57]]\n",
            "              precision    recall  f1-score   support\n",
            "\n",
            "           0       0.67      0.67      0.67       120\n",
            "           1       0.58      0.67      0.62       129\n",
            "           2       0.62      0.47      0.54        64\n",
            "           3       0.67      0.80      0.73       155\n",
            "           4       0.64      0.51      0.57        67\n",
            "           5       0.80      0.64      0.71        89\n",
            "\n",
            "    accuracy                           0.66       624\n",
            "   macro avg       0.67      0.62      0.64       624\n",
            "weighted avg       0.66      0.66      0.66       624\n",
            "\n",
            "\n",
            "Precison :  0.6634887865167364\n",
            "\n",
            "Recall :  0.6586538461538461\n",
            "\n",
            "F1 :  0.6557770657205486\n"
          ]
        }
      ]
    },
    {
      "cell_type": "markdown",
      "source": [
        "# **test set**"
      ],
      "metadata": {
        "id": "aqU7Serauvk_"
      }
    },
    {
      "cell_type": "code",
      "source": [
        "preds = voting_clf.predict(test_texts)\n",
        "true, pred = test_labels, preds\n",
        "print(confusion_matrix(true,pred))\n",
        "print(classification_report(true,pred))\n",
        "print(\"\\nPrecison : \",precision_score(true, pred, average = 'weighted'))\n",
        "print(\"\\nRecall : \",recall_score(true, pred,  average = 'weighted'))\n",
        "print(\"\\nF1 : \",f1_score(true, pred,  average = 'weighted'))"
      ],
      "metadata": {
        "colab": {
          "base_uri": "https://localhost:8080/"
        },
        "id": "1Rsvd1ZsuyQj",
        "outputId": "7d5dd9c0-6e5a-4678-e2e1-4d8ee9cdda5f"
      },
      "execution_count": null,
      "outputs": [
        {
          "output_type": "stream",
          "name": "stdout",
          "text": [
            "[[ 92   7   5  10   0   0]\n",
            " [ 15  65   2  22   7   8]\n",
            " [ 11  14  27  10   3   8]\n",
            " [ 13  16   4 116  14   2]\n",
            " [  9  10   2  26  22   2]\n",
            " [  6  12   3   7   1  54]]\n",
            "              precision    recall  f1-score   support\n",
            "\n",
            "           0       0.63      0.81      0.71       114\n",
            "           1       0.52      0.55      0.53       119\n",
            "           2       0.63      0.37      0.47        73\n",
            "           3       0.61      0.70      0.65       165\n",
            "           4       0.47      0.31      0.37        71\n",
            "           5       0.73      0.65      0.69        83\n",
            "\n",
            "    accuracy                           0.60       625\n",
            "   macro avg       0.60      0.56      0.57       625\n",
            "weighted avg       0.60      0.60      0.59       625\n",
            "\n",
            "\n",
            "Precison :  0.5985006275252399\n",
            "\n",
            "Recall :  0.6016\n",
            "\n",
            "F1 :  0.5910727051168683\n"
          ]
        }
      ]
    }
  ]
}